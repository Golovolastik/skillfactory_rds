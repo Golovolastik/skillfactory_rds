{
 "cells": [
  {
   "cell_type": "code",
   "execution_count": 2,
   "metadata": {},
   "outputs": [],
   "source": [
    "import warnings\n",
    "from scipy.stats import ttest_ind\n",
    "from itertools import combinations\n",
    "import seaborn as sns\n",
    "import pandas as pd\n",
    "import matplotlib.pyplot as plt\n",
    "%matplotlib inline\n",
    "warnings.simplefilter('ignore')"
   ]
  },
  {
   "cell_type": "code",
   "execution_count": 37,
   "metadata": {},
   "outputs": [],
   "source": [
    "df = pd.read_csv('stud_math.csv')"
   ]
  },
  {
   "cell_type": "code",
   "execution_count": 38,
   "metadata": {},
   "outputs": [
    {
     "name": "stdout",
     "output_type": "stream",
     "text": [
      "<class 'pandas.core.frame.DataFrame'>\n",
      "RangeIndex: 395 entries, 0 to 394\n",
      "Data columns (total 30 columns):\n",
      " #   Column               Non-Null Count  Dtype  \n",
      "---  ------               --------------  -----  \n",
      " 0   school               395 non-null    object \n",
      " 1   sex                  395 non-null    object \n",
      " 2   age                  395 non-null    int64  \n",
      " 3   address              378 non-null    object \n",
      " 4   famsize              368 non-null    object \n",
      " 5   Pstatus              350 non-null    object \n",
      " 6   Medu                 392 non-null    float64\n",
      " 7   Fedu                 371 non-null    float64\n",
      " 8   Mjob                 376 non-null    object \n",
      " 9   Fjob                 359 non-null    object \n",
      " 10  reason               378 non-null    object \n",
      " 11  guardian             364 non-null    object \n",
      " 12  traveltime           367 non-null    float64\n",
      " 13  studytime            388 non-null    float64\n",
      " 14  failures             373 non-null    float64\n",
      " 15  schoolsup            386 non-null    object \n",
      " 16  famsup               356 non-null    object \n",
      " 17  paid                 355 non-null    object \n",
      " 18  activities           381 non-null    object \n",
      " 19  nursery              379 non-null    object \n",
      " 20  studytime, granular  388 non-null    float64\n",
      " 21  higher               375 non-null    object \n",
      " 22  internet             361 non-null    object \n",
      " 23  romantic             364 non-null    object \n",
      " 24  famrel               368 non-null    float64\n",
      " 25  freetime             384 non-null    float64\n",
      " 26  goout                387 non-null    float64\n",
      " 27  health               380 non-null    float64\n",
      " 28  absences             383 non-null    float64\n",
      " 29  score                389 non-null    float64\n",
      "dtypes: float64(12), int64(1), object(17)\n",
      "memory usage: 92.7+ KB\n"
     ]
    },
    {
     "data": {
      "text/plain": [
       "None"
      ]
     },
     "metadata": {},
     "output_type": "display_data"
    },
    {
     "data": {
      "text/html": [
       "<div>\n",
       "<style scoped>\n",
       "    .dataframe tbody tr th:only-of-type {\n",
       "        vertical-align: middle;\n",
       "    }\n",
       "\n",
       "    .dataframe tbody tr th {\n",
       "        vertical-align: top;\n",
       "    }\n",
       "\n",
       "    .dataframe thead th {\n",
       "        text-align: right;\n",
       "    }\n",
       "</style>\n",
       "<table border=\"1\" class=\"dataframe\">\n",
       "  <thead>\n",
       "    <tr style=\"text-align: right;\">\n",
       "      <th></th>\n",
       "      <th>school</th>\n",
       "      <th>sex</th>\n",
       "      <th>age</th>\n",
       "      <th>address</th>\n",
       "      <th>famsize</th>\n",
       "      <th>Pstatus</th>\n",
       "      <th>Medu</th>\n",
       "      <th>Fedu</th>\n",
       "      <th>Mjob</th>\n",
       "      <th>Fjob</th>\n",
       "      <th>...</th>\n",
       "      <th>studytime, granular</th>\n",
       "      <th>higher</th>\n",
       "      <th>internet</th>\n",
       "      <th>romantic</th>\n",
       "      <th>famrel</th>\n",
       "      <th>freetime</th>\n",
       "      <th>goout</th>\n",
       "      <th>health</th>\n",
       "      <th>absences</th>\n",
       "      <th>score</th>\n",
       "    </tr>\n",
       "  </thead>\n",
       "  <tbody>\n",
       "    <tr>\n",
       "      <th>0</th>\n",
       "      <td>GP</td>\n",
       "      <td>F</td>\n",
       "      <td>18</td>\n",
       "      <td>U</td>\n",
       "      <td>NaN</td>\n",
       "      <td>A</td>\n",
       "      <td>4.0</td>\n",
       "      <td>4.0</td>\n",
       "      <td>at_home</td>\n",
       "      <td>teacher</td>\n",
       "      <td>...</td>\n",
       "      <td>-6.0</td>\n",
       "      <td>yes</td>\n",
       "      <td>NaN</td>\n",
       "      <td>no</td>\n",
       "      <td>4.0</td>\n",
       "      <td>3.0</td>\n",
       "      <td>4.0</td>\n",
       "      <td>3.0</td>\n",
       "      <td>6.0</td>\n",
       "      <td>30.0</td>\n",
       "    </tr>\n",
       "    <tr>\n",
       "      <th>1</th>\n",
       "      <td>GP</td>\n",
       "      <td>F</td>\n",
       "      <td>17</td>\n",
       "      <td>U</td>\n",
       "      <td>GT3</td>\n",
       "      <td>NaN</td>\n",
       "      <td>1.0</td>\n",
       "      <td>1.0</td>\n",
       "      <td>at_home</td>\n",
       "      <td>other</td>\n",
       "      <td>...</td>\n",
       "      <td>-6.0</td>\n",
       "      <td>yes</td>\n",
       "      <td>yes</td>\n",
       "      <td>no</td>\n",
       "      <td>5.0</td>\n",
       "      <td>3.0</td>\n",
       "      <td>3.0</td>\n",
       "      <td>3.0</td>\n",
       "      <td>4.0</td>\n",
       "      <td>30.0</td>\n",
       "    </tr>\n",
       "    <tr>\n",
       "      <th>2</th>\n",
       "      <td>GP</td>\n",
       "      <td>F</td>\n",
       "      <td>15</td>\n",
       "      <td>U</td>\n",
       "      <td>LE3</td>\n",
       "      <td>T</td>\n",
       "      <td>1.0</td>\n",
       "      <td>1.0</td>\n",
       "      <td>at_home</td>\n",
       "      <td>other</td>\n",
       "      <td>...</td>\n",
       "      <td>-6.0</td>\n",
       "      <td>yes</td>\n",
       "      <td>yes</td>\n",
       "      <td>NaN</td>\n",
       "      <td>4.0</td>\n",
       "      <td>3.0</td>\n",
       "      <td>2.0</td>\n",
       "      <td>3.0</td>\n",
       "      <td>10.0</td>\n",
       "      <td>50.0</td>\n",
       "    </tr>\n",
       "    <tr>\n",
       "      <th>3</th>\n",
       "      <td>GP</td>\n",
       "      <td>F</td>\n",
       "      <td>15</td>\n",
       "      <td>U</td>\n",
       "      <td>GT3</td>\n",
       "      <td>T</td>\n",
       "      <td>4.0</td>\n",
       "      <td>2.0</td>\n",
       "      <td>health</td>\n",
       "      <td>NaN</td>\n",
       "      <td>...</td>\n",
       "      <td>-9.0</td>\n",
       "      <td>yes</td>\n",
       "      <td>yes</td>\n",
       "      <td>yes</td>\n",
       "      <td>3.0</td>\n",
       "      <td>2.0</td>\n",
       "      <td>2.0</td>\n",
       "      <td>5.0</td>\n",
       "      <td>2.0</td>\n",
       "      <td>75.0</td>\n",
       "    </tr>\n",
       "    <tr>\n",
       "      <th>4</th>\n",
       "      <td>GP</td>\n",
       "      <td>F</td>\n",
       "      <td>16</td>\n",
       "      <td>U</td>\n",
       "      <td>GT3</td>\n",
       "      <td>T</td>\n",
       "      <td>3.0</td>\n",
       "      <td>3.0</td>\n",
       "      <td>other</td>\n",
       "      <td>other</td>\n",
       "      <td>...</td>\n",
       "      <td>-6.0</td>\n",
       "      <td>yes</td>\n",
       "      <td>no</td>\n",
       "      <td>no</td>\n",
       "      <td>4.0</td>\n",
       "      <td>3.0</td>\n",
       "      <td>2.0</td>\n",
       "      <td>5.0</td>\n",
       "      <td>4.0</td>\n",
       "      <td>50.0</td>\n",
       "    </tr>\n",
       "  </tbody>\n",
       "</table>\n",
       "<p>5 rows × 30 columns</p>\n",
       "</div>"
      ],
      "text/plain": [
       "  school sex  age address famsize Pstatus  Medu  Fedu     Mjob     Fjob  ...  \\\n",
       "0     GP   F   18       U     NaN       A   4.0   4.0  at_home  teacher  ...   \n",
       "1     GP   F   17       U     GT3     NaN   1.0   1.0  at_home    other  ...   \n",
       "2     GP   F   15       U     LE3       T   1.0   1.0  at_home    other  ...   \n",
       "3     GP   F   15       U     GT3       T   4.0   2.0   health      NaN  ...   \n",
       "4     GP   F   16       U     GT3       T   3.0   3.0    other    other  ...   \n",
       "\n",
       "  studytime, granular higher  internet  romantic  famrel freetime goout  \\\n",
       "0                -6.0    yes       NaN        no     4.0      3.0   4.0   \n",
       "1                -6.0    yes       yes        no     5.0      3.0   3.0   \n",
       "2                -6.0    yes       yes       NaN     4.0      3.0   2.0   \n",
       "3                -9.0    yes       yes       yes     3.0      2.0   2.0   \n",
       "4                -6.0    yes        no        no     4.0      3.0   2.0   \n",
       "\n",
       "  health absences score  \n",
       "0    3.0      6.0  30.0  \n",
       "1    3.0      4.0  30.0  \n",
       "2    3.0     10.0  50.0  \n",
       "3    5.0      2.0  75.0  \n",
       "4    5.0      4.0  50.0  \n",
       "\n",
       "[5 rows x 30 columns]"
      ]
     },
     "metadata": {},
     "output_type": "display_data"
    }
   ],
   "source": [
    "display(df.info())\n",
    "display(df.head(5))"
   ]
  },
  {
   "cell_type": "code",
   "execution_count": 39,
   "metadata": {},
   "outputs": [
    {
     "name": "stdout",
     "output_type": "stream",
     "text": [
      "1 school — аббревиатура школы, в которой учится ученик\n",
      "2 sex — пол ученика ('F' - женский, 'M' - мужской)\n",
      "3 age — возраст ученика (от 15 до 22)\n",
      "4 address — тип адреса ученика ('U' - городской, 'R' - за городом)\n",
      "5 famsize — размер семьи('LE3' <= 3, 'GT3' >3)\n",
      "6 Pstatus — статус совместного жилья родителей ('T' - живут вместе 'A' - раздельно)\n",
      "7 Medu — образование матери (0 - нет, 1 - 4 класса, 2 - 5-9 классы, 3 - среднее специальное или 11 классов, 4 - высшее)\n",
      "8 Fedu — образование отца (0 - нет, 1 - 4 класса, 2 - 5-9 классы, 3 - среднее специальное или 11 классов, 4 - высшее)\n",
      "9 Mjob — работа матери ('teacher' - учитель, 'health' - сфера здравоохранения, 'services' - гос служба, 'at_home' - не работает, 'other' - другое)\n",
      "10 Fjob — работа отца ('teacher' - учитель, 'health' - сфера здравоохранения, 'services' - гос служба, 'at_home' - не работает, 'other' - другое)\n",
      "11 reason — причина выбора школы ('home' - близость к дому, 'reputation' - репутация школы, 'course' - образовательная программа, 'other' - другое)\n",
      "12 guardian — опекун ('mother' - мать, 'father' - отец, 'other' - другое)\n",
      "13 traveltime — время в пути до школы (1 - <15 мин., 2 - 15-30 мин., 3 - 30-60 мин., 4 - >60 мин.)\n",
      "14 studytime — время на учёбу помимо школы в неделю (1 - <2 часов, 2 - 2-5 часов, 3 - 5-10 часов, 4 - >10 часов)\n",
      "15 failures — количество внеучебных неудач (n, если 1<=n<=3, иначе 0)\n",
      "16 schoolsup — дополнительная образовательная поддержка (yes или no)\n",
      "17 famsup — семейная образовательная поддержка (yes или no)\n",
      "18 paid — дополнительные платные занятия по математике (yes или no)\n",
      "19 activities — дополнительные внеучебные занятия (yes или no)\n",
      "20 nursery — посещал детский сад (yes или no)\n",
      "21 higher — хочет получить высшее образование (yes или no)\n",
      "22 internet — наличие интернета дома (yes или no)\n",
      "23 romantic — в романтических отношениях (yes или no)\n",
      "24 famrel — семейные отношения (от 1 - очень плохо до 5 - очень хорошо)\n",
      "25 freetime — свободное время после школы (от 1 - очень мало до 5 - очень мого)\n",
      "26 goout — проведение времени с друзьями (от 1 - очень мало до 5 - очень много)\n",
      "27 health — текущее состояние здоровья (от 1 - очень плохо до 5 - очень хорошо)\n",
      "28 absences — количество пропущенных занятий\n",
      "29 score — баллы по госэкзамену по математике\n"
     ]
    },
    {
     "data": {
      "image/png": "[encoded data removed]",
      "text/plain": [
       "<Figure size 864x432 with 1 Axes>"
      ]
     },
     "metadata": {
      "needs_background": "light"
     },
     "output_type": "display_data"
    }
   ],
   "source": [
    "# Переименуем колонки для удобства (изменим заглавные буквы на строчные)\n",
    "df.columns = ['school', 'sex', 'age', 'address', 'famsize', 'pstatus', 'medu', 'fedu',\n",
    "       'mjob', 'fjob', 'reason', 'guardian', 'traveltime', 'studytime',\n",
    "       'failures', 'schoolsup', 'famsup', 'paid', 'activities', 'nursery',\n",
    "       'studytime, granular', 'higher', 'internet', 'romantic', 'famrel',\n",
    "       'freetime', 'goout', 'health', 'absences', 'score']\n",
    "\n",
    "# Расшифровка колонок\n",
    "with open('columns.txt', encoding='utf-8') as c:\n",
    "    col = c.readlines()\n",
    "for line in col:\n",
    "    print(line.rstrip())\n",
    "\n",
    "# Визуализируем пропущенные значения\n",
    "fig = plt.figure(figsize=(12, 6))\n",
    "heatmap = sns.heatmap(df.isnull(), cbar=False, cmap='hot_r', yticklabels=[]).set_title('Missing Values', fontsize=24)"
   ]
  },
  {
   "cell_type": "markdown",
   "metadata": {},
   "source": [
    "# Заполним пропуски и отфильтруем данные"
   ]
  },
  {
   "cell_type": "markdown",
   "metadata": {},
   "source": [
    "### score"
   ]
  },
  {
   "cell_type": "code",
   "execution_count": 7,
   "metadata": {},
   "outputs": [
    {
     "data": {
      "text/plain": [
       "count    352.000000\n",
       "mean      57.755682\n",
       "std       16.200928\n",
       "min       20.000000\n",
       "25%       45.000000\n",
       "50%       55.000000\n",
       "75%       70.000000\n",
       "max      100.000000\n",
       "Name: score, dtype: float64"
      ]
     },
     "execution_count": 7,
     "metadata": {},
     "output_type": "execute_result"
    },
    {
     "data": {
      "image/png": "[encoded data removed]",
      "text/plain": [
       "<Figure size 432x288 with 1 Axes>"
      ]
     },
     "metadata": {
      "needs_background": "light"
     },
     "output_type": "display_data"
    }
   ],
   "source": [
    "# Т.к. \"оценка\" (\"score\") это основной параметр, то просто удалим незаполненные строки\n",
    "df = df[df.score.notna()]\n",
    "\n",
    "#  В датасете присутсвует 37 значений 'score' равных '0'.\n",
    "#  Т.к следующее значение равняется '25', то предположим,\n",
    "# что 0 получили учащиеся, которые не явились на экзамен.\n",
    "#  Поэтому эти строки также удаляем.\n",
    "df = df.loc[df['score'] > 0]\n",
    "\n",
    "sns.distplot(df.score)\n",
    "df.score.describe()"
   ]
  },
  {
   "cell_type": "markdown",
   "metadata": {},
   "source": [
    "### school"
   ]
  },
  {
   "cell_type": "code",
   "execution_count": 9,
   "metadata": {},
   "outputs": [
    {
     "data": {
      "text/plain": [
       "GP    311\n",
       "MS     41\n",
       "Name: school, dtype: int64"
      ]
     },
     "execution_count": 9,
     "metadata": {},
     "output_type": "execute_result"
    },
    {
     "data": {
      "image/png": "[encoded data removed]",
      "text/plain": [
       "<Figure size 432x288 with 1 Axes>"
      ]
     },
     "metadata": {
      "needs_background": "light"
     },
     "output_type": "display_data"
    }
   ],
   "source": [
    "sns.countplot(data = df, x = df.school)\n",
    "df.school.value_counts()"
   ]
  },
  {
   "cell_type": "markdown",
   "metadata": {},
   "source": [
    "### sex"
   ]
  },
  {
   "cell_type": "code",
   "execution_count": 10,
   "metadata": {},
   "outputs": [
    {
     "data": {
      "text/plain": [
       "F    182\n",
       "M    170\n",
       "Name: sex, dtype: int64"
      ]
     },
     "execution_count": 10,
     "metadata": {},
     "output_type": "execute_result"
    },
    {
     "data": {
      "image/png": "[encoded data removed]",
      "text/plain": [
       "<Figure size 432x288 with 1 Axes>"
      ]
     },
     "metadata": {
      "needs_background": "light"
     },
     "output_type": "display_data"
    }
   ],
   "source": [
    "sns.countplot(data = df, x = df.sex)\n",
    "df.sex.value_counts()"
   ]
  },
  {
   "cell_type": "markdown",
   "metadata": {},
   "source": [
    "### age"
   ]
  },
  {
   "cell_type": "code",
   "execution_count": 11,
   "metadata": {},
   "outputs": [
    {
     "data": {
      "text/plain": [
       "15    76\n",
       "16    96\n",
       "17    90\n",
       "18    69\n",
       "19    16\n",
       "20     3\n",
       "21     1\n",
       "22     1\n",
       "Name: age, dtype: int64"
      ]
     },
     "execution_count": 11,
     "metadata": {},
     "output_type": "execute_result"
    },
    {
     "data": {
      "image/png": "[encoded data removed]",
      "text/plain": [
       "<Figure size 432x288 with 1 Axes>"
      ]
     },
     "metadata": {
      "needs_background": "light"
     },
     "output_type": "display_data"
    }
   ],
   "source": [
    "sns.distplot(df.age, kde = False, bins = 8)\n",
    "df.age.value_counts().sort_index()"
   ]
  },
  {
   "cell_type": "markdown",
   "metadata": {},
   "source": [
    "### address"
   ]
  },
  {
   "cell_type": "code",
   "execution_count": 8,
   "metadata": {},
   "outputs": [
    {
     "name": "stdout",
     "output_type": "stream",
     "text": [
      "<class 'pandas.core.frame.DataFrame'>\n",
      "RangeIndex: 352 entries, 0 to 351\n",
      "Data columns (total 1 columns):\n",
      " #   Column   Non-Null Count  Dtype \n",
      "---  ------   --------------  ----- \n",
      " 0   address  352 non-null    object\n",
      "dtypes: object(1)\n",
      "memory usage: 2.9+ KB\n"
     ]
    },
    {
     "data": {
      "text/plain": [
       "None"
      ]
     },
     "metadata": {},
     "output_type": "display_data"
    },
    {
     "data": {
      "text/plain": [
       "U    279\n",
       "R     73\n",
       "Name: address, dtype: int64"
      ]
     },
     "execution_count": 8,
     "metadata": {},
     "output_type": "execute_result"
    },
    {
     "data": {
      "image/png": "[encoded data removed]",
      "text/plain": [
       "<Figure size 432x288 with 1 Axes>"
      ]
     },
     "metadata": {
      "needs_background": "light"
     },
     "output_type": "display_data"
    }
   ],
   "source": [
    "# Заполним пропуски наиболее часто встречающимся значением\n",
    "df.address.fillna(df.address.value_counts().idxmax(), inplace = True)\n",
    "\n",
    "display(df.loc[:, ['address']].info())\n",
    "sns.countplot(df.address)\n",
    "df.address.value_counts()"
   ]
  },
  {
   "cell_type": "markdown",
   "metadata": {},
   "source": [
    "### family size"
   ]
  },
  {
   "cell_type": "code",
   "execution_count": 9,
   "metadata": {},
   "outputs": [
    {
     "name": "stdout",
     "output_type": "stream",
     "text": [
      "<class 'pandas.core.frame.DataFrame'>\n",
      "RangeIndex: 352 entries, 0 to 351\n",
      "Data columns (total 1 columns):\n",
      " #   Column   Non-Null Count  Dtype \n",
      "---  ------   --------------  ----- \n",
      " 0   famsize  352 non-null    object\n",
      "dtypes: object(1)\n",
      "memory usage: 2.9+ KB\n"
     ]
    },
    {
     "data": {
      "text/plain": [
       "GT3    252\n",
       "LE3    100\n",
       "Name: famsize, dtype: int64"
      ]
     },
     "execution_count": 9,
     "metadata": {},
     "output_type": "execute_result"
    },
    {
     "data": {
      "image/png": "[encoded data removed]",
      "text/plain": [
       "<Figure size 432x288 with 1 Axes>"
      ]
     },
     "metadata": {
      "needs_background": "light"
     },
     "output_type": "display_data"
    }
   ],
   "source": [
    "# Заполним пропуски наиболее часто встречающимся значением\n",
    "df.famsize.fillna(df.famsize.value_counts().idxmax(), inplace = True)\n",
    "\n",
    "sns.countplot(df.famsize)\n",
    "df.loc[:,['famsize']].info()\n",
    "df.famsize.value_counts()"
   ]
  },
  {
   "cell_type": "markdown",
   "metadata": {},
   "source": [
    "### pstatus"
   ]
  },
  {
   "cell_type": "code",
   "execution_count": 11,
   "metadata": {},
   "outputs": [
    {
     "name": "stdout",
     "output_type": "stream",
     "text": [
      "<class 'pandas.core.frame.DataFrame'>\n",
      "RangeIndex: 352 entries, 0 to 351\n",
      "Data columns (total 1 columns):\n",
      " #   Column   Non-Null Count  Dtype \n",
      "---  ------   --------------  ----- \n",
      " 0   pstatus  352 non-null    object\n",
      "dtypes: object(1)\n",
      "memory usage: 2.9+ KB\n"
     ]
    },
    {
     "data": {
      "text/plain": [
       "T    318\n",
       "A     34\n",
       "Name: pstatus, dtype: int64"
      ]
     },
     "execution_count": 11,
     "metadata": {},
     "output_type": "execute_result"
    },
    {
     "data": {
      "image/png": "[encoded data removed]",
      "text/plain": [
       "<Figure size 432x288 with 1 Axes>"
      ]
     },
     "metadata": {
      "needs_background": "light"
     },
     "output_type": "display_data"
    }
   ],
   "source": [
    "# Заполним пропуски наиболее часто встречающимся значением\n",
    "df.pstatus.fillna(df.pstatus.value_counts().idxmax(), inplace = True)\n",
    "\n",
    "sns.countplot(df.pstatus)\n",
    "df.loc[:,['pstatus']].info()\n",
    "df.pstatus.value_counts()"
   ]
  },
  {
   "cell_type": "markdown",
   "metadata": {},
   "source": [
    "### medu"
   ]
  },
  {
   "cell_type": "code",
   "execution_count": 17,
   "metadata": {},
   "outputs": [],
   "source": [
    "#  Показатель образования матери сильно коррелирует с показателем образованием отца,\n",
    "# поэтому проупуски заполним на основе другого показателя\n",
    "\n",
    "def medu_filling(row):\n",
    "    if pd.isnull(row['medu']):\n",
    "        if row['fedu'] == 4:\n",
    "            return 4\n",
    "        if row['fedu'] == 3:\n",
    "            return 3\n",
    "        if row['fedu'] < 3:\n",
    "            return 2\n",
    "        if row['fedu'].isnull():\n",
    "            return row['medu']\n",
    "    return row['medu']\n",
    "\n",
    "\n",
    "df.medu = df.apply(medu_filling, axis=1)\n",
    "sns.distplot(df.medu, bins=5, kde=False)\n",
    "df.medu.value_counts()"
   ]
  },
  {
   "cell_type": "markdown",
   "metadata": {},
   "source": [
    "### fedu"
   ]
  },
  {
   "cell_type": "code",
   "execution_count": 19,
   "metadata": {},
   "outputs": [
    {
     "data": {
      "text/plain": [
       "2.0     94\n",
       "3.0     89\n",
       "4.0     80\n",
       "1.0     65\n",
       "0.0      2\n",
       "40.0     1\n",
       "Name: fedu, dtype: int64"
      ]
     },
     "execution_count": 19,
     "metadata": {},
     "output_type": "execute_result"
    }
   ],
   "source": [
    "df.fedu.value_counts()"
   ]
  },
  {
   "cell_type": "code",
   "execution_count": 20,
   "metadata": {},
   "outputs": [],
   "source": [
    "# Имеется один выброс, значение которого - 40. Можно считать, что это опечатка. Изменим 40 на 4.\n",
    "df.at[df.loc[df.fedu == 40].index, 'fedu'] = 4"
   ]
  },
  {
   "cell_type": "code",
   "execution_count": 21,
   "metadata": {},
   "outputs": [],
   "source": [
    "#  Показатель образования отца сильно коррелирует с показателем образованием отца,\n",
    "# поэтому проупуски заполним на основе другого показателя\n",
    "\n",
    "def fedu_filling(row):\n",
    "    if pd.isnull(row['fedu']):\n",
    "        if row['medu'] == 4:\n",
    "            return 4\n",
    "        if row['medu'] == 3:\n",
    "            return 3\n",
    "        if row['medu'] == 2:\n",
    "            return 2\n",
    "        if row['medu'] < 2:\n",
    "            return 1\n",
    "        if row['medu'].isnull():\n",
    "            return row['fedu']\n",
    "    return row['fedu']"
   ]
  },
  {
   "cell_type": "code",
   "execution_count": 22,
   "metadata": {},
   "outputs": [
    {
     "data": {
      "text/plain": [
       "<AxesSubplot:xlabel='fedu'>"
      ]
     },
     "execution_count": 22,
     "metadata": {},
     "output_type": "execute_result"
    },
    {
     "data": {
      "image/png": "[encoded data removed]",
      "text/plain": [
       "<Figure size 432x288 with 1 Axes>"
      ]
     },
     "metadata": {
      "needs_background": "light"
     },
     "output_type": "display_data"
    }
   ],
   "source": [
    "df.fedu = df.apply(fedu_filling, axis = 1)\n",
    "sns.distplot(df.fedu, bins = 5, kde = False)"
   ]
  },
  {
   "cell_type": "markdown",
   "metadata": {},
   "source": [
    "### mjob"
   ]
  },
  {
   "cell_type": "code",
   "execution_count": 23,
   "metadata": {},
   "outputs": [],
   "source": [
    "# Пропуски заполним значением 'other'\n",
    "df.mjob.fillna(df.mjob.value_counts().idxmax(), inplace = True)"
   ]
  },
  {
   "cell_type": "code",
   "execution_count": 64,
   "metadata": {},
   "outputs": [
    {
     "name": "stdout",
     "output_type": "stream",
     "text": [
      "<class 'pandas.core.frame.DataFrame'>\n",
      "RangeIndex: 352 entries, 0 to 351\n",
      "Data columns (total 1 columns):\n",
      " #   Column  Non-Null Count  Dtype \n",
      "---  ------  --------------  ----- \n",
      " 0   mjob    352 non-null    object\n",
      "dtypes: object(1)\n",
      "memory usage: 2.9+ KB\n"
     ]
    },
    {
     "data": {
      "text/plain": [
       "other       132\n",
       "services     90\n",
       "teacher      51\n",
       "at_home      49\n",
       "health       30\n",
       "Name: mjob, dtype: int64"
      ]
     },
     "execution_count": 64,
     "metadata": {},
     "output_type": "execute_result"
    },
    {
     "data": {
      "image/png": "[encoded data removed]",
      "text/plain": [
       "<Figure size 432x288 with 1 Axes>"
      ]
     },
     "metadata": {
      "needs_background": "light"
     },
     "output_type": "display_data"
    }
   ],
   "source": [
    "sns.countplot(df.mjob)\n",
    "df.loc[:, ['mjob']].info()\n",
    "df.mjob.value_counts()"
   ]
  },
  {
   "cell_type": "markdown",
   "metadata": {},
   "source": [
    "### fjob"
   ]
  },
  {
   "cell_type": "code",
   "execution_count": 24,
   "metadata": {},
   "outputs": [],
   "source": [
    "# Пропуски заполним значением 'other'\n",
    "df.fjob.fillna(df.fjob.value_counts().idxmax(), inplace = True)"
   ]
  },
  {
   "cell_type": "code",
   "execution_count": 66,
   "metadata": {},
   "outputs": [
    {
     "name": "stdout",
     "output_type": "stream",
     "text": [
      "<class 'pandas.core.frame.DataFrame'>\n",
      "RangeIndex: 352 entries, 0 to 351\n",
      "Data columns (total 1 columns):\n",
      " #   Column  Non-Null Count  Dtype \n",
      "---  ------  --------------  ----- \n",
      " 0   fjob    352 non-null    object\n",
      "dtypes: object(1)\n",
      "memory usage: 2.9+ KB\n"
     ]
    },
    {
     "data": {
      "text/plain": [
       "other       208\n",
       "services     89\n",
       "teacher      26\n",
       "health       15\n",
       "at_home      14\n",
       "Name: fjob, dtype: int64"
      ]
     },
     "execution_count": 66,
     "metadata": {},
     "output_type": "execute_result"
    },
    {
     "data": {
      "image/png": "[encoded data removed]",
      "text/plain": [
       "<Figure size 432x288 with 1 Axes>"
      ]
     },
     "metadata": {
      "needs_background": "light"
     },
     "output_type": "display_data"
    }
   ],
   "source": [
    "sns.countplot(df.fjob)\n",
    "df.loc[:, ['fjob']].info()\n",
    "df.fjob.value_counts()"
   ]
  },
  {
   "cell_type": "markdown",
   "metadata": {},
   "source": [
    "### reason"
   ]
  },
  {
   "cell_type": "code",
   "execution_count": 25,
   "metadata": {},
   "outputs": [
    {
     "data": {
      "text/plain": [
       "course        119\n",
       "reputation     96\n",
       "home           89\n",
       "other          33\n",
       "Name: reason, dtype: int64"
      ]
     },
     "execution_count": 25,
     "metadata": {},
     "output_type": "execute_result"
    }
   ],
   "source": [
    "df.reason.value_counts()"
   ]
  },
  {
   "cell_type": "code",
   "execution_count": 26,
   "metadata": {},
   "outputs": [],
   "source": [
    "# Т.к. значения приблизительно равные и есть вариант \"другое\"(\"other\"), именно им мы заполним пропуски\n",
    "df.reason.fillna(df.reason.value_counts().idxmin(), inplace = True)"
   ]
  },
  {
   "cell_type": "code",
   "execution_count": 27,
   "metadata": {},
   "outputs": [
    {
     "name": "stdout",
     "output_type": "stream",
     "text": [
      "<class 'pandas.core.frame.DataFrame'>\n",
      "RangeIndex: 352 entries, 0 to 351\n",
      "Data columns (total 1 columns):\n",
      " #   Column  Non-Null Count  Dtype \n",
      "---  ------  --------------  ----- \n",
      " 0   reason  352 non-null    object\n",
      "dtypes: object(1)\n",
      "memory usage: 2.9+ KB\n"
     ]
    },
    {
     "data": {
      "image/png": "[encoded data removed]",
      "text/plain": [
       "<Figure size 432x288 with 1 Axes>"
      ]
     },
     "metadata": {
      "needs_background": "light"
     },
     "output_type": "display_data"
    }
   ],
   "source": [
    "sns.countplot(df.reason)\n",
    "df.loc[:, ['reason']].info()"
   ]
  },
  {
   "cell_type": "markdown",
   "metadata": {},
   "source": [
    "### guardian"
   ]
  },
  {
   "cell_type": "code",
   "execution_count": 28,
   "metadata": {},
   "outputs": [],
   "source": [
    "# Заполним пропуски наиболее часто встречающимся значением\n",
    "df.guardian.fillna(df.guardian.value_counts().idxmax(), inplace = True)"
   ]
  },
  {
   "cell_type": "code",
   "execution_count": 29,
   "metadata": {},
   "outputs": [
    {
     "name": "stdout",
     "output_type": "stream",
     "text": [
      "<class 'pandas.core.frame.DataFrame'>\n",
      "RangeIndex: 352 entries, 0 to 351\n",
      "Data columns (total 1 columns):\n",
      " #   Column    Non-Null Count  Dtype \n",
      "---  ------    --------------  ----- \n",
      " 0   guardian  352 non-null    object\n",
      "dtypes: object(1)\n",
      "memory usage: 2.9+ KB\n"
     ]
    },
    {
     "data": {
      "text/plain": [
       "mother    254\n",
       "father     78\n",
       "other      20\n",
       "Name: guardian, dtype: int64"
      ]
     },
     "execution_count": 29,
     "metadata": {},
     "output_type": "execute_result"
    },
    {
     "data": {
      "image/png": "[encoded data removed]",
      "text/plain": [
       "<Figure size 432x288 with 1 Axes>"
      ]
     },
     "metadata": {
      "needs_background": "light"
     },
     "output_type": "display_data"
    }
   ],
   "source": [
    "sns.countplot(df.guardian)\n",
    "df.loc[:, ['guardian']].info()\n",
    "df.guardian.value_counts()"
   ]
  },
  {
   "cell_type": "markdown",
   "metadata": {},
   "source": [
    "### travel time"
   ]
  },
  {
   "cell_type": "code",
   "execution_count": 30,
   "metadata": {},
   "outputs": [],
   "source": [
    "# Подавляющее большинство учеников живет рядом со школой, поэтому заполним пропуски \"1\"\n",
    "df.traveltime.fillna(df.traveltime.value_counts().idxmax(), inplace = True)"
   ]
  },
  {
   "cell_type": "code",
   "execution_count": 83,
   "metadata": {},
   "outputs": [
    {
     "name": "stdout",
     "output_type": "stream",
     "text": [
      "<class 'pandas.core.frame.DataFrame'>\n",
      "RangeIndex: 352 entries, 0 to 351\n",
      "Data columns (total 1 columns):\n",
      " #   Column      Non-Null Count  Dtype  \n",
      "---  ------      --------------  -----  \n",
      " 0   traveltime  352 non-null    float64\n",
      "dtypes: float64(1)\n",
      "memory usage: 2.9 KB\n"
     ]
    },
    {
     "data": {
      "text/plain": [
       "1.0    242\n",
       "2.0     86\n",
       "3.0     17\n",
       "4.0      7\n",
       "Name: traveltime, dtype: int64"
      ]
     },
     "execution_count": 83,
     "metadata": {},
     "output_type": "execute_result"
    },
    {
     "data": {
      "image/png": "[encoded data removed]",
      "text/plain": [
       "<Figure size 432x288 with 1 Axes>"
      ]
     },
     "metadata": {
      "needs_background": "light"
     },
     "output_type": "display_data"
    }
   ],
   "source": [
    "sns.countplot(df.traveltime)\n",
    "df.loc[:, ['traveltime']].info()\n",
    "df.traveltime.value_counts()"
   ]
  },
  {
   "cell_type": "markdown",
   "metadata": {},
   "source": [
    "### studytime"
   ]
  },
  {
   "cell_type": "code",
   "execution_count": 47,
   "metadata": {},
   "outputs": [],
   "source": [
    "# Заполним пропуски наиболее часто встречающимся значением\n",
    "df.studytime.fillna(df.studytime.value_counts().idxmax(), inplace = True)"
   ]
  },
  {
   "cell_type": "code",
   "execution_count": 59,
   "metadata": {},
   "outputs": [
    {
     "name": "stdout",
     "output_type": "stream",
     "text": [
      "<class 'pandas.core.frame.DataFrame'>\n",
      "RangeIndex: 352 entries, 0 to 351\n",
      "Data columns (total 1 columns):\n",
      " #   Column     Non-Null Count  Dtype  \n",
      "---  ------     --------------  -----  \n",
      " 0   studytime  352 non-null    float64\n",
      "dtypes: float64(1)\n",
      "memory usage: 2.9 KB\n"
     ]
    },
    {
     "data": {
      "text/plain": [
       "2.0    180\n",
       "1.0     90\n",
       "3.0     58\n",
       "4.0     24\n",
       "Name: studytime, dtype: int64"
      ]
     },
     "execution_count": 59,
     "metadata": {},
     "output_type": "execute_result"
    },
    {
     "data": {
      "image/png": "[encoded data removed]",
      "text/plain": [
       "<Figure size 432x288 with 1 Axes>"
      ]
     },
     "metadata": {
      "needs_background": "light"
     },
     "output_type": "display_data"
    }
   ],
   "source": [
    "sns.countplot(df.studytime)\n",
    "df.loc[:, ['studytime']].info()\n",
    "df.studytime.value_counts()"
   ]
  },
  {
   "cell_type": "markdown",
   "metadata": {},
   "source": [
    "### failures"
   ]
  },
  {
   "cell_type": "code",
   "execution_count": 51,
   "metadata": {},
   "outputs": [],
   "source": [
    "# Заполним пропуски наиболее часто встречающимся значением\n",
    "df.failures.fillna(df.failures.value_counts().idxmax(), inplace = True)"
   ]
  },
  {
   "cell_type": "code",
   "execution_count": 53,
   "metadata": {},
   "outputs": [
    {
     "name": "stdout",
     "output_type": "stream",
     "text": [
      "<class 'pandas.core.frame.DataFrame'>\n",
      "RangeIndex: 352 entries, 0 to 351\n",
      "Data columns (total 1 columns):\n",
      " #   Column    Non-Null Count  Dtype  \n",
      "---  ------    --------------  -----  \n",
      " 0   failures  352 non-null    float64\n",
      "dtypes: float64(1)\n",
      "memory usage: 2.9 KB\n"
     ]
    },
    {
     "data": {
      "text/plain": [
       "0.0    293\n",
       "1.0     38\n",
       "2.0     11\n",
       "3.0     10\n",
       "Name: failures, dtype: int64"
      ]
     },
     "execution_count": 53,
     "metadata": {},
     "output_type": "execute_result"
    },
    {
     "data": {
      "image/png": "[encoded data removed]",
      "text/plain": [
       "<Figure size 432x288 with 1 Axes>"
      ]
     },
     "metadata": {
      "needs_background": "light"
     },
     "output_type": "display_data"
    }
   ],
   "source": [
    "sns.countplot(df.failures)\n",
    "df.loc[:, ['failures']].info()\n",
    "df.failures.value_counts()"
   ]
  },
  {
   "cell_type": "markdown",
   "metadata": {},
   "source": [
    "### schoolsup"
   ]
  },
  {
   "cell_type": "code",
   "execution_count": 54,
   "metadata": {},
   "outputs": [],
   "source": [
    "# Заполним пропуски наиболее часто встречающимся значением\n",
    "df.schoolsup.fillna(df.schoolsup.value_counts().idxmax(), inplace = True)"
   ]
  },
  {
   "cell_type": "code",
   "execution_count": 62,
   "metadata": {},
   "outputs": [
    {
     "name": "stdout",
     "output_type": "stream",
     "text": [
      "<class 'pandas.core.frame.DataFrame'>\n",
      "RangeIndex: 352 entries, 0 to 351\n",
      "Data columns (total 1 columns):\n",
      " #   Column     Non-Null Count  Dtype \n",
      "---  ------     --------------  ----- \n",
      " 0   schoolsup  352 non-null    object\n",
      "dtypes: object(1)\n",
      "memory usage: 2.9+ KB\n"
     ]
    },
    {
     "data": {
      "text/plain": [
       "no     304\n",
       "yes     48\n",
       "Name: schoolsup, dtype: int64"
      ]
     },
     "execution_count": 62,
     "metadata": {},
     "output_type": "execute_result"
    },
    {
     "data": {
      "image/png": "[encoded data removed]",
      "text/plain": [
       "<Figure size 432x288 with 1 Axes>"
      ]
     },
     "metadata": {
      "needs_background": "light"
     },
     "output_type": "display_data"
    }
   ],
   "source": [
    "sns.countplot(df.schoolsup)\n",
    "df.loc[:, ['schoolsup']].info()\n",
    "df.schoolsup.value_counts()"
   ]
  },
  {
   "cell_type": "markdown",
   "metadata": {},
   "source": [
    "### famsup"
   ]
  },
  {
   "cell_type": "code",
   "execution_count": 56,
   "metadata": {},
   "outputs": [],
   "source": [
    "# Заполним пропуски наиболее часто встречающимся значением\n",
    "df.famsup.fillna(df.famsup.value_counts().idxmax(), inplace = True)"
   ]
  },
  {
   "cell_type": "code",
   "execution_count": 63,
   "metadata": {},
   "outputs": [
    {
     "name": "stdout",
     "output_type": "stream",
     "text": [
      "<class 'pandas.core.frame.DataFrame'>\n",
      "RangeIndex: 352 entries, 0 to 351\n",
      "Data columns (total 1 columns):\n",
      " #   Column  Non-Null Count  Dtype \n",
      "---  ------  --------------  ----- \n",
      " 0   famsup  352 non-null    object\n",
      "dtypes: object(1)\n",
      "memory usage: 2.9+ KB\n"
     ]
    },
    {
     "data": {
      "text/plain": [
       "yes    232\n",
       "no     120\n",
       "Name: famsup, dtype: int64"
      ]
     },
     "execution_count": 63,
     "metadata": {},
     "output_type": "execute_result"
    },
    {
     "data": {
      "image/png": "[encoded data removed]",
      "text/plain": [
       "<Figure size 432x288 with 1 Axes>"
      ]
     },
     "metadata": {
      "needs_background": "light"
     },
     "output_type": "display_data"
    }
   ],
   "source": [
    "sns.countplot(df.famsup)\n",
    "df.loc[:, ['famsup']].info()\n",
    "df.famsup.value_counts()"
   ]
  },
  {
   "cell_type": "markdown",
   "metadata": {},
   "source": [
    "### paid"
   ]
  },
  {
   "cell_type": "code",
   "execution_count": 68,
   "metadata": {},
   "outputs": [],
   "source": [
    "# Заполним пропуски наиболее часто встречающимся значением\n",
    "df.paid.fillna(df.paid.value_counts().idxmax(), inplace=True)"
   ]
  },
  {
   "cell_type": "code",
   "execution_count": 66,
   "metadata": {},
   "outputs": [
    {
     "name": "stdout",
     "output_type": "stream",
     "text": [
      "<class 'pandas.core.frame.DataFrame'>\n",
      "RangeIndex: 352 entries, 0 to 351\n",
      "Data columns (total 1 columns):\n",
      " #   Column  Non-Null Count  Dtype \n",
      "---  ------  --------------  ----- \n",
      " 0   paid    352 non-null    object\n",
      "dtypes: object(1)\n",
      "memory usage: 2.9+ KB\n"
     ]
    },
    {
     "data": {
      "text/plain": [
       "no     206\n",
       "yes    146\n",
       "Name: paid, dtype: int64"
      ]
     },
     "execution_count": 66,
     "metadata": {},
     "output_type": "execute_result"
    },
    {
     "data": {
      "image/png": "[encoded data removed]",
      "text/plain": [
       "<Figure size 432x288 with 1 Axes>"
      ]
     },
     "metadata": {
      "needs_background": "light"
     },
     "output_type": "display_data"
    }
   ],
   "source": [
    "df.loc[:, ['paid']].info()\n",
    "sns.countplot(df.paid)\n",
    "df.paid.value_counts()"
   ]
  },
  {
   "cell_type": "markdown",
   "metadata": {},
   "source": [
    "### activities"
   ]
  },
  {
   "cell_type": "code",
   "execution_count": 70,
   "metadata": {},
   "outputs": [],
   "source": [
    "#  Т.к. значения практически равны, \n",
    "# заполним пропуски в зависимости от колонки \"studytime\" (время на учёбу помимо школы в неделю) \n",
    "\n",
    "def activities_filling(row):\n",
    "    if pd.isnull(row['activities']):\n",
    "        if row['studytime'] == 1:\n",
    "            return 'no'\n",
    "        if row['studytime'] > 1:\n",
    "            return 'yes'\n",
    "    return row['activities']\n",
    "\n",
    "df.activities = df.apply(activities_filling, axis=1)"
   ]
  },
  {
   "cell_type": "code",
   "execution_count": 71,
   "metadata": {},
   "outputs": [
    {
     "name": "stdout",
     "output_type": "stream",
     "text": [
      "<class 'pandas.core.frame.DataFrame'>\n",
      "RangeIndex: 352 entries, 0 to 351\n",
      "Data columns (total 1 columns):\n",
      " #   Column      Non-Null Count  Dtype \n",
      "---  ------      --------------  ----- \n",
      " 0   activities  352 non-null    object\n",
      "dtypes: object(1)\n",
      "memory usage: 2.9+ KB\n"
     ]
    },
    {
     "data": {
      "text/plain": [
       "yes    179\n",
       "no     173\n",
       "Name: activities, dtype: int64"
      ]
     },
     "execution_count": 71,
     "metadata": {},
     "output_type": "execute_result"
    },
    {
     "data": {
      "image/png": "[encoded data removed]",
      "text/plain": [
       "<Figure size 432x288 with 1 Axes>"
      ]
     },
     "metadata": {
      "needs_background": "light"
     },
     "output_type": "display_data"
    }
   ],
   "source": [
    "df.loc[:, ['activities']].info()\n",
    "sns.countplot(df.activities)\n",
    "df.activities.value_counts()"
   ]
  },
  {
   "cell_type": "markdown",
   "metadata": {},
   "source": [
    "### nursery"
   ]
  },
  {
   "cell_type": "code",
   "execution_count": 74,
   "metadata": {},
   "outputs": [],
   "source": [
    "# Заполним пропуски наиболее часто встречающимся значением\n",
    "df.nursery.fillna(df.nursery.value_counts().idxmax(), inplace=True)"
   ]
  },
  {
   "cell_type": "code",
   "execution_count": 75,
   "metadata": {},
   "outputs": [
    {
     "name": "stdout",
     "output_type": "stream",
     "text": [
      "<class 'pandas.core.frame.DataFrame'>\n",
      "RangeIndex: 352 entries, 0 to 351\n",
      "Data columns (total 1 columns):\n",
      " #   Column   Non-Null Count  Dtype \n",
      "---  ------   --------------  ----- \n",
      " 0   nursery  352 non-null    object\n",
      "dtypes: object(1)\n",
      "memory usage: 2.9+ KB\n"
     ]
    },
    {
     "data": {
      "text/plain": [
       "yes    284\n",
       "no      68\n",
       "Name: nursery, dtype: int64"
      ]
     },
     "execution_count": 75,
     "metadata": {},
     "output_type": "execute_result"
    },
    {
     "data": {
      "image/png": "[encoded data removed]",
      "text/plain": [
       "<Figure size 432x288 with 1 Axes>"
      ]
     },
     "metadata": {
      "needs_background": "light"
     },
     "output_type": "display_data"
    }
   ],
   "source": [
    "sns.countplot(df.nursery)\n",
    "df.loc[:, ['nursery']].info()\n",
    "df.nursery.value_counts()"
   ]
  },
  {
   "cell_type": "markdown",
   "metadata": {},
   "source": [
    "### higher"
   ]
  },
  {
   "cell_type": "code",
   "execution_count": 109,
   "metadata": {},
   "outputs": [
    {
     "name": "stdout",
     "output_type": "stream",
     "text": [
      "<class 'pandas.core.frame.DataFrame'>\n",
      "Int64Index: 305 entries, 0 to 351\n",
      "Data columns (total 1 columns):\n",
      " #   Column  Non-Null Count  Dtype \n",
      "---  ------  --------------  ----- \n",
      " 0   higher  305 non-null    object\n",
      "dtypes: object(1)\n",
      "memory usage: 14.8+ KB\n"
     ]
    },
    {
     "data": {
      "text/plain": [
       "yes    297\n",
       "no       8\n",
       "Name: higher, dtype: int64"
      ]
     },
     "execution_count": 109,
     "metadata": {},
     "output_type": "execute_result"
    },
    {
     "data": {
      "image/png": "[encoded data removed]",
      "text/plain": [
       "<Figure size 432x288 with 1 Axes>"
      ]
     },
     "metadata": {
      "needs_background": "light"
     },
     "output_type": "display_data"
    }
   ],
   "source": [
    "# Заполним пропуски наиболее часто встречающимся значением\n",
    "df.higher.fillna(df.higher.value_counts().idxmax(), inplace=True)\n",
    "\n",
    "df.loc[:, ['higher']].info()\n",
    "sns.countplot(df.higher)\n",
    "df.higher.value_counts()"
   ]
  },
  {
   "cell_type": "markdown",
   "metadata": {},
   "source": [
    "### internet"
   ]
  },
  {
   "cell_type": "code",
   "execution_count": 108,
   "metadata": {},
   "outputs": [
    {
     "name": "stdout",
     "output_type": "stream",
     "text": [
      "<class 'pandas.core.frame.DataFrame'>\n",
      "Int64Index: 305 entries, 0 to 351\n",
      "Data columns (total 1 columns):\n",
      " #   Column    Non-Null Count  Dtype \n",
      "---  ------    --------------  ----- \n",
      " 0   internet  305 non-null    object\n",
      "dtypes: object(1)\n",
      "memory usage: 14.8+ KB\n"
     ]
    },
    {
     "data": {
      "text/plain": [
       "yes    259\n",
       "no      46\n",
       "Name: internet, dtype: int64"
      ]
     },
     "execution_count": 108,
     "metadata": {},
     "output_type": "execute_result"
    },
    {
     "data": {
      "image/png": "[encoded data removed]",
      "text/plain": [
       "<Figure size 432x288 with 1 Axes>"
      ]
     },
     "metadata": {
      "needs_background": "light"
     },
     "output_type": "display_data"
    }
   ],
   "source": [
    "# Заполним пропуски наиболее часто встречающимся значением\n",
    "df.internet.fillna(df.internet.value_counts().idxmax(), inplace=True)\n",
    "\n",
    "sns.countplot(df.internet)\n",
    "df.loc[:, ['internet']].info()\n",
    "df.internet.value_counts()"
   ]
  },
  {
   "cell_type": "markdown",
   "metadata": {},
   "source": [
    "### romantic"
   ]
  },
  {
   "cell_type": "code",
   "execution_count": 80,
   "metadata": {},
   "outputs": [
    {
     "name": "stdout",
     "output_type": "stream",
     "text": [
      "<class 'pandas.core.frame.DataFrame'>\n",
      "RangeIndex: 352 entries, 0 to 351\n",
      "Data columns (total 1 columns):\n",
      " #   Column    Non-Null Count  Dtype \n",
      "---  ------    --------------  ----- \n",
      " 0   romantic  352 non-null    object\n",
      "dtypes: object(1)\n",
      "memory usage: 2.9+ KB\n"
     ]
    },
    {
     "data": {
      "text/plain": [
       "no     248\n",
       "yes    104\n",
       "Name: romantic, dtype: int64"
      ]
     },
     "execution_count": 80,
     "metadata": {},
     "output_type": "execute_result"
    },
    {
     "data": {
      "image/png": "[encoded data removed]",
      "text/plain": [
       "<Figure size 432x288 with 1 Axes>"
      ]
     },
     "metadata": {
      "needs_background": "light"
     },
     "output_type": "display_data"
    }
   ],
   "source": [
    "# Заполним пропуски наиболее часто встречающимся значением\n",
    "df.romantic.fillna(df.romantic.value_counts().idxmax(), inplace=True)\n",
    "\n",
    "sns.countplot(df.romantic)\n",
    "df.loc[:, ['romantic']].info()\n",
    "df.romantic.value_counts()"
   ]
  },
  {
   "cell_type": "markdown",
   "metadata": {},
   "source": [
    "### famrel"
   ]
  },
  {
   "cell_type": "code",
   "execution_count": 81,
   "metadata": {},
   "outputs": [
    {
     "data": {
      "text/plain": [
       " 4.0    163\n",
       " 5.0     88\n",
       " 3.0     56\n",
       " 2.0     14\n",
       " 1.0      6\n",
       "-1.0      1\n",
       "Name: famrel, dtype: int64"
      ]
     },
     "execution_count": 81,
     "metadata": {},
     "output_type": "execute_result"
    }
   ],
   "source": [
    "df.famrel.value_counts()"
   ]
  },
  {
   "cell_type": "code",
   "execution_count": 85,
   "metadata": {},
   "outputs": [
    {
     "name": "stdout",
     "output_type": "stream",
     "text": [
      "<class 'pandas.core.frame.DataFrame'>\n",
      "RangeIndex: 352 entries, 0 to 351\n",
      "Data columns (total 1 columns):\n",
      " #   Column  Non-Null Count  Dtype  \n",
      "---  ------  --------------  -----  \n",
      " 0   famrel  352 non-null    float64\n",
      "dtypes: float64(1)\n",
      "memory usage: 2.9 KB\n"
     ]
    },
    {
     "data": {
      "text/plain": [
       "<AxesSubplot:xlabel='famrel', ylabel='count'>"
      ]
     },
     "execution_count": 85,
     "metadata": {},
     "output_type": "execute_result"
    },
    {
     "data": {
      "image/png": "[encoded data removed]",
      "text/plain": [
       "<Figure size 432x288 with 1 Axes>"
      ]
     },
     "metadata": {
      "needs_background": "light"
     },
     "output_type": "display_data"
    }
   ],
   "source": [
    "# Присутстувует один выброс. Скорее всего это опечатка - знак \"-\" лишний, уберем его\n",
    "df.at[df.loc[df.famrel == -1].index, 'famrel'] = 1\n",
    "\n",
    "# Заполним пропуски наиболее часто встречающимся значением\n",
    "df.famrel.fillna(df.famrel.value_counts().idxmax(), inplace=True)\n",
    "\n",
    "df.loc[:, ['famrel']].info()\n",
    "sns.countplot(df.famrel)"
   ]
  },
  {
   "cell_type": "markdown",
   "metadata": {},
   "source": [
    "### freetime"
   ]
  },
  {
   "cell_type": "code",
   "execution_count": 87,
   "metadata": {},
   "outputs": [
    {
     "name": "stdout",
     "output_type": "stream",
     "text": [
      "<class 'pandas.core.frame.DataFrame'>\n",
      "RangeIndex: 352 entries, 0 to 351\n",
      "Data columns (total 1 columns):\n",
      " #   Column    Non-Null Count  Dtype  \n",
      "---  ------    --------------  -----  \n",
      " 0   freetime  352 non-null    float64\n",
      "dtypes: float64(1)\n",
      "memory usage: 2.9 KB\n"
     ]
    },
    {
     "data": {
      "text/plain": [
       "3.0    140\n",
       "4.0    102\n",
       "2.0     59\n",
       "5.0     35\n",
       "1.0     16\n",
       "Name: freetime, dtype: int64"
      ]
     },
     "execution_count": 87,
     "metadata": {},
     "output_type": "execute_result"
    },
    {
     "data": {
      "image/png": "[encoded data removed]",
      "text/plain": [
       "<Figure size 432x288 with 1 Axes>"
      ]
     },
     "metadata": {
      "needs_background": "light"
     },
     "output_type": "display_data"
    }
   ],
   "source": [
    "# Заполним пропуски наиболее часто встречающимся значением\n",
    "df.freetime.fillna(df.freetime.value_counts().idxmax(), inplace=True)\n",
    "\n",
    "sns.countplot(df.freetime)\n",
    "df.loc[:, ['freetime']].info()\n",
    "df.freetime.value_counts()"
   ]
  },
  {
   "cell_type": "markdown",
   "metadata": {},
   "source": [
    "### goout"
   ]
  },
  {
   "cell_type": "code",
   "execution_count": 89,
   "metadata": {},
   "outputs": [
    {
     "name": "stdout",
     "output_type": "stream",
     "text": [
      "<class 'pandas.core.frame.DataFrame'>\n",
      "RangeIndex: 352 entries, 0 to 351\n",
      "Data columns (total 1 columns):\n",
      " #   Column  Non-Null Count  Dtype  \n",
      "---  ------  --------------  -----  \n",
      " 0   goout   352 non-null    float64\n",
      "dtypes: float64(1)\n",
      "memory usage: 2.9 KB\n"
     ]
    },
    {
     "data": {
      "text/plain": [
       "3.0    124\n",
       "2.0     92\n",
       "4.0     74\n",
       "5.0     43\n",
       "1.0     19\n",
       "Name: goout, dtype: int64"
      ]
     },
     "execution_count": 89,
     "metadata": {},
     "output_type": "execute_result"
    },
    {
     "data": {
      "image/png": "[encoded data removed]",
      "text/plain": [
       "<Figure size 432x288 with 1 Axes>"
      ]
     },
     "metadata": {
      "needs_background": "light"
     },
     "output_type": "display_data"
    }
   ],
   "source": [
    "# Заполним пропуски наиболее часто встречающимся значением\n",
    "df.goout.fillna(df.goout.value_counts().idxmax(), inplace=True)\n",
    "\n",
    "sns.countplot(df.goout)\n",
    "df.loc[:, ['goout']].info()\n",
    "df.goout.value_counts()"
   ]
  },
  {
   "cell_type": "markdown",
   "metadata": {},
   "source": [
    "### health"
   ]
  },
  {
   "cell_type": "code",
   "execution_count": 90,
   "metadata": {},
   "outputs": [
    {
     "name": "stdout",
     "output_type": "stream",
     "text": [
      "<class 'pandas.core.frame.DataFrame'>\n",
      "RangeIndex: 352 entries, 0 to 351\n",
      "Data columns (total 1 columns):\n",
      " #   Column  Non-Null Count  Dtype  \n",
      "---  ------  --------------  -----  \n",
      " 0   health  352 non-null    float64\n",
      "dtypes: float64(1)\n",
      "memory usage: 2.9 KB\n"
     ]
    },
    {
     "data": {
      "text/plain": [
       "5.0    137\n",
       "3.0     81\n",
       "4.0     53\n",
       "1.0     45\n",
       "2.0     36\n",
       "Name: health, dtype: int64"
      ]
     },
     "execution_count": 90,
     "metadata": {},
     "output_type": "execute_result"
    },
    {
     "data": {
      "image/png": "[encoded data removed]",
      "text/plain": [
       "<Figure size 432x288 with 1 Axes>"
      ]
     },
     "metadata": {
      "needs_background": "light"
     },
     "output_type": "display_data"
    }
   ],
   "source": [
    "# Заполним пропуски наиболее часто встречающимся значением\n",
    "df.health.fillna(df.health.value_counts().idxmax(), inplace=True)\n",
    "\n",
    "sns.countplot(df.health)\n",
    "df.loc[:, ['health']].info()\n",
    "df.health.value_counts()"
   ]
  },
  {
   "cell_type": "markdown",
   "metadata": {},
   "source": [
    "### absences"
   ]
  },
  {
   "cell_type": "code",
   "execution_count": 101,
   "metadata": {},
   "outputs": [
    {
     "name": "stdout",
     "output_type": "stream",
     "text": [
      "25-й перцентиль: 2.0, 75-й перцентиль: 7.0, IQR: 5.0, границы выбросов: [-5.5; 14.5]\n",
      "<class 'pandas.core.frame.DataFrame'>\n",
      "Int64Index: 305 entries, 0 to 351\n",
      "Data columns (total 1 columns):\n",
      " #   Column    Non-Null Count  Dtype  \n",
      "---  ------    --------------  -----  \n",
      " 0   absences  305 non-null    float64\n",
      "dtypes: float64(1)\n",
      "memory usage: 4.8 KB\n"
     ]
    },
    {
     "data": {
      "image/png": "[encoded data removed]",
      "text/plain": [
       "<Figure size 432x288 with 1 Axes>"
      ]
     },
     "metadata": {
      "needs_background": "light"
     },
     "output_type": "display_data"
    }
   ],
   "source": [
    "plt.hist(df.absences)\n",
    "\n",
    "# Параметр содержит большое количество выбросов, давайте отфильтруем его\n",
    "perc25 = df.absences.quantile(0.25)\n",
    "perc75 = df.absences.quantile(.75)\n",
    "IQR = perc75 - perc25\n",
    "print(f'25-й перцентиль: {perc25}, 75-й перцентиль: {perc75}, IQR: {IQR}, границы выбросов: [{perc25 - 1.5*IQR}; {perc75 + 1.5*IQR}]')\n",
    "df = df.loc[df.absences.between(perc25 - 1.5*IQR, perc75 + 1.5*IQR)]\n",
    "\n",
    "# Заполним пропуски наиболее часто встречающимся значением\n",
    "df.absences.fillna(df.absences.value_counts().idxmax(), inplace=True)\n",
    "\n",
    "df.loc[:, ['absences']].info()"
   ]
  },
  {
   "cell_type": "code",
   "execution_count": 99,
   "metadata": {},
   "outputs": [
    {
     "data": {
      "text/plain": [
       "0.0     74\n",
       "2.0     60\n",
       "4.0     52\n",
       "6.0     30\n",
       "8.0     20\n",
       "10.0    17\n",
       "12.0    12\n",
       "14.0    12\n",
       "16.0     7\n",
       "3.0      7\n",
       "7.0      6\n",
       "5.0      5\n",
       "1.0      3\n",
       "9.0      3\n",
       "15.0     2\n",
       "13.0     2\n",
       "11.0     2\n",
       "17.0     1\n",
       "Name: absences, dtype: int64"
      ]
     },
     "execution_count": 99,
     "metadata": {},
     "output_type": "execute_result"
    },
    {
     "data": {
      "image/png": "[encoded data removed]",
      "text/plain": [
       "<Figure size 432x288 with 1 Axes>"
      ]
     },
     "metadata": {
      "needs_background": "light"
     },
     "output_type": "display_data"
    }
   ],
   "source": [
    "plt.hist(df.absences)\n",
    "df.absences.value_counts()"
   ]
  },
  {
   "cell_type": "markdown",
   "metadata": {},
   "source": [
    "### Sudytime, granular"
   ]
  },
  {
   "cell_type": "code",
   "execution_count": 134,
   "metadata": {},
   "outputs": [
    {
     "data": {
      "text/html": [
       "<div>\n",
       "<style scoped>\n",
       "    .dataframe tbody tr th:only-of-type {\n",
       "        vertical-align: middle;\n",
       "    }\n",
       "\n",
       "    .dataframe tbody tr th {\n",
       "        vertical-align: top;\n",
       "    }\n",
       "\n",
       "    .dataframe thead th {\n",
       "        text-align: right;\n",
       "    }\n",
       "</style>\n",
       "<table border=\"1\" class=\"dataframe\">\n",
       "  <thead>\n",
       "    <tr style=\"text-align: right;\">\n",
       "      <th></th>\n",
       "      <th>studytime</th>\n",
       "      <th>studytime, granular</th>\n",
       "    </tr>\n",
       "  </thead>\n",
       "  <tbody>\n",
       "    <tr>\n",
       "      <th>75</th>\n",
       "      <td>2.0</td>\n",
       "      <td>-6.0</td>\n",
       "    </tr>\n",
       "    <tr>\n",
       "      <th>211</th>\n",
       "      <td>2.0</td>\n",
       "      <td>-6.0</td>\n",
       "    </tr>\n",
       "    <tr>\n",
       "      <th>21</th>\n",
       "      <td>1.0</td>\n",
       "      <td>-3.0</td>\n",
       "    </tr>\n",
       "    <tr>\n",
       "      <th>9</th>\n",
       "      <td>2.0</td>\n",
       "      <td>-6.0</td>\n",
       "    </tr>\n",
       "    <tr>\n",
       "      <th>302</th>\n",
       "      <td>3.0</td>\n",
       "      <td>-9.0</td>\n",
       "    </tr>\n",
       "    <tr>\n",
       "      <th>374</th>\n",
       "      <td>3.0</td>\n",
       "      <td>-9.0</td>\n",
       "    </tr>\n",
       "    <tr>\n",
       "      <th>247</th>\n",
       "      <td>1.0</td>\n",
       "      <td>-3.0</td>\n",
       "    </tr>\n",
       "    <tr>\n",
       "      <th>266</th>\n",
       "      <td>NaN</td>\n",
       "      <td>NaN</td>\n",
       "    </tr>\n",
       "    <tr>\n",
       "      <th>27</th>\n",
       "      <td>1.0</td>\n",
       "      <td>-3.0</td>\n",
       "    </tr>\n",
       "    <tr>\n",
       "      <th>276</th>\n",
       "      <td>2.0</td>\n",
       "      <td>-6.0</td>\n",
       "    </tr>\n",
       "  </tbody>\n",
       "</table>\n",
       "</div>"
      ],
      "text/plain": [
       "     studytime  studytime, granular\n",
       "75         2.0                 -6.0\n",
       "211        2.0                 -6.0\n",
       "21         1.0                 -3.0\n",
       "9          2.0                 -6.0\n",
       "302        3.0                 -9.0\n",
       "374        3.0                 -9.0\n",
       "247        1.0                 -3.0\n",
       "266        NaN                  NaN\n",
       "27         1.0                 -3.0\n",
       "276        2.0                 -6.0"
      ]
     },
     "execution_count": 134,
     "metadata": {},
     "output_type": "execute_result"
    },
    {
     "data": {
      "image/png": "[encoded data removed]",
      "text/plain": [
       "<Figure size 432x288 with 1 Axes>"
      ]
     },
     "metadata": {
      "needs_background": "light"
     },
     "output_type": "display_data"
    }
   ],
   "source": [
    "sns.countplot(df['studytime, granular'])\n",
    "df[[\"studytime\", \"studytime, granular\"]].sample(10)"
   ]
  },
  {
   "cell_type": "markdown",
   "metadata": {},
   "source": [
    "# Корреляционный анализ"
   ]
  },
  {
   "cell_type": "code",
   "execution_count": 40,
   "metadata": {},
   "outputs": [
    {
     "data": {
      "text/html": [
       "<div>\n",
       "<style scoped>\n",
       "    .dataframe tbody tr th:only-of-type {\n",
       "        vertical-align: middle;\n",
       "    }\n",
       "\n",
       "    .dataframe tbody tr th {\n",
       "        vertical-align: top;\n",
       "    }\n",
       "\n",
       "    .dataframe thead th {\n",
       "        text-align: right;\n",
       "    }\n",
       "</style>\n",
       "<table border=\"1\" class=\"dataframe\">\n",
       "  <thead>\n",
       "    <tr style=\"text-align: right;\">\n",
       "      <th></th>\n",
       "      <th>age</th>\n",
       "      <th>medu</th>\n",
       "      <th>fedu</th>\n",
       "      <th>traveltime</th>\n",
       "      <th>studytime</th>\n",
       "      <th>failures</th>\n",
       "      <th>studytime, granular</th>\n",
       "      <th>famrel</th>\n",
       "      <th>freetime</th>\n",
       "      <th>goout</th>\n",
       "      <th>health</th>\n",
       "      <th>absences</th>\n",
       "      <th>score</th>\n",
       "    </tr>\n",
       "  </thead>\n",
       "  <tbody>\n",
       "    <tr>\n",
       "      <th>age</th>\n",
       "      <td>1.000000</td>\n",
       "      <td>-0.161704</td>\n",
       "      <td>-0.138018</td>\n",
       "      <td>0.081508</td>\n",
       "      <td>-0.015556</td>\n",
       "      <td>0.228047</td>\n",
       "      <td>0.015556</td>\n",
       "      <td>0.068899</td>\n",
       "      <td>0.029023</td>\n",
       "      <td>0.135107</td>\n",
       "      <td>-0.065946</td>\n",
       "      <td>0.093592</td>\n",
       "      <td>-0.155726</td>\n",
       "    </tr>\n",
       "    <tr>\n",
       "      <th>medu</th>\n",
       "      <td>-0.161704</td>\n",
       "      <td>1.000000</td>\n",
       "      <td>0.275598</td>\n",
       "      <td>-0.173515</td>\n",
       "      <td>0.078589</td>\n",
       "      <td>-0.245463</td>\n",
       "      <td>-0.078589</td>\n",
       "      <td>-0.010050</td>\n",
       "      <td>0.025335</td>\n",
       "      <td>0.064164</td>\n",
       "      <td>-0.045051</td>\n",
       "      <td>-0.011944</td>\n",
       "      <td>0.213349</td>\n",
       "    </tr>\n",
       "    <tr>\n",
       "      <th>fedu</th>\n",
       "      <td>-0.138018</td>\n",
       "      <td>0.275598</td>\n",
       "      <td>1.000000</td>\n",
       "      <td>0.030646</td>\n",
       "      <td>0.057199</td>\n",
       "      <td>-0.150821</td>\n",
       "      <td>-0.057199</td>\n",
       "      <td>0.040577</td>\n",
       "      <td>-0.066556</td>\n",
       "      <td>-0.023282</td>\n",
       "      <td>0.027251</td>\n",
       "      <td>0.004695</td>\n",
       "      <td>0.078573</td>\n",
       "    </tr>\n",
       "    <tr>\n",
       "      <th>traveltime</th>\n",
       "      <td>0.081508</td>\n",
       "      <td>-0.173515</td>\n",
       "      <td>0.030646</td>\n",
       "      <td>1.000000</td>\n",
       "      <td>-0.102206</td>\n",
       "      <td>0.064699</td>\n",
       "      <td>0.102206</td>\n",
       "      <td>-0.016857</td>\n",
       "      <td>-0.021937</td>\n",
       "      <td>0.037636</td>\n",
       "      <td>-0.021531</td>\n",
       "      <td>-0.048215</td>\n",
       "      <td>-0.070559</td>\n",
       "    </tr>\n",
       "    <tr>\n",
       "      <th>studytime</th>\n",
       "      <td>-0.015556</td>\n",
       "      <td>0.078589</td>\n",
       "      <td>0.057199</td>\n",
       "      <td>-0.102206</td>\n",
       "      <td>1.000000</td>\n",
       "      <td>-0.178992</td>\n",
       "      <td>-1.000000</td>\n",
       "      <td>0.045894</td>\n",
       "      <td>-0.121969</td>\n",
       "      <td>-0.051280</td>\n",
       "      <td>-0.080016</td>\n",
       "      <td>-0.026544</td>\n",
       "      <td>0.115741</td>\n",
       "    </tr>\n",
       "    <tr>\n",
       "      <th>failures</th>\n",
       "      <td>0.228047</td>\n",
       "      <td>-0.245463</td>\n",
       "      <td>-0.150821</td>\n",
       "      <td>0.064699</td>\n",
       "      <td>-0.178992</td>\n",
       "      <td>1.000000</td>\n",
       "      <td>0.178992</td>\n",
       "      <td>-0.022655</td>\n",
       "      <td>0.098382</td>\n",
       "      <td>0.120914</td>\n",
       "      <td>0.081284</td>\n",
       "      <td>0.057391</td>\n",
       "      <td>-0.344338</td>\n",
       "    </tr>\n",
       "    <tr>\n",
       "      <th>studytime, granular</th>\n",
       "      <td>0.015556</td>\n",
       "      <td>-0.078589</td>\n",
       "      <td>-0.057199</td>\n",
       "      <td>0.102206</td>\n",
       "      <td>-1.000000</td>\n",
       "      <td>0.178992</td>\n",
       "      <td>1.000000</td>\n",
       "      <td>-0.045894</td>\n",
       "      <td>0.121969</td>\n",
       "      <td>0.051280</td>\n",
       "      <td>0.080016</td>\n",
       "      <td>0.026544</td>\n",
       "      <td>-0.115741</td>\n",
       "    </tr>\n",
       "    <tr>\n",
       "      <th>famrel</th>\n",
       "      <td>0.068899</td>\n",
       "      <td>-0.010050</td>\n",
       "      <td>0.040577</td>\n",
       "      <td>-0.016857</td>\n",
       "      <td>0.045894</td>\n",
       "      <td>-0.022655</td>\n",
       "      <td>-0.045894</td>\n",
       "      <td>1.000000</td>\n",
       "      <td>0.175743</td>\n",
       "      <td>0.081154</td>\n",
       "      <td>0.077474</td>\n",
       "      <td>-0.082609</td>\n",
       "      <td>0.057112</td>\n",
       "    </tr>\n",
       "    <tr>\n",
       "      <th>freetime</th>\n",
       "      <td>0.029023</td>\n",
       "      <td>0.025335</td>\n",
       "      <td>-0.066556</td>\n",
       "      <td>-0.021937</td>\n",
       "      <td>-0.121969</td>\n",
       "      <td>0.098382</td>\n",
       "      <td>0.121969</td>\n",
       "      <td>0.175743</td>\n",
       "      <td>1.000000</td>\n",
       "      <td>0.296437</td>\n",
       "      <td>0.061575</td>\n",
       "      <td>0.009292</td>\n",
       "      <td>0.019026</td>\n",
       "    </tr>\n",
       "    <tr>\n",
       "      <th>goout</th>\n",
       "      <td>0.135107</td>\n",
       "      <td>0.064164</td>\n",
       "      <td>-0.023282</td>\n",
       "      <td>0.037636</td>\n",
       "      <td>-0.051280</td>\n",
       "      <td>0.120914</td>\n",
       "      <td>0.051280</td>\n",
       "      <td>0.081154</td>\n",
       "      <td>0.296437</td>\n",
       "      <td>1.000000</td>\n",
       "      <td>-0.015608</td>\n",
       "      <td>-0.048738</td>\n",
       "      <td>-0.129685</td>\n",
       "    </tr>\n",
       "    <tr>\n",
       "      <th>health</th>\n",
       "      <td>-0.065946</td>\n",
       "      <td>-0.045051</td>\n",
       "      <td>0.027251</td>\n",
       "      <td>-0.021531</td>\n",
       "      <td>-0.080016</td>\n",
       "      <td>0.081284</td>\n",
       "      <td>0.080016</td>\n",
       "      <td>0.077474</td>\n",
       "      <td>0.061575</td>\n",
       "      <td>-0.015608</td>\n",
       "      <td>1.000000</td>\n",
       "      <td>-0.016222</td>\n",
       "      <td>-0.070460</td>\n",
       "    </tr>\n",
       "    <tr>\n",
       "      <th>absences</th>\n",
       "      <td>0.093592</td>\n",
       "      <td>-0.011944</td>\n",
       "      <td>0.004695</td>\n",
       "      <td>-0.048215</td>\n",
       "      <td>-0.026544</td>\n",
       "      <td>0.057391</td>\n",
       "      <td>0.026544</td>\n",
       "      <td>-0.082609</td>\n",
       "      <td>0.009292</td>\n",
       "      <td>-0.048738</td>\n",
       "      <td>-0.016222</td>\n",
       "      <td>1.000000</td>\n",
       "      <td>0.065283</td>\n",
       "    </tr>\n",
       "    <tr>\n",
       "      <th>score</th>\n",
       "      <td>-0.155726</td>\n",
       "      <td>0.213349</td>\n",
       "      <td>0.078573</td>\n",
       "      <td>-0.070559</td>\n",
       "      <td>0.115741</td>\n",
       "      <td>-0.344338</td>\n",
       "      <td>-0.115741</td>\n",
       "      <td>0.057112</td>\n",
       "      <td>0.019026</td>\n",
       "      <td>-0.129685</td>\n",
       "      <td>-0.070460</td>\n",
       "      <td>0.065283</td>\n",
       "      <td>1.000000</td>\n",
       "    </tr>\n",
       "  </tbody>\n",
       "</table>\n",
       "</div>"
      ],
      "text/plain": [
       "                          age      medu      fedu  traveltime  studytime  \\\n",
       "age                  1.000000 -0.161704 -0.138018    0.081508  -0.015556   \n",
       "medu                -0.161704  1.000000  0.275598   -0.173515   0.078589   \n",
       "fedu                -0.138018  0.275598  1.000000    0.030646   0.057199   \n",
       "traveltime           0.081508 -0.173515  0.030646    1.000000  -0.102206   \n",
       "studytime           -0.015556  0.078589  0.057199   -0.102206   1.000000   \n",
       "failures             0.228047 -0.245463 -0.150821    0.064699  -0.178992   \n",
       "studytime, granular  0.015556 -0.078589 -0.057199    0.102206  -1.000000   \n",
       "famrel               0.068899 -0.010050  0.040577   -0.016857   0.045894   \n",
       "freetime             0.029023  0.025335 -0.066556   -0.021937  -0.121969   \n",
       "goout                0.135107  0.064164 -0.023282    0.037636  -0.051280   \n",
       "health              -0.065946 -0.045051  0.027251   -0.021531  -0.080016   \n",
       "absences             0.093592 -0.011944  0.004695   -0.048215  -0.026544   \n",
       "score               -0.155726  0.213349  0.078573   -0.070559   0.115741   \n",
       "\n",
       "                     failures  studytime, granular    famrel  freetime  \\\n",
       "age                  0.228047             0.015556  0.068899  0.029023   \n",
       "medu                -0.245463            -0.078589 -0.010050  0.025335   \n",
       "fedu                -0.150821            -0.057199  0.040577 -0.066556   \n",
       "traveltime           0.064699             0.102206 -0.016857 -0.021937   \n",
       "studytime           -0.178992            -1.000000  0.045894 -0.121969   \n",
       "failures             1.000000             0.178992 -0.022655  0.098382   \n",
       "studytime, granular  0.178992             1.000000 -0.045894  0.121969   \n",
       "famrel              -0.022655            -0.045894  1.000000  0.175743   \n",
       "freetime             0.098382             0.121969  0.175743  1.000000   \n",
       "goout                0.120914             0.051280  0.081154  0.296437   \n",
       "health               0.081284             0.080016  0.077474  0.061575   \n",
       "absences             0.057391             0.026544 -0.082609  0.009292   \n",
       "score               -0.344338            -0.115741  0.057112  0.019026   \n",
       "\n",
       "                        goout    health  absences     score  \n",
       "age                  0.135107 -0.065946  0.093592 -0.155726  \n",
       "medu                 0.064164 -0.045051 -0.011944  0.213349  \n",
       "fedu                -0.023282  0.027251  0.004695  0.078573  \n",
       "traveltime           0.037636 -0.021531 -0.048215 -0.070559  \n",
       "studytime           -0.051280 -0.080016 -0.026544  0.115741  \n",
       "failures             0.120914  0.081284  0.057391 -0.344338  \n",
       "studytime, granular  0.051280  0.080016  0.026544 -0.115741  \n",
       "famrel               0.081154  0.077474 -0.082609  0.057112  \n",
       "freetime             0.296437  0.061575  0.009292  0.019026  \n",
       "goout                1.000000 -0.015608 -0.048738 -0.129685  \n",
       "health              -0.015608  1.000000 -0.016222 -0.070460  \n",
       "absences            -0.048738 -0.016222  1.000000  0.065283  \n",
       "score               -0.129685 -0.070460  0.065283  1.000000  "
      ]
     },
     "execution_count": 40,
     "metadata": {},
     "output_type": "execute_result"
    },
    {
     "data": {
      "image/png": "[encoded data removed]",
      "text/plain": [
       "<Figure size 864x432 with 2 Axes>"
      ]
     },
     "metadata": {
      "needs_background": "light"
     },
     "output_type": "display_data"
    }
   ],
   "source": [
    "fig = plt.figure(figsize=(12, 6))\n",
    "ax = sns.heatmap(df.corr(), linecolor='black', cmap='Spectral')\n",
    "\n",
    "df.corr()"
   ]
  },
  {
   "cell_type": "code",
   "execution_count": 136,
   "metadata": {},
   "outputs": [],
   "source": [
    "#  \"studytime\" и \"studytime, granular\" полностью скоррелировны.\n",
    "# Удалим \"studytime, granular\"\n",
    "df.drop(columns=[\"studytime, granular\"], inplace=True)"
   ]
  },
  {
   "cell_type": "markdown",
   "metadata": {},
   "source": [
    "### Анализ номинативных признаков"
   ]
  },
  {
   "cell_type": "code",
   "execution_count": 50,
   "metadata": {},
   "outputs": [
    {
     "data": {
      "image/png": "[encoded data removed]",
      "text/plain": [
       "<Figure size 720x216 with 1 Axes>"
      ]
     },
     "metadata": {
      "needs_background": "light"
     },
     "output_type": "display_data"
    },
    {
     "data": {
      "image/png": "[encoded data removed]",
      "text/plain": [
       "<Figure size 720x216 with 1 Axes>"
      ]
     },
     "metadata": {
      "needs_background": "light"
     },
     "output_type": "display_data"
    },
    {
     "data": {
      "image/png": "[encoded data removed]",
      "text/plain": [
       "<Figure size 720x216 with 1 Axes>"
      ]
     },
     "metadata": {
      "needs_background": "light"
     },
     "output_type": "display_data"
    },
    {
     "data": {
      "image/png": "[encoded data removed]",
      "text/plain": [
       "<Figure size 720x216 with 1 Axes>"
      ]
     },
     "metadata": {
      "needs_background": "light"
     },
     "output_type": "display_data"
    },
    {
     "data": {
      "image/png": "[encoded data removed]",
      "text/plain": [
       "<Figure size 720x216 with 1 Axes>"
      ]
     },
     "metadata": {
      "needs_background": "light"
     },
     "output_type": "display_data"
    },
    {
     "data": {
      "image/png": "[encoded data removed]",
      "text/plain": [
       "<Figure size 720x216 with 1 Axes>"
      ]
     },
     "metadata": {
      "needs_background": "light"
     },
     "output_type": "display_data"
    },
    {
     "data": {
      "image/png": "[encoded data removed]",
      "text/plain": [
       "<Figure size 720x216 with 1 Axes>"
      ]
     },
     "metadata": {
      "needs_background": "light"
     },
     "output_type": "display_data"
    },
    {
     "data": {
      "image/png": "[encoded data removed]",
      "text/plain": [
       "<Figure size 720x216 with 1 Axes>"
      ]
     },
     "metadata": {
      "needs_background": "light"
     },
     "output_type": "display_data"
    },
    {
     "data": {
      "image/png": "[encoded data removed]",
      "text/plain": [
       "<Figure size 720x216 with 1 Axes>"
      ]
     },
     "metadata": {
      "needs_background": "light"
     },
     "output_type": "display_data"
    },
    {
     "data": {
      "image/png": "[encoded data removed]",
      "text/plain": [
       "<Figure size 720x216 with 1 Axes>"
      ]
     },
     "metadata": {
      "needs_background": "light"
     },
     "output_type": "display_data"
    },
    {
     "data": {
      "image/png": "[encoded data removed]",
      "text/plain": [
       "<Figure size 720x216 with 1 Axes>"
      ]
     },
     "metadata": {
      "needs_background": "light"
     },
     "output_type": "display_data"
    },
    {
     "data": {
      "image/png": "[encoded data removed]",
      "text/plain": [
       "<Figure size 720x216 with 1 Axes>"
      ]
     },
     "metadata": {
      "needs_background": "light"
     },
     "output_type": "display_data"
    },
    {
     "data": {
      "image/png": "[encoded data removed]",
      "text/plain": [
       "<Figure size 720x216 with 1 Axes>"
      ]
     },
     "metadata": {
      "needs_background": "light"
     },
     "output_type": "display_data"
    },
    {
     "data": {
      "image/png": "[encoded data removed]",
      "text/plain": [
       "<Figure size 720x216 with 1 Axes>"
      ]
     },
     "metadata": {
      "needs_background": "light"
     },
     "output_type": "display_data"
    },
    {
     "data": {
      "image/png": "[encoded data removed]",
      "text/plain": [
       "<Figure size 720x216 with 1 Axes>"
      ]
     },
     "metadata": {
      "needs_background": "light"
     },
     "output_type": "display_data"
    },
    {
     "data": {
      "image/png": "[encoded data removed]",
      "text/plain": [
       "<Figure size 720x216 with 1 Axes>"
      ]
     },
     "metadata": {
      "needs_background": "light"
     },
     "output_type": "display_data"
    },
    {
     "data": {
      "image/png": "[encoded data removed]",
      "text/plain": [
       "<Figure size 720x216 with 1 Axes>"
      ]
     },
     "metadata": {
      "needs_background": "light"
     },
     "output_type": "display_data"
    }
   ],
   "source": [
    "# Построим boxplot для каждого номинативного признака\n",
    "def get_boxplot(column):\n",
    "    fig, ax = plt.subplots(figsize=(10, 3))\n",
    "    sns.boxplot(x=column, y='score',\n",
    "                data=df.loc[df.loc[:, column].isin(\n",
    "                    df.loc[:, column].value_counts().index[:10])],\n",
    "                ax=ax)\n",
    "    plt.xticks(rotation=45)\n",
    "    ax.set_title('Boxplot for ' + column)\n",
    "    plt.show()\n",
    "\n",
    "\n",
    "for col in ['school', 'sex', 'address', 'famsize', 'pstatus',\n",
    "            'mjob', 'fjob', 'reason', 'guardian',\n",
    "            'schoolsup', 'famsup', 'paid', 'activities', 'nursery',\n",
    "            'higher', 'internet', 'romantic']:\n",
    "    get_boxplot(col)"
   ]
  },
  {
   "cell_type": "code",
   "execution_count": 49,
   "metadata": {},
   "outputs": [
    {
     "name": "stdout",
     "output_type": "stream",
     "text": [
      "Найдены статистически значимые различия для колонки mjob\n"
     ]
    }
   ],
   "source": [
    "# Проверим есть ли статистическая разница в распределении оценок по номинативным признакам, с помощью теста Стьюдента.\n",
    "def get_stat_dif(column):\n",
    "    cols = df.loc[:, column].value_counts().index[:10]\n",
    "    combinations_all = list(combinations(cols, 2))\n",
    "    for comb in combinations_all:\n",
    "        if ttest_ind(df.loc[df.loc[:, column] == comb[0], 'score'],\n",
    "                     df.loc[df.loc[:, column] == comb[1], 'score']).pvalue \\\n",
    "                <= 0.05/len(combinations_all):  # Учли поправку Бонферони\n",
    "            print('Найдены статистически значимые различия для колонки', column)\n",
    "            break\n",
    "\n",
    "for col in ['school', 'sex', 'address', 'famsize', 'pstatus',\n",
    "       'mjob', 'fjob', 'reason', 'guardian',\n",
    "       'schoolsup', 'famsup', 'paid', 'activities', 'nursery',\n",
    "       'higher', 'internet', 'romantic']:\n",
    "    get_stat_dif(col)"
   ]
  },
  {
   "cell_type": "code",
   "execution_count": null,
   "metadata": {},
   "outputs": [],
   "source": []
  }
 ],
 "metadata": {
  "kernelspec": {
   "display_name": "Python 3",
   "language": "python",
   "name": "python3"
  },
  "language_info": {
   "codemirror_mode": {
    "name": "ipython",
    "version": 3
   },
   "file_extension": ".py",
   "mimetype": "text/x-python",
   "name": "python",
   "nbconvert_exporter": "python",
   "pygments_lexer": "ipython3",
   "version": "3.8.3"
  }
 },
 "nbformat": 4,
 "nbformat_minor": 4
}
