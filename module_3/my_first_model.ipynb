{
 "cells": [
  {
   "cell_type": "markdown",
   "metadata": {},
   "source": [
    "# Загрузка Pandas и очистка данных"
   ]
  },
  {
   "cell_type": "code",
   "execution_count": 1,
   "metadata": {},
   "outputs": [],
   "source": [
    "import pandas as pd\n",
    "import numpy as np\n",
    "import matplotlib.pyplot as plt\n",
    "import seaborn as sns\n",
    "%matplotlib inline\n",
    "import re"
   ]
  },
  {
   "cell_type": "code",
   "execution_count": 2,
   "metadata": {},
   "outputs": [],
   "source": [
    "df = pd.read_csv('main_task.csv')"
   ]
  },
  {
   "cell_type": "code",
   "execution_count": 3,
   "metadata": {},
   "outputs": [],
   "source": [
    "# Ваш код по очистке данных и генерации новых признаков\n",
    "# При необходимости добавьте ячейки"
   ]
  },
  {
   "cell_type": "code",
   "execution_count": 4,
   "metadata": {},
   "outputs": [
    {
     "name": "stdout",
     "output_type": "stream",
     "text": [
      "<class 'pandas.core.frame.DataFrame'>\n",
      "RangeIndex: 40000 entries, 0 to 39999\n",
      "Data columns (total 10 columns):\n",
      " #   Column             Non-Null Count  Dtype  \n",
      "---  ------             --------------  -----  \n",
      " 0   Restaurant_id      40000 non-null  object \n",
      " 1   City               40000 non-null  object \n",
      " 2   Cuisine Style      30717 non-null  object \n",
      " 3   Ranking            40000 non-null  float64\n",
      " 4   Rating             40000 non-null  float64\n",
      " 5   Price Range        26114 non-null  object \n",
      " 6   Number of Reviews  37457 non-null  float64\n",
      " 7   Reviews            40000 non-null  object \n",
      " 8   URL_TA             40000 non-null  object \n",
      " 9   ID_TA              40000 non-null  object \n",
      "dtypes: float64(3), object(7)\n",
      "memory usage: 3.1+ MB\n"
     ]
    }
   ],
   "source": [
    "df.info()"
   ]
  },
  {
   "cell_type": "code",
   "execution_count": 5,
   "metadata": {},
   "outputs": [],
   "source": [
    "dummed_cities = pd.get_dummies(df['City'])\n",
    "df = df.join(dummed_cities)"
   ]
  },
  {
   "cell_type": "code",
   "execution_count": 6,
   "metadata": {},
   "outputs": [],
   "source": [
    "# Конвертируем даты в правильный формат\n",
    "def convert_time(row):\n",
    "    for pos, date in enumerate(row):\n",
    "        date = pd.Timestamp(date)\n",
    "        return date\n",
    "\n",
    "# Найдём дату последнего отзыва\n",
    "def last_review(dates):\n",
    "    date_temp = []\n",
    "    try:\n",
    "        for date in dates:\n",
    "            date = pd.Timestamp(date)\n",
    "            date_temp.append(date)\n",
    "        return max(date_temp)\n",
    "    except:\n",
    "        return np.nan\n",
    "\n",
    "# Найдём дату первого отзыва\n",
    "def first_review(dates):\n",
    "    date_temp = []\n",
    "    try:\n",
    "        for date in dates:\n",
    "            date = pd.Timestamp(date)\n",
    "            date_temp.append(date)\n",
    "        return min(date_temp)\n",
    "    except:\n",
    "        return np.nan"
   ]
  },
  {
   "cell_type": "code",
   "execution_count": 7,
   "metadata": {},
   "outputs": [],
   "source": [
    "# Убираем квадратные скобки\n",
    "df['Cuisine Style'] = df['Cuisine Style'].str.replace(r'[\\[\\]]', '')\n",
    "df['Reviews'] = df['Reviews'].str.replace(r'[\\[\\]]', '')\n",
    "\n",
    "# Создаем списки из значений кухонь\n",
    "def edit_cuisine(row):\n",
    "    if pd.isnull(row):\n",
    "        pass\n",
    "    else:\n",
    "        return row.split(',')\n",
    "\n",
    "df['Cuisine Style'] = df['Cuisine Style'].apply(edit_cuisine)\n",
    "\n",
    "# Содаем новый признак с количеством представленных кухонь\n",
    "def cuisine_types(row):\n",
    "    try:\n",
    "        return len(row)\n",
    "    except:\n",
    "        return 1\n",
    "\n",
    "df['number_of_cuisine_types'] = df['Cuisine Style'].apply(cuisine_types)"
   ]
  },
  {
   "cell_type": "code",
   "execution_count": 8,
   "metadata": {},
   "outputs": [],
   "source": [
    "def date_catch(row):\n",
    "    # Создать колонку с датой\n",
    "    pattern_date = re.compile('\\d\\d\\/\\d\\d\\/\\d\\d\\d\\d')\n",
    "    "
   ]
  },
  {
   "cell_type": "code",
   "execution_count": 9,
   "metadata": {},
   "outputs": [],
   "source": [
    "# Создать колонку с датой\n",
    "pattern_date = re.compile('\\d\\d\\/\\d\\d\\/\\d\\d\\d\\d')\n",
    "\n",
    "def catch_date(row):\n",
    "    result = re.findall(pattern_date, row)\n",
    "    return result\n",
    "\n",
    "df['Review_date'] = df['Reviews'].apply(catch_date)\n",
    "\n",
    "# Создать списки в Reviews\n",
    "pattern = re.compile('\\'(.*?)\\'')\n",
    "\n",
    "def split_reviews(row):\n",
    "    result = re.findall(pattern, row)\n",
    "    return result\n",
    "\n",
    "df['Reviews'] = df['Reviews'].apply(split_reviews)\n",
    "df['Last Review'] = df['Review_date'].apply(last_review)\n",
    "df['Last Review'].fillna(df['Last Review'].mean(), inplace=True)\n",
    "df['First Review'] = df['Review_date'].apply(first_review)\n",
    "df['First Review'].fillna(df['First Review'].mean(), inplace=True)\n",
    "df['Reviews Gap'] = df['Last Review'] - df['First Review']\n",
    "df['Reviews Gap'].fillna(df['Reviews Gap'].mean(), inplace=True)"
   ]
  },
  {
   "cell_type": "code",
   "execution_count": 10,
   "metadata": {},
   "outputs": [
    {
     "data": {
      "text/plain": [
       "0       2017-12-31\n",
       "1       2017-07-06\n",
       "2       2018-01-08\n",
       "3              NaT\n",
       "4       2017-11-18\n",
       "           ...    \n",
       "39995   2017-12-16\n",
       "39996   2017-12-21\n",
       "39997   2016-11-03\n",
       "39998   2017-07-11\n",
       "39999   2016-01-31\n",
       "Name: Review_date, Length: 40000, dtype: datetime64[ns]"
      ]
     },
     "execution_count": 10,
     "metadata": {},
     "output_type": "execute_result"
    }
   ],
   "source": [
    "df['Review_date'].apply(last_review)"
   ]
  },
  {
   "cell_type": "code",
   "execution_count": 11,
   "metadata": {},
   "outputs": [],
   "source": [
    "df = df.drop(['Restaurant_id', 'City', 'Cuisine Style', 'Price Range', 'Reviews', 'URL_TA', 'ID_TA', 'Review_date',\n",
    "             'Reviews Gap', 'First Review', 'Last Review'], axis=1)"
   ]
  },
  {
   "cell_type": "code",
   "execution_count": 12,
   "metadata": {},
   "outputs": [],
   "source": [
    "df['Number of Reviews'] = df['Number of Reviews'].fillna(df['Number of Reviews'].mean())"
   ]
  },
  {
   "cell_type": "markdown",
   "metadata": {},
   "source": [
    "# Разбиваем датафрейм на части, необходимые для обучения и тестирования модели"
   ]
  },
  {
   "cell_type": "code",
   "execution_count": 13,
   "metadata": {},
   "outputs": [],
   "source": [
    "# Х - данные с информацией о ресторанах, у - целевая переменная (рейтинги ресторанов)\n",
    "X = df.drop(['Rating'], axis = 1)\n",
    "y = df['Rating']"
   ]
  },
  {
   "cell_type": "code",
   "execution_count": 14,
   "metadata": {},
   "outputs": [],
   "source": [
    "# Загружаем специальный инструмент для разбивки:\n",
    "from sklearn.model_selection import train_test_split"
   ]
  },
  {
   "cell_type": "code",
   "execution_count": 15,
   "metadata": {},
   "outputs": [],
   "source": [
    "# Наборы данных с меткой \"train\" будут использоваться для обучения модели, \"test\" - для тестирования.\n",
    "# Для тестирования мы будем использовать 25% от исходного датасета.\n",
    "X_train, X_test, y_train, y_test = train_test_split(X, y, test_size=0.25)"
   ]
  },
  {
   "cell_type": "markdown",
   "metadata": {},
   "source": [
    "# Создаём, обучаем и тестируем модель"
   ]
  },
  {
   "cell_type": "code",
   "execution_count": 16,
   "metadata": {},
   "outputs": [],
   "source": [
    "# Импортируем необходимые библиотеки:\n",
    "from sklearn.ensemble import RandomForestRegressor # инструмент для создания и обучения модели\n",
    "from sklearn import metrics # инструменты для оценки точности модели"
   ]
  },
  {
   "cell_type": "code",
   "execution_count": 17,
   "metadata": {},
   "outputs": [],
   "source": [
    "# Создаём модель\n",
    "regr = RandomForestRegressor(n_estimators=100)\n",
    "\n",
    "# Обучаем модель на тестовом наборе данных\n",
    "regr.fit(X_train, y_train)\n",
    "\n",
    "# Используем обученную модель для предсказания рейтинга ресторанов в тестовой выборке.\n",
    "# Предсказанные значения записываем в переменную y_pred\n",
    "y_pred = regr.predict(X_test)"
   ]
  },
  {
   "cell_type": "code",
   "execution_count": 18,
   "metadata": {},
   "outputs": [
    {
     "name": "stdout",
     "output_type": "stream",
     "text": [
      "MAE: 0.21498149999999996\n"
     ]
    }
   ],
   "source": [
    "# Сравниваем предсказанные значения (y_pred) с реальными (y_test), и смотрим насколько они в среднем отличаются\n",
    "# Метрика называется Mean Absolute Error (MAE) и показывает среднее отклонение предсказанных значений от фактических.\n",
    "print('MAE:', metrics.mean_absolute_error(y_test, y_pred))"
   ]
  },
  {
   "cell_type": "code",
   "execution_count": 19,
   "metadata": {},
   "outputs": [
    {
     "name": "stdout",
     "output_type": "stream",
     "text": [
      "<class 'pandas.core.frame.DataFrame'>\n",
      "RangeIndex: 40000 entries, 0 to 39999\n",
      "Data columns (total 35 columns):\n",
      " #   Column                   Non-Null Count  Dtype  \n",
      "---  ------                   --------------  -----  \n",
      " 0   Ranking                  40000 non-null  float64\n",
      " 1   Rating                   40000 non-null  float64\n",
      " 2   Number of Reviews        40000 non-null  float64\n",
      " 3   Amsterdam                40000 non-null  uint8  \n",
      " 4   Athens                   40000 non-null  uint8  \n",
      " 5   Barcelona                40000 non-null  uint8  \n",
      " 6   Berlin                   40000 non-null  uint8  \n",
      " 7   Bratislava               40000 non-null  uint8  \n",
      " 8   Brussels                 40000 non-null  uint8  \n",
      " 9   Budapest                 40000 non-null  uint8  \n",
      " 10  Copenhagen               40000 non-null  uint8  \n",
      " 11  Dublin                   40000 non-null  uint8  \n",
      " 12  Edinburgh                40000 non-null  uint8  \n",
      " 13  Geneva                   40000 non-null  uint8  \n",
      " 14  Hamburg                  40000 non-null  uint8  \n",
      " 15  Helsinki                 40000 non-null  uint8  \n",
      " 16  Krakow                   40000 non-null  uint8  \n",
      " 17  Lisbon                   40000 non-null  uint8  \n",
      " 18  Ljubljana                40000 non-null  uint8  \n",
      " 19  London                   40000 non-null  uint8  \n",
      " 20  Luxembourg               40000 non-null  uint8  \n",
      " 21  Lyon                     40000 non-null  uint8  \n",
      " 22  Madrid                   40000 non-null  uint8  \n",
      " 23  Milan                    40000 non-null  uint8  \n",
      " 24  Munich                   40000 non-null  uint8  \n",
      " 25  Oporto                   40000 non-null  uint8  \n",
      " 26  Oslo                     40000 non-null  uint8  \n",
      " 27  Paris                    40000 non-null  uint8  \n",
      " 28  Prague                   40000 non-null  uint8  \n",
      " 29  Rome                     40000 non-null  uint8  \n",
      " 30  Stockholm                40000 non-null  uint8  \n",
      " 31  Vienna                   40000 non-null  uint8  \n",
      " 32  Warsaw                   40000 non-null  uint8  \n",
      " 33  Zurich                   40000 non-null  uint8  \n",
      " 34  number_of_cuisine_types  40000 non-null  int64  \n",
      "dtypes: float64(3), int64(1), uint8(31)\n",
      "memory usage: 2.4 MB\n"
     ]
    }
   ],
   "source": [
    "df.info()"
   ]
  },
  {
   "cell_type": "code",
   "execution_count": null,
   "metadata": {},
   "outputs": [],
   "source": []
  }
 ],
 "metadata": {
  "kernelspec": {
   "display_name": "Python 3",
   "language": "python",
   "name": "python3"
  },
  "language_info": {
   "codemirror_mode": {
    "name": "ipython",
    "version": 3
   },
   "file_extension": ".py",
   "mimetype": "text/x-python",
   "name": "python",
   "nbconvert_exporter": "python",
   "pygments_lexer": "ipython3",
   "version": "3.8.5"
  }
 },
 "nbformat": 4,
 "nbformat_minor": 2
}
