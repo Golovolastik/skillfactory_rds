{
 "cells": [
  {
   "cell_type": "code",
   "execution_count": 1,
   "metadata": {},
   "outputs": [],
   "source": [
    "import pandas as pd\n",
    "import matplotlib.pyplot as plt\n",
    "import seaborn as sns"
   ]
  },
  {
   "cell_type": "code",
   "execution_count": 2,
   "metadata": {},
   "outputs": [
    {
     "data": {
      "text/html": [
       "<div>\n",
       "<style scoped>\n",
       "    .dataframe tbody tr th:only-of-type {\n",
       "        vertical-align: middle;\n",
       "    }\n",
       "\n",
       "    .dataframe tbody tr th {\n",
       "        vertical-align: top;\n",
       "    }\n",
       "\n",
       "    .dataframe thead th {\n",
       "        text-align: right;\n",
       "    }\n",
       "</style>\n",
       "<table border=\"1\" class=\"dataframe\">\n",
       "  <thead>\n",
       "    <tr style=\"text-align: right;\">\n",
       "      <th></th>\n",
       "      <th>flight_id</th>\n",
       "      <th>scheduled_departure</th>\n",
       "      <th>scheduled_arrival</th>\n",
       "      <th>scheduled_duration</th>\n",
       "      <th>departure_city</th>\n",
       "      <th>departure_airport_name</th>\n",
       "      <th>arrival_city</th>\n",
       "      <th>arrival_airport_name</th>\n",
       "      <th>model</th>\n",
       "      <th>range</th>\n",
       "      <th>seats</th>\n",
       "      <th>profit</th>\n",
       "      <th>passengers</th>\n",
       "    </tr>\n",
       "  </thead>\n",
       "  <tbody>\n",
       "    <tr>\n",
       "      <th>0</th>\n",
       "      <td>136119</td>\n",
       "      <td>2017-01-03T10:05:00Z</td>\n",
       "      <td>2017-01-03T11:45:00Z</td>\n",
       "      <td>0 years 0 mons 0 days 1 hours 40 mins 0.00 secs</td>\n",
       "      <td>Анапа</td>\n",
       "      <td>Витязево</td>\n",
       "      <td>Москва</td>\n",
       "      <td>Шереметьево</td>\n",
       "      <td>Boeing 737-300</td>\n",
       "      <td>4200</td>\n",
       "      <td>130</td>\n",
       "      <td>1653000.0</td>\n",
       "      <td>113.0</td>\n",
       "    </tr>\n",
       "    <tr>\n",
       "      <th>1</th>\n",
       "      <td>136120</td>\n",
       "      <td>2017-02-24T10:05:00Z</td>\n",
       "      <td>2017-02-24T11:45:00Z</td>\n",
       "      <td>0 years 0 mons 0 days 1 hours 40 mins 0.00 secs</td>\n",
       "      <td>Анапа</td>\n",
       "      <td>Витязево</td>\n",
       "      <td>Москва</td>\n",
       "      <td>Шереметьево</td>\n",
       "      <td>Boeing 737-300</td>\n",
       "      <td>4200</td>\n",
       "      <td>130</td>\n",
       "      <td>1605400.0</td>\n",
       "      <td>109.0</td>\n",
       "    </tr>\n",
       "    <tr>\n",
       "      <th>2</th>\n",
       "      <td>136122</td>\n",
       "      <td>2017-01-08T10:05:00Z</td>\n",
       "      <td>2017-01-08T11:45:00Z</td>\n",
       "      <td>0 years 0 mons 0 days 1 hours 40 mins 0.00 secs</td>\n",
       "      <td>Анапа</td>\n",
       "      <td>Витязево</td>\n",
       "      <td>Москва</td>\n",
       "      <td>Шереметьево</td>\n",
       "      <td>Boeing 737-300</td>\n",
       "      <td>4200</td>\n",
       "      <td>130</td>\n",
       "      <td>1431000.0</td>\n",
       "      <td>97.0</td>\n",
       "    </tr>\n",
       "    <tr>\n",
       "      <th>3</th>\n",
       "      <td>136130</td>\n",
       "      <td>2017-02-13T10:05:00Z</td>\n",
       "      <td>2017-02-13T11:45:00Z</td>\n",
       "      <td>0 years 0 mons 0 days 1 hours 40 mins 0.00 secs</td>\n",
       "      <td>Анапа</td>\n",
       "      <td>Витязево</td>\n",
       "      <td>Москва</td>\n",
       "      <td>Шереметьево</td>\n",
       "      <td>Boeing 737-300</td>\n",
       "      <td>4200</td>\n",
       "      <td>130</td>\n",
       "      <td>1556600.0</td>\n",
       "      <td>107.0</td>\n",
       "    </tr>\n",
       "    <tr>\n",
       "      <th>4</th>\n",
       "      <td>136131</td>\n",
       "      <td>2017-01-28T10:05:00Z</td>\n",
       "      <td>2017-01-28T11:45:00Z</td>\n",
       "      <td>0 years 0 mons 0 days 1 hours 40 mins 0.00 secs</td>\n",
       "      <td>Анапа</td>\n",
       "      <td>Витязево</td>\n",
       "      <td>Москва</td>\n",
       "      <td>Шереметьево</td>\n",
       "      <td>Boeing 737-300</td>\n",
       "      <td>4200</td>\n",
       "      <td>130</td>\n",
       "      <td>1812800.0</td>\n",
       "      <td>124.0</td>\n",
       "    </tr>\n",
       "  </tbody>\n",
       "</table>\n",
       "</div>"
      ],
      "text/plain": [
       "   flight_id   scheduled_departure     scheduled_arrival  \\\n",
       "0     136119  2017-01-03T10:05:00Z  2017-01-03T11:45:00Z   \n",
       "1     136120  2017-02-24T10:05:00Z  2017-02-24T11:45:00Z   \n",
       "2     136122  2017-01-08T10:05:00Z  2017-01-08T11:45:00Z   \n",
       "3     136130  2017-02-13T10:05:00Z  2017-02-13T11:45:00Z   \n",
       "4     136131  2017-01-28T10:05:00Z  2017-01-28T11:45:00Z   \n",
       "\n",
       "                                scheduled_duration departure_city  \\\n",
       "0  0 years 0 mons 0 days 1 hours 40 mins 0.00 secs          Анапа   \n",
       "1  0 years 0 mons 0 days 1 hours 40 mins 0.00 secs          Анапа   \n",
       "2  0 years 0 mons 0 days 1 hours 40 mins 0.00 secs          Анапа   \n",
       "3  0 years 0 mons 0 days 1 hours 40 mins 0.00 secs          Анапа   \n",
       "4  0 years 0 mons 0 days 1 hours 40 mins 0.00 secs          Анапа   \n",
       "\n",
       "  departure_airport_name arrival_city arrival_airport_name           model  \\\n",
       "0               Витязево       Москва          Шереметьево  Boeing 737-300   \n",
       "1               Витязево       Москва          Шереметьево  Boeing 737-300   \n",
       "2               Витязево       Москва          Шереметьево  Boeing 737-300   \n",
       "3               Витязево       Москва          Шереметьево  Boeing 737-300   \n",
       "4               Витязево       Москва          Шереметьево  Boeing 737-300   \n",
       "\n",
       "   range  seats     profit  passengers  \n",
       "0   4200    130  1653000.0       113.0  \n",
       "1   4200    130  1605400.0       109.0  \n",
       "2   4200    130  1431000.0        97.0  \n",
       "3   4200    130  1556600.0       107.0  \n",
       "4   4200    130  1812800.0       124.0  "
      ]
     },
     "execution_count": 2,
     "metadata": {},
     "output_type": "execute_result"
    }
   ],
   "source": [
    "df = pd.read_csv(\"sql_query.csv\")\n",
    "df.head()"
   ]
  },
  {
   "cell_type": "code",
   "execution_count": 3,
   "metadata": {},
   "outputs": [
    {
     "name": "stdout",
     "output_type": "stream",
     "text": [
      "<class 'pandas.core.frame.DataFrame'>\n",
      "RangeIndex: 127 entries, 0 to 126\n",
      "Data columns (total 13 columns):\n",
      " #   Column                  Non-Null Count  Dtype  \n",
      "---  ------                  --------------  -----  \n",
      " 0   flight_id               127 non-null    int64  \n",
      " 1   scheduled_departure     127 non-null    object \n",
      " 2   scheduled_arrival       127 non-null    object \n",
      " 3   scheduled_duration      127 non-null    object \n",
      " 4   departure_city          127 non-null    object \n",
      " 5   departure_airport_name  127 non-null    object \n",
      " 6   arrival_city            127 non-null    object \n",
      " 7   arrival_airport_name    127 non-null    object \n",
      " 8   model                   127 non-null    object \n",
      " 9   range                   127 non-null    int64  \n",
      " 10  seats                   127 non-null    int64  \n",
      " 11  profit                  118 non-null    float64\n",
      " 12  passengers              118 non-null    float64\n",
      "dtypes: float64(2), int64(3), object(8)\n",
      "memory usage: 13.0+ KB\n"
     ]
    }
   ],
   "source": [
    "df.info()"
   ]
  },
  {
   "cell_type": "code",
   "execution_count": 4,
   "metadata": {},
   "outputs": [
    {
     "data": {
      "text/html": [
       "<div>\n",
       "<style scoped>\n",
       "    .dataframe tbody tr th:only-of-type {\n",
       "        vertical-align: middle;\n",
       "    }\n",
       "\n",
       "    .dataframe tbody tr th {\n",
       "        vertical-align: top;\n",
       "    }\n",
       "\n",
       "    .dataframe thead th {\n",
       "        text-align: right;\n",
       "    }\n",
       "</style>\n",
       "<table border=\"1\" class=\"dataframe\">\n",
       "  <thead>\n",
       "    <tr style=\"text-align: right;\">\n",
       "      <th></th>\n",
       "      <th>flight_id</th>\n",
       "      <th>scheduled_departure</th>\n",
       "      <th>scheduled_arrival</th>\n",
       "      <th>scheduled_duration</th>\n",
       "      <th>departure_city</th>\n",
       "      <th>departure_airport_name</th>\n",
       "      <th>arrival_city</th>\n",
       "      <th>arrival_airport_name</th>\n",
       "      <th>model</th>\n",
       "      <th>range</th>\n",
       "      <th>seats</th>\n",
       "      <th>profit</th>\n",
       "      <th>passengers</th>\n",
       "    </tr>\n",
       "  </thead>\n",
       "  <tbody>\n",
       "    <tr>\n",
       "      <th>59</th>\n",
       "      <td>136511</td>\n",
       "      <td>2017-02-21T06:10:00Z</td>\n",
       "      <td>2017-02-21T11:15:00Z</td>\n",
       "      <td>0 years 0 mons 0 days 5 hours 5 mins 0.00 secs</td>\n",
       "      <td>Анапа</td>\n",
       "      <td>Витязево</td>\n",
       "      <td>Новокузнецк</td>\n",
       "      <td>Спиченково</td>\n",
       "      <td>Boeing 737-300</td>\n",
       "      <td>4200</td>\n",
       "      <td>130</td>\n",
       "      <td>NaN</td>\n",
       "      <td>NaN</td>\n",
       "    </tr>\n",
       "    <tr>\n",
       "      <th>60</th>\n",
       "      <td>136513</td>\n",
       "      <td>2017-02-28T06:10:00Z</td>\n",
       "      <td>2017-02-28T11:15:00Z</td>\n",
       "      <td>0 years 0 mons 0 days 5 hours 5 mins 0.00 secs</td>\n",
       "      <td>Анапа</td>\n",
       "      <td>Витязево</td>\n",
       "      <td>Новокузнецк</td>\n",
       "      <td>Спиченково</td>\n",
       "      <td>Boeing 737-300</td>\n",
       "      <td>4200</td>\n",
       "      <td>130</td>\n",
       "      <td>NaN</td>\n",
       "      <td>NaN</td>\n",
       "    </tr>\n",
       "    <tr>\n",
       "      <th>61</th>\n",
       "      <td>136514</td>\n",
       "      <td>2017-02-07T06:10:00Z</td>\n",
       "      <td>2017-02-07T11:15:00Z</td>\n",
       "      <td>0 years 0 mons 0 days 5 hours 5 mins 0.00 secs</td>\n",
       "      <td>Анапа</td>\n",
       "      <td>Витязево</td>\n",
       "      <td>Новокузнецк</td>\n",
       "      <td>Спиченково</td>\n",
       "      <td>Boeing 737-300</td>\n",
       "      <td>4200</td>\n",
       "      <td>130</td>\n",
       "      <td>NaN</td>\n",
       "      <td>NaN</td>\n",
       "    </tr>\n",
       "    <tr>\n",
       "      <th>62</th>\n",
       "      <td>136523</td>\n",
       "      <td>2017-01-10T06:10:00Z</td>\n",
       "      <td>2017-01-10T11:15:00Z</td>\n",
       "      <td>0 years 0 mons 0 days 5 hours 5 mins 0.00 secs</td>\n",
       "      <td>Анапа</td>\n",
       "      <td>Витязево</td>\n",
       "      <td>Новокузнецк</td>\n",
       "      <td>Спиченково</td>\n",
       "      <td>Boeing 737-300</td>\n",
       "      <td>4200</td>\n",
       "      <td>130</td>\n",
       "      <td>NaN</td>\n",
       "      <td>NaN</td>\n",
       "    </tr>\n",
       "    <tr>\n",
       "      <th>63</th>\n",
       "      <td>136540</td>\n",
       "      <td>2017-01-17T06:10:00Z</td>\n",
       "      <td>2017-01-17T11:15:00Z</td>\n",
       "      <td>0 years 0 mons 0 days 5 hours 5 mins 0.00 secs</td>\n",
       "      <td>Анапа</td>\n",
       "      <td>Витязево</td>\n",
       "      <td>Новокузнецк</td>\n",
       "      <td>Спиченково</td>\n",
       "      <td>Boeing 737-300</td>\n",
       "      <td>4200</td>\n",
       "      <td>130</td>\n",
       "      <td>NaN</td>\n",
       "      <td>NaN</td>\n",
       "    </tr>\n",
       "    <tr>\n",
       "      <th>64</th>\n",
       "      <td>136544</td>\n",
       "      <td>2017-01-31T06:10:00Z</td>\n",
       "      <td>2017-01-31T11:15:00Z</td>\n",
       "      <td>0 years 0 mons 0 days 5 hours 5 mins 0.00 secs</td>\n",
       "      <td>Анапа</td>\n",
       "      <td>Витязево</td>\n",
       "      <td>Новокузнецк</td>\n",
       "      <td>Спиченково</td>\n",
       "      <td>Boeing 737-300</td>\n",
       "      <td>4200</td>\n",
       "      <td>130</td>\n",
       "      <td>NaN</td>\n",
       "      <td>NaN</td>\n",
       "    </tr>\n",
       "    <tr>\n",
       "      <th>65</th>\n",
       "      <td>136546</td>\n",
       "      <td>2017-01-03T06:10:00Z</td>\n",
       "      <td>2017-01-03T11:15:00Z</td>\n",
       "      <td>0 years 0 mons 0 days 5 hours 5 mins 0.00 secs</td>\n",
       "      <td>Анапа</td>\n",
       "      <td>Витязево</td>\n",
       "      <td>Новокузнецк</td>\n",
       "      <td>Спиченково</td>\n",
       "      <td>Boeing 737-300</td>\n",
       "      <td>4200</td>\n",
       "      <td>130</td>\n",
       "      <td>NaN</td>\n",
       "      <td>NaN</td>\n",
       "    </tr>\n",
       "    <tr>\n",
       "      <th>66</th>\n",
       "      <td>136560</td>\n",
       "      <td>2017-01-24T06:10:00Z</td>\n",
       "      <td>2017-01-24T11:15:00Z</td>\n",
       "      <td>0 years 0 mons 0 days 5 hours 5 mins 0.00 secs</td>\n",
       "      <td>Анапа</td>\n",
       "      <td>Витязево</td>\n",
       "      <td>Новокузнецк</td>\n",
       "      <td>Спиченково</td>\n",
       "      <td>Boeing 737-300</td>\n",
       "      <td>4200</td>\n",
       "      <td>130</td>\n",
       "      <td>NaN</td>\n",
       "      <td>NaN</td>\n",
       "    </tr>\n",
       "    <tr>\n",
       "      <th>67</th>\n",
       "      <td>136567</td>\n",
       "      <td>2017-02-14T06:10:00Z</td>\n",
       "      <td>2017-02-14T11:15:00Z</td>\n",
       "      <td>0 years 0 mons 0 days 5 hours 5 mins 0.00 secs</td>\n",
       "      <td>Анапа</td>\n",
       "      <td>Витязево</td>\n",
       "      <td>Новокузнецк</td>\n",
       "      <td>Спиченково</td>\n",
       "      <td>Boeing 737-300</td>\n",
       "      <td>4200</td>\n",
       "      <td>130</td>\n",
       "      <td>NaN</td>\n",
       "      <td>NaN</td>\n",
       "    </tr>\n",
       "  </tbody>\n",
       "</table>\n",
       "</div>"
      ],
      "text/plain": [
       "    flight_id   scheduled_departure     scheduled_arrival  \\\n",
       "59     136511  2017-02-21T06:10:00Z  2017-02-21T11:15:00Z   \n",
       "60     136513  2017-02-28T06:10:00Z  2017-02-28T11:15:00Z   \n",
       "61     136514  2017-02-07T06:10:00Z  2017-02-07T11:15:00Z   \n",
       "62     136523  2017-01-10T06:10:00Z  2017-01-10T11:15:00Z   \n",
       "63     136540  2017-01-17T06:10:00Z  2017-01-17T11:15:00Z   \n",
       "64     136544  2017-01-31T06:10:00Z  2017-01-31T11:15:00Z   \n",
       "65     136546  2017-01-03T06:10:00Z  2017-01-03T11:15:00Z   \n",
       "66     136560  2017-01-24T06:10:00Z  2017-01-24T11:15:00Z   \n",
       "67     136567  2017-02-14T06:10:00Z  2017-02-14T11:15:00Z   \n",
       "\n",
       "                                scheduled_duration departure_city  \\\n",
       "59  0 years 0 mons 0 days 5 hours 5 mins 0.00 secs          Анапа   \n",
       "60  0 years 0 mons 0 days 5 hours 5 mins 0.00 secs          Анапа   \n",
       "61  0 years 0 mons 0 days 5 hours 5 mins 0.00 secs          Анапа   \n",
       "62  0 years 0 mons 0 days 5 hours 5 mins 0.00 secs          Анапа   \n",
       "63  0 years 0 mons 0 days 5 hours 5 mins 0.00 secs          Анапа   \n",
       "64  0 years 0 mons 0 days 5 hours 5 mins 0.00 secs          Анапа   \n",
       "65  0 years 0 mons 0 days 5 hours 5 mins 0.00 secs          Анапа   \n",
       "66  0 years 0 mons 0 days 5 hours 5 mins 0.00 secs          Анапа   \n",
       "67  0 years 0 mons 0 days 5 hours 5 mins 0.00 secs          Анапа   \n",
       "\n",
       "   departure_airport_name arrival_city arrival_airport_name           model  \\\n",
       "59               Витязево  Новокузнецк           Спиченково  Boeing 737-300   \n",
       "60               Витязево  Новокузнецк           Спиченково  Boeing 737-300   \n",
       "61               Витязево  Новокузнецк           Спиченково  Boeing 737-300   \n",
       "62               Витязево  Новокузнецк           Спиченково  Boeing 737-300   \n",
       "63               Витязево  Новокузнецк           Спиченково  Boeing 737-300   \n",
       "64               Витязево  Новокузнецк           Спиченково  Boeing 737-300   \n",
       "65               Витязево  Новокузнецк           Спиченково  Boeing 737-300   \n",
       "66               Витязево  Новокузнецк           Спиченково  Boeing 737-300   \n",
       "67               Витязево  Новокузнецк           Спиченково  Boeing 737-300   \n",
       "\n",
       "    range  seats  profit  passengers  \n",
       "59   4200    130     NaN         NaN  \n",
       "60   4200    130     NaN         NaN  \n",
       "61   4200    130     NaN         NaN  \n",
       "62   4200    130     NaN         NaN  \n",
       "63   4200    130     NaN         NaN  \n",
       "64   4200    130     NaN         NaN  \n",
       "65   4200    130     NaN         NaN  \n",
       "66   4200    130     NaN         NaN  \n",
       "67   4200    130     NaN         NaN  "
      ]
     },
     "execution_count": 4,
     "metadata": {},
     "output_type": "execute_result"
    }
   ],
   "source": [
    "df[df.passengers.isnull()]"
   ]
  },
  {
   "cell_type": "markdown",
   "metadata": {},
   "source": [
    "В датасете отсутствует информация о пассажирах и сумме проданных билетов на рейсах в Новокузнецк.  \n",
    "Удалим информацию по Новокузнецку."
   ]
  },
  {
   "cell_type": "code",
   "execution_count": 5,
   "metadata": {},
   "outputs": [],
   "source": [
    "df = df[df.arrival_city != 'Новокузнецк']"
   ]
  },
  {
   "cell_type": "markdown",
   "metadata": {},
   "source": [
    "Переведем колонки \"scheduled_departure\" и \"scheduled_arrival\" в формат datetime"
   ]
  },
  {
   "cell_type": "code",
   "execution_count": 9,
   "metadata": {},
   "outputs": [],
   "source": [
    "df.scheduled_departure = pd.to_datetime(df.scheduled_departure)\n",
    "df.scheduled_arrival = pd.to_datetime(df.scheduled_arrival)"
   ]
  },
  {
   "cell_type": "markdown",
   "metadata": {},
   "source": [
    "Переведем длительность рейса в часы"
   ]
  },
  {
   "cell_type": "code",
   "execution_count": 10,
   "metadata": {},
   "outputs": [],
   "source": [
    "def convert_to_hours(row):\n",
    "    minutes = int(row.split(\" \")[6]) + int(row.split(\" \")[8]) / 60\n",
    "    return minutes"
   ]
  },
  {
   "cell_type": "code",
   "execution_count": 11,
   "metadata": {},
   "outputs": [],
   "source": [
    "df['flight_duration'] = df.scheduled_duration.apply(convert_to_hours)"
   ]
  },
  {
   "cell_type": "code",
   "execution_count": 12,
   "metadata": {},
   "outputs": [
    {
     "name": "stdout",
     "output_type": "stream",
     "text": [
      "<class 'pandas.core.frame.DataFrame'>\n",
      "Int64Index: 118 entries, 0 to 126\n",
      "Data columns (total 14 columns):\n",
      " #   Column                  Non-Null Count  Dtype              \n",
      "---  ------                  --------------  -----              \n",
      " 0   flight_id               118 non-null    int64              \n",
      " 1   scheduled_departure     118 non-null    datetime64[ns, UTC]\n",
      " 2   scheduled_arrival       118 non-null    datetime64[ns, UTC]\n",
      " 3   scheduled_duration      118 non-null    object             \n",
      " 4   departure_city          118 non-null    object             \n",
      " 5   departure_airport_name  118 non-null    object             \n",
      " 6   arrival_city            118 non-null    object             \n",
      " 7   arrival_airport_name    118 non-null    object             \n",
      " 8   model                   118 non-null    object             \n",
      " 9   range                   118 non-null    int64              \n",
      " 10  seats                   118 non-null    int64              \n",
      " 11  profit                  118 non-null    float64            \n",
      " 12  passengers              118 non-null    float64            \n",
      " 13  flight_duration         118 non-null    float64            \n",
      "dtypes: datetime64[ns, UTC](2), float64(3), int64(3), object(6)\n",
      "memory usage: 13.8+ KB\n"
     ]
    }
   ],
   "source": [
    "df.info()"
   ]
  },
  {
   "cell_type": "markdown",
   "metadata": {},
   "source": [
    "Создадим дополнительный признак отображающий загрузку самолета в процентах"
   ]
  },
  {
   "cell_type": "code",
   "execution_count": 14,
   "metadata": {},
   "outputs": [],
   "source": [
    "df['loading'] = df.passengers / df.seats"
   ]
  },
  {
   "cell_type": "code",
   "execution_count": 15,
   "metadata": {},
   "outputs": [
    {
     "data": {
      "text/plain": [
       "array(['Boeing 737-300', 'Sukhoi Superjet-100'], dtype=object)"
      ]
     },
     "execution_count": 15,
     "metadata": {},
     "output_type": "execute_result"
    }
   ],
   "source": [
    "df.model.unique()"
   ]
  },
  {
   "cell_type": "markdown",
   "metadata": {},
   "source": [
    "![Расходы на полёт](flight_expenses.jpg)"
   ]
  },
  {
   "cell_type": "markdown",
   "metadata": {},
   "source": [
    "Согласно информации министерства транспорта РФ (www.favt.gov.ru), в 2017 году, стоимость тонны топлива в аэропорту Анапы варьировалась в районе 45000 рублей"
   ]
  },
  {
   "cell_type": "markdown",
   "metadata": {},
   "source": [
    "К сожалению, производители не предоставляют информацию о расходе топлива, по данным из сети интернет расход самолета \"Сухой Суперджет-100\" - 1,7 т/ч, \"Boeing 737-300\" - 2,6 т/ч. "
   ]
  },
  {
   "cell_type": "code",
   "execution_count": 16,
   "metadata": {},
   "outputs": [],
   "source": [
    "def fuel_consumption(row):\n",
    "    if row.model == 'Sukhoi Superjet-100':\n",
    "        return 1.7\n",
    "    elif row.model == 'Boeing 737-300':\n",
    "        return 2.6"
   ]
  },
  {
   "cell_type": "code",
   "execution_count": 17,
   "metadata": {},
   "outputs": [],
   "source": [
    "df['fuel_consumption'] = df.apply(fuel_consumption, axis=1)"
   ]
  },
  {
   "cell_type": "code",
   "execution_count": 18,
   "metadata": {},
   "outputs": [
    {
     "name": "stdout",
     "output_type": "stream",
     "text": [
      "<class 'pandas.core.frame.DataFrame'>\n",
      "Int64Index: 118 entries, 0 to 126\n",
      "Data columns (total 16 columns):\n",
      " #   Column                  Non-Null Count  Dtype              \n",
      "---  ------                  --------------  -----              \n",
      " 0   flight_id               118 non-null    int64              \n",
      " 1   scheduled_departure     118 non-null    datetime64[ns, UTC]\n",
      " 2   scheduled_arrival       118 non-null    datetime64[ns, UTC]\n",
      " 3   scheduled_duration      118 non-null    object             \n",
      " 4   departure_city          118 non-null    object             \n",
      " 5   departure_airport_name  118 non-null    object             \n",
      " 6   arrival_city            118 non-null    object             \n",
      " 7   arrival_airport_name    118 non-null    object             \n",
      " 8   model                   118 non-null    object             \n",
      " 9   range                   118 non-null    int64              \n",
      " 10  seats                   118 non-null    int64              \n",
      " 11  profit                  118 non-null    float64            \n",
      " 12  passengers              118 non-null    float64            \n",
      " 13  flight_duration         118 non-null    float64            \n",
      " 14  loading                 118 non-null    float64            \n",
      " 15  fuel_consumption        118 non-null    float64            \n",
      "dtypes: datetime64[ns, UTC](2), float64(5), int64(3), object(6)\n",
      "memory usage: 15.7+ KB\n"
     ]
    }
   ],
   "source": [
    "df.info()"
   ]
  },
  {
   "cell_type": "code",
   "execution_count": 20,
   "metadata": {},
   "outputs": [],
   "source": [
    "df['fuel_cost'] = df.fuel_consumption * df.flight_duration * 45000"
   ]
  },
  {
   "cell_type": "code",
   "execution_count": 23,
   "metadata": {},
   "outputs": [],
   "source": [
    "df['earnings'] = df.profit - df.fuel_cost"
   ]
  },
  {
   "cell_type": "code",
   "execution_count": null,
   "metadata": {},
   "outputs": [],
   "source": []
  }
 ],
 "metadata": {
  "kernelspec": {
   "display_name": "Python 3",
   "language": "python",
   "name": "python3"
  },
  "language_info": {
   "codemirror_mode": {
    "name": "ipython",
    "version": 3
   },
   "file_extension": ".py",
   "mimetype": "text/x-python",
   "name": "python",
   "nbconvert_exporter": "python",
   "pygments_lexer": "ipython3",
   "version": "3.8.5"
  }
 },
 "nbformat": 4,
 "nbformat_minor": 4
}
