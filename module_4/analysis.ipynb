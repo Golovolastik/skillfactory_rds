{
 "cells": [
  {
   "cell_type": "code",
   "execution_count": 1,
   "metadata": {},
   "outputs": [],
   "source": [
    "import pandas as pd\n",
    "import matplotlib.pyplot as plt\n",
    "import seaborn as sns\n",
    "import warnings\n",
    "warnings.filterwarnings('ignore')"
   ]
  },
  {
   "cell_type": "markdown",
   "metadata": {},
   "source": [
    "### Взглянем на данные"
   ]
  },
  {
   "cell_type": "code",
   "execution_count": 2,
   "metadata": {},
   "outputs": [
    {
     "data": {
      "text/html": [
       "<div>\n",
       "<style scoped>\n",
       "    .dataframe tbody tr th:only-of-type {\n",
       "        vertical-align: middle;\n",
       "    }\n",
       "\n",
       "    .dataframe tbody tr th {\n",
       "        vertical-align: top;\n",
       "    }\n",
       "\n",
       "    .dataframe thead th {\n",
       "        text-align: right;\n",
       "    }\n",
       "</style>\n",
       "<table border=\"1\" class=\"dataframe\">\n",
       "  <thead>\n",
       "    <tr style=\"text-align: right;\">\n",
       "      <th></th>\n",
       "      <th>flight_id</th>\n",
       "      <th>scheduled_departure</th>\n",
       "      <th>scheduled_arrival</th>\n",
       "      <th>scheduled_duration</th>\n",
       "      <th>actual_arrival</th>\n",
       "      <th>actual_duration</th>\n",
       "      <th>departure_city</th>\n",
       "      <th>departure_airport_name</th>\n",
       "      <th>arrival_city</th>\n",
       "      <th>arrival_airport_name</th>\n",
       "      <th>model</th>\n",
       "      <th>range</th>\n",
       "      <th>seats</th>\n",
       "      <th>business_seats</th>\n",
       "      <th>passengers</th>\n",
       "      <th>business_passengers</th>\n",
       "      <th>profit</th>\n",
       "    </tr>\n",
       "  </thead>\n",
       "  <tbody>\n",
       "    <tr>\n",
       "      <th>0</th>\n",
       "      <td>136119</td>\n",
       "      <td>2017-01-03T10:05:00Z</td>\n",
       "      <td>2017-01-03T11:45:00Z</td>\n",
       "      <td>0 years 0 mons 0 days 1 hours 40 mins 0.00 secs</td>\n",
       "      <td>2017-01-03T11:49:00Z</td>\n",
       "      <td>0 years 0 mons 0 days 1 hours 41 mins 0.00 secs</td>\n",
       "      <td>Анапа</td>\n",
       "      <td>Витязево</td>\n",
       "      <td>Москва</td>\n",
       "      <td>Шереметьево</td>\n",
       "      <td>Boeing 737-300</td>\n",
       "      <td>4200</td>\n",
       "      <td>130</td>\n",
       "      <td>12</td>\n",
       "      <td>113.0</td>\n",
       "      <td>11.0</td>\n",
       "      <td>1653000.0</td>\n",
       "    </tr>\n",
       "    <tr>\n",
       "      <th>1</th>\n",
       "      <td>136120</td>\n",
       "      <td>2017-02-24T10:05:00Z</td>\n",
       "      <td>2017-02-24T11:45:00Z</td>\n",
       "      <td>0 years 0 mons 0 days 1 hours 40 mins 0.00 secs</td>\n",
       "      <td>2017-02-24T11:46:00Z</td>\n",
       "      <td>0 years 0 mons 0 days 1 hours 39 mins 0.00 secs</td>\n",
       "      <td>Анапа</td>\n",
       "      <td>Витязево</td>\n",
       "      <td>Москва</td>\n",
       "      <td>Шереметьево</td>\n",
       "      <td>Boeing 737-300</td>\n",
       "      <td>4200</td>\n",
       "      <td>130</td>\n",
       "      <td>12</td>\n",
       "      <td>109.0</td>\n",
       "      <td>11.0</td>\n",
       "      <td>1605400.0</td>\n",
       "    </tr>\n",
       "    <tr>\n",
       "      <th>2</th>\n",
       "      <td>136122</td>\n",
       "      <td>2017-01-08T10:05:00Z</td>\n",
       "      <td>2017-01-08T11:45:00Z</td>\n",
       "      <td>0 years 0 mons 0 days 1 hours 40 mins 0.00 secs</td>\n",
       "      <td>2017-01-08T11:48:00Z</td>\n",
       "      <td>0 years 0 mons 0 days 1 hours 40 mins 0.00 secs</td>\n",
       "      <td>Анапа</td>\n",
       "      <td>Витязево</td>\n",
       "      <td>Москва</td>\n",
       "      <td>Шереметьево</td>\n",
       "      <td>Boeing 737-300</td>\n",
       "      <td>4200</td>\n",
       "      <td>130</td>\n",
       "      <td>12</td>\n",
       "      <td>97.0</td>\n",
       "      <td>10.0</td>\n",
       "      <td>1431000.0</td>\n",
       "    </tr>\n",
       "    <tr>\n",
       "      <th>3</th>\n",
       "      <td>136130</td>\n",
       "      <td>2017-02-13T10:05:00Z</td>\n",
       "      <td>2017-02-13T11:45:00Z</td>\n",
       "      <td>0 years 0 mons 0 days 1 hours 40 mins 0.00 secs</td>\n",
       "      <td>2017-02-13T11:46:00Z</td>\n",
       "      <td>0 years 0 mons 0 days 1 hours 39 mins 0.00 secs</td>\n",
       "      <td>Анапа</td>\n",
       "      <td>Витязево</td>\n",
       "      <td>Москва</td>\n",
       "      <td>Шереметьево</td>\n",
       "      <td>Boeing 737-300</td>\n",
       "      <td>4200</td>\n",
       "      <td>130</td>\n",
       "      <td>12</td>\n",
       "      <td>107.0</td>\n",
       "      <td>10.0</td>\n",
       "      <td>1556600.0</td>\n",
       "    </tr>\n",
       "    <tr>\n",
       "      <th>4</th>\n",
       "      <td>136131</td>\n",
       "      <td>2017-01-28T10:05:00Z</td>\n",
       "      <td>2017-01-28T11:45:00Z</td>\n",
       "      <td>0 years 0 mons 0 days 1 hours 40 mins 0.00 secs</td>\n",
       "      <td>2017-01-28T11:46:00Z</td>\n",
       "      <td>0 years 0 mons 0 days 1 hours 39 mins 0.00 secs</td>\n",
       "      <td>Анапа</td>\n",
       "      <td>Витязево</td>\n",
       "      <td>Москва</td>\n",
       "      <td>Шереметьево</td>\n",
       "      <td>Boeing 737-300</td>\n",
       "      <td>4200</td>\n",
       "      <td>130</td>\n",
       "      <td>12</td>\n",
       "      <td>124.0</td>\n",
       "      <td>12.0</td>\n",
       "      <td>1812800.0</td>\n",
       "    </tr>\n",
       "  </tbody>\n",
       "</table>\n",
       "</div>"
      ],
      "text/plain": [
       "   flight_id   scheduled_departure     scheduled_arrival  \\\n",
       "0     136119  2017-01-03T10:05:00Z  2017-01-03T11:45:00Z   \n",
       "1     136120  2017-02-24T10:05:00Z  2017-02-24T11:45:00Z   \n",
       "2     136122  2017-01-08T10:05:00Z  2017-01-08T11:45:00Z   \n",
       "3     136130  2017-02-13T10:05:00Z  2017-02-13T11:45:00Z   \n",
       "4     136131  2017-01-28T10:05:00Z  2017-01-28T11:45:00Z   \n",
       "\n",
       "                                scheduled_duration        actual_arrival  \\\n",
       "0  0 years 0 mons 0 days 1 hours 40 mins 0.00 secs  2017-01-03T11:49:00Z   \n",
       "1  0 years 0 mons 0 days 1 hours 40 mins 0.00 secs  2017-02-24T11:46:00Z   \n",
       "2  0 years 0 mons 0 days 1 hours 40 mins 0.00 secs  2017-01-08T11:48:00Z   \n",
       "3  0 years 0 mons 0 days 1 hours 40 mins 0.00 secs  2017-02-13T11:46:00Z   \n",
       "4  0 years 0 mons 0 days 1 hours 40 mins 0.00 secs  2017-01-28T11:46:00Z   \n",
       "\n",
       "                                   actual_duration departure_city  \\\n",
       "0  0 years 0 mons 0 days 1 hours 41 mins 0.00 secs          Анапа   \n",
       "1  0 years 0 mons 0 days 1 hours 39 mins 0.00 secs          Анапа   \n",
       "2  0 years 0 mons 0 days 1 hours 40 mins 0.00 secs          Анапа   \n",
       "3  0 years 0 mons 0 days 1 hours 39 mins 0.00 secs          Анапа   \n",
       "4  0 years 0 mons 0 days 1 hours 39 mins 0.00 secs          Анапа   \n",
       "\n",
       "  departure_airport_name arrival_city arrival_airport_name           model  \\\n",
       "0               Витязево       Москва          Шереметьево  Boeing 737-300   \n",
       "1               Витязево       Москва          Шереметьево  Boeing 737-300   \n",
       "2               Витязево       Москва          Шереметьево  Boeing 737-300   \n",
       "3               Витязево       Москва          Шереметьево  Boeing 737-300   \n",
       "4               Витязево       Москва          Шереметьево  Boeing 737-300   \n",
       "\n",
       "   range  seats  business_seats  passengers  business_passengers     profit  \n",
       "0   4200    130              12       113.0                 11.0  1653000.0  \n",
       "1   4200    130              12       109.0                 11.0  1605400.0  \n",
       "2   4200    130              12        97.0                 10.0  1431000.0  \n",
       "3   4200    130              12       107.0                 10.0  1556600.0  \n",
       "4   4200    130              12       124.0                 12.0  1812800.0  "
      ]
     },
     "execution_count": 2,
     "metadata": {},
     "output_type": "execute_result"
    }
   ],
   "source": [
    "df = pd.read_csv(\"sql_query.csv\")\n",
    "df.head()"
   ]
  },
  {
   "cell_type": "code",
   "execution_count": 3,
   "metadata": {},
   "outputs": [
    {
     "name": "stdout",
     "output_type": "stream",
     "text": [
      "<class 'pandas.core.frame.DataFrame'>\n",
      "RangeIndex: 127 entries, 0 to 126\n",
      "Data columns (total 17 columns):\n",
      " #   Column                  Non-Null Count  Dtype  \n",
      "---  ------                  --------------  -----  \n",
      " 0   flight_id               127 non-null    int64  \n",
      " 1   scheduled_departure     127 non-null    object \n",
      " 2   scheduled_arrival       127 non-null    object \n",
      " 3   scheduled_duration      127 non-null    object \n",
      " 4   actual_arrival          127 non-null    object \n",
      " 5   actual_duration         127 non-null    object \n",
      " 6   departure_city          127 non-null    object \n",
      " 7   departure_airport_name  127 non-null    object \n",
      " 8   arrival_city            127 non-null    object \n",
      " 9   arrival_airport_name    127 non-null    object \n",
      " 10  model                   127 non-null    object \n",
      " 11  range                   127 non-null    int64  \n",
      " 12  seats                   127 non-null    int64  \n",
      " 13  business_seats          127 non-null    int64  \n",
      " 14  passengers              118 non-null    float64\n",
      " 15  business_passengers     118 non-null    float64\n",
      " 16  profit                  118 non-null    float64\n",
      "dtypes: float64(3), int64(4), object(10)\n",
      "memory usage: 17.0+ KB\n"
     ]
    }
   ],
   "source": [
    "df.info()"
   ]
  },
  {
   "cell_type": "code",
   "execution_count": 4,
   "metadata": {
    "scrolled": true
   },
   "outputs": [
    {
     "data": {
      "text/html": [
       "<div>\n",
       "<style scoped>\n",
       "    .dataframe tbody tr th:only-of-type {\n",
       "        vertical-align: middle;\n",
       "    }\n",
       "\n",
       "    .dataframe tbody tr th {\n",
       "        vertical-align: top;\n",
       "    }\n",
       "\n",
       "    .dataframe thead th {\n",
       "        text-align: right;\n",
       "    }\n",
       "</style>\n",
       "<table border=\"1\" class=\"dataframe\">\n",
       "  <thead>\n",
       "    <tr style=\"text-align: right;\">\n",
       "      <th></th>\n",
       "      <th>flight_id</th>\n",
       "      <th>scheduled_departure</th>\n",
       "      <th>scheduled_arrival</th>\n",
       "      <th>scheduled_duration</th>\n",
       "      <th>actual_arrival</th>\n",
       "      <th>actual_duration</th>\n",
       "      <th>departure_city</th>\n",
       "      <th>departure_airport_name</th>\n",
       "      <th>arrival_city</th>\n",
       "      <th>arrival_airport_name</th>\n",
       "      <th>model</th>\n",
       "      <th>range</th>\n",
       "      <th>seats</th>\n",
       "      <th>business_seats</th>\n",
       "      <th>passengers</th>\n",
       "      <th>business_passengers</th>\n",
       "      <th>profit</th>\n",
       "    </tr>\n",
       "  </thead>\n",
       "  <tbody>\n",
       "    <tr>\n",
       "      <th>59</th>\n",
       "      <td>136511</td>\n",
       "      <td>2017-02-21T06:10:00Z</td>\n",
       "      <td>2017-02-21T11:15:00Z</td>\n",
       "      <td>0 years 0 mons 0 days 5 hours 5 mins 0.00 secs</td>\n",
       "      <td>2017-02-21T11:25:00Z</td>\n",
       "      <td>0 years 0 mons 0 days 5 hours 10 mins 0.00 secs</td>\n",
       "      <td>Анапа</td>\n",
       "      <td>Витязево</td>\n",
       "      <td>Новокузнецк</td>\n",
       "      <td>Спиченково</td>\n",
       "      <td>Boeing 737-300</td>\n",
       "      <td>4200</td>\n",
       "      <td>130</td>\n",
       "      <td>12</td>\n",
       "      <td>NaN</td>\n",
       "      <td>NaN</td>\n",
       "      <td>NaN</td>\n",
       "    </tr>\n",
       "    <tr>\n",
       "      <th>60</th>\n",
       "      <td>136513</td>\n",
       "      <td>2017-02-28T06:10:00Z</td>\n",
       "      <td>2017-02-28T11:15:00Z</td>\n",
       "      <td>0 years 0 mons 0 days 5 hours 5 mins 0.00 secs</td>\n",
       "      <td>2017-02-28T11:23:00Z</td>\n",
       "      <td>0 years 0 mons 0 days 5 hours 10 mins 0.00 secs</td>\n",
       "      <td>Анапа</td>\n",
       "      <td>Витязево</td>\n",
       "      <td>Новокузнецк</td>\n",
       "      <td>Спиченково</td>\n",
       "      <td>Boeing 737-300</td>\n",
       "      <td>4200</td>\n",
       "      <td>130</td>\n",
       "      <td>12</td>\n",
       "      <td>NaN</td>\n",
       "      <td>NaN</td>\n",
       "      <td>NaN</td>\n",
       "    </tr>\n",
       "    <tr>\n",
       "      <th>61</th>\n",
       "      <td>136514</td>\n",
       "      <td>2017-02-07T06:10:00Z</td>\n",
       "      <td>2017-02-07T11:15:00Z</td>\n",
       "      <td>0 years 0 mons 0 days 5 hours 5 mins 0.00 secs</td>\n",
       "      <td>2017-02-07T11:13:00Z</td>\n",
       "      <td>0 years 0 mons 0 days 4 hours 59 mins 0.00 secs</td>\n",
       "      <td>Анапа</td>\n",
       "      <td>Витязево</td>\n",
       "      <td>Новокузнецк</td>\n",
       "      <td>Спиченково</td>\n",
       "      <td>Boeing 737-300</td>\n",
       "      <td>4200</td>\n",
       "      <td>130</td>\n",
       "      <td>12</td>\n",
       "      <td>NaN</td>\n",
       "      <td>NaN</td>\n",
       "      <td>NaN</td>\n",
       "    </tr>\n",
       "    <tr>\n",
       "      <th>62</th>\n",
       "      <td>136523</td>\n",
       "      <td>2017-01-10T06:10:00Z</td>\n",
       "      <td>2017-01-10T11:15:00Z</td>\n",
       "      <td>0 years 0 mons 0 days 5 hours 5 mins 0.00 secs</td>\n",
       "      <td>2017-01-10T11:26:00Z</td>\n",
       "      <td>0 years 0 mons 0 days 5 hours 12 mins 0.00 secs</td>\n",
       "      <td>Анапа</td>\n",
       "      <td>Витязево</td>\n",
       "      <td>Новокузнецк</td>\n",
       "      <td>Спиченково</td>\n",
       "      <td>Boeing 737-300</td>\n",
       "      <td>4200</td>\n",
       "      <td>130</td>\n",
       "      <td>12</td>\n",
       "      <td>NaN</td>\n",
       "      <td>NaN</td>\n",
       "      <td>NaN</td>\n",
       "    </tr>\n",
       "    <tr>\n",
       "      <th>63</th>\n",
       "      <td>136540</td>\n",
       "      <td>2017-01-17T06:10:00Z</td>\n",
       "      <td>2017-01-17T11:15:00Z</td>\n",
       "      <td>0 years 0 mons 0 days 5 hours 5 mins 0.00 secs</td>\n",
       "      <td>2017-01-17T11:21:00Z</td>\n",
       "      <td>0 years 0 mons 0 days 5 hours 7 mins 0.00 secs</td>\n",
       "      <td>Анапа</td>\n",
       "      <td>Витязево</td>\n",
       "      <td>Новокузнецк</td>\n",
       "      <td>Спиченково</td>\n",
       "      <td>Boeing 737-300</td>\n",
       "      <td>4200</td>\n",
       "      <td>130</td>\n",
       "      <td>12</td>\n",
       "      <td>NaN</td>\n",
       "      <td>NaN</td>\n",
       "      <td>NaN</td>\n",
       "    </tr>\n",
       "    <tr>\n",
       "      <th>64</th>\n",
       "      <td>136544</td>\n",
       "      <td>2017-01-31T06:10:00Z</td>\n",
       "      <td>2017-01-31T11:15:00Z</td>\n",
       "      <td>0 years 0 mons 0 days 5 hours 5 mins 0.00 secs</td>\n",
       "      <td>2017-01-31T11:14:00Z</td>\n",
       "      <td>0 years 0 mons 0 days 5 hours 4 mins 0.00 secs</td>\n",
       "      <td>Анапа</td>\n",
       "      <td>Витязево</td>\n",
       "      <td>Новокузнецк</td>\n",
       "      <td>Спиченково</td>\n",
       "      <td>Boeing 737-300</td>\n",
       "      <td>4200</td>\n",
       "      <td>130</td>\n",
       "      <td>12</td>\n",
       "      <td>NaN</td>\n",
       "      <td>NaN</td>\n",
       "      <td>NaN</td>\n",
       "    </tr>\n",
       "    <tr>\n",
       "      <th>65</th>\n",
       "      <td>136546</td>\n",
       "      <td>2017-01-03T06:10:00Z</td>\n",
       "      <td>2017-01-03T11:15:00Z</td>\n",
       "      <td>0 years 0 mons 0 days 5 hours 5 mins 0.00 secs</td>\n",
       "      <td>2017-01-03T11:15:00Z</td>\n",
       "      <td>0 years 0 mons 0 days 5 hours 2 mins 0.00 secs</td>\n",
       "      <td>Анапа</td>\n",
       "      <td>Витязево</td>\n",
       "      <td>Новокузнецк</td>\n",
       "      <td>Спиченково</td>\n",
       "      <td>Boeing 737-300</td>\n",
       "      <td>4200</td>\n",
       "      <td>130</td>\n",
       "      <td>12</td>\n",
       "      <td>NaN</td>\n",
       "      <td>NaN</td>\n",
       "      <td>NaN</td>\n",
       "    </tr>\n",
       "    <tr>\n",
       "      <th>66</th>\n",
       "      <td>136560</td>\n",
       "      <td>2017-01-24T06:10:00Z</td>\n",
       "      <td>2017-01-24T11:15:00Z</td>\n",
       "      <td>0 years 0 mons 0 days 5 hours 5 mins 0.00 secs</td>\n",
       "      <td>2017-01-24T11:18:00Z</td>\n",
       "      <td>0 years 0 mons 0 days 5 hours 5 mins 0.00 secs</td>\n",
       "      <td>Анапа</td>\n",
       "      <td>Витязево</td>\n",
       "      <td>Новокузнецк</td>\n",
       "      <td>Спиченково</td>\n",
       "      <td>Boeing 737-300</td>\n",
       "      <td>4200</td>\n",
       "      <td>130</td>\n",
       "      <td>12</td>\n",
       "      <td>NaN</td>\n",
       "      <td>NaN</td>\n",
       "      <td>NaN</td>\n",
       "    </tr>\n",
       "    <tr>\n",
       "      <th>67</th>\n",
       "      <td>136567</td>\n",
       "      <td>2017-02-14T06:10:00Z</td>\n",
       "      <td>2017-02-14T11:15:00Z</td>\n",
       "      <td>0 years 0 mons 0 days 5 hours 5 mins 0.00 secs</td>\n",
       "      <td>2017-02-14T11:23:00Z</td>\n",
       "      <td>0 years 0 mons 0 days 5 hours 11 mins 0.00 secs</td>\n",
       "      <td>Анапа</td>\n",
       "      <td>Витязево</td>\n",
       "      <td>Новокузнецк</td>\n",
       "      <td>Спиченково</td>\n",
       "      <td>Boeing 737-300</td>\n",
       "      <td>4200</td>\n",
       "      <td>130</td>\n",
       "      <td>12</td>\n",
       "      <td>NaN</td>\n",
       "      <td>NaN</td>\n",
       "      <td>NaN</td>\n",
       "    </tr>\n",
       "  </tbody>\n",
       "</table>\n",
       "</div>"
      ],
      "text/plain": [
       "    flight_id   scheduled_departure     scheduled_arrival  \\\n",
       "59     136511  2017-02-21T06:10:00Z  2017-02-21T11:15:00Z   \n",
       "60     136513  2017-02-28T06:10:00Z  2017-02-28T11:15:00Z   \n",
       "61     136514  2017-02-07T06:10:00Z  2017-02-07T11:15:00Z   \n",
       "62     136523  2017-01-10T06:10:00Z  2017-01-10T11:15:00Z   \n",
       "63     136540  2017-01-17T06:10:00Z  2017-01-17T11:15:00Z   \n",
       "64     136544  2017-01-31T06:10:00Z  2017-01-31T11:15:00Z   \n",
       "65     136546  2017-01-03T06:10:00Z  2017-01-03T11:15:00Z   \n",
       "66     136560  2017-01-24T06:10:00Z  2017-01-24T11:15:00Z   \n",
       "67     136567  2017-02-14T06:10:00Z  2017-02-14T11:15:00Z   \n",
       "\n",
       "                                scheduled_duration        actual_arrival  \\\n",
       "59  0 years 0 mons 0 days 5 hours 5 mins 0.00 secs  2017-02-21T11:25:00Z   \n",
       "60  0 years 0 mons 0 days 5 hours 5 mins 0.00 secs  2017-02-28T11:23:00Z   \n",
       "61  0 years 0 mons 0 days 5 hours 5 mins 0.00 secs  2017-02-07T11:13:00Z   \n",
       "62  0 years 0 mons 0 days 5 hours 5 mins 0.00 secs  2017-01-10T11:26:00Z   \n",
       "63  0 years 0 mons 0 days 5 hours 5 mins 0.00 secs  2017-01-17T11:21:00Z   \n",
       "64  0 years 0 mons 0 days 5 hours 5 mins 0.00 secs  2017-01-31T11:14:00Z   \n",
       "65  0 years 0 mons 0 days 5 hours 5 mins 0.00 secs  2017-01-03T11:15:00Z   \n",
       "66  0 years 0 mons 0 days 5 hours 5 mins 0.00 secs  2017-01-24T11:18:00Z   \n",
       "67  0 years 0 mons 0 days 5 hours 5 mins 0.00 secs  2017-02-14T11:23:00Z   \n",
       "\n",
       "                                    actual_duration departure_city  \\\n",
       "59  0 years 0 mons 0 days 5 hours 10 mins 0.00 secs          Анапа   \n",
       "60  0 years 0 mons 0 days 5 hours 10 mins 0.00 secs          Анапа   \n",
       "61  0 years 0 mons 0 days 4 hours 59 mins 0.00 secs          Анапа   \n",
       "62  0 years 0 mons 0 days 5 hours 12 mins 0.00 secs          Анапа   \n",
       "63   0 years 0 mons 0 days 5 hours 7 mins 0.00 secs          Анапа   \n",
       "64   0 years 0 mons 0 days 5 hours 4 mins 0.00 secs          Анапа   \n",
       "65   0 years 0 mons 0 days 5 hours 2 mins 0.00 secs          Анапа   \n",
       "66   0 years 0 mons 0 days 5 hours 5 mins 0.00 secs          Анапа   \n",
       "67  0 years 0 mons 0 days 5 hours 11 mins 0.00 secs          Анапа   \n",
       "\n",
       "   departure_airport_name arrival_city arrival_airport_name           model  \\\n",
       "59               Витязево  Новокузнецк           Спиченково  Boeing 737-300   \n",
       "60               Витязево  Новокузнецк           Спиченково  Boeing 737-300   \n",
       "61               Витязево  Новокузнецк           Спиченково  Boeing 737-300   \n",
       "62               Витязево  Новокузнецк           Спиченково  Boeing 737-300   \n",
       "63               Витязево  Новокузнецк           Спиченково  Boeing 737-300   \n",
       "64               Витязево  Новокузнецк           Спиченково  Boeing 737-300   \n",
       "65               Витязево  Новокузнецк           Спиченково  Boeing 737-300   \n",
       "66               Витязево  Новокузнецк           Спиченково  Boeing 737-300   \n",
       "67               Витязево  Новокузнецк           Спиченково  Boeing 737-300   \n",
       "\n",
       "    range  seats  business_seats  passengers  business_passengers  profit  \n",
       "59   4200    130              12         NaN                  NaN     NaN  \n",
       "60   4200    130              12         NaN                  NaN     NaN  \n",
       "61   4200    130              12         NaN                  NaN     NaN  \n",
       "62   4200    130              12         NaN                  NaN     NaN  \n",
       "63   4200    130              12         NaN                  NaN     NaN  \n",
       "64   4200    130              12         NaN                  NaN     NaN  \n",
       "65   4200    130              12         NaN                  NaN     NaN  \n",
       "66   4200    130              12         NaN                  NaN     NaN  \n",
       "67   4200    130              12         NaN                  NaN     NaN  "
      ]
     },
     "execution_count": 4,
     "metadata": {},
     "output_type": "execute_result"
    }
   ],
   "source": [
    "df[df.passengers.isnull()]"
   ]
  },
  {
   "cell_type": "markdown",
   "metadata": {},
   "source": [
    "### Работа с данными"
   ]
  },
  {
   "cell_type": "markdown",
   "metadata": {},
   "source": [
    "В датасете отсутствует информация о пассажирах и сумме проданных билетов на рейсах в Новокузнецк.  \n",
    "Удалим информацию по Новокузнецку."
   ]
  },
  {
   "cell_type": "code",
   "execution_count": 5,
   "metadata": {},
   "outputs": [],
   "source": [
    "df = df[df.arrival_city != 'Новокузнецк']"
   ]
  },
  {
   "cell_type": "markdown",
   "metadata": {},
   "source": [
    "Переведем колонки \"scheduled_departure\", \"scheduled_arrival\" и \"actual_arrival\" в формат datetime"
   ]
  },
  {
   "cell_type": "code",
   "execution_count": 6,
   "metadata": {},
   "outputs": [],
   "source": [
    "df.scheduled_departure = pd.to_datetime(df.scheduled_departure)\n",
    "df.scheduled_arrival = pd.to_datetime(df.scheduled_arrival)\n",
    "df.actual_arrival = pd.to_datetime(df.actual_arrival)"
   ]
  },
  {
   "cell_type": "markdown",
   "metadata": {},
   "source": [
    "Переведем длительность рейса в часы"
   ]
  },
  {
   "cell_type": "code",
   "execution_count": 7,
   "metadata": {},
   "outputs": [],
   "source": [
    "def convert_to_hours(row):\n",
    "    minutes = int(row.split(\" \")[6]) + int(row.split(\" \")[8]) / 60\n",
    "    return minutes"
   ]
  },
  {
   "cell_type": "code",
   "execution_count": 8,
   "metadata": {},
   "outputs": [],
   "source": [
    "df['flight_duration'] = df.actual_duration.apply(convert_to_hours)"
   ]
  },
  {
   "cell_type": "markdown",
   "metadata": {},
   "source": [
    "Создадим признак, отображающий день недели, когда был совершен рейс."
   ]
  },
  {
   "cell_type": "code",
   "execution_count": 9,
   "metadata": {},
   "outputs": [],
   "source": [
    "df['weekday'] = df.scheduled_departure.dt.weekday"
   ]
  },
  {
   "cell_type": "markdown",
   "metadata": {},
   "source": [
    "Создадим дополнительный признак отображающий загрузку самолета в процентах"
   ]
  },
  {
   "cell_type": "code",
   "execution_count": 10,
   "metadata": {},
   "outputs": [],
   "source": [
    "df['loading'] = df.passengers / df.seats"
   ]
  },
  {
   "cell_type": "markdown",
   "metadata": {},
   "source": [
    "Согласно информации министерства транспорта РФ (www.favt.gov.ru), в 2017 году, стоимость тонны топлива в аэропорту Анапы варьировалась в районе 45000 рублей"
   ]
  },
  {
   "cell_type": "markdown",
   "metadata": {},
   "source": [
    "К сожалению, производители не предоставляют информацию о расходе топлива, по данным из сети интернет расход самолета \"Сухой Суперджет-100\" - 1,7 т/ч, \"Boeing 737-300\" - 2,6 т/ч. "
   ]
  },
  {
   "cell_type": "markdown",
   "metadata": {},
   "source": [
    "Рассчитаем стоимость топлива"
   ]
  },
  {
   "cell_type": "code",
   "execution_count": 11,
   "metadata": {},
   "outputs": [],
   "source": [
    "def fuel_consumption(row):\n",
    "    if row.model == 'Sukhoi Superjet-100':\n",
    "        return 1.7\n",
    "    elif row.model == 'Boeing 737-300':\n",
    "        return 2.6"
   ]
  },
  {
   "cell_type": "code",
   "execution_count": 12,
   "metadata": {},
   "outputs": [],
   "source": [
    "df['fuel_consumption'] = df.apply(fuel_consumption, axis=1)"
   ]
  },
  {
   "cell_type": "code",
   "execution_count": 13,
   "metadata": {},
   "outputs": [],
   "source": [
    "df['fuel_cost'] = df.fuel_consumption * df.flight_duration * 45000"
   ]
  },
  {
   "cell_type": "markdown",
   "metadata": {},
   "source": [
    "Посчитаем прибыль за вычетом стоимости топлива"
   ]
  },
  {
   "cell_type": "code",
   "execution_count": 14,
   "metadata": {},
   "outputs": [],
   "source": [
    "df['earnings'] = df.profit - df.fuel_cost"
   ]
  },
  {
   "cell_type": "markdown",
   "metadata": {},
   "source": [
    "Определим долю затрат на топливо"
   ]
  },
  {
   "cell_type": "code",
   "execution_count": 15,
   "metadata": {},
   "outputs": [],
   "source": [
    "df['share_of_costs'] = 1 - df['earnings'] / df['profit']"
   ]
  },
  {
   "cell_type": "code",
   "execution_count": 16,
   "metadata": {},
   "outputs": [
    {
     "data": {
      "text/plain": [
       "0.10501073950962592"
      ]
     },
     "execution_count": 16,
     "metadata": {},
     "output_type": "execute_result"
    }
   ],
   "source": [
    "df['share_of_costs'].mean()"
   ]
  },
  {
   "cell_type": "markdown",
   "metadata": {},
   "source": [
    "### Себестоимость полета"
   ]
  },
  {
   "cell_type": "markdown",
   "metadata": {},
   "source": [
    "В среднем, затраты составлют 10,5%. Согласно информации US Airways Group и The Wall Stree Journal, доля затрат на топливо составляет 29%. Но, также согласно этих данных прибыль авиакомпании составляет всего 1%. Маловероятно, что это соответствует истине."
   ]
  },
  {
   "cell_type": "markdown",
   "metadata": {},
   "source": [
    "![Расходы на полёт](images/flight_expenses.jpg)"
   ]
  },
  {
   "cell_type": "markdown",
   "metadata": {},
   "source": [
    "Но, на самом деле схема затрат намного сложнее. В соответствии с классификацией эксплуатационных расходов предложенной IATA, схема расходов выглядит так."
   ]
  },
  {
   "cell_type": "markdown",
   "metadata": {},
   "source": [
    "![](images/IATA_flight_expenses.jpg)"
   ]
  },
  {
   "cell_type": "markdown",
   "metadata": {},
   "source": [
    "Оставим подсчет себестоимости рейса профессионалам. А мы проведем анализ на основе загрузки самолета и затратам на топливо."
   ]
  },
  {
   "cell_type": "markdown",
   "metadata": {},
   "source": [
    "### Визуализируем данные"
   ]
  },
  {
   "cell_type": "code",
   "execution_count": 17,
   "metadata": {},
   "outputs": [
    {
     "data": {
      "text/plain": [
       "<AxesSubplot:xlabel='model', ylabel='count'>"
      ]
     },
     "execution_count": 17,
     "metadata": {},
     "output_type": "execute_result"
    },
    {
     "data": {
      "image/png": "[encoded data removed]",
      "text/plain": [
       "<Figure size 1080x288 with 3 Axes>"
      ]
     },
     "metadata": {
      "needs_background": "light"
     },
     "output_type": "display_data"
    }
   ],
   "source": [
    "fig, axes = plt.subplots(1, 3, figsize=(15, 4))\n",
    "\n",
    "# Вылет осуществляется только в 9 и 10 часов\n",
    "sns.countplot(df.scheduled_departure.dt.hour, ax=axes[0])\n",
    "\n",
    "# Самолеты летаеют в Москву и Белгород в равном количестве\n",
    "sns.countplot(df.arrival_city, ax=axes[1], palette='prism')\n",
    "\n",
    "# В зависмости от города назначения авиакомпании используют разные модели самолетов\n",
    "sns.countplot(df.model, ax=axes[2], palette='rainbow')"
   ]
  },
  {
   "cell_type": "markdown",
   "metadata": {},
   "source": [
    "##### Построим графики на основе прибыли"
   ]
  },
  {
   "cell_type": "code",
   "execution_count": 18,
   "metadata": {},
   "outputs": [
    {
     "data": {
      "text/plain": [
       "<AxesSubplot:xlabel='earnings', ylabel='passengers'>"
      ]
     },
     "execution_count": 18,
     "metadata": {},
     "output_type": "execute_result"
    },
    {
     "data": {
      "image/png": "[encoded data removed]",
      "text/plain": [
       "<Figure size 432x288 with 1 Axes>"
      ]
     },
     "metadata": {
      "needs_background": "light"
     },
     "output_type": "display_data"
    }
   ],
   "source": [
    "sns.scatterplot(x=df.earnings, y=df.passengers)"
   ]
  },
  {
   "cell_type": "code",
   "execution_count": 19,
   "metadata": {},
   "outputs": [
    {
     "data": {
      "text/plain": [
       "<AxesSubplot:xlabel='earnings', ylabel='Count'>"
      ]
     },
     "execution_count": 19,
     "metadata": {},
     "output_type": "execute_result"
    },
    {
     "data": {
      "image/png": "[encoded data removed]",
      "text/plain": [
       "<Figure size 432x288 with 1 Axes>"
      ]
     },
     "metadata": {
      "needs_background": "light"
     },
     "output_type": "display_data"
    }
   ],
   "source": [
    "sns.histplot(df.earnings)"
   ]
  },
  {
   "cell_type": "code",
   "execution_count": 20,
   "metadata": {},
   "outputs": [
    {
     "data": {
      "text/html": [
       "<div>\n",
       "<style scoped>\n",
       "    .dataframe tbody tr th:only-of-type {\n",
       "        vertical-align: middle;\n",
       "    }\n",
       "\n",
       "    .dataframe tbody tr th {\n",
       "        vertical-align: top;\n",
       "    }\n",
       "\n",
       "    .dataframe thead th {\n",
       "        text-align: right;\n",
       "    }\n",
       "</style>\n",
       "<table border=\"1\" class=\"dataframe\">\n",
       "  <thead>\n",
       "    <tr style=\"text-align: right;\">\n",
       "      <th></th>\n",
       "      <th>flight_id</th>\n",
       "      <th>scheduled_departure</th>\n",
       "      <th>scheduled_arrival</th>\n",
       "      <th>scheduled_duration</th>\n",
       "      <th>actual_arrival</th>\n",
       "      <th>actual_duration</th>\n",
       "      <th>departure_city</th>\n",
       "      <th>departure_airport_name</th>\n",
       "      <th>arrival_city</th>\n",
       "      <th>arrival_airport_name</th>\n",
       "      <th>...</th>\n",
       "      <th>passengers</th>\n",
       "      <th>business_passengers</th>\n",
       "      <th>profit</th>\n",
       "      <th>flight_duration</th>\n",
       "      <th>weekday</th>\n",
       "      <th>loading</th>\n",
       "      <th>fuel_consumption</th>\n",
       "      <th>fuel_cost</th>\n",
       "      <th>earnings</th>\n",
       "      <th>share_of_costs</th>\n",
       "    </tr>\n",
       "  </thead>\n",
       "  <tbody>\n",
       "    <tr>\n",
       "      <th>84</th>\n",
       "      <td>136669</td>\n",
       "      <td>2017-01-17 09:25:00+00:00</td>\n",
       "      <td>2017-01-17 10:15:00+00:00</td>\n",
       "      <td>0 years 0 mons 0 days 0 hours 50 mins 0.00 secs</td>\n",
       "      <td>2017-01-17 10:17:00+00:00</td>\n",
       "      <td>0 years 0 mons 0 days 0 hours 51 mins 0.00 secs</td>\n",
       "      <td>Анапа</td>\n",
       "      <td>Витязево</td>\n",
       "      <td>Белгород</td>\n",
       "      <td>Белгород</td>\n",
       "      <td>...</td>\n",
       "      <td>95.0</td>\n",
       "      <td>12.0</td>\n",
       "      <td>752700.0</td>\n",
       "      <td>0.850000</td>\n",
       "      <td>1</td>\n",
       "      <td>0.979381</td>\n",
       "      <td>1.7</td>\n",
       "      <td>65025.0</td>\n",
       "      <td>687675.0</td>\n",
       "      <td>0.086389</td>\n",
       "    </tr>\n",
       "    <tr>\n",
       "      <th>89</th>\n",
       "      <td>136720</td>\n",
       "      <td>2017-01-26 09:25:00+00:00</td>\n",
       "      <td>2017-01-26 10:15:00+00:00</td>\n",
       "      <td>0 years 0 mons 0 days 0 hours 50 mins 0.00 secs</td>\n",
       "      <td>2017-01-26 10:19:00+00:00</td>\n",
       "      <td>0 years 0 mons 0 days 0 hours 50 mins 0.00 secs</td>\n",
       "      <td>Анапа</td>\n",
       "      <td>Витязево</td>\n",
       "      <td>Белгород</td>\n",
       "      <td>Белгород</td>\n",
       "      <td>...</td>\n",
       "      <td>95.0</td>\n",
       "      <td>12.0</td>\n",
       "      <td>752700.0</td>\n",
       "      <td>0.833333</td>\n",
       "      <td>3</td>\n",
       "      <td>0.979381</td>\n",
       "      <td>1.7</td>\n",
       "      <td>63750.0</td>\n",
       "      <td>688950.0</td>\n",
       "      <td>0.084695</td>\n",
       "    </tr>\n",
       "    <tr>\n",
       "      <th>77</th>\n",
       "      <td>136642</td>\n",
       "      <td>2017-01-30 09:25:00+00:00</td>\n",
       "      <td>2017-01-30 10:15:00+00:00</td>\n",
       "      <td>0 years 0 mons 0 days 0 hours 50 mins 0.00 secs</td>\n",
       "      <td>2017-01-30 10:17:00+00:00</td>\n",
       "      <td>0 years 0 mons 0 days 0 hours 49 mins 0.00 secs</td>\n",
       "      <td>Анапа</td>\n",
       "      <td>Витязево</td>\n",
       "      <td>Белгород</td>\n",
       "      <td>Белгород</td>\n",
       "      <td>...</td>\n",
       "      <td>64.0</td>\n",
       "      <td>10.0</td>\n",
       "      <td>531000.0</td>\n",
       "      <td>0.816667</td>\n",
       "      <td>0</td>\n",
       "      <td>0.659794</td>\n",
       "      <td>1.7</td>\n",
       "      <td>62475.0</td>\n",
       "      <td>468525.0</td>\n",
       "      <td>0.117655</td>\n",
       "    </tr>\n",
       "  </tbody>\n",
       "</table>\n",
       "<p>3 rows × 24 columns</p>\n",
       "</div>"
      ],
      "text/plain": [
       "    flight_id       scheduled_departure         scheduled_arrival  \\\n",
       "84     136669 2017-01-17 09:25:00+00:00 2017-01-17 10:15:00+00:00   \n",
       "89     136720 2017-01-26 09:25:00+00:00 2017-01-26 10:15:00+00:00   \n",
       "77     136642 2017-01-30 09:25:00+00:00 2017-01-30 10:15:00+00:00   \n",
       "\n",
       "                                 scheduled_duration            actual_arrival  \\\n",
       "84  0 years 0 mons 0 days 0 hours 50 mins 0.00 secs 2017-01-17 10:17:00+00:00   \n",
       "89  0 years 0 mons 0 days 0 hours 50 mins 0.00 secs 2017-01-26 10:19:00+00:00   \n",
       "77  0 years 0 mons 0 days 0 hours 50 mins 0.00 secs 2017-01-30 10:17:00+00:00   \n",
       "\n",
       "                                    actual_duration departure_city  \\\n",
       "84  0 years 0 mons 0 days 0 hours 51 mins 0.00 secs          Анапа   \n",
       "89  0 years 0 mons 0 days 0 hours 50 mins 0.00 secs          Анапа   \n",
       "77  0 years 0 mons 0 days 0 hours 49 mins 0.00 secs          Анапа   \n",
       "\n",
       "   departure_airport_name arrival_city arrival_airport_name  ... passengers  \\\n",
       "84               Витязево     Белгород             Белгород  ...       95.0   \n",
       "89               Витязево     Белгород             Белгород  ...       95.0   \n",
       "77               Витязево     Белгород             Белгород  ...       64.0   \n",
       "\n",
       "    business_passengers    profit  flight_duration  weekday   loading  \\\n",
       "84                 12.0  752700.0         0.850000        1  0.979381   \n",
       "89                 12.0  752700.0         0.833333        3  0.979381   \n",
       "77                 10.0  531000.0         0.816667        0  0.659794   \n",
       "\n",
       "    fuel_consumption  fuel_cost  earnings  share_of_costs  \n",
       "84               1.7    65025.0  687675.0        0.086389  \n",
       "89               1.7    63750.0  688950.0        0.084695  \n",
       "77               1.7    62475.0  468525.0        0.117655  \n",
       "\n",
       "[3 rows x 24 columns]"
      ]
     },
     "execution_count": 20,
     "metadata": {},
     "output_type": "execute_result"
    }
   ],
   "source": [
    "df[df.earnings < 800_000].sample(3)"
   ]
  },
  {
   "cell_type": "code",
   "execution_count": 21,
   "metadata": {},
   "outputs": [
    {
     "data": {
      "text/html": [
       "<div>\n",
       "<style scoped>\n",
       "    .dataframe tbody tr th:only-of-type {\n",
       "        vertical-align: middle;\n",
       "    }\n",
       "\n",
       "    .dataframe tbody tr th {\n",
       "        vertical-align: top;\n",
       "    }\n",
       "\n",
       "    .dataframe thead th {\n",
       "        text-align: right;\n",
       "    }\n",
       "</style>\n",
       "<table border=\"1\" class=\"dataframe\">\n",
       "  <thead>\n",
       "    <tr style=\"text-align: right;\">\n",
       "      <th></th>\n",
       "      <th>flight_id</th>\n",
       "      <th>scheduled_departure</th>\n",
       "      <th>scheduled_arrival</th>\n",
       "      <th>scheduled_duration</th>\n",
       "      <th>actual_arrival</th>\n",
       "      <th>actual_duration</th>\n",
       "      <th>departure_city</th>\n",
       "      <th>departure_airport_name</th>\n",
       "      <th>arrival_city</th>\n",
       "      <th>arrival_airport_name</th>\n",
       "      <th>...</th>\n",
       "      <th>passengers</th>\n",
       "      <th>business_passengers</th>\n",
       "      <th>profit</th>\n",
       "      <th>flight_duration</th>\n",
       "      <th>weekday</th>\n",
       "      <th>loading</th>\n",
       "      <th>fuel_consumption</th>\n",
       "      <th>fuel_cost</th>\n",
       "      <th>earnings</th>\n",
       "      <th>share_of_costs</th>\n",
       "    </tr>\n",
       "  </thead>\n",
       "  <tbody>\n",
       "    <tr>\n",
       "      <th>35</th>\n",
       "      <td>136345</td>\n",
       "      <td>2017-01-24 10:05:00+00:00</td>\n",
       "      <td>2017-01-24 11:45:00+00:00</td>\n",
       "      <td>0 years 0 mons 0 days 1 hours 40 mins 0.00 secs</td>\n",
       "      <td>2017-01-24 15:12:00+00:00</td>\n",
       "      <td>0 years 0 mons 0 days 1 hours 40 mins 0.00 secs</td>\n",
       "      <td>Анапа</td>\n",
       "      <td>Витязево</td>\n",
       "      <td>Москва</td>\n",
       "      <td>Шереметьево</td>\n",
       "      <td>...</td>\n",
       "      <td>108.0</td>\n",
       "      <td>8.0</td>\n",
       "      <td>1517600.0</td>\n",
       "      <td>1.666667</td>\n",
       "      <td>1</td>\n",
       "      <td>0.830769</td>\n",
       "      <td>2.6</td>\n",
       "      <td>195000.0</td>\n",
       "      <td>1322600.0</td>\n",
       "      <td>0.128492</td>\n",
       "    </tr>\n",
       "    <tr>\n",
       "      <th>16</th>\n",
       "      <td>136204</td>\n",
       "      <td>2017-02-23 10:05:00+00:00</td>\n",
       "      <td>2017-02-23 11:45:00+00:00</td>\n",
       "      <td>0 years 0 mons 0 days 1 hours 40 mins 0.00 secs</td>\n",
       "      <td>2017-02-23 11:46:00+00:00</td>\n",
       "      <td>0 years 0 mons 0 days 1 hours 40 mins 0.00 secs</td>\n",
       "      <td>Анапа</td>\n",
       "      <td>Витязево</td>\n",
       "      <td>Москва</td>\n",
       "      <td>Шереметьево</td>\n",
       "      <td>...</td>\n",
       "      <td>107.0</td>\n",
       "      <td>6.0</td>\n",
       "      <td>1457800.0</td>\n",
       "      <td>1.666667</td>\n",
       "      <td>3</td>\n",
       "      <td>0.823077</td>\n",
       "      <td>2.6</td>\n",
       "      <td>195000.0</td>\n",
       "      <td>1262800.0</td>\n",
       "      <td>0.133763</td>\n",
       "    </tr>\n",
       "    <tr>\n",
       "      <th>2</th>\n",
       "      <td>136122</td>\n",
       "      <td>2017-01-08 10:05:00+00:00</td>\n",
       "      <td>2017-01-08 11:45:00+00:00</td>\n",
       "      <td>0 years 0 mons 0 days 1 hours 40 mins 0.00 secs</td>\n",
       "      <td>2017-01-08 11:48:00+00:00</td>\n",
       "      <td>0 years 0 mons 0 days 1 hours 40 mins 0.00 secs</td>\n",
       "      <td>Анапа</td>\n",
       "      <td>Витязево</td>\n",
       "      <td>Москва</td>\n",
       "      <td>Шереметьево</td>\n",
       "      <td>...</td>\n",
       "      <td>97.0</td>\n",
       "      <td>10.0</td>\n",
       "      <td>1431000.0</td>\n",
       "      <td>1.666667</td>\n",
       "      <td>6</td>\n",
       "      <td>0.746154</td>\n",
       "      <td>2.6</td>\n",
       "      <td>195000.0</td>\n",
       "      <td>1236000.0</td>\n",
       "      <td>0.136268</td>\n",
       "    </tr>\n",
       "  </tbody>\n",
       "</table>\n",
       "<p>3 rows × 24 columns</p>\n",
       "</div>"
      ],
      "text/plain": [
       "    flight_id       scheduled_departure         scheduled_arrival  \\\n",
       "35     136345 2017-01-24 10:05:00+00:00 2017-01-24 11:45:00+00:00   \n",
       "16     136204 2017-02-23 10:05:00+00:00 2017-02-23 11:45:00+00:00   \n",
       "2      136122 2017-01-08 10:05:00+00:00 2017-01-08 11:45:00+00:00   \n",
       "\n",
       "                                 scheduled_duration            actual_arrival  \\\n",
       "35  0 years 0 mons 0 days 1 hours 40 mins 0.00 secs 2017-01-24 15:12:00+00:00   \n",
       "16  0 years 0 mons 0 days 1 hours 40 mins 0.00 secs 2017-02-23 11:46:00+00:00   \n",
       "2   0 years 0 mons 0 days 1 hours 40 mins 0.00 secs 2017-01-08 11:48:00+00:00   \n",
       "\n",
       "                                    actual_duration departure_city  \\\n",
       "35  0 years 0 mons 0 days 1 hours 40 mins 0.00 secs          Анапа   \n",
       "16  0 years 0 mons 0 days 1 hours 40 mins 0.00 secs          Анапа   \n",
       "2   0 years 0 mons 0 days 1 hours 40 mins 0.00 secs          Анапа   \n",
       "\n",
       "   departure_airport_name arrival_city arrival_airport_name  ... passengers  \\\n",
       "35               Витязево       Москва          Шереметьево  ...      108.0   \n",
       "16               Витязево       Москва          Шереметьево  ...      107.0   \n",
       "2                Витязево       Москва          Шереметьево  ...       97.0   \n",
       "\n",
       "    business_passengers     profit  flight_duration  weekday   loading  \\\n",
       "35                  8.0  1517600.0         1.666667        1  0.830769   \n",
       "16                  6.0  1457800.0         1.666667        3  0.823077   \n",
       "2                  10.0  1431000.0         1.666667        6  0.746154   \n",
       "\n",
       "    fuel_consumption  fuel_cost   earnings  share_of_costs  \n",
       "35               2.6   195000.0  1322600.0        0.128492  \n",
       "16               2.6   195000.0  1262800.0        0.133763  \n",
       "2                2.6   195000.0  1236000.0        0.136268  \n",
       "\n",
       "[3 rows x 24 columns]"
      ]
     },
     "execution_count": 21,
     "metadata": {},
     "output_type": "execute_result"
    }
   ],
   "source": [
    "df[df.earnings > 800_000].sample(3)"
   ]
  },
  {
   "cell_type": "markdown",
   "metadata": {},
   "source": [
    "Как видно выше, на графиках, есть явный пробел в прибыли рейсов. Это обосновывается тем, что рейсы в Белгород менее прибыльные. Поэтому, имеет смысл разделить датасет на 2 части: рейсы в Москву и рейсы в Белгород."
   ]
  },
  {
   "cell_type": "code",
   "execution_count": 22,
   "metadata": {},
   "outputs": [],
   "source": [
    "moscow = df[df.arrival_city == \"Москва\"]\n",
    "belgorod = df[df.arrival_city == \"Белгород\"]"
   ]
  },
  {
   "cell_type": "code",
   "execution_count": 23,
   "metadata": {},
   "outputs": [
    {
     "data": {
      "image/png": "[encoded data removed]",
      "text/plain": [
       "<Figure size 864x360 with 2 Axes>"
      ]
     },
     "metadata": {
      "needs_background": "light"
     },
     "output_type": "display_data"
    }
   ],
   "source": [
    "fig, axes = plt.subplots(1, 2, sharey=True, figsize=(12, 5))\n",
    "\n",
    "sns.histplot(data=moscow.earnings, ax=axes[0])\n",
    "axes[0].set_title(\"Moscow Flights\")\n",
    "\n",
    "sns.histplot(belgorod.earnings, ax=axes[1], bins=20)\n",
    "axes[1].set_title(\"Belgorod Flights\")\n",
    "\n",
    "plt.show()"
   ]
  },
  {
   "cell_type": "markdown",
   "metadata": {},
   "source": [
    "На рейсах в Москву мы видим нормальное распределение признака. Однако, на рейсах в Белгород видно явное смещение вправо."
   ]
  },
  {
   "cell_type": "code",
   "execution_count": 24,
   "metadata": {},
   "outputs": [
    {
     "data": {
      "text/plain": [
       "Text(0.5, 1.0, 'Dependence of Earnings on the Loading - Belgorod')"
      ]
     },
     "execution_count": 24,
     "metadata": {},
     "output_type": "execute_result"
    },
    {
     "data": {
      "image/png": "[encoded data removed]",
      "text/plain": [
       "<Figure size 864x360 with 2 Axes>"
      ]
     },
     "metadata": {
      "needs_background": "light"
     },
     "output_type": "display_data"
    }
   ],
   "source": [
    "fig, axes = plt.subplots(1, 2, figsize=(12, 5))\n",
    "\n",
    "sns.scatterplot(x=moscow.earnings, y=moscow.loading, ax=axes[0])\n",
    "axes[0].set_title(\"Dependence of Earnings on the Loading - Moscow\")\n",
    "\n",
    "sns.scatterplot(x=belgorod.earnings, y=belgorod.loading, ax=axes[1])\n",
    "axes[1].set_title(\"Dependence of Earnings on the Loading - Belgorod\")"
   ]
  },
  {
   "cell_type": "markdown",
   "metadata": {},
   "source": [
    "Мы наблюдаем линейный рост заработка в зависимости от количества пассажиров. Явных выбросов не наблюдается. Построим аналогичные графики для пассажиров бизнес-класса."
   ]
  },
  {
   "cell_type": "code",
   "execution_count": 25,
   "metadata": {},
   "outputs": [
    {
     "data": {
      "text/plain": [
       "Text(0.5, 1.0, 'Business Passengers - Belgorod')"
      ]
     },
     "execution_count": 25,
     "metadata": {},
     "output_type": "execute_result"
    },
    {
     "data": {
      "image/png": "[encoded data removed]",
      "text/plain": [
       "<Figure size 864x360 with 2 Axes>"
      ]
     },
     "metadata": {
      "needs_background": "light"
     },
     "output_type": "display_data"
    }
   ],
   "source": [
    "fig, axes = plt.subplots(1, 2, figsize=(12, 5))\n",
    "\n",
    "sns.scatterplot(y=moscow.business_passengers, x=moscow.earnings, ax=axes[0])\n",
    "axes[0].set_title(\"Business Passengers - Moscow\")\n",
    "\n",
    "sns.scatterplot(y=belgorod.business_passengers, x=belgorod.earnings, ax=axes[1])\n",
    "axes[1].set_title(\"Business Passengers - Belgorod\")"
   ]
  },
  {
   "cell_type": "markdown",
   "metadata": {},
   "source": [
    "В целом, наблюдается такая же тенденция. Есть несколько выбросов."
   ]
  },
  {
   "cell_type": "code",
   "execution_count": 26,
   "metadata": {},
   "outputs": [
    {
     "data": {
      "text/plain": [
       "Text(0.5, 1.0, 'Earnings by weekday - Belgorod')"
      ]
     },
     "execution_count": 26,
     "metadata": {},
     "output_type": "execute_result"
    },
    {
     "data": {
      "image/png": "[encoded data removed]",
      "text/plain": [
       "<Figure size 864x360 with 2 Axes>"
      ]
     },
     "metadata": {
      "needs_background": "light"
     },
     "output_type": "display_data"
    }
   ],
   "source": [
    "fig, axes = plt.subplots(1, 2, figsize=(12, 5))\n",
    "\n",
    "sns.scatterplot(x=moscow.weekday, y=moscow.earnings, ax=axes[0])\n",
    "axes[0].set_title(\"Earnings by weekday - Moscow\")\n",
    "\n",
    "sns.scatterplot(x=belgorod.weekday, y=belgorod.earnings, ax=axes[1])\n",
    "axes[1].set_title(\"Earnings by weekday - Belgorod\")"
   ]
  },
  {
   "cell_type": "markdown",
   "metadata": {},
   "source": [
    "На графике видно, что воскресные рейсы в Москву не особо прибыльные. Рейсы в Белгород, в среднем одинаково прибыльные, независимо от дня недели."
   ]
  },
  {
   "cell_type": "markdown",
   "metadata": {},
   "source": [
    "Взгляненм на корреляцию признаков."
   ]
  },
  {
   "cell_type": "code",
   "execution_count": 27,
   "metadata": {},
   "outputs": [
    {
     "data": {
      "text/plain": [
       "Text(0.5, 1.0, 'Moscow Flights Correlation')"
      ]
     },
     "execution_count": 27,
     "metadata": {},
     "output_type": "execute_result"
    },
    {
     "data": {
      "image/png": "[encoded data removed]",
      "text/plain": [
       "<Figure size 432x288 with 2 Axes>"
      ]
     },
     "metadata": {
      "needs_background": "light"
     },
     "output_type": "display_data"
    }
   ],
   "source": [
    "a = sns.heatmap(moscow.corr())\n",
    "a.set_title(\"Moscow Flights Correlation\")"
   ]
  },
  {
   "cell_type": "code",
   "execution_count": 28,
   "metadata": {},
   "outputs": [
    {
     "data": {
      "text/plain": [
       "Text(0.5, 1.0, 'Belgorod Flights Correlation')"
      ]
     },
     "execution_count": 28,
     "metadata": {},
     "output_type": "execute_result"
    },
    {
     "data": {
      "image/png": "[encoded data removed]",
      "text/plain": [
       "<Figure size 432x288 with 2 Axes>"
      ]
     },
     "metadata": {
      "needs_background": "light"
     },
     "output_type": "display_data"
    }
   ],
   "source": [
    "a = sns.heatmap(belgorod.corr())\n",
    "a.set_title(\"Belgorod Flights Correlation\")"
   ]
  },
  {
   "cell_type": "markdown",
   "metadata": {},
   "source": [
    "Основываясь на проведенном анализе, можно утверждать, что самые неприбыльные рейсы те, на которых меньше всего пассажиров. Следует выяснить, если в этом какая-то закономерность."
   ]
  },
  {
   "cell_type": "code",
   "execution_count": 29,
   "metadata": {},
   "outputs": [],
   "source": [
    "# Рассмотрим малоприбыльные рейсы более внимательно\n",
    "m_unprofitable = moscow[moscow.earnings < moscow.earnings.quantile(.25)]\n",
    "b_unprofitable = belgorod[belgorod.earnings < belgorod.earnings.quantile(.25)]"
   ]
  },
  {
   "cell_type": "code",
   "execution_count": 30,
   "metadata": {},
   "outputs": [
    {
     "data": {
      "text/plain": [
       "6    4\n",
       "3    3\n",
       "2    3\n",
       "0    2\n",
       "5    1\n",
       "4    1\n",
       "1    1\n",
       "Name: scheduled_departure, dtype: int64"
      ]
     },
     "execution_count": 30,
     "metadata": {},
     "output_type": "execute_result"
    }
   ],
   "source": [
    "m_unprofitable.scheduled_departure.dt.weekday.value_counts()"
   ]
  },
  {
   "cell_type": "code",
   "execution_count": 37,
   "metadata": {},
   "outputs": [
    {
     "data": {
      "text/html": [
       "<div>\n",
       "<style scoped>\n",
       "    .dataframe tbody tr th:only-of-type {\n",
       "        vertical-align: middle;\n",
       "    }\n",
       "\n",
       "    .dataframe tbody tr th {\n",
       "        vertical-align: top;\n",
       "    }\n",
       "\n",
       "    .dataframe thead th {\n",
       "        text-align: right;\n",
       "    }\n",
       "</style>\n",
       "<table border=\"1\" class=\"dataframe\">\n",
       "  <thead>\n",
       "    <tr style=\"text-align: right;\">\n",
       "      <th></th>\n",
       "      <th>flight_id</th>\n",
       "      <th>range</th>\n",
       "      <th>seats</th>\n",
       "      <th>business_seats</th>\n",
       "      <th>passengers</th>\n",
       "      <th>business_passengers</th>\n",
       "      <th>profit</th>\n",
       "      <th>flight_duration</th>\n",
       "      <th>weekday</th>\n",
       "      <th>loading</th>\n",
       "      <th>fuel_consumption</th>\n",
       "      <th>fuel_cost</th>\n",
       "      <th>earnings</th>\n",
       "      <th>share_of_costs</th>\n",
       "    </tr>\n",
       "  </thead>\n",
       "  <tbody>\n",
       "    <tr>\n",
       "      <th>count</th>\n",
       "      <td>59.000000</td>\n",
       "      <td>59.0</td>\n",
       "      <td>59.0</td>\n",
       "      <td>59.0</td>\n",
       "      <td>59.000000</td>\n",
       "      <td>59.000000</td>\n",
       "      <td>5.900000e+01</td>\n",
       "      <td>59.000000</td>\n",
       "      <td>59.000000</td>\n",
       "      <td>59.000000</td>\n",
       "      <td>5.900000e+01</td>\n",
       "      <td>59.000000</td>\n",
       "      <td>5.900000e+01</td>\n",
       "      <td>59.000000</td>\n",
       "    </tr>\n",
       "    <tr>\n",
       "      <th>mean</th>\n",
       "      <td>136298.661017</td>\n",
       "      <td>4200.0</td>\n",
       "      <td>130.0</td>\n",
       "      <td>12.0</td>\n",
       "      <td>113.118644</td>\n",
       "      <td>10.508475</td>\n",
       "      <td>1.642576e+06</td>\n",
       "      <td>1.663842</td>\n",
       "      <td>2.966102</td>\n",
       "      <td>0.870143</td>\n",
       "      <td>2.600000e+00</td>\n",
       "      <td>194669.491525</td>\n",
       "      <td>1.447907e+06</td>\n",
       "      <td>0.119299</td>\n",
       "    </tr>\n",
       "    <tr>\n",
       "      <th>std</th>\n",
       "      <td>117.208716</td>\n",
       "      <td>0.0</td>\n",
       "      <td>0.0</td>\n",
       "      <td>0.0</td>\n",
       "      <td>8.896115</td>\n",
       "      <td>1.394235</td>\n",
       "      <td>1.318786e+05</td>\n",
       "      <td>0.016421</td>\n",
       "      <td>2.059177</td>\n",
       "      <td>0.068432</td>\n",
       "      <td>2.687407e-15</td>\n",
       "      <td>1921.296638</td>\n",
       "      <td>1.325473e+05</td>\n",
       "      <td>0.010049</td>\n",
       "    </tr>\n",
       "    <tr>\n",
       "      <th>min</th>\n",
       "      <td>136119.000000</td>\n",
       "      <td>4200.0</td>\n",
       "      <td>130.0</td>\n",
       "      <td>12.0</td>\n",
       "      <td>97.000000</td>\n",
       "      <td>6.000000</td>\n",
       "      <td>1.398000e+06</td>\n",
       "      <td>1.633333</td>\n",
       "      <td>0.000000</td>\n",
       "      <td>0.746154</td>\n",
       "      <td>2.600000e+00</td>\n",
       "      <td>191100.000000</td>\n",
       "      <td>1.203000e+06</td>\n",
       "      <td>0.103393</td>\n",
       "    </tr>\n",
       "    <tr>\n",
       "      <th>25%</th>\n",
       "      <td>136193.500000</td>\n",
       "      <td>4200.0</td>\n",
       "      <td>130.0</td>\n",
       "      <td>12.0</td>\n",
       "      <td>107.000000</td>\n",
       "      <td>10.000000</td>\n",
       "      <td>1.543200e+06</td>\n",
       "      <td>1.650000</td>\n",
       "      <td>1.000000</td>\n",
       "      <td>0.823077</td>\n",
       "      <td>2.600000e+00</td>\n",
       "      <td>193050.000000</td>\n",
       "      <td>1.350150e+06</td>\n",
       "      <td>0.111050</td>\n",
       "    </tr>\n",
       "    <tr>\n",
       "      <th>50%</th>\n",
       "      <td>136284.000000</td>\n",
       "      <td>4200.0</td>\n",
       "      <td>130.0</td>\n",
       "      <td>12.0</td>\n",
       "      <td>112.000000</td>\n",
       "      <td>11.000000</td>\n",
       "      <td>1.628600e+06</td>\n",
       "      <td>1.666667</td>\n",
       "      <td>3.000000</td>\n",
       "      <td>0.861538</td>\n",
       "      <td>2.600000e+00</td>\n",
       "      <td>195000.000000</td>\n",
       "      <td>1.435550e+06</td>\n",
       "      <td>0.119147</td>\n",
       "    </tr>\n",
       "    <tr>\n",
       "      <th>75%</th>\n",
       "      <td>136407.000000</td>\n",
       "      <td>4200.0</td>\n",
       "      <td>130.0</td>\n",
       "      <td>12.0</td>\n",
       "      <td>120.000000</td>\n",
       "      <td>11.500000</td>\n",
       "      <td>1.738400e+06</td>\n",
       "      <td>1.666667</td>\n",
       "      <td>5.000000</td>\n",
       "      <td>0.923077</td>\n",
       "      <td>2.600000e+00</td>\n",
       "      <td>195000.000000</td>\n",
       "      <td>1.545350e+06</td>\n",
       "      <td>0.125950</td>\n",
       "    </tr>\n",
       "    <tr>\n",
       "      <th>max</th>\n",
       "      <td>136486.000000</td>\n",
       "      <td>4200.0</td>\n",
       "      <td>130.0</td>\n",
       "      <td>12.0</td>\n",
       "      <td>130.000000</td>\n",
       "      <td>12.000000</td>\n",
       "      <td>1.886000e+06</td>\n",
       "      <td>1.716667</td>\n",
       "      <td>6.000000</td>\n",
       "      <td>1.000000</td>\n",
       "      <td>2.600000e+00</td>\n",
       "      <td>200850.000000</td>\n",
       "      <td>1.691000e+06</td>\n",
       "      <td>0.139899</td>\n",
       "    </tr>\n",
       "  </tbody>\n",
       "</table>\n",
       "</div>"
      ],
      "text/plain": [
       "           flight_id   range  seats  business_seats  passengers  \\\n",
       "count      59.000000    59.0   59.0            59.0   59.000000   \n",
       "mean   136298.661017  4200.0  130.0            12.0  113.118644   \n",
       "std       117.208716     0.0    0.0             0.0    8.896115   \n",
       "min    136119.000000  4200.0  130.0            12.0   97.000000   \n",
       "25%    136193.500000  4200.0  130.0            12.0  107.000000   \n",
       "50%    136284.000000  4200.0  130.0            12.0  112.000000   \n",
       "75%    136407.000000  4200.0  130.0            12.0  120.000000   \n",
       "max    136486.000000  4200.0  130.0            12.0  130.000000   \n",
       "\n",
       "       business_passengers        profit  flight_duration    weekday  \\\n",
       "count            59.000000  5.900000e+01        59.000000  59.000000   \n",
       "mean             10.508475  1.642576e+06         1.663842   2.966102   \n",
       "std               1.394235  1.318786e+05         0.016421   2.059177   \n",
       "min               6.000000  1.398000e+06         1.633333   0.000000   \n",
       "25%              10.000000  1.543200e+06         1.650000   1.000000   \n",
       "50%              11.000000  1.628600e+06         1.666667   3.000000   \n",
       "75%              11.500000  1.738400e+06         1.666667   5.000000   \n",
       "max              12.000000  1.886000e+06         1.716667   6.000000   \n",
       "\n",
       "         loading  fuel_consumption      fuel_cost      earnings  \\\n",
       "count  59.000000      5.900000e+01      59.000000  5.900000e+01   \n",
       "mean    0.870143      2.600000e+00  194669.491525  1.447907e+06   \n",
       "std     0.068432      2.687407e-15    1921.296638  1.325473e+05   \n",
       "min     0.746154      2.600000e+00  191100.000000  1.203000e+06   \n",
       "25%     0.823077      2.600000e+00  193050.000000  1.350150e+06   \n",
       "50%     0.861538      2.600000e+00  195000.000000  1.435550e+06   \n",
       "75%     0.923077      2.600000e+00  195000.000000  1.545350e+06   \n",
       "max     1.000000      2.600000e+00  200850.000000  1.691000e+06   \n",
       "\n",
       "       share_of_costs  \n",
       "count       59.000000  \n",
       "mean         0.119299  \n",
       "std          0.010049  \n",
       "min          0.103393  \n",
       "25%          0.111050  \n",
       "50%          0.119147  \n",
       "75%          0.125950  \n",
       "max          0.139899  "
      ]
     },
     "execution_count": 37,
     "metadata": {},
     "output_type": "execute_result"
    }
   ],
   "source": [
    "moscow.describe()"
   ]
  },
  {
   "cell_type": "code",
   "execution_count": 38,
   "metadata": {},
   "outputs": [
    {
     "data": {
      "text/html": [
       "<div>\n",
       "<style scoped>\n",
       "    .dataframe tbody tr th:only-of-type {\n",
       "        vertical-align: middle;\n",
       "    }\n",
       "\n",
       "    .dataframe tbody tr th {\n",
       "        vertical-align: top;\n",
       "    }\n",
       "\n",
       "    .dataframe thead th {\n",
       "        text-align: right;\n",
       "    }\n",
       "</style>\n",
       "<table border=\"1\" class=\"dataframe\">\n",
       "  <thead>\n",
       "    <tr style=\"text-align: right;\">\n",
       "      <th></th>\n",
       "      <th>flight_id</th>\n",
       "      <th>range</th>\n",
       "      <th>seats</th>\n",
       "      <th>business_seats</th>\n",
       "      <th>passengers</th>\n",
       "      <th>business_passengers</th>\n",
       "      <th>profit</th>\n",
       "      <th>flight_duration</th>\n",
       "      <th>weekday</th>\n",
       "      <th>loading</th>\n",
       "      <th>fuel_consumption</th>\n",
       "      <th>fuel_cost</th>\n",
       "      <th>earnings</th>\n",
       "      <th>share_of_costs</th>\n",
       "    </tr>\n",
       "  </thead>\n",
       "  <tbody>\n",
       "    <tr>\n",
       "      <th>count</th>\n",
       "      <td>59.000000</td>\n",
       "      <td>59.0</td>\n",
       "      <td>59.0</td>\n",
       "      <td>59.0</td>\n",
       "      <td>59.000000</td>\n",
       "      <td>59.000000</td>\n",
       "      <td>59.000000</td>\n",
       "      <td>59.000000</td>\n",
       "      <td>59.000000</td>\n",
       "      <td>59.000000</td>\n",
       "      <td>5.900000e+01</td>\n",
       "      <td>59.000000</td>\n",
       "      <td>59.000000</td>\n",
       "      <td>59.000000</td>\n",
       "    </tr>\n",
       "    <tr>\n",
       "      <th>mean</th>\n",
       "      <td>136768.220339</td>\n",
       "      <td>3000.0</td>\n",
       "      <td>97.0</td>\n",
       "      <td>12.0</td>\n",
       "      <td>90.186441</td>\n",
       "      <td>11.067797</td>\n",
       "      <td>710435.593220</td>\n",
       "      <td>0.834746</td>\n",
       "      <td>2.966102</td>\n",
       "      <td>0.929757</td>\n",
       "      <td>1.700000e+00</td>\n",
       "      <td>63858.050847</td>\n",
       "      <td>646577.542373</td>\n",
       "      <td>0.090722</td>\n",
       "    </tr>\n",
       "    <tr>\n",
       "      <th>std</th>\n",
       "      <td>112.072801</td>\n",
       "      <td>0.0</td>\n",
       "      <td>0.0</td>\n",
       "      <td>0.0</td>\n",
       "      <td>8.101670</td>\n",
       "      <td>1.350152</td>\n",
       "      <td>65835.266628</td>\n",
       "      <td>0.010849</td>\n",
       "      <td>2.059177</td>\n",
       "      <td>0.083522</td>\n",
       "      <td>1.791605e-15</td>\n",
       "      <td>829.954308</td>\n",
       "      <td>65691.545521</td>\n",
       "      <td>0.009289</td>\n",
       "    </tr>\n",
       "    <tr>\n",
       "      <th>min</th>\n",
       "      <td>136571.000000</td>\n",
       "      <td>3000.0</td>\n",
       "      <td>97.0</td>\n",
       "      <td>12.0</td>\n",
       "      <td>64.000000</td>\n",
       "      <td>6.000000</td>\n",
       "      <td>531000.000000</td>\n",
       "      <td>0.816667</td>\n",
       "      <td>0.000000</td>\n",
       "      <td>0.659794</td>\n",
       "      <td>1.700000e+00</td>\n",
       "      <td>62475.000000</td>\n",
       "      <td>467250.000000</td>\n",
       "      <td>0.081635</td>\n",
       "    </tr>\n",
       "    <tr>\n",
       "      <th>25%</th>\n",
       "      <td>136663.500000</td>\n",
       "      <td>3000.0</td>\n",
       "      <td>97.0</td>\n",
       "      <td>12.0</td>\n",
       "      <td>86.500000</td>\n",
       "      <td>10.000000</td>\n",
       "      <td>667350.000000</td>\n",
       "      <td>0.833333</td>\n",
       "      <td>1.000000</td>\n",
       "      <td>0.891753</td>\n",
       "      <td>1.700000e+00</td>\n",
       "      <td>63750.000000</td>\n",
       "      <td>602962.500000</td>\n",
       "      <td>0.083992</td>\n",
       "    </tr>\n",
       "    <tr>\n",
       "      <th>50%</th>\n",
       "      <td>136769.000000</td>\n",
       "      <td>3000.0</td>\n",
       "      <td>97.0</td>\n",
       "      <td>12.0</td>\n",
       "      <td>95.000000</td>\n",
       "      <td>12.000000</td>\n",
       "      <td>746400.000000</td>\n",
       "      <td>0.833333</td>\n",
       "      <td>3.000000</td>\n",
       "      <td>0.979381</td>\n",
       "      <td>1.700000e+00</td>\n",
       "      <td>63750.000000</td>\n",
       "      <td>682650.000000</td>\n",
       "      <td>0.085672</td>\n",
       "    </tr>\n",
       "    <tr>\n",
       "      <th>75%</th>\n",
       "      <td>136859.000000</td>\n",
       "      <td>3000.0</td>\n",
       "      <td>97.0</td>\n",
       "      <td>12.0</td>\n",
       "      <td>97.000000</td>\n",
       "      <td>12.000000</td>\n",
       "      <td>765300.000000</td>\n",
       "      <td>0.841667</td>\n",
       "      <td>5.000000</td>\n",
       "      <td>1.000000</td>\n",
       "      <td>1.700000e+00</td>\n",
       "      <td>64387.500000</td>\n",
       "      <td>700275.000000</td>\n",
       "      <td>0.096480</td>\n",
       "    </tr>\n",
       "    <tr>\n",
       "      <th>max</th>\n",
       "      <td>136956.000000</td>\n",
       "      <td>3000.0</td>\n",
       "      <td>97.0</td>\n",
       "      <td>12.0</td>\n",
       "      <td>97.000000</td>\n",
       "      <td>12.000000</td>\n",
       "      <td>765300.000000</td>\n",
       "      <td>0.850000</td>\n",
       "      <td>6.000000</td>\n",
       "      <td>1.000000</td>\n",
       "      <td>1.700000e+00</td>\n",
       "      <td>65025.000000</td>\n",
       "      <td>702825.000000</td>\n",
       "      <td>0.120056</td>\n",
       "    </tr>\n",
       "  </tbody>\n",
       "</table>\n",
       "</div>"
      ],
      "text/plain": [
       "           flight_id   range  seats  business_seats  passengers  \\\n",
       "count      59.000000    59.0   59.0            59.0   59.000000   \n",
       "mean   136768.220339  3000.0   97.0            12.0   90.186441   \n",
       "std       112.072801     0.0    0.0             0.0    8.101670   \n",
       "min    136571.000000  3000.0   97.0            12.0   64.000000   \n",
       "25%    136663.500000  3000.0   97.0            12.0   86.500000   \n",
       "50%    136769.000000  3000.0   97.0            12.0   95.000000   \n",
       "75%    136859.000000  3000.0   97.0            12.0   97.000000   \n",
       "max    136956.000000  3000.0   97.0            12.0   97.000000   \n",
       "\n",
       "       business_passengers         profit  flight_duration    weekday  \\\n",
       "count            59.000000      59.000000        59.000000  59.000000   \n",
       "mean             11.067797  710435.593220         0.834746   2.966102   \n",
       "std               1.350152   65835.266628         0.010849   2.059177   \n",
       "min               6.000000  531000.000000         0.816667   0.000000   \n",
       "25%              10.000000  667350.000000         0.833333   1.000000   \n",
       "50%              12.000000  746400.000000         0.833333   3.000000   \n",
       "75%              12.000000  765300.000000         0.841667   5.000000   \n",
       "max              12.000000  765300.000000         0.850000   6.000000   \n",
       "\n",
       "         loading  fuel_consumption     fuel_cost       earnings  \\\n",
       "count  59.000000      5.900000e+01     59.000000      59.000000   \n",
       "mean    0.929757      1.700000e+00  63858.050847  646577.542373   \n",
       "std     0.083522      1.791605e-15    829.954308   65691.545521   \n",
       "min     0.659794      1.700000e+00  62475.000000  467250.000000   \n",
       "25%     0.891753      1.700000e+00  63750.000000  602962.500000   \n",
       "50%     0.979381      1.700000e+00  63750.000000  682650.000000   \n",
       "75%     1.000000      1.700000e+00  64387.500000  700275.000000   \n",
       "max     1.000000      1.700000e+00  65025.000000  702825.000000   \n",
       "\n",
       "       share_of_costs  \n",
       "count       59.000000  \n",
       "mean         0.090722  \n",
       "std          0.009289  \n",
       "min          0.081635  \n",
       "25%          0.083992  \n",
       "50%          0.085672  \n",
       "75%          0.096480  \n",
       "max          0.120056  "
      ]
     },
     "execution_count": 38,
     "metadata": {},
     "output_type": "execute_result"
    }
   ],
   "source": [
    "belgorod.describe()"
   ]
  },
  {
   "cell_type": "code",
   "execution_count": null,
   "metadata": {},
   "outputs": [],
   "source": []
  }
 ],
 "metadata": {
  "kernelspec": {
   "display_name": "Python 3",
   "language": "python",
   "name": "python3"
  },
  "language_info": {
   "codemirror_mode": {
    "name": "ipython",
    "version": 3
   },
   "file_extension": ".py",
   "mimetype": "text/x-python",
   "name": "python",
   "nbconvert_exporter": "python",
   "pygments_lexer": "ipython3",
   "version": "3.8.5"
  }
 },
 "nbformat": 4,
 "nbformat_minor": 4
}
