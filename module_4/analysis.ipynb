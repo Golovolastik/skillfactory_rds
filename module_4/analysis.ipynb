{
 "cells": [
  {
   "cell_type": "code",
   "execution_count": 54,
   "metadata": {},
   "outputs": [],
   "source": [
    "import pandas as pd\n",
    "import matplotlib.pyplot as plt\n",
    "import seaborn as sns\n",
    "import warnings\n",
    "warnings.filterwarnings('ignore')"
   ]
  },
  {
   "cell_type": "markdown",
   "metadata": {},
   "source": [
    "### Взглянем на данные"
   ]
  },
  {
   "cell_type": "code",
   "execution_count": 32,
   "metadata": {},
   "outputs": [
    {
     "data": {
      "text/html": [
       "<div>\n",
       "<style scoped>\n",
       "    .dataframe tbody tr th:only-of-type {\n",
       "        vertical-align: middle;\n",
       "    }\n",
       "\n",
       "    .dataframe tbody tr th {\n",
       "        vertical-align: top;\n",
       "    }\n",
       "\n",
       "    .dataframe thead th {\n",
       "        text-align: right;\n",
       "    }\n",
       "</style>\n",
       "<table border=\"1\" class=\"dataframe\">\n",
       "  <thead>\n",
       "    <tr style=\"text-align: right;\">\n",
       "      <th></th>\n",
       "      <th>flight_id</th>\n",
       "      <th>scheduled_departure</th>\n",
       "      <th>scheduled_arrival</th>\n",
       "      <th>scheduled_duration</th>\n",
       "      <th>departure_city</th>\n",
       "      <th>departure_airport_name</th>\n",
       "      <th>arrival_city</th>\n",
       "      <th>arrival_airport_name</th>\n",
       "      <th>model</th>\n",
       "      <th>range</th>\n",
       "      <th>seats</th>\n",
       "      <th>profit</th>\n",
       "      <th>passengers</th>\n",
       "    </tr>\n",
       "  </thead>\n",
       "  <tbody>\n",
       "    <tr>\n",
       "      <th>0</th>\n",
       "      <td>136119</td>\n",
       "      <td>2017-01-03T10:05:00Z</td>\n",
       "      <td>2017-01-03T11:45:00Z</td>\n",
       "      <td>0 years 0 mons 0 days 1 hours 40 mins 0.00 secs</td>\n",
       "      <td>Анапа</td>\n",
       "      <td>Витязево</td>\n",
       "      <td>Москва</td>\n",
       "      <td>Шереметьево</td>\n",
       "      <td>Boeing 737-300</td>\n",
       "      <td>4200</td>\n",
       "      <td>130</td>\n",
       "      <td>1653000.0</td>\n",
       "      <td>113.0</td>\n",
       "    </tr>\n",
       "    <tr>\n",
       "      <th>1</th>\n",
       "      <td>136120</td>\n",
       "      <td>2017-02-24T10:05:00Z</td>\n",
       "      <td>2017-02-24T11:45:00Z</td>\n",
       "      <td>0 years 0 mons 0 days 1 hours 40 mins 0.00 secs</td>\n",
       "      <td>Анапа</td>\n",
       "      <td>Витязево</td>\n",
       "      <td>Москва</td>\n",
       "      <td>Шереметьево</td>\n",
       "      <td>Boeing 737-300</td>\n",
       "      <td>4200</td>\n",
       "      <td>130</td>\n",
       "      <td>1605400.0</td>\n",
       "      <td>109.0</td>\n",
       "    </tr>\n",
       "    <tr>\n",
       "      <th>2</th>\n",
       "      <td>136122</td>\n",
       "      <td>2017-01-08T10:05:00Z</td>\n",
       "      <td>2017-01-08T11:45:00Z</td>\n",
       "      <td>0 years 0 mons 0 days 1 hours 40 mins 0.00 secs</td>\n",
       "      <td>Анапа</td>\n",
       "      <td>Витязево</td>\n",
       "      <td>Москва</td>\n",
       "      <td>Шереметьево</td>\n",
       "      <td>Boeing 737-300</td>\n",
       "      <td>4200</td>\n",
       "      <td>130</td>\n",
       "      <td>1431000.0</td>\n",
       "      <td>97.0</td>\n",
       "    </tr>\n",
       "    <tr>\n",
       "      <th>3</th>\n",
       "      <td>136130</td>\n",
       "      <td>2017-02-13T10:05:00Z</td>\n",
       "      <td>2017-02-13T11:45:00Z</td>\n",
       "      <td>0 years 0 mons 0 days 1 hours 40 mins 0.00 secs</td>\n",
       "      <td>Анапа</td>\n",
       "      <td>Витязево</td>\n",
       "      <td>Москва</td>\n",
       "      <td>Шереметьево</td>\n",
       "      <td>Boeing 737-300</td>\n",
       "      <td>4200</td>\n",
       "      <td>130</td>\n",
       "      <td>1556600.0</td>\n",
       "      <td>107.0</td>\n",
       "    </tr>\n",
       "    <tr>\n",
       "      <th>4</th>\n",
       "      <td>136131</td>\n",
       "      <td>2017-01-28T10:05:00Z</td>\n",
       "      <td>2017-01-28T11:45:00Z</td>\n",
       "      <td>0 years 0 mons 0 days 1 hours 40 mins 0.00 secs</td>\n",
       "      <td>Анапа</td>\n",
       "      <td>Витязево</td>\n",
       "      <td>Москва</td>\n",
       "      <td>Шереметьево</td>\n",
       "      <td>Boeing 737-300</td>\n",
       "      <td>4200</td>\n",
       "      <td>130</td>\n",
       "      <td>1812800.0</td>\n",
       "      <td>124.0</td>\n",
       "    </tr>\n",
       "  </tbody>\n",
       "</table>\n",
       "</div>"
      ],
      "text/plain": [
       "   flight_id   scheduled_departure     scheduled_arrival  \\\n",
       "0     136119  2017-01-03T10:05:00Z  2017-01-03T11:45:00Z   \n",
       "1     136120  2017-02-24T10:05:00Z  2017-02-24T11:45:00Z   \n",
       "2     136122  2017-01-08T10:05:00Z  2017-01-08T11:45:00Z   \n",
       "3     136130  2017-02-13T10:05:00Z  2017-02-13T11:45:00Z   \n",
       "4     136131  2017-01-28T10:05:00Z  2017-01-28T11:45:00Z   \n",
       "\n",
       "                                scheduled_duration departure_city  \\\n",
       "0  0 years 0 mons 0 days 1 hours 40 mins 0.00 secs          Анапа   \n",
       "1  0 years 0 mons 0 days 1 hours 40 mins 0.00 secs          Анапа   \n",
       "2  0 years 0 mons 0 days 1 hours 40 mins 0.00 secs          Анапа   \n",
       "3  0 years 0 mons 0 days 1 hours 40 mins 0.00 secs          Анапа   \n",
       "4  0 years 0 mons 0 days 1 hours 40 mins 0.00 secs          Анапа   \n",
       "\n",
       "  departure_airport_name arrival_city arrival_airport_name           model  \\\n",
       "0               Витязево       Москва          Шереметьево  Boeing 737-300   \n",
       "1               Витязево       Москва          Шереметьево  Boeing 737-300   \n",
       "2               Витязево       Москва          Шереметьево  Boeing 737-300   \n",
       "3               Витязево       Москва          Шереметьево  Boeing 737-300   \n",
       "4               Витязево       Москва          Шереметьево  Boeing 737-300   \n",
       "\n",
       "   range  seats     profit  passengers  \n",
       "0   4200    130  1653000.0       113.0  \n",
       "1   4200    130  1605400.0       109.0  \n",
       "2   4200    130  1431000.0        97.0  \n",
       "3   4200    130  1556600.0       107.0  \n",
       "4   4200    130  1812800.0       124.0  "
      ]
     },
     "execution_count": 32,
     "metadata": {},
     "output_type": "execute_result"
    }
   ],
   "source": [
    "df = pd.read_csv(\"sql_query.csv\")\n",
    "df.head()"
   ]
  },
  {
   "cell_type": "code",
   "execution_count": 33,
   "metadata": {},
   "outputs": [
    {
     "name": "stdout",
     "output_type": "stream",
     "text": [
      "<class 'pandas.core.frame.DataFrame'>\n",
      "RangeIndex: 127 entries, 0 to 126\n",
      "Data columns (total 13 columns):\n",
      " #   Column                  Non-Null Count  Dtype  \n",
      "---  ------                  --------------  -----  \n",
      " 0   flight_id               127 non-null    int64  \n",
      " 1   scheduled_departure     127 non-null    object \n",
      " 2   scheduled_arrival       127 non-null    object \n",
      " 3   scheduled_duration      127 non-null    object \n",
      " 4   departure_city          127 non-null    object \n",
      " 5   departure_airport_name  127 non-null    object \n",
      " 6   arrival_city            127 non-null    object \n",
      " 7   arrival_airport_name    127 non-null    object \n",
      " 8   model                   127 non-null    object \n",
      " 9   range                   127 non-null    int64  \n",
      " 10  seats                   127 non-null    int64  \n",
      " 11  profit                  118 non-null    float64\n",
      " 12  passengers              118 non-null    float64\n",
      "dtypes: float64(2), int64(3), object(8)\n",
      "memory usage: 13.0+ KB\n"
     ]
    }
   ],
   "source": [
    "df.info()"
   ]
  },
  {
   "cell_type": "code",
   "execution_count": 34,
   "metadata": {
    "scrolled": true
   },
   "outputs": [
    {
     "data": {
      "text/html": [
       "<div>\n",
       "<style scoped>\n",
       "    .dataframe tbody tr th:only-of-type {\n",
       "        vertical-align: middle;\n",
       "    }\n",
       "\n",
       "    .dataframe tbody tr th {\n",
       "        vertical-align: top;\n",
       "    }\n",
       "\n",
       "    .dataframe thead th {\n",
       "        text-align: right;\n",
       "    }\n",
       "</style>\n",
       "<table border=\"1\" class=\"dataframe\">\n",
       "  <thead>\n",
       "    <tr style=\"text-align: right;\">\n",
       "      <th></th>\n",
       "      <th>flight_id</th>\n",
       "      <th>scheduled_departure</th>\n",
       "      <th>scheduled_arrival</th>\n",
       "      <th>scheduled_duration</th>\n",
       "      <th>departure_city</th>\n",
       "      <th>departure_airport_name</th>\n",
       "      <th>arrival_city</th>\n",
       "      <th>arrival_airport_name</th>\n",
       "      <th>model</th>\n",
       "      <th>range</th>\n",
       "      <th>seats</th>\n",
       "      <th>profit</th>\n",
       "      <th>passengers</th>\n",
       "    </tr>\n",
       "  </thead>\n",
       "  <tbody>\n",
       "    <tr>\n",
       "      <th>59</th>\n",
       "      <td>136511</td>\n",
       "      <td>2017-02-21T06:10:00Z</td>\n",
       "      <td>2017-02-21T11:15:00Z</td>\n",
       "      <td>0 years 0 mons 0 days 5 hours 5 mins 0.00 secs</td>\n",
       "      <td>Анапа</td>\n",
       "      <td>Витязево</td>\n",
       "      <td>Новокузнецк</td>\n",
       "      <td>Спиченково</td>\n",
       "      <td>Boeing 737-300</td>\n",
       "      <td>4200</td>\n",
       "      <td>130</td>\n",
       "      <td>NaN</td>\n",
       "      <td>NaN</td>\n",
       "    </tr>\n",
       "    <tr>\n",
       "      <th>60</th>\n",
       "      <td>136513</td>\n",
       "      <td>2017-02-28T06:10:00Z</td>\n",
       "      <td>2017-02-28T11:15:00Z</td>\n",
       "      <td>0 years 0 mons 0 days 5 hours 5 mins 0.00 secs</td>\n",
       "      <td>Анапа</td>\n",
       "      <td>Витязево</td>\n",
       "      <td>Новокузнецк</td>\n",
       "      <td>Спиченково</td>\n",
       "      <td>Boeing 737-300</td>\n",
       "      <td>4200</td>\n",
       "      <td>130</td>\n",
       "      <td>NaN</td>\n",
       "      <td>NaN</td>\n",
       "    </tr>\n",
       "    <tr>\n",
       "      <th>61</th>\n",
       "      <td>136514</td>\n",
       "      <td>2017-02-07T06:10:00Z</td>\n",
       "      <td>2017-02-07T11:15:00Z</td>\n",
       "      <td>0 years 0 mons 0 days 5 hours 5 mins 0.00 secs</td>\n",
       "      <td>Анапа</td>\n",
       "      <td>Витязево</td>\n",
       "      <td>Новокузнецк</td>\n",
       "      <td>Спиченково</td>\n",
       "      <td>Boeing 737-300</td>\n",
       "      <td>4200</td>\n",
       "      <td>130</td>\n",
       "      <td>NaN</td>\n",
       "      <td>NaN</td>\n",
       "    </tr>\n",
       "    <tr>\n",
       "      <th>62</th>\n",
       "      <td>136523</td>\n",
       "      <td>2017-01-10T06:10:00Z</td>\n",
       "      <td>2017-01-10T11:15:00Z</td>\n",
       "      <td>0 years 0 mons 0 days 5 hours 5 mins 0.00 secs</td>\n",
       "      <td>Анапа</td>\n",
       "      <td>Витязево</td>\n",
       "      <td>Новокузнецк</td>\n",
       "      <td>Спиченково</td>\n",
       "      <td>Boeing 737-300</td>\n",
       "      <td>4200</td>\n",
       "      <td>130</td>\n",
       "      <td>NaN</td>\n",
       "      <td>NaN</td>\n",
       "    </tr>\n",
       "    <tr>\n",
       "      <th>63</th>\n",
       "      <td>136540</td>\n",
       "      <td>2017-01-17T06:10:00Z</td>\n",
       "      <td>2017-01-17T11:15:00Z</td>\n",
       "      <td>0 years 0 mons 0 days 5 hours 5 mins 0.00 secs</td>\n",
       "      <td>Анапа</td>\n",
       "      <td>Витязево</td>\n",
       "      <td>Новокузнецк</td>\n",
       "      <td>Спиченково</td>\n",
       "      <td>Boeing 737-300</td>\n",
       "      <td>4200</td>\n",
       "      <td>130</td>\n",
       "      <td>NaN</td>\n",
       "      <td>NaN</td>\n",
       "    </tr>\n",
       "    <tr>\n",
       "      <th>64</th>\n",
       "      <td>136544</td>\n",
       "      <td>2017-01-31T06:10:00Z</td>\n",
       "      <td>2017-01-31T11:15:00Z</td>\n",
       "      <td>0 years 0 mons 0 days 5 hours 5 mins 0.00 secs</td>\n",
       "      <td>Анапа</td>\n",
       "      <td>Витязево</td>\n",
       "      <td>Новокузнецк</td>\n",
       "      <td>Спиченково</td>\n",
       "      <td>Boeing 737-300</td>\n",
       "      <td>4200</td>\n",
       "      <td>130</td>\n",
       "      <td>NaN</td>\n",
       "      <td>NaN</td>\n",
       "    </tr>\n",
       "    <tr>\n",
       "      <th>65</th>\n",
       "      <td>136546</td>\n",
       "      <td>2017-01-03T06:10:00Z</td>\n",
       "      <td>2017-01-03T11:15:00Z</td>\n",
       "      <td>0 years 0 mons 0 days 5 hours 5 mins 0.00 secs</td>\n",
       "      <td>Анапа</td>\n",
       "      <td>Витязево</td>\n",
       "      <td>Новокузнецк</td>\n",
       "      <td>Спиченково</td>\n",
       "      <td>Boeing 737-300</td>\n",
       "      <td>4200</td>\n",
       "      <td>130</td>\n",
       "      <td>NaN</td>\n",
       "      <td>NaN</td>\n",
       "    </tr>\n",
       "    <tr>\n",
       "      <th>66</th>\n",
       "      <td>136560</td>\n",
       "      <td>2017-01-24T06:10:00Z</td>\n",
       "      <td>2017-01-24T11:15:00Z</td>\n",
       "      <td>0 years 0 mons 0 days 5 hours 5 mins 0.00 secs</td>\n",
       "      <td>Анапа</td>\n",
       "      <td>Витязево</td>\n",
       "      <td>Новокузнецк</td>\n",
       "      <td>Спиченково</td>\n",
       "      <td>Boeing 737-300</td>\n",
       "      <td>4200</td>\n",
       "      <td>130</td>\n",
       "      <td>NaN</td>\n",
       "      <td>NaN</td>\n",
       "    </tr>\n",
       "    <tr>\n",
       "      <th>67</th>\n",
       "      <td>136567</td>\n",
       "      <td>2017-02-14T06:10:00Z</td>\n",
       "      <td>2017-02-14T11:15:00Z</td>\n",
       "      <td>0 years 0 mons 0 days 5 hours 5 mins 0.00 secs</td>\n",
       "      <td>Анапа</td>\n",
       "      <td>Витязево</td>\n",
       "      <td>Новокузнецк</td>\n",
       "      <td>Спиченково</td>\n",
       "      <td>Boeing 737-300</td>\n",
       "      <td>4200</td>\n",
       "      <td>130</td>\n",
       "      <td>NaN</td>\n",
       "      <td>NaN</td>\n",
       "    </tr>\n",
       "  </tbody>\n",
       "</table>\n",
       "</div>"
      ],
      "text/plain": [
       "    flight_id   scheduled_departure     scheduled_arrival  \\\n",
       "59     136511  2017-02-21T06:10:00Z  2017-02-21T11:15:00Z   \n",
       "60     136513  2017-02-28T06:10:00Z  2017-02-28T11:15:00Z   \n",
       "61     136514  2017-02-07T06:10:00Z  2017-02-07T11:15:00Z   \n",
       "62     136523  2017-01-10T06:10:00Z  2017-01-10T11:15:00Z   \n",
       "63     136540  2017-01-17T06:10:00Z  2017-01-17T11:15:00Z   \n",
       "64     136544  2017-01-31T06:10:00Z  2017-01-31T11:15:00Z   \n",
       "65     136546  2017-01-03T06:10:00Z  2017-01-03T11:15:00Z   \n",
       "66     136560  2017-01-24T06:10:00Z  2017-01-24T11:15:00Z   \n",
       "67     136567  2017-02-14T06:10:00Z  2017-02-14T11:15:00Z   \n",
       "\n",
       "                                scheduled_duration departure_city  \\\n",
       "59  0 years 0 mons 0 days 5 hours 5 mins 0.00 secs          Анапа   \n",
       "60  0 years 0 mons 0 days 5 hours 5 mins 0.00 secs          Анапа   \n",
       "61  0 years 0 mons 0 days 5 hours 5 mins 0.00 secs          Анапа   \n",
       "62  0 years 0 mons 0 days 5 hours 5 mins 0.00 secs          Анапа   \n",
       "63  0 years 0 mons 0 days 5 hours 5 mins 0.00 secs          Анапа   \n",
       "64  0 years 0 mons 0 days 5 hours 5 mins 0.00 secs          Анапа   \n",
       "65  0 years 0 mons 0 days 5 hours 5 mins 0.00 secs          Анапа   \n",
       "66  0 years 0 mons 0 days 5 hours 5 mins 0.00 secs          Анапа   \n",
       "67  0 years 0 mons 0 days 5 hours 5 mins 0.00 secs          Анапа   \n",
       "\n",
       "   departure_airport_name arrival_city arrival_airport_name           model  \\\n",
       "59               Витязево  Новокузнецк           Спиченково  Boeing 737-300   \n",
       "60               Витязево  Новокузнецк           Спиченково  Boeing 737-300   \n",
       "61               Витязево  Новокузнецк           Спиченково  Boeing 737-300   \n",
       "62               Витязево  Новокузнецк           Спиченково  Boeing 737-300   \n",
       "63               Витязево  Новокузнецк           Спиченково  Boeing 737-300   \n",
       "64               Витязево  Новокузнецк           Спиченково  Boeing 737-300   \n",
       "65               Витязево  Новокузнецк           Спиченково  Boeing 737-300   \n",
       "66               Витязево  Новокузнецк           Спиченково  Boeing 737-300   \n",
       "67               Витязево  Новокузнецк           Спиченково  Boeing 737-300   \n",
       "\n",
       "    range  seats  profit  passengers  \n",
       "59   4200    130     NaN         NaN  \n",
       "60   4200    130     NaN         NaN  \n",
       "61   4200    130     NaN         NaN  \n",
       "62   4200    130     NaN         NaN  \n",
       "63   4200    130     NaN         NaN  \n",
       "64   4200    130     NaN         NaN  \n",
       "65   4200    130     NaN         NaN  \n",
       "66   4200    130     NaN         NaN  \n",
       "67   4200    130     NaN         NaN  "
      ]
     },
     "execution_count": 34,
     "metadata": {},
     "output_type": "execute_result"
    }
   ],
   "source": [
    "df[df.passengers.isnull()]"
   ]
  },
  {
   "cell_type": "markdown",
   "metadata": {},
   "source": [
    "### Работа с данными"
   ]
  },
  {
   "cell_type": "markdown",
   "metadata": {},
   "source": [
    "В датасете отсутствует информация о пассажирах и сумме проданных билетов на рейсах в Новокузнецк.  \n",
    "Удалим информацию по Новокузнецку."
   ]
  },
  {
   "cell_type": "code",
   "execution_count": 35,
   "metadata": {},
   "outputs": [],
   "source": [
    "df = df[df.arrival_city != 'Новокузнецк']"
   ]
  },
  {
   "cell_type": "markdown",
   "metadata": {},
   "source": [
    "Переведем колонки \"scheduled_departure\" и \"scheduled_arrival\" в формат datetime"
   ]
  },
  {
   "cell_type": "code",
   "execution_count": 36,
   "metadata": {},
   "outputs": [],
   "source": [
    "df.scheduled_departure = pd.to_datetime(df.scheduled_departure)\n",
    "df.scheduled_arrival = pd.to_datetime(df.scheduled_arrival)"
   ]
  },
  {
   "cell_type": "markdown",
   "metadata": {},
   "source": [
    "Переведем длительность рейса в часы"
   ]
  },
  {
   "cell_type": "code",
   "execution_count": 37,
   "metadata": {},
   "outputs": [],
   "source": [
    "def convert_to_hours(row):\n",
    "    minutes = int(row.split(\" \")[6]) + int(row.split(\" \")[8]) / 60\n",
    "    return minutes"
   ]
  },
  {
   "cell_type": "code",
   "execution_count": 38,
   "metadata": {},
   "outputs": [],
   "source": [
    "df['flight_duration'] = df.scheduled_duration.apply(convert_to_hours)"
   ]
  },
  {
   "cell_type": "markdown",
   "metadata": {},
   "source": [
    "Создадим дополнительный признак отображающий загрузку самолета в процентах"
   ]
  },
  {
   "cell_type": "code",
   "execution_count": 39,
   "metadata": {},
   "outputs": [],
   "source": [
    "df['loading'] = df.passengers / df.seats"
   ]
  },
  {
   "cell_type": "markdown",
   "metadata": {},
   "source": [
    "Согласно информации министерства транспорта РФ (www.favt.gov.ru), в 2017 году, стоимость тонны топлива в аэропорту Анапы варьировалась в районе 45000 рублей"
   ]
  },
  {
   "cell_type": "markdown",
   "metadata": {},
   "source": [
    "К сожалению, производители не предоставляют информацию о расходе топлива, по данным из сети интернет расход самолета \"Сухой Суперджет-100\" - 1,7 т/ч, \"Boeing 737-300\" - 2,6 т/ч. "
   ]
  },
  {
   "cell_type": "markdown",
   "metadata": {},
   "source": [
    "Рассчитаем стоимость топлива"
   ]
  },
  {
   "cell_type": "code",
   "execution_count": 40,
   "metadata": {},
   "outputs": [],
   "source": [
    "def fuel_consumption(row):\n",
    "    if row.model == 'Sukhoi Superjet-100':\n",
    "        return 1.7\n",
    "    elif row.model == 'Boeing 737-300':\n",
    "        return 2.6"
   ]
  },
  {
   "cell_type": "code",
   "execution_count": 41,
   "metadata": {},
   "outputs": [],
   "source": [
    "df['fuel_consumption'] = df.apply(fuel_consumption, axis=1)"
   ]
  },
  {
   "cell_type": "code",
   "execution_count": 42,
   "metadata": {},
   "outputs": [],
   "source": [
    "df['fuel_cost'] = df.fuel_consumption * df.flight_duration * 45000"
   ]
  },
  {
   "cell_type": "markdown",
   "metadata": {},
   "source": [
    "Посчитаем прибыль за вычетом стоимости топлива"
   ]
  },
  {
   "cell_type": "code",
   "execution_count": 43,
   "metadata": {},
   "outputs": [],
   "source": [
    "df['earnings'] = df.profit - df.fuel_cost"
   ]
  },
  {
   "cell_type": "markdown",
   "metadata": {},
   "source": [
    "Определим долю затрат на топливо"
   ]
  },
  {
   "cell_type": "code",
   "execution_count": 44,
   "metadata": {},
   "outputs": [],
   "source": [
    "df['share_of_costs'] = 1 - df['earnings'] / df['profit']"
   ]
  },
  {
   "cell_type": "code",
   "execution_count": 45,
   "metadata": {},
   "outputs": [
    {
     "data": {
      "text/plain": [
       "0.10503040314242293"
      ]
     },
     "execution_count": 45,
     "metadata": {},
     "output_type": "execute_result"
    }
   ],
   "source": [
    "df['share_of_costs'].mean()"
   ]
  },
  {
   "cell_type": "markdown",
   "metadata": {},
   "source": [
    "### Себестоимость полета"
   ]
  },
  {
   "cell_type": "markdown",
   "metadata": {},
   "source": [
    "В среднем, затраты составлют 10,5%. Согласно информации US Airways Group и The Wall Stree Journal, доля затрат на билеты составляет 29%. Но, также согласно этих данных прибыль авиакомпании составляет всего 1%. Маловероятно, что это соответствует истине."
   ]
  },
  {
   "cell_type": "markdown",
   "metadata": {},
   "source": [
    "![Расходы на полёт](images/flight_expenses.jpg)"
   ]
  },
  {
   "cell_type": "markdown",
   "metadata": {},
   "source": [
    "Но, на самом деле схема затрат намного сложнее. В соответствии с классификацией эксплуатационных расходов предложенной IATA, схема расходов выглядит так."
   ]
  },
  {
   "cell_type": "markdown",
   "metadata": {},
   "source": [
    "![](images/IATA_flight_expenses.jpg)"
   ]
  },
  {
   "cell_type": "markdown",
   "metadata": {},
   "source": [
    "Оставим подсчет себестоимости рейса профессионалам. А мы проведем анализ на основе загрузки самолета и затратам на топливо."
   ]
  },
  {
   "cell_type": "markdown",
   "metadata": {},
   "source": [
    "### Визуализируем данные"
   ]
  },
  {
   "cell_type": "code",
   "execution_count": 56,
   "metadata": {},
   "outputs": [
    {
     "data": {
      "text/plain": [
       "<AxesSubplot:xlabel='scheduled_departure', ylabel='count'>"
      ]
     },
     "execution_count": 56,
     "metadata": {},
     "output_type": "execute_result"
    },
    {
     "data": {
      "image/png": "[encoded data removed]",
      "text/plain": [
       "<Figure size 432x288 with 1 Axes>"
      ]
     },
     "metadata": {
      "needs_background": "light"
     },
     "output_type": "display_data"
    }
   ],
   "source": [
    "# Вылет осуществляется только в 9 и 10 часов\n",
    "sns.countplot(df.scheduled_departure.dt.hour)"
   ]
  },
  {
   "cell_type": "code",
   "execution_count": 58,
   "metadata": {},
   "outputs": [
    {
     "data": {
      "text/plain": [
       "<AxesSubplot:xlabel='arrival_city', ylabel='count'>"
      ]
     },
     "execution_count": 58,
     "metadata": {},
     "output_type": "execute_result"
    },
    {
     "data": {
      "image/png": "[encoded data removed]",
      "text/plain": [
       "<Figure size 432x288 with 1 Axes>"
      ]
     },
     "metadata": {
      "needs_background": "light"
     },
     "output_type": "display_data"
    }
   ],
   "source": [
    "# Самолеты летаеют в Москву и Белгород в равном количстве\n",
    "sns.countplot(df.arrival_city)"
   ]
  },
  {
   "cell_type": "code",
   "execution_count": 68,
   "metadata": {},
   "outputs": [
    {
     "data": {
      "text/plain": [
       "<AxesSubplot:xlabel='model', ylabel='count'>"
      ]
     },
     "execution_count": 68,
     "metadata": {},
     "output_type": "execute_result"
    },
    {
     "data": {
      "image/png": "[encoded data removed]",
      "text/plain": [
       "<Figure size 432x288 with 1 Axes>"
      ]
     },
     "metadata": {
      "needs_background": "light"
     },
     "output_type": "display_data"
    }
   ],
   "source": [
    "# В зависмости от города назначения авиакомпании используют разные модели самолетов\n",
    "sns.countplot(df.model)"
   ]
  },
  {
   "cell_type": "markdown",
   "metadata": {},
   "source": [
    "##### Построим графики на основе прибыли"
   ]
  },
  {
   "cell_type": "code",
   "execution_count": 69,
   "metadata": {},
   "outputs": [
    {
     "data": {
      "text/plain": [
       "<AxesSubplot:xlabel='earnings', ylabel='passengers'>"
      ]
     },
     "execution_count": 69,
     "metadata": {},
     "output_type": "execute_result"
    },
    {
     "data": {
      "image/png": "[encoded data removed]",
      "text/plain": [
       "<Figure size 432x288 with 1 Axes>"
      ]
     },
     "metadata": {
      "needs_background": "light"
     },
     "output_type": "display_data"
    }
   ],
   "source": [
    "sns.scatterplot(x=df.earnings, y=df.passengers)"
   ]
  },
  {
   "cell_type": "code",
   "execution_count": 71,
   "metadata": {},
   "outputs": [
    {
     "data": {
      "text/plain": [
       "<AxesSubplot:xlabel='earnings', ylabel='Count'>"
      ]
     },
     "execution_count": 71,
     "metadata": {},
     "output_type": "execute_result"
    },
    {
     "data": {
      "image/png": "[encoded data removed]",
      "text/plain": [
       "<Figure size 432x288 with 1 Axes>"
      ]
     },
     "metadata": {
      "needs_background": "light"
     },
     "output_type": "display_data"
    }
   ],
   "source": [
    "sns.histplot(df.earnings)"
   ]
  },
  {
   "cell_type": "code",
   "execution_count": 75,
   "metadata": {},
   "outputs": [
    {
     "data": {
      "text/html": [
       "<div>\n",
       "<style scoped>\n",
       "    .dataframe tbody tr th:only-of-type {\n",
       "        vertical-align: middle;\n",
       "    }\n",
       "\n",
       "    .dataframe tbody tr th {\n",
       "        vertical-align: top;\n",
       "    }\n",
       "\n",
       "    .dataframe thead th {\n",
       "        text-align: right;\n",
       "    }\n",
       "</style>\n",
       "<table border=\"1\" class=\"dataframe\">\n",
       "  <thead>\n",
       "    <tr style=\"text-align: right;\">\n",
       "      <th></th>\n",
       "      <th>flight_id</th>\n",
       "      <th>scheduled_departure</th>\n",
       "      <th>scheduled_arrival</th>\n",
       "      <th>scheduled_duration</th>\n",
       "      <th>departure_city</th>\n",
       "      <th>departure_airport_name</th>\n",
       "      <th>arrival_city</th>\n",
       "      <th>arrival_airport_name</th>\n",
       "      <th>model</th>\n",
       "      <th>range</th>\n",
       "      <th>seats</th>\n",
       "      <th>profit</th>\n",
       "      <th>passengers</th>\n",
       "      <th>flight_duration</th>\n",
       "      <th>loading</th>\n",
       "      <th>fuel_consumption</th>\n",
       "      <th>fuel_cost</th>\n",
       "      <th>earnings</th>\n",
       "      <th>share_of_costs</th>\n",
       "    </tr>\n",
       "  </thead>\n",
       "  <tbody>\n",
       "    <tr>\n",
       "      <th>98</th>\n",
       "      <td>136778</td>\n",
       "      <td>2017-02-22 09:25:00+00:00</td>\n",
       "      <td>2017-02-22 10:15:00+00:00</td>\n",
       "      <td>0 years 0 mons 0 days 0 hours 50 mins 0.00 secs</td>\n",
       "      <td>Анапа</td>\n",
       "      <td>Витязево</td>\n",
       "      <td>Белгород</td>\n",
       "      <td>Белгород</td>\n",
       "      <td>Sukhoi Superjet-100</td>\n",
       "      <td>3000</td>\n",
       "      <td>97</td>\n",
       "      <td>759000.0</td>\n",
       "      <td>96.0</td>\n",
       "      <td>0.833333</td>\n",
       "      <td>0.989691</td>\n",
       "      <td>1.7</td>\n",
       "      <td>63750.0</td>\n",
       "      <td>695250.0</td>\n",
       "      <td>0.083992</td>\n",
       "    </tr>\n",
       "    <tr>\n",
       "      <th>112</th>\n",
       "      <td>136861</td>\n",
       "      <td>2017-02-12 09:25:00+00:00</td>\n",
       "      <td>2017-02-12 10:15:00+00:00</td>\n",
       "      <td>0 years 0 mons 0 days 0 hours 50 mins 0.00 secs</td>\n",
       "      <td>Анапа</td>\n",
       "      <td>Витязево</td>\n",
       "      <td>Белгород</td>\n",
       "      <td>Белгород</td>\n",
       "      <td>Sukhoi Superjet-100</td>\n",
       "      <td>3000</td>\n",
       "      <td>97</td>\n",
       "      <td>689100.0</td>\n",
       "      <td>87.0</td>\n",
       "      <td>0.833333</td>\n",
       "      <td>0.896907</td>\n",
       "      <td>1.7</td>\n",
       "      <td>63750.0</td>\n",
       "      <td>625350.0</td>\n",
       "      <td>0.092512</td>\n",
       "    </tr>\n",
       "    <tr>\n",
       "      <th>122</th>\n",
       "      <td>136936</td>\n",
       "      <td>2017-01-02 09:25:00+00:00</td>\n",
       "      <td>2017-01-02 10:15:00+00:00</td>\n",
       "      <td>0 years 0 mons 0 days 0 hours 50 mins 0.00 secs</td>\n",
       "      <td>Анапа</td>\n",
       "      <td>Витязево</td>\n",
       "      <td>Белгород</td>\n",
       "      <td>Белгород</td>\n",
       "      <td>Sukhoi Superjet-100</td>\n",
       "      <td>3000</td>\n",
       "      <td>97</td>\n",
       "      <td>632400.0</td>\n",
       "      <td>82.0</td>\n",
       "      <td>0.833333</td>\n",
       "      <td>0.845361</td>\n",
       "      <td>1.7</td>\n",
       "      <td>63750.0</td>\n",
       "      <td>568650.0</td>\n",
       "      <td>0.100806</td>\n",
       "    </tr>\n",
       "  </tbody>\n",
       "</table>\n",
       "</div>"
      ],
      "text/plain": [
       "     flight_id       scheduled_departure         scheduled_arrival  \\\n",
       "98      136778 2017-02-22 09:25:00+00:00 2017-02-22 10:15:00+00:00   \n",
       "112     136861 2017-02-12 09:25:00+00:00 2017-02-12 10:15:00+00:00   \n",
       "122     136936 2017-01-02 09:25:00+00:00 2017-01-02 10:15:00+00:00   \n",
       "\n",
       "                                  scheduled_duration departure_city  \\\n",
       "98   0 years 0 mons 0 days 0 hours 50 mins 0.00 secs          Анапа   \n",
       "112  0 years 0 mons 0 days 0 hours 50 mins 0.00 secs          Анапа   \n",
       "122  0 years 0 mons 0 days 0 hours 50 mins 0.00 secs          Анапа   \n",
       "\n",
       "    departure_airport_name arrival_city arrival_airport_name  \\\n",
       "98                Витязево     Белгород             Белгород   \n",
       "112               Витязево     Белгород             Белгород   \n",
       "122               Витязево     Белгород             Белгород   \n",
       "\n",
       "                   model  range  seats    profit  passengers  flight_duration  \\\n",
       "98   Sukhoi Superjet-100   3000     97  759000.0        96.0         0.833333   \n",
       "112  Sukhoi Superjet-100   3000     97  689100.0        87.0         0.833333   \n",
       "122  Sukhoi Superjet-100   3000     97  632400.0        82.0         0.833333   \n",
       "\n",
       "      loading  fuel_consumption  fuel_cost  earnings  share_of_costs  \n",
       "98   0.989691               1.7    63750.0  695250.0        0.083992  \n",
       "112  0.896907               1.7    63750.0  625350.0        0.092512  \n",
       "122  0.845361               1.7    63750.0  568650.0        0.100806  "
      ]
     },
     "execution_count": 75,
     "metadata": {},
     "output_type": "execute_result"
    }
   ],
   "source": [
    "df[df.earnings < 800_000].sample(3)"
   ]
  },
  {
   "cell_type": "code",
   "execution_count": 76,
   "metadata": {},
   "outputs": [
    {
     "data": {
      "text/html": [
       "<div>\n",
       "<style scoped>\n",
       "    .dataframe tbody tr th:only-of-type {\n",
       "        vertical-align: middle;\n",
       "    }\n",
       "\n",
       "    .dataframe tbody tr th {\n",
       "        vertical-align: top;\n",
       "    }\n",
       "\n",
       "    .dataframe thead th {\n",
       "        text-align: right;\n",
       "    }\n",
       "</style>\n",
       "<table border=\"1\" class=\"dataframe\">\n",
       "  <thead>\n",
       "    <tr style=\"text-align: right;\">\n",
       "      <th></th>\n",
       "      <th>flight_id</th>\n",
       "      <th>scheduled_departure</th>\n",
       "      <th>scheduled_arrival</th>\n",
       "      <th>scheduled_duration</th>\n",
       "      <th>departure_city</th>\n",
       "      <th>departure_airport_name</th>\n",
       "      <th>arrival_city</th>\n",
       "      <th>arrival_airport_name</th>\n",
       "      <th>model</th>\n",
       "      <th>range</th>\n",
       "      <th>seats</th>\n",
       "      <th>profit</th>\n",
       "      <th>passengers</th>\n",
       "      <th>flight_duration</th>\n",
       "      <th>loading</th>\n",
       "      <th>fuel_consumption</th>\n",
       "      <th>fuel_cost</th>\n",
       "      <th>earnings</th>\n",
       "      <th>share_of_costs</th>\n",
       "    </tr>\n",
       "  </thead>\n",
       "  <tbody>\n",
       "    <tr>\n",
       "      <th>12</th>\n",
       "      <td>136178</td>\n",
       "      <td>2017-01-29 10:05:00+00:00</td>\n",
       "      <td>2017-01-29 11:45:00+00:00</td>\n",
       "      <td>0 years 0 mons 0 days 1 hours 40 mins 0.00 secs</td>\n",
       "      <td>Анапа</td>\n",
       "      <td>Витязево</td>\n",
       "      <td>Москва</td>\n",
       "      <td>Шереметьево</td>\n",
       "      <td>Boeing 737-300</td>\n",
       "      <td>4200</td>\n",
       "      <td>130</td>\n",
       "      <td>1434600.0</td>\n",
       "      <td>99.0</td>\n",
       "      <td>1.666667</td>\n",
       "      <td>0.761538</td>\n",
       "      <td>2.6</td>\n",
       "      <td>195000.0</td>\n",
       "      <td>1239600.0</td>\n",
       "      <td>0.135926</td>\n",
       "    </tr>\n",
       "    <tr>\n",
       "      <th>20</th>\n",
       "      <td>136249</td>\n",
       "      <td>2017-02-14 10:05:00+00:00</td>\n",
       "      <td>2017-02-14 11:45:00+00:00</td>\n",
       "      <td>0 years 0 mons 0 days 1 hours 40 mins 0.00 secs</td>\n",
       "      <td>Анапа</td>\n",
       "      <td>Витязево</td>\n",
       "      <td>Москва</td>\n",
       "      <td>Шереметьево</td>\n",
       "      <td>Boeing 737-300</td>\n",
       "      <td>4200</td>\n",
       "      <td>130</td>\n",
       "      <td>1800600.0</td>\n",
       "      <td>123.0</td>\n",
       "      <td>1.666667</td>\n",
       "      <td>0.946154</td>\n",
       "      <td>2.6</td>\n",
       "      <td>195000.0</td>\n",
       "      <td>1605600.0</td>\n",
       "      <td>0.108297</td>\n",
       "    </tr>\n",
       "    <tr>\n",
       "      <th>11</th>\n",
       "      <td>136172</td>\n",
       "      <td>2017-01-15 10:05:00+00:00</td>\n",
       "      <td>2017-01-15 11:45:00+00:00</td>\n",
       "      <td>0 years 0 mons 0 days 1 hours 40 mins 0.00 secs</td>\n",
       "      <td>Анапа</td>\n",
       "      <td>Витязево</td>\n",
       "      <td>Москва</td>\n",
       "      <td>Шереметьево</td>\n",
       "      <td>Boeing 737-300</td>\n",
       "      <td>4200</td>\n",
       "      <td>130</td>\n",
       "      <td>1617600.0</td>\n",
       "      <td>110.0</td>\n",
       "      <td>1.666667</td>\n",
       "      <td>0.846154</td>\n",
       "      <td>2.6</td>\n",
       "      <td>195000.0</td>\n",
       "      <td>1422600.0</td>\n",
       "      <td>0.120549</td>\n",
       "    </tr>\n",
       "  </tbody>\n",
       "</table>\n",
       "</div>"
      ],
      "text/plain": [
       "    flight_id       scheduled_departure         scheduled_arrival  \\\n",
       "12     136178 2017-01-29 10:05:00+00:00 2017-01-29 11:45:00+00:00   \n",
       "20     136249 2017-02-14 10:05:00+00:00 2017-02-14 11:45:00+00:00   \n",
       "11     136172 2017-01-15 10:05:00+00:00 2017-01-15 11:45:00+00:00   \n",
       "\n",
       "                                 scheduled_duration departure_city  \\\n",
       "12  0 years 0 mons 0 days 1 hours 40 mins 0.00 secs          Анапа   \n",
       "20  0 years 0 mons 0 days 1 hours 40 mins 0.00 secs          Анапа   \n",
       "11  0 years 0 mons 0 days 1 hours 40 mins 0.00 secs          Анапа   \n",
       "\n",
       "   departure_airport_name arrival_city arrival_airport_name           model  \\\n",
       "12               Витязево       Москва          Шереметьево  Boeing 737-300   \n",
       "20               Витязево       Москва          Шереметьево  Boeing 737-300   \n",
       "11               Витязево       Москва          Шереметьево  Boeing 737-300   \n",
       "\n",
       "    range  seats     profit  passengers  flight_duration   loading  \\\n",
       "12   4200    130  1434600.0        99.0         1.666667  0.761538   \n",
       "20   4200    130  1800600.0       123.0         1.666667  0.946154   \n",
       "11   4200    130  1617600.0       110.0         1.666667  0.846154   \n",
       "\n",
       "    fuel_consumption  fuel_cost   earnings  share_of_costs  \n",
       "12               2.6   195000.0  1239600.0        0.135926  \n",
       "20               2.6   195000.0  1605600.0        0.108297  \n",
       "11               2.6   195000.0  1422600.0        0.120549  "
      ]
     },
     "execution_count": 76,
     "metadata": {},
     "output_type": "execute_result"
    }
   ],
   "source": [
    "df[df.earnings > 800_000].sample(3)"
   ]
  },
  {
   "cell_type": "markdown",
   "metadata": {},
   "source": [
    "Как видно выше, на графиках, есть явный пробел в прибыли рейсов. Это обосновыывается тем, что рейсы в Белгород менее прибыльные. Поэтому, имеет смысл разделить датасет на 2 части: рейсы в Москву и рейсы в Белгород."
   ]
  },
  {
   "cell_type": "code",
   "execution_count": 109,
   "metadata": {},
   "outputs": [],
   "source": [
    "moscow = df[df.arrival_city == \"Москва\"]\n",
    "belgorod = df[df.arrival_city == \"Белгород\"]"
   ]
  },
  {
   "cell_type": "code",
   "execution_count": 116,
   "metadata": {},
   "outputs": [
    {
     "data": {
      "image/png": "[encoded data removed]",
      "text/plain": [
       "<Figure size 864x360 with 2 Axes>"
      ]
     },
     "metadata": {
      "needs_background": "light"
     },
     "output_type": "display_data"
    }
   ],
   "source": [
    "fig, axes = plt.subplots(1, 2, sharey=True, figsize=(12, 5))\n",
    "\n",
    "sns.histplot(data=moscow.earnings, ax=axes[0])\n",
    "axes[0].set_title(\"Moscow Flights\")\n",
    "\n",
    "sns.histplot(belgorod.earnings, ax=axes[1], bins=20)\n",
    "axes[1].set_title(\"Belgorod Flights\")\n",
    "\n",
    "plt.show()"
   ]
  },
  {
   "cell_type": "markdown",
   "metadata": {},
   "source": [
    "На рейсах в Москву мы видим нормальное распределение признака. Однако, на рейсах в Белгород видно явное смещение вправо."
   ]
  },
  {
   "cell_type": "code",
   "execution_count": 117,
   "metadata": {},
   "outputs": [
    {
     "data": {
      "text/plain": [
       "Text(0.5, 1.0, 'Dependence of Earnings on the Loading - Belgorod')"
      ]
     },
     "execution_count": 117,
     "metadata": {},
     "output_type": "execute_result"
    },
    {
     "data": {
      "image/png": "[encoded data removed]",
      "text/plain": [
       "<Figure size 864x360 with 2 Axes>"
      ]
     },
     "metadata": {
      "needs_background": "light"
     },
     "output_type": "display_data"
    }
   ],
   "source": [
    "fig, axes = plt.subplots(1, 2, figsize=(12, 5))\n",
    "\n",
    "sns.scatterplot(x=moscow.earnings, y=moscow.loading, ax=axes[0])\n",
    "axes[0].set_title(\"Dependence of Earnings on the Loading - Moscow\")\n",
    "\n",
    "sns.scatterplot(x=belgorod.earnings, y=belgorod.loading, ax=axes[1])\n",
    "axes[1].set_title(\"Dependence of Earnings on the Loading - Belgorod\")"
   ]
  },
  {
   "cell_type": "markdown",
   "metadata": {},
   "source": [
    "Мы наблюдаем линейный рост зароботка в зависимости от количества пассажиров."
   ]
  },
  {
   "cell_type": "code",
   "execution_count": 119,
   "metadata": {},
   "outputs": [
    {
     "data": {
      "text/plain": [
       "0      1\n",
       "1      4\n",
       "2      6\n",
       "3      0\n",
       "4      5\n",
       "      ..\n",
       "122    0\n",
       "123    1\n",
       "124    3\n",
       "125    0\n",
       "126    5\n",
       "Name: scheduled_arrival, Length: 118, dtype: int64"
      ]
     },
     "execution_count": 119,
     "metadata": {},
     "output_type": "execute_result"
    }
   ],
   "source": [
    "df.scheduled_arrival.dt.weekday"
   ]
  },
  {
   "cell_type": "code",
   "execution_count": null,
   "metadata": {},
   "outputs": [],
   "source": []
  }
 ],
 "metadata": {
  "kernelspec": {
   "display_name": "Python 3",
   "language": "python",
   "name": "python3"
  },
  "language_info": {
   "codemirror_mode": {
    "name": "ipython",
    "version": 3
   },
   "file_extension": ".py",
   "mimetype": "text/x-python",
   "name": "python",
   "nbconvert_exporter": "python",
   "pygments_lexer": "ipython3",
   "version": "3.8.5"
  }
 },
 "nbformat": 4,
 "nbformat_minor": 4
}
