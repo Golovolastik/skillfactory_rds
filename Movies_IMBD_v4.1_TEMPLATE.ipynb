{
 "cells": [
  {
   "cell_type": "code",
   "execution_count": 1,
   "metadata": {
    "_cell_guid": "b1076dfc-b9ad-4769-8c92-a6c4dae69d19",
    "_uuid": "8f2839f25d086af736a60e9eeb907d3b93b6e0e5",
    "colab": {},
    "colab_type": "code",
    "id": "U2D2gTdJVp90"
   },
   "outputs": [],
   "source": [
    "import pandas as pd\n",
    "import matplotlib.pyplot as plt\n",
    "import seaborn as sns\n",
    "#sns.set()\n",
    "from itertools import combinations\n",
    "from collections import Counter\n",
    "%matplotlib inline"
   ]
  },
  {
   "cell_type": "code",
   "execution_count": 2,
   "metadata": {
    "_cell_guid": "79c7e3d0-c299-4dcb-8224-4455121ee9b0",
    "_uuid": "d629ff2d2480ee46fbb7e2d37f6b5fab8052498a",
    "colab": {},
    "colab_type": "code",
    "id": "oyGfxL3eVp9-"
   },
   "outputs": [
    {
     "data": {
      "text/html": [
       "<div>\n",
       "<style scoped>\n",
       "    .dataframe tbody tr th:only-of-type {\n",
       "        vertical-align: middle;\n",
       "    }\n",
       "\n",
       "    .dataframe tbody tr th {\n",
       "        vertical-align: top;\n",
       "    }\n",
       "\n",
       "    .dataframe thead th {\n",
       "        text-align: right;\n",
       "    }\n",
       "</style>\n",
       "<table border=\"1\" class=\"dataframe\">\n",
       "  <thead>\n",
       "    <tr style=\"text-align: right;\">\n",
       "      <th></th>\n",
       "      <th>imdb_id</th>\n",
       "      <th>budget</th>\n",
       "      <th>revenue</th>\n",
       "      <th>original_title</th>\n",
       "      <th>cast</th>\n",
       "      <th>director</th>\n",
       "      <th>tagline</th>\n",
       "      <th>overview</th>\n",
       "      <th>runtime</th>\n",
       "      <th>genres</th>\n",
       "      <th>production_companies</th>\n",
       "      <th>release_date</th>\n",
       "      <th>vote_average</th>\n",
       "      <th>release_year</th>\n",
       "    </tr>\n",
       "  </thead>\n",
       "  <tbody>\n",
       "    <tr>\n",
       "      <th>466</th>\n",
       "      <td>tt1287468</td>\n",
       "      <td>85000000</td>\n",
       "      <td>112483764</td>\n",
       "      <td>Cats &amp; Dogs 2 : The Revenge of Kitty Galore</td>\n",
       "      <td>James Marsden|Nick Nolte|Christina Applegate|B...</td>\n",
       "      <td>Brad Peyton</td>\n",
       "      <td>Just like real spies... only furrier.</td>\n",
       "      <td>The ongoing war between the canine and feline ...</td>\n",
       "      <td>82</td>\n",
       "      <td>Comedy|Family</td>\n",
       "      <td>Village Roadshow Pictures</td>\n",
       "      <td>7/30/2010</td>\n",
       "      <td>5.0</td>\n",
       "      <td>2010</td>\n",
       "    </tr>\n",
       "    <tr>\n",
       "      <th>1024</th>\n",
       "      <td>tt1855199</td>\n",
       "      <td>7000000</td>\n",
       "      <td>48126384</td>\n",
       "      <td>End of Watch</td>\n",
       "      <td>Jake Gyllenhaal|Michael PeÃ±a|Natalie Martinez...</td>\n",
       "      <td>David Ayer</td>\n",
       "      <td>Every moment of your life they stand watch</td>\n",
       "      <td>Shot documentary-style, this film follows the ...</td>\n",
       "      <td>109</td>\n",
       "      <td>Crime|Drama|Thriller</td>\n",
       "      <td>Emmett/Furla Films|Exclusive Media Group|Hedge...</td>\n",
       "      <td>9/20/2012</td>\n",
       "      <td>7.1</td>\n",
       "      <td>2012</td>\n",
       "    </tr>\n",
       "    <tr>\n",
       "      <th>1167</th>\n",
       "      <td>tt0310281</td>\n",
       "      <td>6000000</td>\n",
       "      <td>18750246</td>\n",
       "      <td>A Mighty Wind</td>\n",
       "      <td>Bob Balaban|Christopher Guest|John Michael Hig...</td>\n",
       "      <td>Christopher Guest</td>\n",
       "      <td>Back together for the first time, again.</td>\n",
       "      <td>In \"A Mighty Wind\", director Christopher Guest...</td>\n",
       "      <td>91</td>\n",
       "      <td>Comedy|Music</td>\n",
       "      <td>Castle Rock Entertainment</td>\n",
       "      <td>4/16/2003</td>\n",
       "      <td>6.5</td>\n",
       "      <td>2003</td>\n",
       "    </tr>\n",
       "    <tr>\n",
       "      <th>1624</th>\n",
       "      <td>tt0358135</td>\n",
       "      <td>50000000</td>\n",
       "      <td>170128460</td>\n",
       "      <td>Shall We Dance?</td>\n",
       "      <td>Richard Gere|Jennifer Lopez|Susan Sarandon|Lis...</td>\n",
       "      <td>Peter Chelsom</td>\n",
       "      <td>Step out of the ordinary</td>\n",
       "      <td>A romantic comedy where a bored, overworked Es...</td>\n",
       "      <td>107</td>\n",
       "      <td>Drama|Romance|Comedy</td>\n",
       "      <td>Miramax Films</td>\n",
       "      <td>10/15/2004</td>\n",
       "      <td>5.8</td>\n",
       "      <td>2004</td>\n",
       "    </tr>\n",
       "    <tr>\n",
       "      <th>459</th>\n",
       "      <td>tt1126618</td>\n",
       "      <td>40000000</td>\n",
       "      <td>58785180</td>\n",
       "      <td>Morning Glory</td>\n",
       "      <td>Rachel McAdams|Harrison Ford|Patrick Wilson|Je...</td>\n",
       "      <td>Roger Michell</td>\n",
       "      <td>Breakfast TV just got interesting.</td>\n",
       "      <td>When hard-working TV producer Becky Fuller is ...</td>\n",
       "      <td>102</td>\n",
       "      <td>Comedy|Drama|Romance</td>\n",
       "      <td>Bad Robot|Goldcrest Pictures</td>\n",
       "      <td>1/12/2010</td>\n",
       "      <td>6.1</td>\n",
       "      <td>2010</td>\n",
       "    </tr>\n",
       "  </tbody>\n",
       "</table>\n",
       "</div>"
      ],
      "text/plain": [
       "        imdb_id    budget    revenue  \\\n",
       "466   tt1287468  85000000  112483764   \n",
       "1024  tt1855199   7000000   48126384   \n",
       "1167  tt0310281   6000000   18750246   \n",
       "1624  tt0358135  50000000  170128460   \n",
       "459   tt1126618  40000000   58785180   \n",
       "\n",
       "                                   original_title  \\\n",
       "466   Cats & Dogs 2 : The Revenge of Kitty Galore   \n",
       "1024                                 End of Watch   \n",
       "1167                                A Mighty Wind   \n",
       "1624                              Shall We Dance?   \n",
       "459                                 Morning Glory   \n",
       "\n",
       "                                                   cast           director  \\\n",
       "466   James Marsden|Nick Nolte|Christina Applegate|B...        Brad Peyton   \n",
       "1024  Jake Gyllenhaal|Michael PeÃ±a|Natalie Martinez...         David Ayer   \n",
       "1167  Bob Balaban|Christopher Guest|John Michael Hig...  Christopher Guest   \n",
       "1624  Richard Gere|Jennifer Lopez|Susan Sarandon|Lis...      Peter Chelsom   \n",
       "459   Rachel McAdams|Harrison Ford|Patrick Wilson|Je...      Roger Michell   \n",
       "\n",
       "                                         tagline  \\\n",
       "466        Just like real spies... only furrier.   \n",
       "1024  Every moment of your life they stand watch   \n",
       "1167    Back together for the first time, again.   \n",
       "1624                    Step out of the ordinary   \n",
       "459           Breakfast TV just got interesting.   \n",
       "\n",
       "                                               overview  runtime  \\\n",
       "466   The ongoing war between the canine and feline ...       82   \n",
       "1024  Shot documentary-style, this film follows the ...      109   \n",
       "1167  In \"A Mighty Wind\", director Christopher Guest...       91   \n",
       "1624  A romantic comedy where a bored, overworked Es...      107   \n",
       "459   When hard-working TV producer Becky Fuller is ...      102   \n",
       "\n",
       "                    genres                               production_companies  \\\n",
       "466          Comedy|Family                          Village Roadshow Pictures   \n",
       "1024  Crime|Drama|Thriller  Emmett/Furla Films|Exclusive Media Group|Hedge...   \n",
       "1167          Comedy|Music                          Castle Rock Entertainment   \n",
       "1624  Drama|Romance|Comedy                                      Miramax Films   \n",
       "459   Comedy|Drama|Romance                       Bad Robot|Goldcrest Pictures   \n",
       "\n",
       "     release_date  vote_average  release_year  \n",
       "466     7/30/2010           5.0          2010  \n",
       "1024    9/20/2012           7.1          2012  \n",
       "1167    4/16/2003           6.5          2003  \n",
       "1624   10/15/2004           5.8          2004  \n",
       "459     1/12/2010           6.1          2010  "
      ]
     },
     "execution_count": 2,
     "metadata": {},
     "output_type": "execute_result"
    }
   ],
   "source": [
    "data = pd.read_csv('movie_bd_v5.csv')\n",
    "data.sample(5)"
   ]
  },
  {
   "cell_type": "code",
   "execution_count": 3,
   "metadata": {},
   "outputs": [
    {
     "name": "stdout",
     "output_type": "stream",
     "text": [
      "<class 'pandas.core.frame.DataFrame'>\n",
      "RangeIndex: 1889 entries, 0 to 1888\n",
      "Data columns (total 14 columns):\n",
      " #   Column                Non-Null Count  Dtype  \n",
      "---  ------                --------------  -----  \n",
      " 0   imdb_id               1889 non-null   object \n",
      " 1   budget                1889 non-null   int64  \n",
      " 2   revenue               1889 non-null   int64  \n",
      " 3   original_title        1889 non-null   object \n",
      " 4   cast                  1889 non-null   object \n",
      " 5   director              1889 non-null   object \n",
      " 6   tagline               1889 non-null   object \n",
      " 7   overview              1889 non-null   object \n",
      " 8   runtime               1889 non-null   int64  \n",
      " 9   genres                1889 non-null   object \n",
      " 10  production_companies  1889 non-null   object \n",
      " 11  release_date          1889 non-null   object \n",
      " 12  vote_average          1889 non-null   float64\n",
      " 13  release_year          1889 non-null   int64  \n",
      "dtypes: float64(1), int64(4), object(9)\n",
      "memory usage: 206.7+ KB\n"
     ]
    }
   ],
   "source": [
    "data.info()"
   ]
  },
  {
   "cell_type": "code",
   "execution_count": 4,
   "metadata": {
    "colab": {},
    "colab_type": "code",
    "id": "CoYUnagMVp-C"
   },
   "outputs": [
    {
     "data": {
      "text/html": [
       "<div>\n",
       "<style scoped>\n",
       "    .dataframe tbody tr th:only-of-type {\n",
       "        vertical-align: middle;\n",
       "    }\n",
       "\n",
       "    .dataframe tbody tr th {\n",
       "        vertical-align: top;\n",
       "    }\n",
       "\n",
       "    .dataframe thead th {\n",
       "        text-align: right;\n",
       "    }\n",
       "</style>\n",
       "<table border=\"1\" class=\"dataframe\">\n",
       "  <thead>\n",
       "    <tr style=\"text-align: right;\">\n",
       "      <th></th>\n",
       "      <th>budget</th>\n",
       "      <th>revenue</th>\n",
       "      <th>runtime</th>\n",
       "      <th>vote_average</th>\n",
       "      <th>release_year</th>\n",
       "    </tr>\n",
       "  </thead>\n",
       "  <tbody>\n",
       "    <tr>\n",
       "      <th>count</th>\n",
       "      <td>1.889000e+03</td>\n",
       "      <td>1.889000e+03</td>\n",
       "      <td>1889.000000</td>\n",
       "      <td>1889.000000</td>\n",
       "      <td>1889.000000</td>\n",
       "    </tr>\n",
       "    <tr>\n",
       "      <th>mean</th>\n",
       "      <td>5.431083e+07</td>\n",
       "      <td>1.553653e+08</td>\n",
       "      <td>109.658549</td>\n",
       "      <td>6.140762</td>\n",
       "      <td>2007.860773</td>\n",
       "    </tr>\n",
       "    <tr>\n",
       "      <th>std</th>\n",
       "      <td>4.858721e+07</td>\n",
       "      <td>2.146698e+08</td>\n",
       "      <td>18.017041</td>\n",
       "      <td>0.764763</td>\n",
       "      <td>4.468841</td>\n",
       "    </tr>\n",
       "    <tr>\n",
       "      <th>min</th>\n",
       "      <td>5.000000e+06</td>\n",
       "      <td>2.033165e+06</td>\n",
       "      <td>63.000000</td>\n",
       "      <td>3.300000</td>\n",
       "      <td>2000.000000</td>\n",
       "    </tr>\n",
       "    <tr>\n",
       "      <th>25%</th>\n",
       "      <td>2.000000e+07</td>\n",
       "      <td>3.456058e+07</td>\n",
       "      <td>97.000000</td>\n",
       "      <td>5.600000</td>\n",
       "      <td>2004.000000</td>\n",
       "    </tr>\n",
       "    <tr>\n",
       "      <th>50%</th>\n",
       "      <td>3.800000e+07</td>\n",
       "      <td>8.361541e+07</td>\n",
       "      <td>107.000000</td>\n",
       "      <td>6.100000</td>\n",
       "      <td>2008.000000</td>\n",
       "    </tr>\n",
       "    <tr>\n",
       "      <th>75%</th>\n",
       "      <td>7.200000e+07</td>\n",
       "      <td>1.782626e+08</td>\n",
       "      <td>120.000000</td>\n",
       "      <td>6.600000</td>\n",
       "      <td>2012.000000</td>\n",
       "    </tr>\n",
       "    <tr>\n",
       "      <th>max</th>\n",
       "      <td>3.800000e+08</td>\n",
       "      <td>2.781506e+09</td>\n",
       "      <td>214.000000</td>\n",
       "      <td>8.100000</td>\n",
       "      <td>2015.000000</td>\n",
       "    </tr>\n",
       "  </tbody>\n",
       "</table>\n",
       "</div>"
      ],
      "text/plain": [
       "             budget       revenue      runtime  vote_average  release_year\n",
       "count  1.889000e+03  1.889000e+03  1889.000000   1889.000000   1889.000000\n",
       "mean   5.431083e+07  1.553653e+08   109.658549      6.140762   2007.860773\n",
       "std    4.858721e+07  2.146698e+08    18.017041      0.764763      4.468841\n",
       "min    5.000000e+06  2.033165e+06    63.000000      3.300000   2000.000000\n",
       "25%    2.000000e+07  3.456058e+07    97.000000      5.600000   2004.000000\n",
       "50%    3.800000e+07  8.361541e+07   107.000000      6.100000   2008.000000\n",
       "75%    7.200000e+07  1.782626e+08   120.000000      6.600000   2012.000000\n",
       "max    3.800000e+08  2.781506e+09   214.000000      8.100000   2015.000000"
      ]
     },
     "execution_count": 4,
     "metadata": {},
     "output_type": "execute_result"
    }
   ],
   "source": [
    "data.describe()"
   ]
  },
  {
   "cell_type": "markdown",
   "metadata": {
    "colab_type": "text",
    "id": "DTIt7ezGVp-G"
   },
   "source": [
    "# Предобработка"
   ]
  },
  {
   "cell_type": "code",
   "execution_count": 5,
   "metadata": {
    "colab": {},
    "colab_type": "code",
    "id": "jNb40DwKVp-H"
   },
   "outputs": [],
   "source": [
    "answers = {} # создадим словарь для ответов\n",
    "\n",
    "# добавляем колонку profit (profit=revenue-budget)\n",
    "data['profit'] = data.revenue - data.budget\n",
    "\n",
    "# переводим дату в формат DateTime\n",
    "data.release_date = pd.to_datetime(data['release_date'])\n",
    "\n",
    "# создадим копию датасета\n",
    "data2 = data.copy()\n",
    "\n",
    "# создадим функцию для разделения значений в ячейках\n",
    "def splitting(series_obj):\n",
    "    return series_obj.split(\"|\")\n",
    "\n",
    "# заменяем значения в ячейках на списки (где необходимо)\n",
    "data2.genres = data2.genres.apply(splitting)\n",
    "data2.director = data2.director.apply(splitting)\n",
    "data2.cast = data2.cast.apply(splitting)\n",
    "data2.production_companies = data2.production_companies.apply(splitting)"
   ]
  },
  {
   "cell_type": "markdown",
   "metadata": {
    "colab_type": "text",
    "id": "YxZaH-nPVp-L"
   },
   "source": [
    "# 1. У какого фильма из списка самый большой бюджет?"
   ]
  },
  {
   "cell_type": "code",
   "execution_count": 6,
   "metadata": {
    "colab": {},
    "colab_type": "code",
    "id": "uVnXAY5RVp-O"
   },
   "outputs": [],
   "source": [
    "answers['1'] = 'Pirates of the Caribbean: On Stranger Tides (tt1298650)'"
   ]
  },
  {
   "cell_type": "code",
   "execution_count": 7,
   "metadata": {
    "colab": {},
    "colab_type": "code",
    "id": "dZwb3m28Vp-S"
   },
   "outputs": [
    {
     "data": {
      "text/html": [
       "<div>\n",
       "<style scoped>\n",
       "    .dataframe tbody tr th:only-of-type {\n",
       "        vertical-align: middle;\n",
       "    }\n",
       "\n",
       "    .dataframe tbody tr th {\n",
       "        vertical-align: top;\n",
       "    }\n",
       "\n",
       "    .dataframe thead th {\n",
       "        text-align: right;\n",
       "    }\n",
       "</style>\n",
       "<table border=\"1\" class=\"dataframe\">\n",
       "  <thead>\n",
       "    <tr style=\"text-align: right;\">\n",
       "      <th></th>\n",
       "      <th>imdb_id</th>\n",
       "      <th>budget</th>\n",
       "      <th>revenue</th>\n",
       "      <th>original_title</th>\n",
       "      <th>cast</th>\n",
       "      <th>director</th>\n",
       "      <th>tagline</th>\n",
       "      <th>overview</th>\n",
       "      <th>runtime</th>\n",
       "      <th>genres</th>\n",
       "      <th>production_companies</th>\n",
       "      <th>release_date</th>\n",
       "      <th>vote_average</th>\n",
       "      <th>release_year</th>\n",
       "      <th>profit</th>\n",
       "    </tr>\n",
       "  </thead>\n",
       "  <tbody>\n",
       "    <tr>\n",
       "      <th>723</th>\n",
       "      <td>tt1298650</td>\n",
       "      <td>380000000</td>\n",
       "      <td>1021683000</td>\n",
       "      <td>Pirates of the Caribbean: On Stranger Tides</td>\n",
       "      <td>Johnny Depp|PenÃ©lope Cruz|Geoffrey Rush|Ian M...</td>\n",
       "      <td>Rob Marshall</td>\n",
       "      <td>Live Forever Or Die Trying.</td>\n",
       "      <td>Captain Jack Sparrow crosses paths with a woma...</td>\n",
       "      <td>136</td>\n",
       "      <td>Adventure|Action|Fantasy</td>\n",
       "      <td>Walt Disney Pictures|Jerry Bruckheimer Films|M...</td>\n",
       "      <td>2011-05-11</td>\n",
       "      <td>6.3</td>\n",
       "      <td>2011</td>\n",
       "      <td>641683000</td>\n",
       "    </tr>\n",
       "  </tbody>\n",
       "</table>\n",
       "</div>"
      ],
      "text/plain": [
       "       imdb_id     budget     revenue  \\\n",
       "723  tt1298650  380000000  1021683000   \n",
       "\n",
       "                                  original_title  \\\n",
       "723  Pirates of the Caribbean: On Stranger Tides   \n",
       "\n",
       "                                                  cast      director  \\\n",
       "723  Johnny Depp|PenÃ©lope Cruz|Geoffrey Rush|Ian M...  Rob Marshall   \n",
       "\n",
       "                         tagline  \\\n",
       "723  Live Forever Or Die Trying.   \n",
       "\n",
       "                                              overview  runtime  \\\n",
       "723  Captain Jack Sparrow crosses paths with a woma...      136   \n",
       "\n",
       "                       genres  \\\n",
       "723  Adventure|Action|Fantasy   \n",
       "\n",
       "                                  production_companies release_date  \\\n",
       "723  Walt Disney Pictures|Jerry Bruckheimer Films|M...   2011-05-11   \n",
       "\n",
       "     vote_average  release_year     profit  \n",
       "723           6.3          2011  641683000  "
      ]
     },
     "execution_count": 7,
     "metadata": {},
     "output_type": "execute_result"
    }
   ],
   "source": [
    "data[data.budget == data.budget.max()]"
   ]
  },
  {
   "cell_type": "markdown",
   "metadata": {
    "colab_type": "text",
    "id": "K7L3nbRXVp-X"
   },
   "source": [
    "ВАРИАНТ 2"
   ]
  },
  {
   "cell_type": "code",
   "execution_count": 8,
   "metadata": {
    "colab": {},
    "colab_type": "code",
    "id": "OGaoQI7rVp-X"
   },
   "outputs": [
    {
     "data": {
      "text/plain": [
       "'Pirates of the Caribbean: On Stranger Tides'"
      ]
     },
     "execution_count": 8,
     "metadata": {},
     "output_type": "execute_result"
    }
   ],
   "source": [
    "data.loc[data.budget.idxmax()]['original_title']"
   ]
  },
  {
   "cell_type": "code",
   "execution_count": 9,
   "metadata": {},
   "outputs": [
    {
     "data": {
      "text/plain": [
       "<matplotlib.axes._subplots.AxesSubplot at 0x1a6bfe07340>"
      ]
     },
     "execution_count": 9,
     "metadata": {},
     "output_type": "execute_result"
    },
    {
     "data": {
      "image/png": "[encoded data removed]",
      "text/plain": [
       "<Figure size 432x288 with 1 Axes>"
      ]
     },
     "metadata": {
      "needs_background": "light"
     },
     "output_type": "display_data"
    }
   ],
   "source": [
    "temp = data.sort_values(by = 'budget', ascending = False).head(3)\n",
    "sns.barplot(y = 'original_title', x = 'budget', data = temp)"
   ]
  },
  {
   "cell_type": "markdown",
   "metadata": {
    "colab_type": "text",
    "id": "FNRbbI3vVp-c"
   },
   "source": [
    "# 2. Какой из фильмов самый длительный (в минутах)?"
   ]
  },
  {
   "cell_type": "code",
   "execution_count": null,
   "metadata": {
    "colab": {},
    "colab_type": "code",
    "id": "vHAoEXNTVp-d"
   },
   "outputs": [],
   "source": [
    "answers['2'] = 'Gods and Generals (tt0279111)'"
   ]
  },
  {
   "cell_type": "code",
   "execution_count": 26,
   "metadata": {
    "colab": {},
    "colab_type": "code",
    "id": "ot-VX2XrVp-g"
   },
   "outputs": [
    {
     "data": {
      "text/html": [
       "<div>\n",
       "<style scoped>\n",
       "    .dataframe tbody tr th:only-of-type {\n",
       "        vertical-align: middle;\n",
       "    }\n",
       "\n",
       "    .dataframe tbody tr th {\n",
       "        vertical-align: top;\n",
       "    }\n",
       "\n",
       "    .dataframe thead th {\n",
       "        text-align: right;\n",
       "    }\n",
       "</style>\n",
       "<table border=\"1\" class=\"dataframe\">\n",
       "  <thead>\n",
       "    <tr style=\"text-align: right;\">\n",
       "      <th></th>\n",
       "      <th>original_title</th>\n",
       "      <th>runtime</th>\n",
       "    </tr>\n",
       "  </thead>\n",
       "  <tbody>\n",
       "    <tr>\n",
       "      <th>1157</th>\n",
       "      <td>Gods and Generals</td>\n",
       "      <td>214</td>\n",
       "    </tr>\n",
       "  </tbody>\n",
       "</table>\n",
       "</div>"
      ],
      "text/plain": [
       "         original_title  runtime\n",
       "1157  Gods and Generals      214"
      ]
     },
     "execution_count": 26,
     "metadata": {},
     "output_type": "execute_result"
    }
   ],
   "source": [
    "data[data.runtime == data.runtime.max()][['original_title', 'runtime']]"
   ]
  },
  {
   "cell_type": "code",
   "execution_count": 18,
   "metadata": {},
   "outputs": [
    {
     "data": {
      "text/plain": [
       "<matplotlib.axes._subplots.AxesSubplot at 0x1d49db76fd0>"
      ]
     },
     "execution_count": 18,
     "metadata": {},
     "output_type": "execute_result"
    },
    {
     "data": {
      "image/png": "[encoded data removed]",
      "text/plain": [
       "<Figure size 432x288 with 1 Axes>"
      ]
     },
     "metadata": {
      "needs_background": "light"
     },
     "output_type": "display_data"
    }
   ],
   "source": [
    "data.sort_values(by = 'runtime').tail(5).plot.barh(y = 'runtime', x = 'original_title', color = ['green','yellow'])"
   ]
  },
  {
   "cell_type": "markdown",
   "metadata": {
    "colab_type": "text",
    "id": "bapLlpW8Vp-k"
   },
   "source": [
    "# 3. Какой из фильмов самый короткий (в минутах)?\n",
    "\n",
    "\n",
    "\n"
   ]
  },
  {
   "cell_type": "code",
   "execution_count": null,
   "metadata": {},
   "outputs": [],
   "source": [
    "answers['3'] = 'Winnie the Pooh'"
   ]
  },
  {
   "cell_type": "code",
   "execution_count": 22,
   "metadata": {
    "colab": {},
    "colab_type": "code",
    "id": "YBxaSHuAVp-l"
   },
   "outputs": [
    {
     "data": {
      "text/plain": [
       "original_title    Winnie the Pooh\n",
       "Name: 768, dtype: object"
      ]
     },
     "execution_count": 22,
     "metadata": {},
     "output_type": "execute_result"
    }
   ],
   "source": [
    "data.loc[data.runtime.idxmin()][['original_title']]"
   ]
  },
  {
   "cell_type": "markdown",
   "metadata": {
    "colab_type": "text",
    "id": "TfQbxbfNVp-p"
   },
   "source": [
    "# 4. Какова средняя длительность фильмов?\n"
   ]
  },
  {
   "cell_type": "code",
   "execution_count": null,
   "metadata": {
    "colab": {},
    "colab_type": "code",
    "id": "5K6dKZYVVp-q"
   },
   "outputs": [],
   "source": [
    "answers['4'] = '109.66'"
   ]
  },
  {
   "cell_type": "code",
   "execution_count": null,
   "metadata": {},
   "outputs": [],
   "source": [
    "data.runtime.mean()"
   ]
  },
  {
   "cell_type": "markdown",
   "metadata": {
    "colab_type": "text",
    "id": "r5TvbnT_Vp-u"
   },
   "source": [
    "# 5. Каково медианное значение длительности фильмов? "
   ]
  },
  {
   "cell_type": "code",
   "execution_count": null,
   "metadata": {
    "colab": {},
    "colab_type": "code",
    "id": "iBROplKnVp-v"
   },
   "outputs": [],
   "source": [
    "answers['5'] = '107'"
   ]
  },
  {
   "cell_type": "code",
   "execution_count": null,
   "metadata": {},
   "outputs": [],
   "source": [
    "data.runtime.median()"
   ]
  },
  {
   "cell_type": "code",
   "execution_count": 28,
   "metadata": {},
   "outputs": [
    {
     "data": {
      "text/plain": [
       "<matplotlib.axes._subplots.AxesSubplot at 0x1d49dd58fa0>"
      ]
     },
     "execution_count": 28,
     "metadata": {},
     "output_type": "execute_result"
    },
    {
     "data": {
      "image/png": "[encoded data removed]",
      "text/plain": [
       "<Figure size 432x288 with 1 Axes>"
      ]
     },
     "metadata": {
      "needs_background": "light"
     },
     "output_type": "display_data"
    }
   ],
   "source": [
    "sns.boxplot(x = 'runtime', data = data)"
   ]
  },
  {
   "cell_type": "markdown",
   "metadata": {
    "colab_type": "text",
    "id": "39P-deDSVp-y"
   },
   "source": [
    "# 6. Какой самый прибыльный фильм?\n",
    "#### Внимание! Здесь и далее под «прибылью» или «убытками» понимается разность между сборами и бюджетом фильма. (прибыль = сборы - бюджет) в нашем датасете это будет (profit = revenue - budget) "
   ]
  },
  {
   "cell_type": "code",
   "execution_count": null,
   "metadata": {},
   "outputs": [],
   "source": [
    "answers['6'] = 'Avatar'"
   ]
  },
  {
   "cell_type": "code",
   "execution_count": 29,
   "metadata": {
    "colab": {},
    "colab_type": "code",
    "id": "UYZh4T9WVp-y"
   },
   "outputs": [
    {
     "data": {
      "text/plain": [
       "original_title    Avatar\n",
       "Name: 239, dtype: object"
      ]
     },
     "execution_count": 29,
     "metadata": {},
     "output_type": "execute_result"
    }
   ],
   "source": [
    "data.loc[data.profit.idxmax()][['original_title']]"
   ]
  },
  {
   "cell_type": "code",
   "execution_count": 47,
   "metadata": {},
   "outputs": [
    {
     "data": {
      "text/plain": [
       "<seaborn.axisgrid.JointGrid at 0x1d4a2a5b730>"
      ]
     },
     "execution_count": 47,
     "metadata": {},
     "output_type": "execute_result"
    },
    {
     "data": {
      "image/png": "[encoded data removed]",
      "text/plain": [
       "<Figure size 432x432 with 3 Axes>"
      ]
     },
     "metadata": {
      "needs_background": "light"
     },
     "output_type": "display_data"
    }
   ],
   "source": [
    "sns.jointplot(data = data, x = 'profit', y = 'runtime', marker = '.')"
   ]
  },
  {
   "cell_type": "markdown",
   "metadata": {
    "colab_type": "text",
    "id": "M99JmIX4Vp-2"
   },
   "source": [
    "# 7. Какой фильм самый убыточный? "
   ]
  },
  {
   "cell_type": "code",
   "execution_count": null,
   "metadata": {
    "colab": {},
    "colab_type": "code",
    "id": "w-D2m4XPVp-3"
   },
   "outputs": [],
   "source": [
    "answers['7'] = 'The Lone Ranger'"
   ]
  },
  {
   "cell_type": "code",
   "execution_count": 49,
   "metadata": {},
   "outputs": [
    {
     "data": {
      "text/html": [
       "<div>\n",
       "<style scoped>\n",
       "    .dataframe tbody tr th:only-of-type {\n",
       "        vertical-align: middle;\n",
       "    }\n",
       "\n",
       "    .dataframe tbody tr th {\n",
       "        vertical-align: top;\n",
       "    }\n",
       "\n",
       "    .dataframe thead th {\n",
       "        text-align: right;\n",
       "    }\n",
       "</style>\n",
       "<table border=\"1\" class=\"dataframe\">\n",
       "  <thead>\n",
       "    <tr style=\"text-align: right;\">\n",
       "      <th></th>\n",
       "      <th>original_title</th>\n",
       "      <th>profit</th>\n",
       "    </tr>\n",
       "  </thead>\n",
       "  <tbody>\n",
       "    <tr>\n",
       "      <th>1245</th>\n",
       "      <td>The Lone Ranger</td>\n",
       "      <td>-165710090</td>\n",
       "    </tr>\n",
       "  </tbody>\n",
       "</table>\n",
       "</div>"
      ],
      "text/plain": [
       "       original_title     profit\n",
       "1245  The Lone Ranger -165710090"
      ]
     },
     "execution_count": 49,
     "metadata": {},
     "output_type": "execute_result"
    }
   ],
   "source": [
    "data[data.profit == data.profit.min()][['original_title', 'profit']]"
   ]
  },
  {
   "cell_type": "markdown",
   "metadata": {
    "colab_type": "text",
    "id": "wEOM5ERVVp-6"
   },
   "source": [
    "# 8. У скольких фильмов из датасета объем сборов оказался выше бюджета?"
   ]
  },
  {
   "cell_type": "code",
   "execution_count": null,
   "metadata": {
    "colab": {},
    "colab_type": "code",
    "id": "y00_7HD6Vp-7"
   },
   "outputs": [],
   "source": [
    "answers['8'] = '1478'"
   ]
  },
  {
   "cell_type": "code",
   "execution_count": null,
   "metadata": {},
   "outputs": [],
   "source": [
    "len(data.profit[data.profit > 0])"
   ]
  },
  {
   "cell_type": "code",
   "execution_count": null,
   "metadata": {},
   "outputs": [],
   "source": [
    "len(data.query('profit > 0'))"
   ]
  },
  {
   "cell_type": "code",
   "execution_count": 58,
   "metadata": {},
   "outputs": [
    {
     "data": {
      "text/plain": [
       "<matplotlib.axes._subplots.AxesSubplot at 0x1d4af3ef9a0>"
      ]
     },
     "execution_count": 58,
     "metadata": {},
     "output_type": "execute_result"
    },
    {
     "data": {
      "image/png": "[encoded data removed]",
      "text/plain": [
       "<Figure size 432x288 with 1 Axes>"
      ]
     },
     "metadata": {
      "needs_background": "light"
     },
     "output_type": "display_data"
    }
   ],
   "source": [
    "sns.boxplot(data = data, x = 'profit')"
   ]
  },
  {
   "cell_type": "markdown",
   "metadata": {
    "colab_type": "text",
    "id": "xhpspA9KVp_A"
   },
   "source": [
    "# 9. Какой фильм оказался самым кассовым в 2008 году?"
   ]
  },
  {
   "cell_type": "code",
   "execution_count": null,
   "metadata": {
    "colab": {},
    "colab_type": "code",
    "id": "MoUyQr9RVp_B"
   },
   "outputs": [],
   "source": [
    "answers['9'] = 'The Dark Knight'"
   ]
  },
  {
   "cell_type": "code",
   "execution_count": 9,
   "metadata": {
    "colab": {},
    "colab_type": "code",
    "id": "MoUyQr9RVp_B"
   },
   "outputs": [
    {
     "data": {
      "text/plain": [
       "599    The Dark Knight\n",
       "Name: original_title, dtype: object"
      ]
     },
     "execution_count": 9,
     "metadata": {},
     "output_type": "execute_result"
    }
   ],
   "source": [
    "data_temp = data[data.release_year == 2008]\n",
    "data_temp.query('revenue == revenue.max()')['original_title']"
   ]
  },
  {
   "cell_type": "code",
   "execution_count": 60,
   "metadata": {},
   "outputs": [
    {
     "data": {
      "text/plain": [
       "<matplotlib.axes._subplots.AxesSubplot at 0x1a76abfbb20>"
      ]
     },
     "execution_count": 60,
     "metadata": {},
     "output_type": "execute_result"
    },
    {
     "data": {
      "image/png": "[encoded data removed]",
      "text/plain": [
       "<Figure size 432x288 with 1 Axes>"
      ]
     },
     "metadata": {
      "needs_background": "light"
     },
     "output_type": "display_data"
    }
   ],
   "source": [
    "data_temp = data.loc[data.groupby('release_year').revenue.idxmax()][['original_title', 'revenue', 'release_year']]\n",
    "data_temp.index = data_temp.release_year\n",
    "del data_temp['release_year']\n",
    "sns.barplot(data = data_temp, x = 'revenue', y = 'original_title')"
   ]
  },
  {
   "cell_type": "markdown",
   "metadata": {
    "colab_type": "text",
    "id": "Zi4hDKidVp_F"
   },
   "source": [
    "# 10. Самый убыточный фильм за период с 2012 по 2014 г. (включительно)?\n"
   ]
  },
  {
   "cell_type": "code",
   "execution_count": null,
   "metadata": {
    "colab": {},
    "colab_type": "code",
    "id": "XqyRmufJVp_F"
   },
   "outputs": [],
   "source": [
    "answers['10'] = 'The Lone Ranger'"
   ]
  },
  {
   "cell_type": "code",
   "execution_count": null,
   "metadata": {
    "colab": {},
    "colab_type": "code",
    "id": "XqyRmufJVp_F"
   },
   "outputs": [],
   "source": [
    "data_temp = data[(data.release_year >= 2012) & (data.release_year < 2015)]\n",
    "data_temp.loc[data_temp.profit.idxmin()]['original_title']"
   ]
  },
  {
   "cell_type": "markdown",
   "metadata": {
    "colab_type": "text",
    "id": "EA7Sa9dkVp_I"
   },
   "source": [
    "# 11. Какого жанра фильмов больше всего?"
   ]
  },
  {
   "cell_type": "code",
   "execution_count": 10,
   "metadata": {},
   "outputs": [],
   "source": [
    "answers['11'] = 'Drama'"
   ]
  },
  {
   "cell_type": "code",
   "execution_count": 11,
   "metadata": {
    "colab": {},
    "colab_type": "code",
    "id": "zsJAwJ8QVp_J"
   },
   "outputs": [
    {
     "data": {
      "text/plain": [
       "<matplotlib.axes._subplots.AxesSubplot at 0x1a6c08ee940>"
      ]
     },
     "execution_count": 11,
     "metadata": {},
     "output_type": "execute_result"
    },
    {
     "data": {
      "image/png": "[encoded data removed]",
      "text/plain": [
       "<Figure size 432x288 with 1 Axes>"
      ]
     },
     "metadata": {
      "needs_background": "light"
     },
     "output_type": "display_data"
    }
   ],
   "source": [
    "data.genres.str.split('|').explode().value_counts().head(5).plot(kind = 'bar')"
   ]
  },
  {
   "cell_type": "markdown",
   "metadata": {
    "colab_type": "text",
    "id": "Ax6g2C8SVp_M"
   },
   "source": [
    "ВАРИАНТ 2"
   ]
  },
  {
   "cell_type": "code",
   "execution_count": 12,
   "metadata": {
    "colab": {},
    "colab_type": "code",
    "id": "otO3SbrSVp_N"
   },
   "outputs": [
    {
     "name": "stdout",
     "output_type": "stream",
     "text": [
      "Counter({'Drama': 782, 'Comedy': 683, 'Thriller': 596, 'Action': 582, 'Adventure': 415, 'Crime': 315, 'Romance': 308, 'Family': 260, 'Science Fiction': 248, 'Fantasy': 222, 'Horror': 176, 'Mystery': 168, 'Animation': 139, 'Music': 64, 'History': 62, 'War': 58, 'Western': 19, 'Documentary': 8, 'Foreign': 2})\n"
     ]
    }
   ],
   "source": [
    "c = Counter()\n",
    "for x in data.genres.apply(splitting):\n",
    "    c += Counter(x)\n",
    "\n",
    "print(c)"
   ]
  },
  {
   "cell_type": "markdown",
   "metadata": {
    "colab_type": "text",
    "id": "T9_bPWpkVp_Q"
   },
   "source": [
    "# 12. Фильмы какого жанра чаще всего становятся прибыльными? "
   ]
  },
  {
   "cell_type": "code",
   "execution_count": null,
   "metadata": {},
   "outputs": [],
   "source": [
    "answers['12'] = 'Drama'"
   ]
  },
  {
   "cell_type": "code",
   "execution_count": 61,
   "metadata": {
    "colab": {},
    "colab_type": "code",
    "id": "Tmt8MaK1Vp_R"
   },
   "outputs": [
    {
     "data": {
      "text/plain": [
       "Drama              560\n",
       "Comedy             551\n",
       "Thriller           446\n",
       "Action             444\n",
       "Adventure          337\n",
       "Romance            242\n",
       "Crime              231\n",
       "Family             226\n",
       "Science Fiction    195\n",
       "Fantasy            188\n",
       "Horror             150\n",
       "Animation          120\n",
       "Mystery            119\n",
       "Music               47\n",
       "History             46\n",
       "War                 41\n",
       "Western             12\n",
       "Documentary          7\n",
       "Name: genres, dtype: int64"
      ]
     },
     "execution_count": 61,
     "metadata": {},
     "output_type": "execute_result"
    }
   ],
   "source": [
    "data2.genres.explode()[data2.profit > 0].value_counts()"
   ]
  },
  {
   "cell_type": "markdown",
   "metadata": {},
   "source": [
    "##### На самом деле \"драматические\" фильмы не становятся чаще всего прибыльными. Это случается в 72% случаев.\n",
    "##### Чаще всего прибыльными становятся \"документальные фильмы\" - 87,5%. Но такие фильмы встречаются всего 8 раз.\n",
    "##### Поэтому, можно утверждать, что чаще всего становятся прибыльными \"семейные\" фильмы."
   ]
  },
  {
   "cell_type": "code",
   "execution_count": 62,
   "metadata": {},
   "outputs": [
    {
     "data": {
      "text/plain": [
       "Documentary        0.875000\n",
       "Family             0.869231\n",
       "Animation          0.863309\n",
       "Horror             0.852273\n",
       "Fantasy            0.846847\n",
       "Adventure          0.812048\n",
       "Comedy             0.806735\n",
       "Science Fiction    0.786290\n",
       "Romance            0.785714\n",
       "Action             0.762887\n",
       "Thriller           0.748322\n",
       "History            0.741935\n",
       "Music              0.734375\n",
       "Crime              0.733333\n",
       "Drama              0.716113\n",
       "Mystery            0.708333\n",
       "War                0.706897\n",
       "Western            0.631579\n",
       "Foreign                 NaN\n",
       "Name: genres, dtype: float64"
      ]
     },
     "execution_count": 62,
     "metadata": {},
     "output_type": "execute_result"
    }
   ],
   "source": [
    "# посчитаем сколько раз, встречается каждый жанр\n",
    "a = data2.explode('genres').genres.value_counts()\n",
    "\n",
    "# посчитаем прибыльные фильмы\n",
    "b = data2[data2.profit > 0].explode('genres').genres.value_counts()\n",
    "\n",
    "# узнаем в каком соотношении жанры фильмов становятся прибыльными\n",
    "x = b/a\n",
    "x.sort_values(ascending = False)"
   ]
  },
  {
   "cell_type": "markdown",
   "metadata": {
    "colab_type": "text",
    "id": "0F23bgsDVp_U"
   },
   "source": [
    "# 13. У какого режиссера самые большие суммарные кассовые сбооры?"
   ]
  },
  {
   "cell_type": "code",
   "execution_count": null,
   "metadata": {},
   "outputs": [],
   "source": [
    "answers['13'] = 'Peter Jackson'"
   ]
  },
  {
   "cell_type": "code",
   "execution_count": 64,
   "metadata": {
    "colab": {},
    "colab_type": "code",
    "id": "K6Z3J8ygVp_X"
   },
   "outputs": [
    {
     "data": {
      "text/plain": [
       "'Peter Jackson'"
      ]
     },
     "execution_count": 64,
     "metadata": {},
     "output_type": "execute_result"
    }
   ],
   "source": [
    "data_temp = data2.explode('director')\n",
    "data_temp = data_temp.groupby('director').sum()\n",
    "data_temp.revenue.idxmax()"
   ]
  },
  {
   "cell_type": "code",
   "execution_count": 65,
   "metadata": {},
   "outputs": [
    {
     "data": {
      "text/plain": [
       "<matplotlib.axes._subplots.AxesSubplot at 0x1a76ad32940>"
      ]
     },
     "execution_count": 65,
     "metadata": {},
     "output_type": "execute_result"
    },
    {
     "data": {
      "image/png": "[encoded data removed]",
      "text/plain": [
       "<Figure size 432x288 with 1 Axes>"
      ]
     },
     "metadata": {
      "needs_background": "light"
     },
     "output_type": "display_data"
    }
   ],
   "source": [
    "data_temp = data_temp.sort_values(by = 'revenue', ascending = False).head(5)\n",
    "data_temp.reset_index().plot.barh(x = 'director', y = ['budget', 'revenue'])"
   ]
  },
  {
   "cell_type": "markdown",
   "metadata": {
    "colab_type": "text",
    "id": "PsYC9FgRVp_a"
   },
   "source": [
    "# 14. Какой режисер снял больше всего фильмов в стиле Action?"
   ]
  },
  {
   "cell_type": "code",
   "execution_count": null,
   "metadata": {},
   "outputs": [],
   "source": [
    "answers['14'] = 'Robert Rodriguez'"
   ]
  },
  {
   "cell_type": "code",
   "execution_count": 66,
   "metadata": {},
   "outputs": [
    {
     "data": {
      "text/plain": [
       "'Robert Rodriguez'"
      ]
     },
     "execution_count": 66,
     "metadata": {},
     "output_type": "execute_result"
    }
   ],
   "source": [
    "data_temp = data2.explode('director').explode('genres')\n",
    "data_temp = data_temp.pivot_table(values = 'budget', index = 'director', columns = 'genres', aggfunc='count',)\n",
    "data_temp.Action.idxmax()"
   ]
  },
  {
   "cell_type": "markdown",
   "metadata": {
    "colab_type": "text",
    "id": "PQ0KciD7Vp_f"
   },
   "source": [
    "# 15. Фильмы с каким актером принесли самые высокие кассовые сборы в 2012 году? "
   ]
  },
  {
   "cell_type": "code",
   "execution_count": null,
   "metadata": {},
   "outputs": [],
   "source": [
    "answers['15'] = 'Chris Hemsworth'"
   ]
  },
  {
   "cell_type": "code",
   "execution_count": 30,
   "metadata": {},
   "outputs": [
    {
     "data": {
      "text/plain": [
       "'Chris Hemsworth'"
      ]
     },
     "execution_count": 30,
     "metadata": {},
     "output_type": "execute_result"
    }
   ],
   "source": [
    "data_temp = data2.explode('cast')\n",
    "data_temp = data_temp.pivot_table(values = 'revenue', index = 'cast', columns = 'release_year', aggfunc = 'sum')\n",
    "data_temp[2012].idxmax()"
   ]
  },
  {
   "cell_type": "code",
   "execution_count": 33,
   "metadata": {},
   "outputs": [
    {
     "data": {
      "text/html": [
       "<div>\n",
       "<style scoped>\n",
       "    .dataframe tbody tr th:only-of-type {\n",
       "        vertical-align: middle;\n",
       "    }\n",
       "\n",
       "    .dataframe tbody tr th {\n",
       "        vertical-align: top;\n",
       "    }\n",
       "\n",
       "    .dataframe thead th {\n",
       "        text-align: right;\n",
       "    }\n",
       "</style>\n",
       "<table border=\"1\" class=\"dataframe\">\n",
       "  <thead>\n",
       "    <tr style=\"text-align: right;\">\n",
       "      <th></th>\n",
       "      <th>cast</th>\n",
       "      <th>revenue</th>\n",
       "    </tr>\n",
       "  </thead>\n",
       "  <tbody>\n",
       "    <tr>\n",
       "      <th>970</th>\n",
       "      <td>Robert Downey Jr.</td>\n",
       "      <td>1519557910</td>\n",
       "    </tr>\n",
       "    <tr>\n",
       "      <th>970</th>\n",
       "      <td>Mark Ruffalo</td>\n",
       "      <td>1519557910</td>\n",
       "    </tr>\n",
       "    <tr>\n",
       "      <th>970</th>\n",
       "      <td>Chris Hemsworth</td>\n",
       "      <td>1519557910</td>\n",
       "    </tr>\n",
       "    <tr>\n",
       "      <th>970</th>\n",
       "      <td>Scarlett Johansson</td>\n",
       "      <td>1519557910</td>\n",
       "    </tr>\n",
       "    <tr>\n",
       "      <th>970</th>\n",
       "      <td>Chris Evans</td>\n",
       "      <td>1519557910</td>\n",
       "    </tr>\n",
       "  </tbody>\n",
       "</table>\n",
       "</div>"
      ],
      "text/plain": [
       "                   cast     revenue\n",
       "970   Robert Downey Jr.  1519557910\n",
       "970        Mark Ruffalo  1519557910\n",
       "970     Chris Hemsworth  1519557910\n",
       "970  Scarlett Johansson  1519557910\n",
       "970         Chris Evans  1519557910"
      ]
     },
     "execution_count": 33,
     "metadata": {},
     "output_type": "execute_result"
    }
   ],
   "source": [
    "data_temp = data2.explode('cast')\n",
    "data_temp[data_temp.release_year == 2012][['cast', 'revenue']].sort_values(by = 'revenue', ascending = False).head()"
   ]
  },
  {
   "cell_type": "markdown",
   "metadata": {
    "colab_type": "text",
    "id": "mWHyyL7QVp_j"
   },
   "source": [
    "# 16. Какой актер снялся в большем количестве высокобюджетных фильмов?"
   ]
  },
  {
   "cell_type": "code",
   "execution_count": null,
   "metadata": {},
   "outputs": [],
   "source": [
    "answers['16'] = 'Matt Damon'"
   ]
  },
  {
   "cell_type": "code",
   "execution_count": 77,
   "metadata": {
    "colab": {},
    "colab_type": "code",
    "id": "qQtmHKTFVp_k"
   },
   "outputs": [
    {
     "data": {
      "text/plain": [
       "Matt Damon           18\n",
       "Adam Sandler         17\n",
       "Angelina Jolie       16\n",
       "Samuel L. Jackson    15\n",
       "Eddie Murphy         15\n",
       "Name: cast, dtype: int64"
      ]
     },
     "metadata": {},
     "output_type": "display_data"
    },
    {
     "data": {
      "text/plain": [
       "<BarContainer object of 5 artists>"
      ]
     },
     "execution_count": 77,
     "metadata": {},
     "output_type": "execute_result"
    },
    {
     "data": {
      "image/png": "[encoded data removed]",
      "text/plain": [
       "<Figure size 432x288 with 1 Axes>"
      ]
     },
     "metadata": {
      "needs_background": "light"
     },
     "output_type": "display_data"
    }
   ],
   "source": [
    "data_temp = data2.explode('cast')\n",
    "data_temp = data_temp[data_temp.budget > data_temp.budget.mean()].cast.value_counts().head(5)\n",
    "display(data_temp)\n",
    "plt.barh(data = data_temp, y = data_temp.index, width = data_temp.values)"
   ]
  },
  {
   "cell_type": "markdown",
   "metadata": {
    "colab_type": "text",
    "id": "NIh6AaW5Vp_n"
   },
   "source": [
    "# 17. В фильмах какого жанра больше всего снимался Nicolas Cage? "
   ]
  },
  {
   "cell_type": "code",
   "execution_count": null,
   "metadata": {},
   "outputs": [],
   "source": [
    "answers['17'] = 'Action'"
   ]
  },
  {
   "cell_type": "code",
   "execution_count": null,
   "metadata": {
    "colab": {},
    "colab_type": "code",
    "id": "H74SJDIBVp_n"
   },
   "outputs": [],
   "source": [
    "data_temp = data2.explode('cast').explode('genres')\n",
    "data_temp = data_temp.pivot_table(values = 'budget', index = 'cast', columns = 'genres', aggfunc = 'count')\n",
    "data_temp.loc['Nicolas Cage'].sort_values(ascending = False)"
   ]
  },
  {
   "cell_type": "code",
   "execution_count": 59,
   "metadata": {},
   "outputs": [
    {
     "data": {
      "text/plain": [
       "Action             17\n",
       "Thriller           15\n",
       "Drama              12\n",
       "Crime              10\n",
       "Fantasy             8\n",
       "Adventure           7\n",
       "Comedy              6\n",
       "Science Fiction     4\n",
       "Family              3\n",
       "Mystery             3\n",
       "Animation           3\n",
       "History             2\n",
       "Romance             1\n",
       "War                 1\n",
       "Horror              1\n",
       "Name: genres, dtype: int64"
      ]
     },
     "metadata": {},
     "output_type": "display_data"
    },
    {
     "data": {
      "text/plain": [
       "<matplotlib.axes._subplots.AxesSubplot at 0x1a6c246a0d0>"
      ]
     },
     "execution_count": 59,
     "metadata": {},
     "output_type": "execute_result"
    },
    {
     "data": {
      "image/png": "[encoded data removed]",
      "text/plain": [
       "<Figure size 504x288 with 1 Axes>"
      ]
     },
     "metadata": {
      "needs_background": "light"
     },
     "output_type": "display_data"
    }
   ],
   "source": [
    "data_temp = data2.explode('cast').explode('genres')\n",
    "data_temp = data_temp.loc[data_temp['cast'] == 'Nicolas Cage'].genres.value_counts()\n",
    "display(data_temp)\n",
    "data_temp.head(6).plot(linestyle = ':', figsize = (7,4), title = \"Nicolas Cage's casting\")"
   ]
  },
  {
   "cell_type": "markdown",
   "metadata": {
    "colab_type": "text",
    "id": "RqOmPRfWVp_q"
   },
   "source": [
    "# 18. Самый убыточный фильм от Paramount Pictures"
   ]
  },
  {
   "cell_type": "code",
   "execution_count": null,
   "metadata": {},
   "outputs": [],
   "source": [
    "answers['18'] = 'K-19'"
   ]
  },
  {
   "cell_type": "code",
   "execution_count": null,
   "metadata": {},
   "outputs": [],
   "source": [
    "data_temp = data2.explode('production_companies')\n",
    "data_temp = data_temp[data_temp.production_companies.str.contains('Paramount')]\n",
    "data_temp.loc[data_temp.profit.idxmin()]['original_title']"
   ]
  },
  {
   "cell_type": "markdown",
   "metadata": {
    "colab_type": "text",
    "id": "vS8Ur6ddVp_u"
   },
   "source": [
    "# 19. Какой год стал самым успешным по суммарным кассовым сборам?"
   ]
  },
  {
   "cell_type": "code",
   "execution_count": null,
   "metadata": {},
   "outputs": [],
   "source": [
    "answers['19'] = 2015"
   ]
  },
  {
   "cell_type": "code",
   "execution_count": null,
   "metadata": {},
   "outputs": [],
   "source": [
    "data_temp = data.groupby('release_year')[['revenue']].sum()\n",
    "data_temp.loc[data_temp.idxmax()]"
   ]
  },
  {
   "cell_type": "markdown",
   "metadata": {
    "colab_type": "text",
    "id": "JAzJh4QAVp_z"
   },
   "source": [
    "# 20. Какой самый прибыльный год для студии Warner Bros?"
   ]
  },
  {
   "cell_type": "code",
   "execution_count": null,
   "metadata": {},
   "outputs": [],
   "source": [
    "answers['20'] = '2014'"
   ]
  },
  {
   "cell_type": "code",
   "execution_count": null,
   "metadata": {},
   "outputs": [],
   "source": [
    "data_temp = data[data.production_companies.str.contains('Warner')]\n",
    "data_temp = data_temp.groupby('release_year').sum()\n",
    "data_temp.profit.idxmax()"
   ]
  },
  {
   "cell_type": "markdown",
   "metadata": {
    "colab_type": "text",
    "id": "8Im1S2HRVp_4"
   },
   "source": [
    "# 21. В каком месяце за все годы суммарно вышло больше всего фильмов?"
   ]
  },
  {
   "cell_type": "code",
   "execution_count": null,
   "metadata": {},
   "outputs": [],
   "source": [
    "answers['21'] = 'September'"
   ]
  },
  {
   "cell_type": "code",
   "execution_count": 60,
   "metadata": {
    "colab": {},
    "colab_type": "code",
    "id": "lev6TH7gVp_4"
   },
   "outputs": [
    {
     "data": {
      "text/plain": [
       "9     227\n",
       "12    190\n",
       "10    186\n",
       "8     161\n",
       "3     156\n",
       "4     149\n",
       "6     147\n",
       "11    146\n",
       "7     142\n",
       "5     140\n",
       "2     135\n",
       "1     110\n",
       "Name: release_date, dtype: int64"
      ]
     },
     "execution_count": 60,
     "metadata": {},
     "output_type": "execute_result"
    }
   ],
   "source": [
    "data.release_date.dt.month.value_counts()"
   ]
  },
  {
   "cell_type": "code",
   "execution_count": 66,
   "metadata": {},
   "outputs": [
    {
     "data": {
      "text/plain": [
       "Text(0.5, 1.0, 'Release by month')"
      ]
     },
     "execution_count": 66,
     "metadata": {},
     "output_type": "execute_result"
    },
    {
     "data": {
      "image/png": "[encoded data removed]",
      "text/plain": [
       "<Figure size 432x288 with 1 Axes>"
      ]
     },
     "metadata": {
      "needs_background": "light"
     },
     "output_type": "display_data"
    }
   ],
   "source": [
    "data_temp = data.release_date.dt.month.value_counts()\n",
    "sns.countplot(data = data, x = data.release_date.dt.month).set_title('Release by month')"
   ]
  },
  {
   "cell_type": "markdown",
   "metadata": {
    "colab_type": "text",
    "id": "uAJsZ_NeVp_7"
   },
   "source": [
    "# 22. Сколько суммарно вышло фильмов летом? (за июнь, июль, август)"
   ]
  },
  {
   "cell_type": "code",
   "execution_count": null,
   "metadata": {},
   "outputs": [],
   "source": [
    "answers['22'] = 450"
   ]
  },
  {
   "cell_type": "code",
   "execution_count": null,
   "metadata": {},
   "outputs": [],
   "source": [
    "data_temp = data.release_date.dt.month.value_counts()\n",
    "answer = data_temp.loc[6] + data_temp.loc[7] + data_temp.loc[8]\n",
    "print(answer)"
   ]
  },
  {
   "cell_type": "code",
   "execution_count": null,
   "metadata": {},
   "outputs": [],
   "source": [
    "data_temp = data.query('5 < release_date.dt.month < 9')\n",
    "len(data_temp)"
   ]
  },
  {
   "cell_type": "markdown",
   "metadata": {
    "colab_type": "text",
    "id": "G94ppOY1VqAA"
   },
   "source": [
    "# 23. Для какого режиссера зима – самое продуктивное время года? "
   ]
  },
  {
   "cell_type": "code",
   "execution_count": null,
   "metadata": {},
   "outputs": [],
   "source": [
    "answers['23'] = 'Peter Jackson'"
   ]
  },
  {
   "cell_type": "code",
   "execution_count": null,
   "metadata": {},
   "outputs": [],
   "source": [
    "data_temp = data2.explode('director')\n",
    "data_temp = data_temp.query('release_date.dt.month < 3 or release_date.dt.month == 12')\n",
    "data_temp = data_temp.groupby('director').count()\n",
    "data_temp.original_title.idxmax()"
   ]
  },
  {
   "cell_type": "markdown",
   "metadata": {
    "colab_type": "text",
    "id": "RBo0JVjVVqAF"
   },
   "source": [
    "# 24. Какая студия дает самые длинные названия своим фильмам по количеству символов?"
   ]
  },
  {
   "cell_type": "code",
   "execution_count": null,
   "metadata": {},
   "outputs": [],
   "source": [
    "answers['24'] = 'Four By Two Productions'"
   ]
  },
  {
   "cell_type": "code",
   "execution_count": null,
   "metadata": {
    "colab": {},
    "colab_type": "code",
    "id": "QRGS8L0iVqAG"
   },
   "outputs": [],
   "source": [
    "data_temp = data2.explode('production_companies')\n",
    "data_temp.original_title = data_temp.original_title.apply(lambda x: len(x))\n",
    "data_temp = data_temp.groupby('production_companies').mean()\n",
    "data_temp.original_title.idxmax()"
   ]
  },
  {
   "cell_type": "markdown",
   "metadata": {
    "colab_type": "text",
    "id": "9G0hbvR7VqAK"
   },
   "source": [
    "# 25. Описание фильмов какой студии в среднем самые длинные по количеству слов?"
   ]
  },
  {
   "cell_type": "code",
   "execution_count": null,
   "metadata": {},
   "outputs": [],
   "source": [
    "answers['25'] = 'Midnight Picture Show'"
   ]
  },
  {
   "cell_type": "code",
   "execution_count": 110,
   "metadata": {
    "colab": {},
    "colab_type": "code",
    "id": "Ge2GsLNxVqAK"
   },
   "outputs": [
    {
     "data": {
      "text/plain": [
       "'Midnight Picture Show'"
      ]
     },
     "execution_count": 110,
     "metadata": {},
     "output_type": "execute_result"
    }
   ],
   "source": [
    "data_temp = data2.explode('production_companies')\n",
    "data_temp.overview = data_temp.overview.str.split(' ')\n",
    "data_temp.overview = data_temp.overview.apply(lambda x: len(x))\n",
    "data_temp = data_temp.groupby('production_companies').mean()\n",
    "data_temp.overview.idxmax()"
   ]
  },
  {
   "cell_type": "code",
   "execution_count": 120,
   "metadata": {},
   "outputs": [
    {
     "data": {
      "text/plain": [
       "<matplotlib.axes._subplots.AxesSubplot at 0x1d4b1711160>"
      ]
     },
     "execution_count": 120,
     "metadata": {},
     "output_type": "execute_result"
    },
    {
     "data": {
      "image/png": "[encoded data removed]",
      "text/plain": [
       "<Figure size 432x288 with 1 Axes>"
      ]
     },
     "metadata": {
      "needs_background": "light"
     },
     "output_type": "display_data"
    }
   ],
   "source": [
    "sns.scatterplot(data = data_temp, x = 'overview', y = 'runtime')"
   ]
  },
  {
   "cell_type": "markdown",
   "metadata": {
    "colab_type": "text",
    "id": "FJ1AFt90VqAP"
   },
   "source": [
    "# 26. Какие фильмы входят в 1 процент лучших по рейтингу? \n",
    "по vote_average"
   ]
  },
  {
   "cell_type": "code",
   "execution_count": null,
   "metadata": {
    "colab": {},
    "colab_type": "code",
    "id": "8qmJVq4CVqAQ"
   },
   "outputs": [],
   "source": [
    "answers['26'] = 'Inside Out, The Dark Knight, 12 Years a Slave'"
   ]
  },
  {
   "cell_type": "code",
   "execution_count": 78,
   "metadata": {},
   "outputs": [
    {
     "data": {
      "text/plain": [
       "9                                          Inside Out\n",
       "34                                               Room\n",
       "118                                      Interstellar\n",
       "119                           Guardians of the Galaxy\n",
       "125                                The Imitation Game\n",
       "128                                         Gone Girl\n",
       "138                          The Grand Budapest Hotel\n",
       "370                                         Inception\n",
       "599                                   The Dark Knight\n",
       "872                                       The Pianist\n",
       "1081    The Lord of the Rings: The Return of the King\n",
       "1183                          The Wolf of Wall Street\n",
       "1191                                 12 Years a Slave\n",
       "1800                                          Memento\n",
       "Name: original_title, dtype: object"
      ]
     },
     "execution_count": 78,
     "metadata": {},
     "output_type": "execute_result"
    }
   ],
   "source": [
    "data.loc[data['vote_average']>data.quantile(0.99, numeric_only=True)['vote_average']]['original_title']"
   ]
  },
  {
   "cell_type": "markdown",
   "metadata": {
    "colab_type": "text",
    "id": "MdXsUXbCVqAV"
   },
   "source": [
    "# 27. Какие актеры чаще всего снимаются в одном фильме вместе?\n"
   ]
  },
  {
   "cell_type": "code",
   "execution_count": null,
   "metadata": {},
   "outputs": [],
   "source": [
    "answers['27'] = 'Daniel Radcliffe, Rupert Grint'"
   ]
  },
  {
   "cell_type": "code",
   "execution_count": null,
   "metadata": {},
   "outputs": [],
   "source": [
    "pairs_actors = {}\n",
    "\n",
    "for actors in data.cast.str.split('|'):\n",
    "    for actor in list(combinations(actors, 2)):\n",
    "        if actor in pairs_actors:\n",
    "            pairs_actors[actor] += 1\n",
    "        else:\n",
    "            pairs_actors[actor] = 1\n",
    "\n",
    "max(pairs_actors, key=pairs_actors.get)"
   ]
  },
  {
   "cell_type": "markdown",
   "metadata": {
    "colab_type": "text",
    "id": "U0nONFnGVqAX"
   },
   "source": [
    "# Submission"
   ]
  },
  {
   "cell_type": "code",
   "execution_count": null,
   "metadata": {
    "colab": {},
    "colab_type": "code",
    "id": "IfcaRO9-VqAX",
    "outputId": "0f132912-32bb-4196-c98c-abfbc4ad5a5f"
   },
   "outputs": [],
   "source": [
    "# в конце можно посмотреть свои ответы к каждому вопросу\n",
    "answers"
   ]
  },
  {
   "cell_type": "code",
   "execution_count": null,
   "metadata": {
    "colab": {},
    "colab_type": "code",
    "id": "SiRmHPl8VqAd"
   },
   "outputs": [],
   "source": [
    "# и убедиться что ни чего не пропустил)\n",
    "len(answers)"
   ]
  },
  {
   "cell_type": "code",
   "execution_count": null,
   "metadata": {
    "colab": {},
    "colab_type": "code",
    "id": "uCfuTkRbVqAg"
   },
   "outputs": [],
   "source": []
  },
  {
   "cell_type": "code",
   "execution_count": null,
   "metadata": {
    "colab": {},
    "colab_type": "code",
    "id": "Vwx3NrkSVqAl"
   },
   "outputs": [],
   "source": []
  }
 ],
 "metadata": {
  "colab": {
   "name": "Copy of [SF-DST] Movies IMBD v4.1 TEMPLATE.ipynb",
   "provenance": []
  },
  "kernelspec": {
   "display_name": "Python 3",
   "language": "python",
   "name": "python3"
  },
  "language_info": {
   "codemirror_mode": {
    "name": "ipython",
    "version": 3
   },
   "file_extension": ".py",
   "mimetype": "text/x-python",
   "name": "python",
   "nbconvert_exporter": "python",
   "pygments_lexer": "ipython3",
   "version": "3.8.3"
  }
 },
 "nbformat": 4,
 "nbformat_minor": 1
}
