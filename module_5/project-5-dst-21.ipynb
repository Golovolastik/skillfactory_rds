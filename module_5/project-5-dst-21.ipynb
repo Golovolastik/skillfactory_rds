{
 "cells": [
  {
   "cell_type": "markdown",
   "metadata": {},
   "source": [
    "# 1. Импорт библиотек"
   ]
  },
  {
   "cell_type": "code",
   "execution_count": 1016,
   "metadata": {
    "execution": {
     "iopub.execute_input": "2021-05-26T06:34:44.510469Z",
     "iopub.status.busy": "2021-05-26T06:34:44.509987Z",
     "iopub.status.idle": "2021-05-26T06:34:44.525519Z",
     "shell.execute_reply": "2021-05-26T06:34:44.524362Z",
     "shell.execute_reply.started": "2021-05-26T06:34:44.510435Z"
    }
   },
   "outputs": [
    {
     "name": "stdout",
     "output_type": "stream",
     "text": [
      "/kaggle/input/sf-dst-scoring/sample_submission.csv\n",
      "/kaggle/input/sf-dst-scoring/train.csv\n",
      "/kaggle/input/sf-dst-scoring/test.csv\n"
     ]
    }
   ],
   "source": [
    "import pandas as pd\n",
    "import numpy as np\n",
    "import matplotlib.pyplot as plt\n",
    "import seaborn as sns\n",
    "from sklearn.linear_model import LogisticRegression\n",
    "from sklearn.preprocessing import LabelEncoder, StandardScaler, OneHotEncoder\n",
    "from sklearn.feature_selection import f_classif, mutual_info_classif\n",
    "from sklearn.model_selection import train_test_split\n",
    "from sklearn.metrics import auc, roc_auc_score, roc_curve\n",
    "from sklearn.metrics import confusion_matrix\n",
    "from sklearn.metrics import accuracy_score, precision_score, recall_score, f1_score\n",
    "from sklearn.model_selection import GridSearchCV\n",
    "from imblearn.over_sampling import RandomOverSampler\n",
    "import os\n",
    "import warnings\n",
    "warnings.filterwarnings('ignore')\n",
    "\n",
    "# Данный код используется на Kaggle\n",
    "#for dirname, _, filenames in os.walk('/kaggle/input'):\n",
    "#    for filename in filenames:\n",
    "#        print(os.path.join(dirname, filename))\n",
    "#PATH_to_file = '/kaggle/input/sf-dst-scoring/'"
   ]
  },
  {
   "cell_type": "code",
   "execution_count": 1017,
   "metadata": {
    "execution": {
     "iopub.execute_input": "2021-05-26T06:34:44.527527Z",
     "iopub.status.busy": "2021-05-26T06:34:44.527138Z",
     "iopub.status.idle": "2021-05-26T06:34:46.587442Z",
     "shell.execute_reply": "2021-05-26T06:34:46.586076Z",
     "shell.execute_reply.started": "2021-05-26T06:34:44.527470Z"
    }
   },
   "outputs": [],
   "source": [
    "# Фиксируем RANDOM SEED и версии пакетов\n",
    "RANDOM_SEED = 42\n",
    "!pip freeze > requirements.txt"
   ]
  },
  {
   "cell_type": "markdown",
   "metadata": {},
   "source": [
    "# 2. Импорт данных"
   ]
  },
  {
   "cell_type": "code",
   "execution_count": 1018,
   "metadata": {
    "execution": {
     "iopub.execute_input": "2021-05-26T06:34:46.590014Z",
     "iopub.status.busy": "2021-05-26T06:34:46.589632Z",
     "iopub.status.idle": "2021-05-26T06:34:46.814686Z",
     "shell.execute_reply": "2021-05-26T06:34:46.813634Z",
     "shell.execute_reply.started": "2021-05-26T06:34:46.589969Z"
    }
   },
   "outputs": [],
   "source": [
    "test = pd.read_csv(PATH_to_file + 'test.csv')\n",
    "train = pd.read_csv(PATH_to_file + 'train.csv')\n",
    "\n",
    "pd.set_option('display.max_columns', None)"
   ]
  },
  {
   "cell_type": "code",
   "execution_count": 1019,
   "metadata": {
    "execution": {
     "iopub.execute_input": "2021-05-26T06:34:46.817133Z",
     "iopub.status.busy": "2021-05-26T06:34:46.816426Z",
     "iopub.status.idle": "2021-05-26T06:34:46.845065Z",
     "shell.execute_reply": "2021-05-26T06:34:46.843786Z",
     "shell.execute_reply.started": "2021-05-26T06:34:46.817074Z"
    }
   },
   "outputs": [
    {
     "data": {
      "text/html": [
       "<div>\n",
       "<style scoped>\n",
       "    .dataframe tbody tr th:only-of-type {\n",
       "        vertical-align: middle;\n",
       "    }\n",
       "\n",
       "    .dataframe tbody tr th {\n",
       "        vertical-align: top;\n",
       "    }\n",
       "\n",
       "    .dataframe thead th {\n",
       "        text-align: right;\n",
       "    }\n",
       "</style>\n",
       "<table border=\"1\" class=\"dataframe\">\n",
       "  <thead>\n",
       "    <tr style=\"text-align: right;\">\n",
       "      <th></th>\n",
       "      <th>client_id</th>\n",
       "      <th>app_date</th>\n",
       "      <th>education</th>\n",
       "      <th>sex</th>\n",
       "      <th>age</th>\n",
       "      <th>car</th>\n",
       "      <th>car_type</th>\n",
       "      <th>decline_app_cnt</th>\n",
       "      <th>good_work</th>\n",
       "      <th>score_bki</th>\n",
       "      <th>bki_request_cnt</th>\n",
       "      <th>region_rating</th>\n",
       "      <th>home_address</th>\n",
       "      <th>work_address</th>\n",
       "      <th>income</th>\n",
       "      <th>sna</th>\n",
       "      <th>first_time</th>\n",
       "      <th>foreign_passport</th>\n",
       "      <th>default</th>\n",
       "    </tr>\n",
       "  </thead>\n",
       "  <tbody>\n",
       "    <tr>\n",
       "      <th>71623</th>\n",
       "      <td>72716</td>\n",
       "      <td>20MAR2014</td>\n",
       "      <td>SCH</td>\n",
       "      <td>M</td>\n",
       "      <td>35</td>\n",
       "      <td>Y</td>\n",
       "      <td>Y</td>\n",
       "      <td>0</td>\n",
       "      <td>0</td>\n",
       "      <td>-2.173082</td>\n",
       "      <td>1</td>\n",
       "      <td>50</td>\n",
       "      <td>1</td>\n",
       "      <td>2</td>\n",
       "      <td>35000</td>\n",
       "      <td>1</td>\n",
       "      <td>3</td>\n",
       "      <td>N</td>\n",
       "      <td>0</td>\n",
       "    </tr>\n",
       "    <tr>\n",
       "      <th>70770</th>\n",
       "      <td>14292</td>\n",
       "      <td>21JAN2014</td>\n",
       "      <td>SCH</td>\n",
       "      <td>F</td>\n",
       "      <td>39</td>\n",
       "      <td>N</td>\n",
       "      <td>N</td>\n",
       "      <td>0</td>\n",
       "      <td>0</td>\n",
       "      <td>-1.920823</td>\n",
       "      <td>0</td>\n",
       "      <td>40</td>\n",
       "      <td>1</td>\n",
       "      <td>2</td>\n",
       "      <td>50000</td>\n",
       "      <td>2</td>\n",
       "      <td>3</td>\n",
       "      <td>N</td>\n",
       "      <td>0</td>\n",
       "    </tr>\n",
       "    <tr>\n",
       "      <th>73542</th>\n",
       "      <td>106082</td>\n",
       "      <td>25APR2014</td>\n",
       "      <td>SCH</td>\n",
       "      <td>M</td>\n",
       "      <td>58</td>\n",
       "      <td>N</td>\n",
       "      <td>N</td>\n",
       "      <td>0</td>\n",
       "      <td>0</td>\n",
       "      <td>-2.025922</td>\n",
       "      <td>3</td>\n",
       "      <td>50</td>\n",
       "      <td>2</td>\n",
       "      <td>3</td>\n",
       "      <td>11500</td>\n",
       "      <td>1</td>\n",
       "      <td>3</td>\n",
       "      <td>N</td>\n",
       "      <td>0</td>\n",
       "    </tr>\n",
       "  </tbody>\n",
       "</table>\n",
       "</div>"
      ],
      "text/plain": [
       "       client_id   app_date education sex  age car car_type  decline_app_cnt  \\\n",
       "71623      72716  20MAR2014       SCH   M   35   Y        Y                0   \n",
       "70770      14292  21JAN2014       SCH   F   39   N        N                0   \n",
       "73542     106082  25APR2014       SCH   M   58   N        N                0   \n",
       "\n",
       "       good_work  score_bki  bki_request_cnt  region_rating  home_address  \\\n",
       "71623          0  -2.173082                1             50             1   \n",
       "70770          0  -1.920823                0             40             1   \n",
       "73542          0  -2.025922                3             50             2   \n",
       "\n",
       "       work_address  income  sna  first_time foreign_passport  default  \n",
       "71623             2   35000    1           3                N        0  \n",
       "70770             2   50000    2           3                N        0  \n",
       "73542             3   11500    1           3                N        0  "
      ]
     },
     "metadata": {},
     "output_type": "display_data"
    }
   ],
   "source": [
    "# Тренировочный датасет\n",
    "display(train.sample(3))"
   ]
  },
  {
   "cell_type": "code",
   "execution_count": 1020,
   "metadata": {
    "execution": {
     "iopub.execute_input": "2021-05-26T06:34:46.848135Z",
     "iopub.status.busy": "2021-05-26T06:34:46.847386Z",
     "iopub.status.idle": "2021-05-26T06:34:46.874400Z",
     "shell.execute_reply": "2021-05-26T06:34:46.873273Z",
     "shell.execute_reply.started": "2021-05-26T06:34:46.848022Z"
    }
   },
   "outputs": [
    {
     "data": {
      "text/html": [
       "<div>\n",
       "<style scoped>\n",
       "    .dataframe tbody tr th:only-of-type {\n",
       "        vertical-align: middle;\n",
       "    }\n",
       "\n",
       "    .dataframe tbody tr th {\n",
       "        vertical-align: top;\n",
       "    }\n",
       "\n",
       "    .dataframe thead th {\n",
       "        text-align: right;\n",
       "    }\n",
       "</style>\n",
       "<table border=\"1\" class=\"dataframe\">\n",
       "  <thead>\n",
       "    <tr style=\"text-align: right;\">\n",
       "      <th></th>\n",
       "      <th>client_id</th>\n",
       "      <th>app_date</th>\n",
       "      <th>education</th>\n",
       "      <th>sex</th>\n",
       "      <th>age</th>\n",
       "      <th>car</th>\n",
       "      <th>car_type</th>\n",
       "      <th>decline_app_cnt</th>\n",
       "      <th>good_work</th>\n",
       "      <th>score_bki</th>\n",
       "      <th>bki_request_cnt</th>\n",
       "      <th>region_rating</th>\n",
       "      <th>home_address</th>\n",
       "      <th>work_address</th>\n",
       "      <th>income</th>\n",
       "      <th>sna</th>\n",
       "      <th>first_time</th>\n",
       "      <th>foreign_passport</th>\n",
       "    </tr>\n",
       "  </thead>\n",
       "  <tbody>\n",
       "    <tr>\n",
       "      <th>32959</th>\n",
       "      <td>33043</td>\n",
       "      <td>09FEB2014</td>\n",
       "      <td>SCH</td>\n",
       "      <td>M</td>\n",
       "      <td>62</td>\n",
       "      <td>Y</td>\n",
       "      <td>Y</td>\n",
       "      <td>0</td>\n",
       "      <td>1</td>\n",
       "      <td>-2.008930</td>\n",
       "      <td>5</td>\n",
       "      <td>50</td>\n",
       "      <td>1</td>\n",
       "      <td>2</td>\n",
       "      <td>44000</td>\n",
       "      <td>1</td>\n",
       "      <td>3</td>\n",
       "      <td>N</td>\n",
       "    </tr>\n",
       "    <tr>\n",
       "      <th>9881</th>\n",
       "      <td>27978</td>\n",
       "      <td>04FEB2014</td>\n",
       "      <td>GRD</td>\n",
       "      <td>M</td>\n",
       "      <td>24</td>\n",
       "      <td>N</td>\n",
       "      <td>N</td>\n",
       "      <td>0</td>\n",
       "      <td>1</td>\n",
       "      <td>-1.939722</td>\n",
       "      <td>4</td>\n",
       "      <td>70</td>\n",
       "      <td>1</td>\n",
       "      <td>2</td>\n",
       "      <td>27000</td>\n",
       "      <td>1</td>\n",
       "      <td>3</td>\n",
       "      <td>N</td>\n",
       "    </tr>\n",
       "    <tr>\n",
       "      <th>10525</th>\n",
       "      <td>97479</td>\n",
       "      <td>14APR2014</td>\n",
       "      <td>UGR</td>\n",
       "      <td>F</td>\n",
       "      <td>28</td>\n",
       "      <td>N</td>\n",
       "      <td>N</td>\n",
       "      <td>0</td>\n",
       "      <td>1</td>\n",
       "      <td>-2.168486</td>\n",
       "      <td>2</td>\n",
       "      <td>50</td>\n",
       "      <td>2</td>\n",
       "      <td>3</td>\n",
       "      <td>23000</td>\n",
       "      <td>1</td>\n",
       "      <td>3</td>\n",
       "      <td>N</td>\n",
       "    </tr>\n",
       "  </tbody>\n",
       "</table>\n",
       "</div>"
      ],
      "text/plain": [
       "       client_id   app_date education sex  age car car_type  decline_app_cnt  \\\n",
       "32959      33043  09FEB2014       SCH   M   62   Y        Y                0   \n",
       "9881       27978  04FEB2014       GRD   M   24   N        N                0   \n",
       "10525      97479  14APR2014       UGR   F   28   N        N                0   \n",
       "\n",
       "       good_work  score_bki  bki_request_cnt  region_rating  home_address  \\\n",
       "32959          1  -2.008930                5             50             1   \n",
       "9881           1  -1.939722                4             70             1   \n",
       "10525          1  -2.168486                2             50             2   \n",
       "\n",
       "       work_address  income  sna  first_time foreign_passport  \n",
       "32959             2   44000    1           3                N  \n",
       "9881              2   27000    1           3                N  \n",
       "10525             3   23000    1           3                N  "
      ]
     },
     "metadata": {},
     "output_type": "display_data"
    }
   ],
   "source": [
    "# Тестовый датасет\n",
    "display(test.sample(3))"
   ]
  },
  {
   "cell_type": "code",
   "execution_count": 1021,
   "metadata": {
    "execution": {
     "iopub.execute_input": "2021-05-26T06:34:46.876968Z",
     "iopub.status.busy": "2021-05-26T06:34:46.876218Z",
     "iopub.status.idle": "2021-05-26T06:34:46.925780Z",
     "shell.execute_reply": "2021-05-26T06:34:46.924572Z",
     "shell.execute_reply.started": "2021-05-26T06:34:46.876918Z"
    }
   },
   "outputs": [],
   "source": [
    "# ВАЖНО! для корректной обработки признаков объединяем трейн и тест в один датасет\n",
    "train['Train'] = 1 # помечаем где у нас трейн\n",
    "test['Train'] = 0 # помечаем где у нас тест\n",
    "\n",
    "df = train.append(test, sort=False).reset_index(drop=True) # объединяем"
   ]
  },
  {
   "cell_type": "markdown",
   "metadata": {},
   "source": [
    "# 3. Предварительный анализ данных"
   ]
  },
  {
   "cell_type": "code",
   "execution_count": 1022,
   "metadata": {
    "execution": {
     "iopub.execute_input": "2021-05-26T06:34:46.928948Z",
     "iopub.status.busy": "2021-05-26T06:34:46.928551Z",
     "iopub.status.idle": "2021-05-26T06:34:46.937565Z",
     "shell.execute_reply": "2021-05-26T06:34:46.936513Z",
     "shell.execute_reply.started": "2021-05-26T06:34:46.928908Z"
    }
   },
   "outputs": [
    {
     "name": "stdout",
     "output_type": "stream",
     "text": [
      "Датасет имеет 20 столбцов/признаков.\n",
      "Тренировочный датасет состоит из 73799 строк.\n",
      "Тестовый датасет состоит из 36349 строк.\n"
     ]
    }
   ],
   "source": [
    "print(f\"Датасет имеет {train.shape[1]} столбцов/признаков.\")\n",
    "print(f\"Тренировочный датасет состоит из {len(train)} строк.\")\n",
    "print(f\"Тестовый датасет состоит из {len(test)} строк.\")"
   ]
  },
  {
   "cell_type": "code",
   "execution_count": 1023,
   "metadata": {
    "execution": {
     "iopub.execute_input": "2021-05-26T06:34:46.940176Z",
     "iopub.status.busy": "2021-05-26T06:34:46.939841Z",
     "iopub.status.idle": "2021-05-26T06:34:47.031417Z",
     "shell.execute_reply": "2021-05-26T06:34:47.029990Z",
     "shell.execute_reply.started": "2021-05-26T06:34:46.940144Z"
    }
   },
   "outputs": [
    {
     "name": "stdout",
     "output_type": "stream",
     "text": [
      "<class 'pandas.core.frame.DataFrame'>\n",
      "RangeIndex: 110148 entries, 0 to 110147\n",
      "Data columns (total 20 columns):\n",
      " #   Column            Non-Null Count   Dtype  \n",
      "---  ------            --------------   -----  \n",
      " 0   client_id         110148 non-null  int64  \n",
      " 1   app_date          110148 non-null  object \n",
      " 2   education         109670 non-null  object \n",
      " 3   sex               110148 non-null  object \n",
      " 4   age               110148 non-null  int64  \n",
      " 5   car               110148 non-null  object \n",
      " 6   car_type          110148 non-null  object \n",
      " 7   decline_app_cnt   110148 non-null  int64  \n",
      " 8   good_work         110148 non-null  int64  \n",
      " 9   score_bki         110148 non-null  float64\n",
      " 10  bki_request_cnt   110148 non-null  int64  \n",
      " 11  region_rating     110148 non-null  int64  \n",
      " 12  home_address      110148 non-null  int64  \n",
      " 13  work_address      110148 non-null  int64  \n",
      " 14  income            110148 non-null  int64  \n",
      " 15  sna               110148 non-null  int64  \n",
      " 16  first_time        110148 non-null  int64  \n",
      " 17  foreign_passport  110148 non-null  object \n",
      " 18  default           73799 non-null   float64\n",
      " 19  Train             110148 non-null  int64  \n",
      "dtypes: float64(2), int64(12), object(6)\n",
      "memory usage: 16.8+ MB\n",
      "None\n"
     ]
    }
   ],
   "source": [
    "print(df.info())"
   ]
  },
  {
   "cell_type": "code",
   "execution_count": 1024,
   "metadata": {
    "execution": {
     "iopub.execute_input": "2021-05-26T06:34:47.033368Z",
     "iopub.status.busy": "2021-05-26T06:34:47.033028Z",
     "iopub.status.idle": "2021-05-26T06:34:49.150925Z",
     "shell.execute_reply": "2021-05-26T06:34:49.149568Z",
     "shell.execute_reply.started": "2021-05-26T06:34:47.033336Z"
    }
   },
   "outputs": [
    {
     "data": {
      "image/png": "[encoded data removed]",
      "text/plain": [
       "<Figure size 864x432 with 1 Axes>"
      ]
     },
     "metadata": {
      "needs_background": "light"
     },
     "output_type": "display_data"
    }
   ],
   "source": [
    "fig = plt.figure(figsize=(12, 6))\n",
    "heatmap = sns.heatmap(df.isnull(), cbar=False, cmap='hot_r', yticklabels=[]).set_title('Missing Values', fontsize=24)"
   ]
  },
  {
   "cell_type": "code",
   "execution_count": 1025,
   "metadata": {
    "execution": {
     "iopub.execute_input": "2021-05-26T06:34:49.152550Z",
     "iopub.status.busy": "2021-05-26T06:34:49.152215Z",
     "iopub.status.idle": "2021-05-26T06:34:49.225965Z",
     "shell.execute_reply": "2021-05-26T06:34:49.224690Z",
     "shell.execute_reply.started": "2021-05-26T06:34:49.152518Z"
    }
   },
   "outputs": [
    {
     "name": "stdout",
     "output_type": "stream",
     "text": [
      "client_id               0\n",
      "app_date                0\n",
      "education             478\n",
      "sex                     0\n",
      "age                     0\n",
      "car                     0\n",
      "car_type                0\n",
      "decline_app_cnt         0\n",
      "good_work               0\n",
      "score_bki               0\n",
      "bki_request_cnt         0\n",
      "region_rating           0\n",
      "home_address            0\n",
      "work_address            0\n",
      "income                  0\n",
      "sna                     0\n",
      "first_time              0\n",
      "foreign_passport        0\n",
      "default             36349\n",
      "Train                   0\n",
      "dtype: int64\n"
     ]
    }
   ],
   "source": [
    "print(df.isna().sum())"
   ]
  },
  {
   "cell_type": "markdown",
   "metadata": {},
   "source": [
    "Описания полей датасета\n",
    "\n",
    "- client_id - идентификатор клиента\n",
    "- education - уровень образования\n",
    "- sex - пол заемщика\n",
    "- age - возраст заемщика\n",
    "- car - флаг наличия автомобиля\n",
    "- car_type - флаг автомобиля иномарки\n",
    "- decline_app_cnt - количество отказанных прошлых заявок\n",
    "- good_work - флаг наличия “хорошей” работы\n",
    "- bki_request_cnt - количество запросов в БКИ\n",
    "- home_address - категоризатор домашнего адреса\n",
    "- work_address - категоризатор рабочего адреса\n",
    "- income - доход заемщика\n",
    "- foreign_passport - наличие загранпаспорта\n",
    "- sna - связь заемщика с клиентами банка\n",
    "- first_time - давность наличия информации о заемщике\n",
    "- score_bki - скоринговый балл по данным из БКИ\n",
    "- region_rating - рейтинг региона\n",
    "- app_date - дата подачи заявки\n",
    "- default - флаг дефолта по кредиту  \n",
    "\n",
    "Резюме по предварительному анализу: в тренировочной выборке 73799 клиентов, в тестовой - 36349. Всего данные о 110148 клиентах. Всего 20 переменных, из них 1 - временной ряд, 5 бинарных, 6 категориальных и 7 числовых. Всего пропусков 478, все пропуски в переменной education. client_id уникальный числовой признак, который не несет полезностей. В бинарных признаках наше целевая переменная default и искуственно добавленный признак тренировочной части датасета Train"
   ]
  },
  {
   "cell_type": "markdown",
   "metadata": {},
   "source": [
    "Т.к в признаке \"education\" пропусков немного, то заполним их наиболее часто встречающимся значением."
   ]
  },
  {
   "cell_type": "code",
   "execution_count": 1026,
   "metadata": {
    "execution": {
     "iopub.execute_input": "2021-05-26T06:34:49.227734Z",
     "iopub.status.busy": "2021-05-26T06:34:49.227359Z",
     "iopub.status.idle": "2021-05-26T06:34:49.263996Z",
     "shell.execute_reply": "2021-05-26T06:34:49.262292Z",
     "shell.execute_reply.started": "2021-05-26T06:34:49.227701Z"
    }
   },
   "outputs": [],
   "source": [
    "train['education'].fillna(value=train['education'].mode()[0], inplace=True)\n",
    "test['education'].fillna(value=test['education'].mode()[0], inplace=True)"
   ]
  },
  {
   "cell_type": "code",
   "execution_count": 1027,
   "metadata": {
    "execution": {
     "iopub.execute_input": "2021-05-26T06:34:49.266043Z",
     "iopub.status.busy": "2021-05-26T06:34:49.265705Z",
     "iopub.status.idle": "2021-05-26T06:34:49.378046Z",
     "shell.execute_reply": "2021-05-26T06:34:49.376927Z",
     "shell.execute_reply.started": "2021-05-26T06:34:49.266008Z"
    }
   },
   "outputs": [
    {
     "name": "stdout",
     "output_type": "stream",
     "text": [
      "<class 'pandas.core.frame.DataFrame'>\n",
      "RangeIndex: 110148 entries, 0 to 110147\n",
      "Data columns (total 20 columns):\n",
      " #   Column            Non-Null Count   Dtype  \n",
      "---  ------            --------------   -----  \n",
      " 0   client_id         110148 non-null  int64  \n",
      " 1   app_date          110148 non-null  object \n",
      " 2   education         110148 non-null  object \n",
      " 3   sex               110148 non-null  object \n",
      " 4   age               110148 non-null  int64  \n",
      " 5   car               110148 non-null  object \n",
      " 6   car_type          110148 non-null  object \n",
      " 7   decline_app_cnt   110148 non-null  int64  \n",
      " 8   good_work         110148 non-null  int64  \n",
      " 9   score_bki         110148 non-null  float64\n",
      " 10  bki_request_cnt   110148 non-null  int64  \n",
      " 11  region_rating     110148 non-null  int64  \n",
      " 12  home_address      110148 non-null  int64  \n",
      " 13  work_address      110148 non-null  int64  \n",
      " 14  income            110148 non-null  int64  \n",
      " 15  sna               110148 non-null  int64  \n",
      " 16  first_time        110148 non-null  int64  \n",
      " 17  foreign_passport  110148 non-null  object \n",
      " 18  default           73799 non-null   float64\n",
      " 19  Train             110148 non-null  int64  \n",
      "dtypes: float64(2), int64(12), object(6)\n",
      "memory usage: 16.8+ MB\n"
     ]
    }
   ],
   "source": [
    "df = train.append(test, sort=False).reset_index(drop=True) # объединяем\n",
    "df.info()"
   ]
  },
  {
   "cell_type": "code",
   "execution_count": 1028,
   "metadata": {
    "execution": {
     "iopub.execute_input": "2021-05-26T06:34:49.380089Z",
     "iopub.status.busy": "2021-05-26T06:34:49.379763Z",
     "iopub.status.idle": "2021-05-26T06:34:49.386995Z",
     "shell.execute_reply": "2021-05-26T06:34:49.385639Z",
     "shell.execute_reply.started": "2021-05-26T06:34:49.380045Z"
    }
   },
   "outputs": [],
   "source": [
    "# внесем данные из резюме в списки \n",
    "# временной ряд\n",
    "time_cols = ['app_date']\n",
    "# бинарные переменные (default не включаем в список)\n",
    "bin_cols = ['sex', 'car', 'car_type', 'good_work', 'foreign_passport']\n",
    "# категориальные переменные (Train не включаем в список, так как мы сами его добавили)\n",
    "cat_cols = ['education', 'region_rating', 'home_address', 'work_address', 'sna', 'first_time']\n",
    "# числовые переменные, client_id исключили из списка\n",
    "num_cols = ['age','decline_app_cnt','score_bki','bki_request_cnt','income']\n",
    "# client_id не включаем в списки"
   ]
  },
  {
   "cell_type": "markdown",
   "metadata": {},
   "source": [
    "# 4. Вспомогательные функции"
   ]
  },
  {
   "cell_type": "code",
   "execution_count": 1029,
   "metadata": {
    "execution": {
     "iopub.execute_input": "2021-05-26T06:34:49.388768Z",
     "iopub.status.busy": "2021-05-26T06:34:49.388397Z",
     "iopub.status.idle": "2021-05-26T06:34:49.410036Z",
     "shell.execute_reply": "2021-05-26T06:34:49.408920Z",
     "shell.execute_reply.started": "2021-05-26T06:34:49.388733Z"
    }
   },
   "outputs": [],
   "source": [
    "# Сохраним список всех палитр matplotlib\n",
    "palette_list = ['Accent', 'Accent_r', 'Blues', 'Blues_r', 'BrBG', 'BrBG_r', 'BuGn', 'BuGn_r', 'BuPu', \n",
    "                'BuPu_r', 'CMRmap', 'CMRmap_r', 'Dark2', 'Dark2_r', 'GnBu', 'GnBu_r', 'Greens', \n",
    "                'Greens_r', 'Greys', 'Greys_r', 'OrRd', 'OrRd_r', 'Oranges', 'Oranges_r', 'PRGn', \n",
    "                'PRGn_r', 'Paired', 'Paired_r', 'Pastel1', 'Pastel1_r', 'Pastel2', 'Pastel2_r', 'PiYG', \n",
    "                'PiYG_r', 'PuBu', 'PuBuGn', 'PuBuGn_r', 'PuBu_r', 'PuOr', 'PuOr_r', 'PuRd', 'PuRd_r', \n",
    "                'Purples', 'Purples_r', 'RdBu', 'RdBu_r', 'RdGy', 'RdGy_r', 'RdPu', 'RdPu_r', 'RdYlBu', \n",
    "                'RdYlBu_r', 'RdYlGn', 'RdYlGn_r', 'Reds', 'Reds_r', 'Set1', 'Set1_r', 'Set2', 'Set2_r', \n",
    "                'Set3', 'Set3_r', 'Spectral', 'Spectral_r', 'Wistia', 'Wistia_r', 'YlGn', 'YlGnBu', \n",
    "                'YlGnBu_r', 'YlGn_r', 'YlOrBr', 'YlOrBr_r', 'YlOrRd', 'YlOrRd_r', 'afmhot', 'afmhot_r', \n",
    "                'autumn', 'autumn_r', 'binary', 'binary_r', 'bone', 'bone_r', 'brg', 'brg_r', 'bwr', \n",
    "                'bwr_r', 'cividis', 'cividis_r', 'cool', 'cool_r', 'coolwarm', 'coolwarm_r', 'copper', \n",
    "                'copper_r', 'crest', 'crest_r', 'cubehelix', 'cubehelix_r', 'flag', 'flag_r', 'flare', \n",
    "                'flare_r', 'gist_earth', 'gist_earth_r', 'gist_gray', 'gist_gray_r', 'gist_heat', \n",
    "                'gist_heat_r', 'gist_ncar', 'gist_ncar_r', 'gist_rainbow', 'gist_rainbow_r', \n",
    "                'gist_stern', 'gist_stern_r', 'gist_yarg', 'gist_yarg_r', 'gnuplot', 'gnuplot2', \n",
    "                'gnuplot2_r', 'gnuplot_r', 'gray', 'gray_r', 'hot', 'hot_r', 'hsv', 'hsv_r', 'icefire', \n",
    "                'icefire_r', 'inferno', 'inferno_r', 'magma', 'magma_r', 'mako', \n",
    "                'mako_r', 'nipy_spectral', 'nipy_spectral_r', 'ocean', 'ocean_r', 'pink', 'pink_r', \n",
    "                'plasma', 'plasma_r', 'prism', 'prism_r', 'rainbow', 'rainbow_r', 'rocket', 'rocket_r', \n",
    "                'seismic', 'seismic_r', 'spring', 'spring_r', 'summer', 'summer_r', 'tab10', 'tab10_r', \n",
    "                'tab20', 'tab20_r', 'tab20b', 'tab20b_r', 'tab20c', 'tab20c_r', 'terrain', 'terrain_r', \n",
    "                'turbo', 'turbo_r', 'twilight', 'twilight_r', 'twilight_shifted', 'twilight_shifted_r', \n",
    "                'viridis', 'viridis_r', 'vlag', 'vlag_r', 'winter', 'winter_r']"
   ]
  },
  {
   "cell_type": "code",
   "execution_count": 1030,
   "metadata": {
    "execution": {
     "iopub.execute_input": "2021-05-26T06:34:49.411816Z",
     "iopub.status.busy": "2021-05-26T06:34:49.411445Z",
     "iopub.status.idle": "2021-05-26T06:34:49.432712Z",
     "shell.execute_reply": "2021-05-26T06:34:49.431576Z",
     "shell.execute_reply.started": "2021-05-26T06:34:49.411783Z"
    }
   },
   "outputs": [],
   "source": [
    "# Для выбора случайных цветов сгенерируем список\n",
    "colors = np.arange(0.2, 0.95, 0.05)"
   ]
  },
  {
   "cell_type": "code",
   "execution_count": 1031,
   "metadata": {
    "execution": {
     "iopub.execute_input": "2021-05-26T06:34:49.434552Z",
     "iopub.status.busy": "2021-05-26T06:34:49.434188Z",
     "iopub.status.idle": "2021-05-26T06:34:49.473951Z",
     "shell.execute_reply": "2021-05-26T06:34:49.472688Z",
     "shell.execute_reply.started": "2021-05-26T06:34:49.434513Z"
    }
   },
   "outputs": [],
   "source": [
    "# Функция для отрисовки гистограммы и boxplot-а числовых признаков\n",
    "def draw_hist(parameter, dataset=df[df['Train'] == 1], target='default', bins=10):\n",
    "    print(f\"Гисторамма и boxplot признака {parameter}\")\n",
    "    fig, ax = plt.subplots(1, 2, figsize=(12, 4))\n",
    "    sns.histplot(data=dataset, x=parameter, bins=bins, ax=ax[0], color=np.random.choice(colors, 3))\n",
    "    sns.boxplot(data=dataset, ax=ax[1], x=target, y=parameter, palette=np.random.choice(palette_list))"
   ]
  },
  {
   "cell_type": "code",
   "execution_count": 1032,
   "metadata": {
    "execution": {
     "iopub.execute_input": "2021-05-26T06:34:49.478285Z",
     "iopub.status.busy": "2021-05-26T06:34:49.477917Z",
     "iopub.status.idle": "2021-05-26T06:34:49.497560Z",
     "shell.execute_reply": "2021-05-26T06:34:49.496001Z",
     "shell.execute_reply.started": "2021-05-26T06:34:49.478246Z"
    }
   },
   "outputs": [],
   "source": [
    "# Функция отличается от предыдущей тем, что строит график логарифмированных данных.\n",
    "def draw_log_hist(parameter, dataset=df[df['Train'] == 1], target='default', bins=10):\n",
    "    print(f\"Гисторамма и boxplot логарифмированного признака {parameter}\")\n",
    "    fig, ax = plt.subplots(1, 2, figsize=(12, 4))\n",
    "    sns.histplot(data=dataset, x=abs(np.log(dataset[parameter] + 1)), bins=bins, ax=ax[0], color=np.random.choice(colors, 3))\n",
    "    sns.boxplot(data=dataset, y=abs(np.log(dataset[parameter] + 1)), ax=ax[1], x=target, palette=np.random.choice(palette_list))"
   ]
  },
  {
   "cell_type": "code",
   "execution_count": 1033,
   "metadata": {
    "execution": {
     "iopub.execute_input": "2021-05-26T06:34:49.500551Z",
     "iopub.status.busy": "2021-05-26T06:34:49.499964Z",
     "iopub.status.idle": "2021-05-26T06:34:49.526555Z",
     "shell.execute_reply": "2021-05-26T06:34:49.525328Z",
     "shell.execute_reply.started": "2021-05-26T06:34:49.500471Z"
    }
   },
   "outputs": [],
   "source": [
    "# Функция для построения графиков бинарных и категориальных признаков\n",
    "def draw_count_plot(parameter, dataset=df[df['Train'] == 1], target='default'):\n",
    "    counter = dataset[parameter].value_counts(normalize=True)    \n",
    "    unique_values = dataset[parameter].unique()\n",
    "    \n",
    "    # Вспомогательная функция для определения доли неплательщиков в каждой категории\n",
    "    def get_value():\n",
    "        values = {}\n",
    "        for number in range(len(unique_values)):\n",
    "            value = len(dataset[(dataset[parameter] == unique_values[number]) & (dataset[target] == 1)])\n",
    "            value_full = len(dataset[dataset[parameter] == unique_values[number]])\n",
    "            attribute = str(round(((value / value_full) * 100), 2))\n",
    "            values[number] = attribute\n",
    "        return values\n",
    "    \n",
    "    values = get_value()\n",
    "    \n",
    "    print(f\"Распределение целевой переменной {target} по признаку {parameter}.\")\n",
    "    fig = plt.plot(figsize=(12, 4))\n",
    "    sns.countplot(data=dataset, x=parameter, hue=target, palette=np.random.choice(palette_list))\n",
    "    print(f\"Распределение признака в процентном соотношении\")\n",
    "    print(counter)\n",
    "    print(f\"Распределние признака в зависимости от целевой переменной\")\n",
    "    for value in range(len(unique_values)):\n",
    "        print(f\"Среди показателя {unique_values[value]} неплательщиков {values[value]}%\")"
   ]
  },
  {
   "cell_type": "code",
   "execution_count": 1034,
   "metadata": {
    "execution": {
     "iopub.execute_input": "2021-05-26T06:34:49.532467Z",
     "iopub.status.busy": "2021-05-26T06:34:49.531897Z",
     "iopub.status.idle": "2021-05-26T06:34:49.553889Z",
     "shell.execute_reply": "2021-05-26T06:34:49.552585Z",
     "shell.execute_reply.started": "2021-05-26T06:34:49.532409Z"
    }
   },
   "outputs": [],
   "source": [
    "# Функция для определения выбросов\n",
    "def detect_outliers(parameter, dataset=df[df['Train'] == 1], log=False):\n",
    "    if log == True:\n",
    "        variable = np.log(dataset[parameter] + 1)\n",
    "    else:\n",
    "        variable = dataset[parameter]\n",
    "    perc25 = variable.quantile(0.25)\n",
    "    perc75 = variable.quantile(0.75)\n",
    "    IQR = perc75 - perc25\n",
    "    left_border = perc25 - 1.5*IQR\n",
    "    right_border = perc75 + 1.5*IQR\n",
    "    outliers = len(variable[(variable < left_border) | (variable > right_border)])\n",
    "    left_outliers = len(variable[(variable < left_border)])\n",
    "    right_outliers = len(variable[(variable > right_border)])\n",
    "        \n",
    "    print(f'Рассчитано по логарифмированным значениям: {log}')\n",
    "    print(f'25-й перцентиль: {perc25}, 75-й перцентиль: {perc75}')\n",
    "    print(f'IQR: {IQR}')\n",
    "    print(f\"Границы выбросов: [{left_border}; {right_border}]\")\n",
    "    print(f'Количество выбросов: {outliers}')\n",
    "    print(f\"Количество выбросов слева: {left_outliers}\")\n",
    "    print(f\"Количество выбросов справа: {right_outliers}\")"
   ]
  },
  {
   "cell_type": "code",
   "execution_count": 1035,
   "metadata": {
    "execution": {
     "iopub.execute_input": "2021-05-26T06:34:49.556956Z",
     "iopub.status.busy": "2021-05-26T06:34:49.556631Z",
     "iopub.status.idle": "2021-05-26T06:34:49.572864Z",
     "shell.execute_reply": "2021-05-26T06:34:49.571286Z",
     "shell.execute_reply.started": "2021-05-26T06:34:49.556924Z"
    }
   },
   "outputs": [],
   "source": [
    "# Функция для построения графика метрики ROC-AUC\n",
    "def draw_roc_auc():\n",
    "    fpr, tpr, threshold = roc_curve(y_test, y_pred_proba)\n",
    "    roc_auc = roc_auc_score(y_test, y_pred_proba)\n",
    "\n",
    "    plt.figure()\n",
    "    plt.plot([0, 1], label='Baseline', linestyle='--')\n",
    "    plt.plot(fpr, tpr, label = 'Regression')\n",
    "    plt.title('Logistic Regression ROC AUC = %0.3f' % roc_auc)\n",
    "    plt.ylabel('True Positive Rate')\n",
    "    plt.xlabel('False Positive Rate')\n",
    "    plt.legend(loc = 'lower right')\n",
    "    plt.show()"
   ]
  },
  {
   "cell_type": "code",
   "execution_count": 1036,
   "metadata": {
    "execution": {
     "iopub.execute_input": "2021-05-26T06:34:49.576386Z",
     "iopub.status.busy": "2021-05-26T06:34:49.575858Z",
     "iopub.status.idle": "2021-05-26T06:34:49.586819Z",
     "shell.execute_reply": "2021-05-26T06:34:49.585977Z",
     "shell.execute_reply.started": "2021-05-26T06:34:49.576339Z"
    }
   },
   "outputs": [],
   "source": [
    "# Функция для отрисовки cofusion matrix\n",
    "def draw_cm():\n",
    "    cf_matrix = confusion_matrix(y_test, y_pred)\n",
    "    group_names = ['True Neg','False Pos','False Neg','True Pos']\n",
    "    group_counts = [\"{0:0.0f}\".format(value) for value in\n",
    "                cf_matrix.flatten()]\n",
    "    group_percentages = [\"{0:.2%}\".format(value) for value in\n",
    "                     cf_matrix.flatten()/np.sum(cf_matrix)]\n",
    "    labels = [f\"{v1}\\n{v2}\\n{v3}\" for v1, v2, v3 in\n",
    "          zip(group_names,group_counts,group_percentages)]\n",
    "    labels = np.asarray(labels).reshape(2,2)\n",
    "    sns.heatmap(cf_matrix, annot=labels, fmt='', cmap='Blues')"
   ]
  },
  {
   "cell_type": "code",
   "execution_count": 1037,
   "metadata": {
    "execution": {
     "iopub.execute_input": "2021-05-26T06:34:49.588425Z",
     "iopub.status.busy": "2021-05-26T06:34:49.588014Z",
     "iopub.status.idle": "2021-05-26T06:34:49.609359Z",
     "shell.execute_reply": "2021-05-26T06:34:49.608342Z",
     "shell.execute_reply.started": "2021-05-26T06:34:49.588381Z"
    }
   },
   "outputs": [],
   "source": [
    "# Функция для показа метрик\n",
    "def show_metrics():\n",
    "    accuracy = accuracy_score(y_test, y_pred)\n",
    "    print(\"Показатель метрики accuracy:\")\n",
    "    print(accuracy, '\\n')\n",
    "    \n",
    "    precision = precision_score(y_test, y_pred)\n",
    "    print(\"Показатель метрики precision:\")\n",
    "    print(precision, '\\n')\n",
    "    \n",
    "    recall = recall_score(y_test, y_pred)\n",
    "    print(\"Показатель метрики recall:\")\n",
    "    print(recall, '\\n')\n",
    "    \n",
    "    f1 = f1_score(y_test, y_pred)\n",
    "    print(\"Показатель метрики f1 score:\")\n",
    "    print(f1, '\\n')\n",
    "    \n",
    "    return accuracy_score, precision_score, recall_score, f1_score    "
   ]
  },
  {
   "cell_type": "code",
   "execution_count": 1038,
   "metadata": {
    "execution": {
     "iopub.execute_input": "2021-05-26T06:34:49.611663Z",
     "iopub.status.busy": "2021-05-26T06:34:49.611245Z",
     "iopub.status.idle": "2021-05-26T06:34:49.626277Z",
     "shell.execute_reply": "2021-05-26T06:34:49.625463Z",
     "shell.execute_reply.started": "2021-05-26T06:34:49.611626Z"
    }
   },
   "outputs": [],
   "source": [
    "def create_dataset(ds):\n",
    "    \"\"\"Создание датасета в numpy формате\"\"\"\n",
    "    \n",
    "    # Стандартизация числовых переменных\n",
    "    def standartize():\n",
    "        x_num_train = StandardScaler().fit_transform(ds[ds['Train'] == 1][num_cols].values)\n",
    "        x_num_test = StandardScaler().fit_transform(ds[ds['Train'] == 0][num_cols].values)\n",
    "        return x_num_train, x_num_test\n",
    "   \n",
    "    # Применим метод OneHotEncoding для категориальных переменных\n",
    "    def OHE():    \n",
    "        x_cat_train = OneHotEncoder(sparse = False).fit_transform(ds[ds['Train'] == 1][cat_cols].values)\n",
    "        x_cat_test = OneHotEncoder(sparse = False).fit_transform(ds[ds['Train'] == 0][cat_cols].values)\n",
    "        return x_cat_train, x_cat_test\n",
    "    \n",
    "    # Сохраним бмнарные признаки в виде матрицы\n",
    "    def to_matrix():        \n",
    "        x_bin_train = ds[ds['Train'] == 1][bin_cols].values\n",
    "        x_bin_test = ds[ds['Train'] == 0][bin_cols].values\n",
    "        return x_bin_train, x_bin_test\n",
    "    \n",
    "    x_num_train, x_num_test = standartize()\n",
    "    x_cat_train, x_cat_test = OHE()\n",
    "    x_bin_train, x_bin_test = to_matrix()\n",
    "    \n",
    "    # Объединяем\n",
    "    x = np.hstack([x_num_train, x_bin_train, x_cat_train])\n",
    "    y = ds[ds['Train'] == 1]['default'].values\n",
    "    # Сохраним тестовый датасет\n",
    "    test = np.hstack([x_num_test, x_bin_test, x_cat_test])\n",
    "    \n",
    "    return x, y, test"
   ]
  },
  {
   "cell_type": "markdown",
   "metadata": {},
   "source": [
    "# 5. Анализ переменных"
   ]
  },
  {
   "cell_type": "markdown",
   "metadata": {},
   "source": [
    "### Анализ числовых переменных."
   ]
  },
  {
   "cell_type": "markdown",
   "metadata": {},
   "source": [
    "#### Age"
   ]
  },
  {
   "cell_type": "code",
   "execution_count": 1039,
   "metadata": {
    "execution": {
     "iopub.execute_input": "2021-05-26T06:34:49.627656Z",
     "iopub.status.busy": "2021-05-26T06:34:49.627295Z",
     "iopub.status.idle": "2021-05-26T06:34:49.655700Z",
     "shell.execute_reply": "2021-05-26T06:34:49.654494Z",
     "shell.execute_reply.started": "2021-05-26T06:34:49.627625Z"
    }
   },
   "outputs": [
    {
     "data": {
      "text/plain": [
       "count    73799.000000\n",
       "mean        39.280641\n",
       "std         11.520378\n",
       "min         21.000000\n",
       "25%         30.000000\n",
       "50%         37.000000\n",
       "75%         48.000000\n",
       "max         72.000000\n",
       "Name: age, dtype: float64"
      ]
     },
     "execution_count": 1039,
     "metadata": {},
     "output_type": "execute_result"
    }
   ],
   "source": [
    "train['age'].describe()"
   ]
  },
  {
   "cell_type": "code",
   "execution_count": 1040,
   "metadata": {
    "execution": {
     "iopub.execute_input": "2021-05-26T06:34:49.657985Z",
     "iopub.status.busy": "2021-05-26T06:34:49.657544Z",
     "iopub.status.idle": "2021-05-26T06:34:49.979290Z",
     "shell.execute_reply": "2021-05-26T06:34:49.978104Z",
     "shell.execute_reply.started": "2021-05-26T06:34:49.657941Z"
    }
   },
   "outputs": [
    {
     "name": "stdout",
     "output_type": "stream",
     "text": [
      "Гисторамма и boxplot признака age\n"
     ]
    },
    {
     "data": {
      "image/png": "[encoded data removed]",
      "text/plain": [
       "<Figure size 864x288 with 2 Axes>"
      ]
     },
     "metadata": {
      "needs_background": "light"
     },
     "output_type": "display_data"
    }
   ],
   "source": [
    "draw_hist('age')"
   ]
  },
  {
   "cell_type": "raw",
   "metadata": {},
   "source": [
    "# Построим графики логарифмированной переменной"
   ]
  },
  {
   "cell_type": "code",
   "execution_count": 1041,
   "metadata": {
    "execution": {
     "iopub.execute_input": "2021-05-26T06:34:49.981314Z",
     "iopub.status.busy": "2021-05-26T06:34:49.980905Z",
     "iopub.status.idle": "2021-05-26T06:34:50.370317Z",
     "shell.execute_reply": "2021-05-26T06:34:50.368703Z",
     "shell.execute_reply.started": "2021-05-26T06:34:49.981269Z"
    }
   },
   "outputs": [
    {
     "name": "stdout",
     "output_type": "stream",
     "text": [
      "Гисторамма и boxplot логарифмированного признака age\n"
     ]
    },
    {
     "data": {
      "image/png": "[encoded data removed]",
      "text/plain": [
       "<Figure size 864x288 with 2 Axes>"
      ]
     },
     "metadata": {
      "needs_background": "light"
     },
     "output_type": "display_data"
    }
   ],
   "source": [
    "draw_log_hist('age')"
   ]
  },
  {
   "cell_type": "code",
   "execution_count": 1042,
   "metadata": {
    "execution": {
     "iopub.execute_input": "2021-05-26T06:34:50.373625Z",
     "iopub.status.busy": "2021-05-26T06:34:50.372804Z",
     "iopub.status.idle": "2021-05-26T06:34:50.379516Z",
     "shell.execute_reply": "2021-05-26T06:34:50.378079Z",
     "shell.execute_reply.started": "2021-05-26T06:34:50.373558Z"
    }
   },
   "outputs": [],
   "source": [
    "# Распределение логнормальное. Выбросов нет. Изменим значение на логарифм."
   ]
  },
  {
   "cell_type": "code",
   "execution_count": 1043,
   "metadata": {
    "execution": {
     "iopub.execute_input": "2021-05-26T06:34:50.382522Z",
     "iopub.status.busy": "2021-05-26T06:34:50.382013Z",
     "iopub.status.idle": "2021-05-26T06:34:50.405087Z",
     "shell.execute_reply": "2021-05-26T06:34:50.403063Z",
     "shell.execute_reply.started": "2021-05-26T06:34:50.382451Z"
    }
   },
   "outputs": [],
   "source": [
    "df['age'] = np.log(df['age'] + 1)"
   ]
  },
  {
   "cell_type": "markdown",
   "metadata": {},
   "source": [
    "#### Decline_app_cnt"
   ]
  },
  {
   "cell_type": "code",
   "execution_count": 1044,
   "metadata": {
    "execution": {
     "iopub.execute_input": "2021-05-26T06:34:50.408074Z",
     "iopub.status.busy": "2021-05-26T06:34:50.407566Z",
     "iopub.status.idle": "2021-05-26T06:34:50.796045Z",
     "shell.execute_reply": "2021-05-26T06:34:50.794698Z",
     "shell.execute_reply.started": "2021-05-26T06:34:50.408017Z"
    }
   },
   "outputs": [
    {
     "name": "stdout",
     "output_type": "stream",
     "text": [
      "Гисторамма и boxplot признака decline_app_cnt\n"
     ]
    },
    {
     "data": {
      "image/png": "[encoded data removed]",
      "text/plain": [
       "<Figure size 864x288 with 2 Axes>"
      ]
     },
     "metadata": {
      "needs_background": "light"
     },
     "output_type": "display_data"
    }
   ],
   "source": [
    "draw_hist('decline_app_cnt')"
   ]
  },
  {
   "cell_type": "code",
   "execution_count": 1045,
   "metadata": {
    "execution": {
     "iopub.execute_input": "2021-05-26T06:34:50.798343Z",
     "iopub.status.busy": "2021-05-26T06:34:50.797868Z",
     "iopub.status.idle": "2021-05-26T06:34:50.804185Z",
     "shell.execute_reply": "2021-05-26T06:34:50.802755Z",
     "shell.execute_reply.started": "2021-05-26T06:34:50.798296Z"
    }
   },
   "outputs": [],
   "source": [
    "# Построим графики логарифмированной переменной"
   ]
  },
  {
   "cell_type": "code",
   "execution_count": 1046,
   "metadata": {
    "execution": {
     "iopub.execute_input": "2021-05-26T06:34:50.808057Z",
     "iopub.status.busy": "2021-05-26T06:34:50.807042Z",
     "iopub.status.idle": "2021-05-26T06:34:51.238264Z",
     "shell.execute_reply": "2021-05-26T06:34:51.237150Z",
     "shell.execute_reply.started": "2021-05-26T06:34:50.807989Z"
    }
   },
   "outputs": [
    {
     "name": "stdout",
     "output_type": "stream",
     "text": [
      "Гисторамма и boxplot логарифмированного признака decline_app_cnt\n"
     ]
    },
    {
     "data": {
      "image/png": "[encoded data removed]",
      "text/plain": [
       "<Figure size 864x288 with 2 Axes>"
      ]
     },
     "metadata": {
      "needs_background": "light"
     },
     "output_type": "display_data"
    }
   ],
   "source": [
    "draw_log_hist('decline_app_cnt')"
   ]
  },
  {
   "cell_type": "code",
   "execution_count": 1047,
   "metadata": {
    "execution": {
     "iopub.execute_input": "2021-05-26T06:34:51.241230Z",
     "iopub.status.busy": "2021-05-26T06:34:51.240774Z",
     "iopub.status.idle": "2021-05-26T06:34:51.257898Z",
     "shell.execute_reply": "2021-05-26T06:34:51.256598Z",
     "shell.execute_reply.started": "2021-05-26T06:34:51.241183Z"
    }
   },
   "outputs": [
    {
     "name": "stdout",
     "output_type": "stream",
     "text": [
      "Рассчитано по логарифмированным значениям: False\n",
      "25-й перцентиль: 0.0, 75-й перцентиль: 0.0\n",
      "IQR: 0.0\n",
      "Границы выбросов: [0.0; 0.0]\n",
      "Количество выбросов: 12585\n",
      "Количество выбросов слева: 0\n",
      "Количество выбросов справа: 12585\n"
     ]
    }
   ],
   "source": [
    "# Признак имеет большое количество выбросов. Определим границы выбросов.\n",
    "detect_outliers('decline_app_cnt')\n",
    "\n",
    "# Все значения выше нуля находятся за границей выбросов. Оставим все как есть."
   ]
  },
  {
   "cell_type": "markdown",
   "metadata": {},
   "source": [
    "#### score_bki"
   ]
  },
  {
   "cell_type": "code",
   "execution_count": 1048,
   "metadata": {
    "execution": {
     "iopub.execute_input": "2021-05-26T06:34:51.260359Z",
     "iopub.status.busy": "2021-05-26T06:34:51.259591Z",
     "iopub.status.idle": "2021-05-26T06:34:51.619665Z",
     "shell.execute_reply": "2021-05-26T06:34:51.618519Z",
     "shell.execute_reply.started": "2021-05-26T06:34:51.260309Z"
    }
   },
   "outputs": [
    {
     "name": "stdout",
     "output_type": "stream",
     "text": [
      "Гисторамма и boxplot признака score_bki\n"
     ]
    },
    {
     "data": {
      "image/png": "[encoded data removed]",
      "text/plain": [
       "<Figure size 864x288 with 2 Axes>"
      ]
     },
     "metadata": {
      "needs_background": "light"
     },
     "output_type": "display_data"
    }
   ],
   "source": [
    "draw_hist('score_bki')"
   ]
  },
  {
   "cell_type": "code",
   "execution_count": 1049,
   "metadata": {
    "execution": {
     "iopub.execute_input": "2021-05-26T06:34:51.621772Z",
     "iopub.status.busy": "2021-05-26T06:34:51.621377Z",
     "iopub.status.idle": "2021-05-26T06:34:51.636674Z",
     "shell.execute_reply": "2021-05-26T06:34:51.635276Z",
     "shell.execute_reply.started": "2021-05-26T06:34:51.621740Z"
    }
   },
   "outputs": [
    {
     "name": "stdout",
     "output_type": "stream",
     "text": [
      "Рассчитано по логарифмированным значениям: False\n",
      "25-й перцентиль: -2.259533835, 75-й перцентиль: -1.56983126\n",
      "IQR: 0.6897025750000001\n",
      "Границы выбросов: [-3.2940876975; -0.5352773974999998]\n",
      "Количество выбросов: 351\n",
      "Количество выбросов слева: 52\n",
      "Количество выбросов справа: 299\n"
     ]
    }
   ],
   "source": [
    "detect_outliers('score_bki')"
   ]
  },
  {
   "cell_type": "code",
   "execution_count": 1050,
   "metadata": {
    "execution": {
     "iopub.execute_input": "2021-05-26T06:34:51.638636Z",
     "iopub.status.busy": "2021-05-26T06:34:51.638256Z",
     "iopub.status.idle": "2021-05-26T06:34:51.643395Z",
     "shell.execute_reply": "2021-05-26T06:34:51.642029Z",
     "shell.execute_reply.started": "2021-05-26T06:34:51.638603Z"
    }
   },
   "outputs": [],
   "source": [
    "# Распределение параметра нормальное. Выбросов мало. Оставляем как есть."
   ]
  },
  {
   "cell_type": "markdown",
   "metadata": {},
   "source": [
    "#### Bki_request_cnt"
   ]
  },
  {
   "cell_type": "code",
   "execution_count": 1051,
   "metadata": {
    "execution": {
     "iopub.execute_input": "2021-05-26T06:34:51.645607Z",
     "iopub.status.busy": "2021-05-26T06:34:51.645165Z",
     "iopub.status.idle": "2021-05-26T06:34:51.986246Z",
     "shell.execute_reply": "2021-05-26T06:34:51.985165Z",
     "shell.execute_reply.started": "2021-05-26T06:34:51.645562Z"
    }
   },
   "outputs": [
    {
     "name": "stdout",
     "output_type": "stream",
     "text": [
      "Гисторамма и boxplot признака bki_request_cnt\n"
     ]
    },
    {
     "data": {
      "image/png": "[encoded data removed]",
      "text/plain": [
       "<Figure size 864x288 with 2 Axes>"
      ]
     },
     "metadata": {
      "needs_background": "light"
     },
     "output_type": "display_data"
    }
   ],
   "source": [
    "draw_hist('bki_request_cnt')"
   ]
  },
  {
   "cell_type": "code",
   "execution_count": 1052,
   "metadata": {
    "execution": {
     "iopub.execute_input": "2021-05-26T06:34:51.987938Z",
     "iopub.status.busy": "2021-05-26T06:34:51.987634Z",
     "iopub.status.idle": "2021-05-26T06:34:52.396007Z",
     "shell.execute_reply": "2021-05-26T06:34:52.394963Z",
     "shell.execute_reply.started": "2021-05-26T06:34:51.987897Z"
    }
   },
   "outputs": [
    {
     "name": "stdout",
     "output_type": "stream",
     "text": [
      "Гисторамма и boxplot логарифмированного признака bki_request_cnt\n"
     ]
    },
    {
     "data": {
      "image/png": "[encoded data removed]",
      "text/plain": [
       "<Figure size 864x288 with 2 Axes>"
      ]
     },
     "metadata": {
      "needs_background": "light"
     },
     "output_type": "display_data"
    }
   ],
   "source": [
    "draw_log_hist('bki_request_cnt')"
   ]
  },
  {
   "cell_type": "code",
   "execution_count": 1053,
   "metadata": {
    "execution": {
     "iopub.execute_input": "2021-05-26T06:34:52.397893Z",
     "iopub.status.busy": "2021-05-26T06:34:52.397298Z",
     "iopub.status.idle": "2021-05-26T06:34:52.413783Z",
     "shell.execute_reply": "2021-05-26T06:34:52.412419Z",
     "shell.execute_reply.started": "2021-05-26T06:34:52.397849Z"
    }
   },
   "outputs": [
    {
     "name": "stdout",
     "output_type": "stream",
     "text": [
      "Рассчитано по логарифмированным значениям: False\n",
      "25-й перцентиль: 0.0, 75-й перцентиль: 3.0\n",
      "IQR: 3.0\n",
      "Границы выбросов: [-4.5; 7.5]\n",
      "Количество выбросов: 1755\n",
      "Количество выбросов слева: 0\n",
      "Количество выбросов справа: 1755\n"
     ]
    }
   ],
   "source": [
    "detect_outliers('bki_request_cnt', log=False)"
   ]
  },
  {
   "cell_type": "code",
   "execution_count": 1054,
   "metadata": {
    "execution": {
     "iopub.execute_input": "2021-05-26T06:34:52.415665Z",
     "iopub.status.busy": "2021-05-26T06:34:52.415244Z",
     "iopub.status.idle": "2021-05-26T06:34:52.437498Z",
     "shell.execute_reply": "2021-05-26T06:34:52.436320Z",
     "shell.execute_reply.started": "2021-05-26T06:34:52.415621Z"
    }
   },
   "outputs": [
    {
     "name": "stdout",
     "output_type": "stream",
     "text": [
      "Рассчитано по логарифмированным значениям: True\n",
      "25-й перцентиль: 0.0, 75-й перцентиль: 1.3862943611198906\n",
      "IQR: 1.3862943611198906\n",
      "Границы выбросов: [-2.0794415416798357; 3.465735902799726]\n",
      "Количество выбросов: 9\n",
      "Количество выбросов слева: 0\n",
      "Количество выбросов справа: 9\n"
     ]
    }
   ],
   "source": [
    "detect_outliers('bki_request_cnt', log=True)"
   ]
  },
  {
   "cell_type": "code",
   "execution_count": 1055,
   "metadata": {
    "execution": {
     "iopub.execute_input": "2021-05-26T06:34:52.439340Z",
     "iopub.status.busy": "2021-05-26T06:34:52.439039Z",
     "iopub.status.idle": "2021-05-26T06:34:52.447215Z",
     "shell.execute_reply": "2021-05-26T06:34:52.445373Z",
     "shell.execute_reply.started": "2021-05-26T06:34:52.439312Z"
    }
   },
   "outputs": [],
   "source": [
    "# Распределение смещено вправо. При логарифмировании получилось всего 9 выбросов. Изменим значение на логарифм."
   ]
  },
  {
   "cell_type": "code",
   "execution_count": 1056,
   "metadata": {
    "execution": {
     "iopub.execute_input": "2021-05-26T06:34:52.449691Z",
     "iopub.status.busy": "2021-05-26T06:34:52.449085Z",
     "iopub.status.idle": "2021-05-26T06:34:52.476210Z",
     "shell.execute_reply": "2021-05-26T06:34:52.474644Z",
     "shell.execute_reply.started": "2021-05-26T06:34:52.449644Z"
    }
   },
   "outputs": [],
   "source": [
    "df['bki_request_cnt'] = np.log(df['bki_request_cnt'] + 1)"
   ]
  },
  {
   "cell_type": "markdown",
   "metadata": {},
   "source": [
    "#### Income"
   ]
  },
  {
   "cell_type": "code",
   "execution_count": 1057,
   "metadata": {
    "execution": {
     "iopub.execute_input": "2021-05-26T06:34:52.478770Z",
     "iopub.status.busy": "2021-05-26T06:34:52.478284Z",
     "iopub.status.idle": "2021-05-26T06:34:52.845029Z",
     "shell.execute_reply": "2021-05-26T06:34:52.843747Z",
     "shell.execute_reply.started": "2021-05-26T06:34:52.478722Z"
    }
   },
   "outputs": [
    {
     "name": "stdout",
     "output_type": "stream",
     "text": [
      "Гисторамма и boxplot признака income\n"
     ]
    },
    {
     "data": {
      "image/png": "[encoded data removed]",
      "text/plain": [
       "<Figure size 864x288 with 2 Axes>"
      ]
     },
     "metadata": {
      "needs_background": "light"
     },
     "output_type": "display_data"
    }
   ],
   "source": [
    "draw_hist('income')"
   ]
  },
  {
   "cell_type": "code",
   "execution_count": 1058,
   "metadata": {
    "execution": {
     "iopub.execute_input": "2021-05-26T06:34:52.847193Z",
     "iopub.status.busy": "2021-05-26T06:34:52.846716Z",
     "iopub.status.idle": "2021-05-26T06:34:53.227676Z",
     "shell.execute_reply": "2021-05-26T06:34:53.226311Z",
     "shell.execute_reply.started": "2021-05-26T06:34:52.847156Z"
    }
   },
   "outputs": [
    {
     "name": "stdout",
     "output_type": "stream",
     "text": [
      "Гисторамма и boxplot логарифмированного признака income\n"
     ]
    },
    {
     "data": {
      "image/png": "[encoded data removed]",
      "text/plain": [
       "<Figure size 864x288 with 2 Axes>"
      ]
     },
     "metadata": {
      "needs_background": "light"
     },
     "output_type": "display_data"
    }
   ],
   "source": [
    "draw_log_hist('income')"
   ]
  },
  {
   "cell_type": "code",
   "execution_count": 1059,
   "metadata": {
    "execution": {
     "iopub.execute_input": "2021-05-26T06:34:53.229284Z",
     "iopub.status.busy": "2021-05-26T06:34:53.228932Z",
     "iopub.status.idle": "2021-05-26T06:34:53.247433Z",
     "shell.execute_reply": "2021-05-26T06:34:53.246103Z",
     "shell.execute_reply.started": "2021-05-26T06:34:53.229253Z"
    }
   },
   "outputs": [
    {
     "name": "stdout",
     "output_type": "stream",
     "text": [
      "Рассчитано по логарифмированным значениям: True\n",
      "25-й перцентиль: 9.90353755128617, 75-й перцентиль: 10.778977123006351\n",
      "IQR: 0.8754395717201806\n",
      "Границы выбросов: [8.590378193705899; 12.092136480586621]\n",
      "Количество выбросов: 1767\n",
      "Количество выбросов слева: 595\n",
      "Количество выбросов справа: 1172\n"
     ]
    }
   ],
   "source": [
    "detect_outliers('income', log=True)"
   ]
  },
  {
   "cell_type": "code",
   "execution_count": 1060,
   "metadata": {
    "execution": {
     "iopub.execute_input": "2021-05-26T06:34:53.249248Z",
     "iopub.status.busy": "2021-05-26T06:34:53.248938Z",
     "iopub.status.idle": "2021-05-26T06:34:53.255623Z",
     "shell.execute_reply": "2021-05-26T06:34:53.254453Z",
     "shell.execute_reply.started": "2021-05-26T06:34:53.249217Z"
    }
   },
   "outputs": [],
   "source": [
    "# Распределение логнормальное, выбросов немало, даже с логарифмом. \n",
    "# Пока оставим так.\n",
    "# В модели будем использовать логарифм от признака."
   ]
  },
  {
   "cell_type": "code",
   "execution_count": 1061,
   "metadata": {
    "execution": {
     "iopub.execute_input": "2021-05-26T06:34:53.257716Z",
     "iopub.status.busy": "2021-05-26T06:34:53.257412Z",
     "iopub.status.idle": "2021-05-26T06:34:53.276012Z",
     "shell.execute_reply": "2021-05-26T06:34:53.274692Z",
     "shell.execute_reply.started": "2021-05-26T06:34:53.257688Z"
    }
   },
   "outputs": [],
   "source": [
    "df['income'] = np.log(df['income'] + 1)"
   ]
  },
  {
   "cell_type": "markdown",
   "metadata": {},
   "source": [
    "#### Определим значимость признаков с помощью теста ANOVA."
   ]
  },
  {
   "cell_type": "code",
   "execution_count": 1062,
   "metadata": {
    "execution": {
     "iopub.execute_input": "2021-05-26T06:34:53.277624Z",
     "iopub.status.busy": "2021-05-26T06:34:53.277309Z",
     "iopub.status.idle": "2021-05-26T06:34:53.456156Z",
     "shell.execute_reply": "2021-05-26T06:34:53.455422Z",
     "shell.execute_reply.started": "2021-05-26T06:34:53.277595Z"
    }
   },
   "outputs": [
    {
     "data": {
      "text/plain": [
       "<AxesSubplot:>"
      ]
     },
     "execution_count": 1062,
     "metadata": {},
     "output_type": "execute_result"
    },
    {
     "data": {
      "image/png": "[encoded data removed]",
      "text/plain": [
       "<Figure size 432x288 with 1 Axes>"
      ]
     },
     "metadata": {
      "needs_background": "light"
     },
     "output_type": "display_data"
    }
   ],
   "source": [
    "imp_num = pd.Series(f_classif(df[df['Train'] == 1][num_cols], df[df['Train'] == 1]['default'])[0], index = num_cols)\n",
    "imp_num.sort_values(inplace = True)\n",
    "imp_num.plot(kind = 'barh')"
   ]
  },
  {
   "cell_type": "code",
   "execution_count": 1063,
   "metadata": {
    "execution": {
     "iopub.execute_input": "2021-05-26T06:34:53.458089Z",
     "iopub.status.busy": "2021-05-26T06:34:53.457501Z",
     "iopub.status.idle": "2021-05-26T06:34:53.462056Z",
     "shell.execute_reply": "2021-05-26T06:34:53.460897Z",
     "shell.execute_reply.started": "2021-05-26T06:34:53.458034Z"
    }
   },
   "outputs": [],
   "source": [
    "# Самым значимым оказался показатель кредитного рейтинга (что неудивительно).\n",
    "# Следом идет показатель количества отказов."
   ]
  },
  {
   "cell_type": "markdown",
   "metadata": {},
   "source": [
    "### Анализ бинарных признаков."
   ]
  },
  {
   "cell_type": "code",
   "execution_count": 1064,
   "metadata": {
    "execution": {
     "iopub.execute_input": "2021-05-26T06:34:53.463991Z",
     "iopub.status.busy": "2021-05-26T06:34:53.463598Z",
     "iopub.status.idle": "2021-05-26T06:34:53.476660Z",
     "shell.execute_reply": "2021-05-26T06:34:53.475494Z",
     "shell.execute_reply.started": "2021-05-26T06:34:53.463950Z"
    }
   },
   "outputs": [],
   "source": [
    "# Взглянем на признаки более подробно. "
   ]
  },
  {
   "cell_type": "markdown",
   "metadata": {},
   "source": [
    "#### Sex"
   ]
  },
  {
   "cell_type": "code",
   "execution_count": 1065,
   "metadata": {
    "execution": {
     "iopub.execute_input": "2021-05-26T06:34:53.478630Z",
     "iopub.status.busy": "2021-05-26T06:34:53.478235Z",
     "iopub.status.idle": "2021-05-26T06:34:53.806520Z",
     "shell.execute_reply": "2021-05-26T06:34:53.805374Z",
     "shell.execute_reply.started": "2021-05-26T06:34:53.478594Z"
    }
   },
   "outputs": [
    {
     "name": "stdout",
     "output_type": "stream",
     "text": [
      "Распределение целевой переменной default по признаку sex.\n",
      "Распределение признака в процентном соотношении\n",
      "F    0.563178\n",
      "M    0.436822\n",
      "Name: sex, dtype: float64\n",
      "Распределние признака в зависимости от целевой переменной\n",
      "Среди показателя M неплательщиков 13.44%\n",
      "Среди показателя F неплательщиков 12.12%\n"
     ]
    },
    {
     "data": {
      "image/png": "[encoded data removed]",
      "text/plain": [
       "<Figure size 432x288 with 1 Axes>"
      ]
     },
     "metadata": {
      "needs_background": "light"
     },
     "output_type": "display_data"
    }
   ],
   "source": [
    "draw_count_plot('sex')"
   ]
  },
  {
   "cell_type": "markdown",
   "metadata": {},
   "source": [
    "#### Car"
   ]
  },
  {
   "cell_type": "code",
   "execution_count": 1066,
   "metadata": {
    "execution": {
     "iopub.execute_input": "2021-05-26T06:34:53.808272Z",
     "iopub.status.busy": "2021-05-26T06:34:53.807943Z",
     "iopub.status.idle": "2021-05-26T06:34:54.119622Z",
     "shell.execute_reply": "2021-05-26T06:34:54.118619Z",
     "shell.execute_reply.started": "2021-05-26T06:34:53.808239Z"
    }
   },
   "outputs": [
    {
     "name": "stdout",
     "output_type": "stream",
     "text": [
      "Распределение целевой переменной default по признаку car.\n",
      "Распределение признака в процентном соотношении\n",
      "N    0.67524\n",
      "Y    0.32476\n",
      "Name: car, dtype: float64\n",
      "Распределние признака в зависимости от целевой переменной\n",
      "Среди показателя Y неплательщиков 10.63%\n",
      "Среди показателя N неплательщиков 13.7%\n"
     ]
    },
    {
     "data": {
      "image/png": "[encoded data removed]",
      "text/plain": [
       "<Figure size 432x288 with 1 Axes>"
      ]
     },
     "metadata": {
      "needs_background": "light"
     },
     "output_type": "display_data"
    }
   ],
   "source": [
    "draw_count_plot('car')"
   ]
  },
  {
   "cell_type": "markdown",
   "metadata": {},
   "source": [
    "#### Car_type"
   ]
  },
  {
   "cell_type": "code",
   "execution_count": 1067,
   "metadata": {
    "execution": {
     "iopub.execute_input": "2021-05-26T06:34:54.121654Z",
     "iopub.status.busy": "2021-05-26T06:34:54.121219Z",
     "iopub.status.idle": "2021-05-26T06:34:54.433919Z",
     "shell.execute_reply": "2021-05-26T06:34:54.432585Z",
     "shell.execute_reply.started": "2021-05-26T06:34:54.121607Z"
    }
   },
   "outputs": [
    {
     "name": "stdout",
     "output_type": "stream",
     "text": [
      "Распределение целевой переменной default по признаку car_type.\n",
      "Распределение признака в процентном соотношении\n",
      "N    0.810187\n",
      "Y    0.189813\n",
      "Name: car_type, dtype: float64\n",
      "Распределние признака в зависимости от целевой переменной\n",
      "Среди показателя Y неплательщиков 8.75%\n",
      "Среди показателя N неплательщиков 13.63%\n"
     ]
    },
    {
     "data": {
      "image/png": "[encoded data removed]",
      "text/plain": [
       "<Figure size 432x288 with 1 Axes>"
      ]
     },
     "metadata": {
      "needs_background": "light"
     },
     "output_type": "display_data"
    }
   ],
   "source": [
    "draw_count_plot('car_type')"
   ]
  },
  {
   "cell_type": "markdown",
   "metadata": {},
   "source": [
    "#### Good_work"
   ]
  },
  {
   "cell_type": "code",
   "execution_count": 1068,
   "metadata": {
    "execution": {
     "iopub.execute_input": "2021-05-26T06:34:54.435986Z",
     "iopub.status.busy": "2021-05-26T06:34:54.435625Z",
     "iopub.status.idle": "2021-05-26T06:34:54.618229Z",
     "shell.execute_reply": "2021-05-26T06:34:54.617050Z",
     "shell.execute_reply.started": "2021-05-26T06:34:54.435954Z"
    }
   },
   "outputs": [
    {
     "name": "stdout",
     "output_type": "stream",
     "text": [
      "Распределение целевой переменной default по признаку good_work.\n",
      "Распределение признака в процентном соотношении\n",
      "0    0.835106\n",
      "1    0.164894\n",
      "Name: good_work, dtype: float64\n",
      "Распределние признака в зависимости от целевой переменной\n",
      "Среди показателя 0 неплательщиков 13.34%\n",
      "Среди показателя 1 неплательщиков 9.45%\n"
     ]
    },
    {
     "data": {
      "image/png": "[encoded data removed]",
      "text/plain": [
       "<Figure size 432x288 with 1 Axes>"
      ]
     },
     "metadata": {
      "needs_background": "light"
     },
     "output_type": "display_data"
    }
   ],
   "source": [
    "draw_count_plot('good_work')\n",
    "# 1 - значит \"Yes\"\n",
    "# 0 - \"No\""
   ]
  },
  {
   "cell_type": "markdown",
   "metadata": {},
   "source": [
    "#### Foreign_passport"
   ]
  },
  {
   "cell_type": "code",
   "execution_count": 1069,
   "metadata": {
    "execution": {
     "iopub.execute_input": "2021-05-26T06:34:54.620187Z",
     "iopub.status.busy": "2021-05-26T06:34:54.619761Z",
     "iopub.status.idle": "2021-05-26T06:34:54.942336Z",
     "shell.execute_reply": "2021-05-26T06:34:54.941539Z",
     "shell.execute_reply.started": "2021-05-26T06:34:54.620139Z"
    }
   },
   "outputs": [
    {
     "name": "stdout",
     "output_type": "stream",
     "text": [
      "Распределение целевой переменной default по признаку foreign_passport.\n",
      "Распределение признака в процентном соотношении\n",
      "N    0.850052\n",
      "Y    0.149948\n",
      "Name: foreign_passport, dtype: float64\n",
      "Распределние признака в зависимости от целевой переменной\n",
      "Среди показателя N неплательщиков 13.63%\n",
      "Среди показателя Y неплательщиков 7.41%\n"
     ]
    },
    {
     "data": {
      "image/png": "[encoded data removed]",
      "text/plain": [
       "<Figure size 432x288 with 1 Axes>"
      ]
     },
     "metadata": {
      "needs_background": "light"
     },
     "output_type": "display_data"
    }
   ],
   "source": [
    "draw_count_plot('foreign_passport')"
   ]
  },
  {
   "cell_type": "markdown",
   "metadata": {},
   "source": [
    "#### Преобразование"
   ]
  },
  {
   "cell_type": "code",
   "execution_count": 1070,
   "metadata": {
    "execution": {
     "iopub.execute_input": "2021-05-26T06:34:54.951172Z",
     "iopub.status.busy": "2021-05-26T06:34:54.950395Z",
     "iopub.status.idle": "2021-05-26T06:34:55.121159Z",
     "shell.execute_reply": "2021-05-26T06:34:55.120312Z",
     "shell.execute_reply.started": "2021-05-26T06:34:54.951119Z"
    }
   },
   "outputs": [
    {
     "name": "stdout",
     "output_type": "stream",
     "text": [
      "sex\n",
      "{0: 'F', 1: 'M'} \n",
      "\n",
      "car\n",
      "{0: 'N', 1: 'Y'} \n",
      "\n",
      "car_type\n",
      "{0: 'N', 1: 'Y'} \n",
      "\n",
      "good_work\n",
      "{0: 0, 1: 1} \n",
      "\n",
      "foreign_passport\n",
      "{0: 'N', 1: 'Y'} \n",
      "\n"
     ]
    }
   ],
   "source": [
    "# Преобразуем строковые данные в числовые с помощью LabelEncoder\n",
    "label_encoder = LabelEncoder()\n",
    "\n",
    "for column in bin_cols:\n",
    "    df[column] = label_encoder.fit_transform(df[column])\n",
    "    print(column)\n",
    "    print(dict(enumerate(label_encoder.classes_)), \"\\n\")"
   ]
  },
  {
   "cell_type": "code",
   "execution_count": 1071,
   "metadata": {
    "execution": {
     "iopub.execute_input": "2021-05-26T06:34:55.123791Z",
     "iopub.status.busy": "2021-05-26T06:34:55.123240Z",
     "iopub.status.idle": "2021-05-26T06:34:55.145348Z",
     "shell.execute_reply": "2021-05-26T06:34:55.144161Z",
     "shell.execute_reply.started": "2021-05-26T06:34:55.123758Z"
    }
   },
   "outputs": [
    {
     "data": {
      "text/html": [
       "<div>\n",
       "<style scoped>\n",
       "    .dataframe tbody tr th:only-of-type {\n",
       "        vertical-align: middle;\n",
       "    }\n",
       "\n",
       "    .dataframe tbody tr th {\n",
       "        vertical-align: top;\n",
       "    }\n",
       "\n",
       "    .dataframe thead th {\n",
       "        text-align: right;\n",
       "    }\n",
       "</style>\n",
       "<table border=\"1\" class=\"dataframe\">\n",
       "  <thead>\n",
       "    <tr style=\"text-align: right;\">\n",
       "      <th></th>\n",
       "      <th>sex</th>\n",
       "      <th>car</th>\n",
       "      <th>car_type</th>\n",
       "      <th>good_work</th>\n",
       "      <th>foreign_passport</th>\n",
       "    </tr>\n",
       "  </thead>\n",
       "  <tbody>\n",
       "    <tr>\n",
       "      <th>0</th>\n",
       "      <td>1</td>\n",
       "      <td>1</td>\n",
       "      <td>1</td>\n",
       "      <td>0</td>\n",
       "      <td>0</td>\n",
       "    </tr>\n",
       "    <tr>\n",
       "      <th>1</th>\n",
       "      <td>0</td>\n",
       "      <td>0</td>\n",
       "      <td>0</td>\n",
       "      <td>0</td>\n",
       "      <td>0</td>\n",
       "    </tr>\n",
       "    <tr>\n",
       "      <th>2</th>\n",
       "      <td>1</td>\n",
       "      <td>1</td>\n",
       "      <td>0</td>\n",
       "      <td>0</td>\n",
       "      <td>1</td>\n",
       "    </tr>\n",
       "    <tr>\n",
       "      <th>3</th>\n",
       "      <td>0</td>\n",
       "      <td>0</td>\n",
       "      <td>0</td>\n",
       "      <td>0</td>\n",
       "      <td>0</td>\n",
       "    </tr>\n",
       "    <tr>\n",
       "      <th>4</th>\n",
       "      <td>1</td>\n",
       "      <td>0</td>\n",
       "      <td>0</td>\n",
       "      <td>1</td>\n",
       "      <td>1</td>\n",
       "    </tr>\n",
       "    <tr>\n",
       "      <th>...</th>\n",
       "      <td>...</td>\n",
       "      <td>...</td>\n",
       "      <td>...</td>\n",
       "      <td>...</td>\n",
       "      <td>...</td>\n",
       "    </tr>\n",
       "    <tr>\n",
       "      <th>110143</th>\n",
       "      <td>0</td>\n",
       "      <td>0</td>\n",
       "      <td>0</td>\n",
       "      <td>0</td>\n",
       "      <td>0</td>\n",
       "    </tr>\n",
       "    <tr>\n",
       "      <th>110144</th>\n",
       "      <td>0</td>\n",
       "      <td>1</td>\n",
       "      <td>1</td>\n",
       "      <td>0</td>\n",
       "      <td>0</td>\n",
       "    </tr>\n",
       "    <tr>\n",
       "      <th>110145</th>\n",
       "      <td>1</td>\n",
       "      <td>0</td>\n",
       "      <td>0</td>\n",
       "      <td>0</td>\n",
       "      <td>0</td>\n",
       "    </tr>\n",
       "    <tr>\n",
       "      <th>110146</th>\n",
       "      <td>0</td>\n",
       "      <td>0</td>\n",
       "      <td>0</td>\n",
       "      <td>0</td>\n",
       "      <td>0</td>\n",
       "    </tr>\n",
       "    <tr>\n",
       "      <th>110147</th>\n",
       "      <td>1</td>\n",
       "      <td>0</td>\n",
       "      <td>0</td>\n",
       "      <td>0</td>\n",
       "      <td>0</td>\n",
       "    </tr>\n",
       "  </tbody>\n",
       "</table>\n",
       "<p>110148 rows × 5 columns</p>\n",
       "</div>"
      ],
      "text/plain": [
       "        sex  car  car_type  good_work  foreign_passport\n",
       "0         1    1         1          0                 0\n",
       "1         0    0         0          0                 0\n",
       "2         1    1         0          0                 1\n",
       "3         0    0         0          0                 0\n",
       "4         1    0         0          1                 1\n",
       "...     ...  ...       ...        ...               ...\n",
       "110143    0    0         0          0                 0\n",
       "110144    0    1         1          0                 0\n",
       "110145    1    0         0          0                 0\n",
       "110146    0    0         0          0                 0\n",
       "110147    1    0         0          0                 0\n",
       "\n",
       "[110148 rows x 5 columns]"
      ]
     },
     "execution_count": 1071,
     "metadata": {},
     "output_type": "execute_result"
    }
   ],
   "source": [
    "# Убедимся в преобразовании\n",
    "df[bin_cols]"
   ]
  },
  {
   "cell_type": "markdown",
   "metadata": {},
   "source": [
    "### Анализ категориальных признаков"
   ]
  },
  {
   "cell_type": "markdown",
   "metadata": {},
   "source": [
    "#### Education"
   ]
  },
  {
   "cell_type": "code",
   "execution_count": 1072,
   "metadata": {
    "execution": {
     "iopub.execute_input": "2021-05-26T06:34:55.147094Z",
     "iopub.status.busy": "2021-05-26T06:34:55.146782Z",
     "iopub.status.idle": "2021-05-26T06:34:55.605111Z",
     "shell.execute_reply": "2021-05-26T06:34:55.603133Z",
     "shell.execute_reply.started": "2021-05-26T06:34:55.147064Z"
    }
   },
   "outputs": [
    {
     "name": "stdout",
     "output_type": "stream",
     "text": [
      "Распределение целевой переменной default по признаку education.\n",
      "Распределение признака в процентном соотношении\n",
      "SCH    0.530725\n",
      "GRD    0.316603\n",
      "UGR    0.133010\n",
      "PGR    0.017033\n",
      "ACD    0.002629\n",
      "Name: education, dtype: float64\n",
      "Распределние признака в зависимости от целевой переменной\n",
      "Среди показателя SCH неплательщиков 15.03%\n",
      "Среди показателя GRD неплательщиков 9.01%\n",
      "Среди показателя UGR неплательщиков 13.15%\n",
      "Среди показателя PGR неплательщиков 6.44%\n",
      "Среди показателя ACD неплательщиков 4.12%\n"
     ]
    },
    {
     "data": {
      "image/png": "[encoded data removed]",
      "text/plain": [
       "<Figure size 432x288 with 1 Axes>"
      ]
     },
     "metadata": {
      "needs_background": "light"
     },
     "output_type": "display_data"
    }
   ],
   "source": [
    "draw_count_plot('education')"
   ]
  },
  {
   "cell_type": "code",
   "execution_count": 1073,
   "metadata": {
    "execution": {
     "iopub.execute_input": "2021-05-26T06:34:55.606978Z",
     "iopub.status.busy": "2021-05-26T06:34:55.606566Z",
     "iopub.status.idle": "2021-05-26T06:34:55.693182Z",
     "shell.execute_reply": "2021-05-26T06:34:55.691559Z",
     "shell.execute_reply.started": "2021-05-26T06:34:55.606937Z"
    }
   },
   "outputs": [],
   "source": [
    "# Заменим значения на числовые.\n",
    "education = {'SCH': 0, 'GRD': 1, 'UGR': 2, 'PGR': 3, 'ACD': 4}\n",
    "df.education = list(map(lambda x: education[x], df['education']))"
   ]
  },
  {
   "cell_type": "markdown",
   "metadata": {},
   "source": [
    "#### Region rating"
   ]
  },
  {
   "cell_type": "code",
   "execution_count": 1074,
   "metadata": {
    "execution": {
     "iopub.execute_input": "2021-05-26T06:34:55.695111Z",
     "iopub.status.busy": "2021-05-26T06:34:55.694820Z",
     "iopub.status.idle": "2021-05-26T06:34:55.960809Z",
     "shell.execute_reply": "2021-05-26T06:34:55.959567Z",
     "shell.execute_reply.started": "2021-05-26T06:34:55.695082Z"
    }
   },
   "outputs": [
    {
     "name": "stdout",
     "output_type": "stream",
     "text": [
      "Распределение целевой переменной default по признаку region_rating.\n",
      "Распределение признака в процентном соотношении\n",
      "50    0.372945\n",
      "60    0.217821\n",
      "40    0.162970\n",
      "80    0.155409\n",
      "70    0.083998\n",
      "30    0.004065\n",
      "20    0.002791\n",
      "Name: region_rating, dtype: float64\n",
      "Распределние признака в зависимости от целевой переменной\n",
      "Среди показателя 50 неплательщиков 13.61%\n",
      "Среди показателя 80 неплательщиков 7.32%\n",
      "Среди показателя 60 неплательщиков 12.88%\n",
      "Среди показателя 40 неплательщиков 16.97%\n",
      "Среди показателя 70 неплательщиков 9.24%\n",
      "Среди показателя 20 неплательщиков 21.36%\n",
      "Среди показателя 30 неплательщиков 19.0%\n"
     ]
    },
    {
     "data": {
      "image/png": "[encoded data removed]",
      "text/plain": [
       "<Figure size 432x288 with 1 Axes>"
      ]
     },
     "metadata": {
      "needs_background": "light"
     },
     "output_type": "display_data"
    }
   ],
   "source": [
    "draw_count_plot('region_rating')"
   ]
  },
  {
   "cell_type": "markdown",
   "metadata": {},
   "source": [
    "#### Home address"
   ]
  },
  {
   "cell_type": "code",
   "execution_count": 1075,
   "metadata": {
    "execution": {
     "iopub.execute_input": "2021-05-26T06:34:55.962847Z",
     "iopub.status.busy": "2021-05-26T06:34:55.962384Z",
     "iopub.status.idle": "2021-05-26T06:34:56.176378Z",
     "shell.execute_reply": "2021-05-26T06:34:56.175346Z",
     "shell.execute_reply.started": "2021-05-26T06:34:55.962810Z"
    }
   },
   "outputs": [
    {
     "name": "stdout",
     "output_type": "stream",
     "text": [
      "Распределение целевой переменной default по признаку home_address.\n",
      "Распределение признака в процентном соотношении\n",
      "2    0.541417\n",
      "1    0.441537\n",
      "3    0.017046\n",
      "Name: home_address, dtype: float64\n",
      "Распределние признака в зависимости от целевой переменной\n",
      "Среди показателя 1 неплательщиков 9.29%\n",
      "Среди показателя 2 неплательщиков 15.51%\n",
      "Среди показателя 3 неплательщиков 11.61%\n"
     ]
    },
    {
     "data": {
      "image/png": "[encoded data removed]",
      "text/plain": [
       "<Figure size 432x288 with 1 Axes>"
      ]
     },
     "metadata": {
      "needs_background": "light"
     },
     "output_type": "display_data"
    }
   ],
   "source": [
    "draw_count_plot('home_address')"
   ]
  },
  {
   "cell_type": "markdown",
   "metadata": {},
   "source": [
    "#### Work address"
   ]
  },
  {
   "cell_type": "code",
   "execution_count": 1076,
   "metadata": {
    "execution": {
     "iopub.execute_input": "2021-05-26T06:34:56.178108Z",
     "iopub.status.busy": "2021-05-26T06:34:56.177794Z",
     "iopub.status.idle": "2021-05-26T06:34:56.395815Z",
     "shell.execute_reply": "2021-05-26T06:34:56.394470Z",
     "shell.execute_reply.started": "2021-05-26T06:34:56.178076Z"
    }
   },
   "outputs": [
    {
     "name": "stdout",
     "output_type": "stream",
     "text": [
      "Распределение целевой переменной default по признаку work_address.\n",
      "Распределение признака в процентном соотношении\n",
      "3    0.609209\n",
      "2    0.277863\n",
      "1    0.112928\n",
      "Name: work_address, dtype: float64\n",
      "Распределние признака в зависимости от целевой переменной\n",
      "Среди показателя 2 неплательщиков 10.25%\n",
      "Среди показателя 3 неплательщиков 14.8%\n",
      "Среди показателя 1 неплательщиков 7.42%\n"
     ]
    },
    {
     "data": {
      "image/png": "[encoded data removed]",
      "text/plain": [
       "<Figure size 432x288 with 1 Axes>"
      ]
     },
     "metadata": {
      "needs_background": "light"
     },
     "output_type": "display_data"
    }
   ],
   "source": [
    "draw_count_plot('work_address')"
   ]
  },
  {
   "cell_type": "markdown",
   "metadata": {},
   "source": [
    "#### Sna"
   ]
  },
  {
   "cell_type": "code",
   "execution_count": 1077,
   "metadata": {
    "execution": {
     "iopub.execute_input": "2021-05-26T06:34:56.397912Z",
     "iopub.status.busy": "2021-05-26T06:34:56.397440Z",
     "iopub.status.idle": "2021-05-26T06:34:56.638995Z",
     "shell.execute_reply": "2021-05-26T06:34:56.638228Z",
     "shell.execute_reply.started": "2021-05-26T06:34:56.397865Z"
    }
   },
   "outputs": [
    {
     "name": "stdout",
     "output_type": "stream",
     "text": [
      "Распределение целевой переменной default по признаку sna.\n",
      "Распределение признака в процентном соотношении\n",
      "1    0.640944\n",
      "4    0.159203\n",
      "2    0.143986\n",
      "3    0.055868\n",
      "Name: sna, dtype: float64\n",
      "Распределние признака в зависимости от целевой переменной\n",
      "Среди показателя 4 неплательщиков 21.15%\n",
      "Среди показателя 1 неплательщиков 9.82%\n",
      "Среди показателя 2 неплательщиков 14.98%\n",
      "Среди показателя 3 неплательщиков 15.77%\n"
     ]
    },
    {
     "data": {
      "image/png": "[encoded data removed]",
      "text/plain": [
       "<Figure size 432x288 with 1 Axes>"
      ]
     },
     "metadata": {
      "needs_background": "light"
     },
     "output_type": "display_data"
    }
   ],
   "source": [
    "draw_count_plot('sna')"
   ]
  },
  {
   "cell_type": "markdown",
   "metadata": {},
   "source": [
    "#### First time"
   ]
  },
  {
   "cell_type": "code",
   "execution_count": 1078,
   "metadata": {
    "execution": {
     "iopub.execute_input": "2021-05-26T06:34:56.640290Z",
     "iopub.status.busy": "2021-05-26T06:34:56.639984Z",
     "iopub.status.idle": "2021-05-26T06:34:56.855931Z",
     "shell.execute_reply": "2021-05-26T06:34:56.854787Z",
     "shell.execute_reply.started": "2021-05-26T06:34:56.640259Z"
    }
   },
   "outputs": [
    {
     "name": "stdout",
     "output_type": "stream",
     "text": [
      "Распределение целевой переменной default по признаку first_time.\n",
      "Распределение признака в процентном соотношении\n",
      "3    0.423515\n",
      "4    0.253892\n",
      "1    0.165842\n",
      "2    0.156750\n",
      "Name: first_time, dtype: float64\n",
      "Распределние признака в зависимости от целевой переменной\n",
      "Среди показателя 1 неплательщиков 18.61%\n",
      "Среди показателя 4 неплательщиков 8.2%\n",
      "Среди показателя 3 неплательщиков 12.03%\n",
      "Среди показателя 2 неплательщиков 15.54%\n"
     ]
    },
    {
     "data": {
      "image/png": "[encoded data removed]",
      "text/plain": [
       "<Figure size 432x288 with 1 Axes>"
      ]
     },
     "metadata": {
      "needs_background": "light"
     },
     "output_type": "display_data"
    }
   ],
   "source": [
    "draw_count_plot('first_time')"
   ]
  },
  {
   "cell_type": "markdown",
   "metadata": {},
   "source": [
    "#### Определим значимость бинарных и категориальных признаков"
   ]
  },
  {
   "cell_type": "code",
   "execution_count": 1079,
   "metadata": {
    "execution": {
     "iopub.execute_input": "2021-05-26T06:34:56.857377Z",
     "iopub.status.busy": "2021-05-26T06:34:56.857098Z",
     "iopub.status.idle": "2021-05-26T06:34:57.209888Z",
     "shell.execute_reply": "2021-05-26T06:34:57.208777Z",
     "shell.execute_reply.started": "2021-05-26T06:34:56.857350Z"
    }
   },
   "outputs": [
    {
     "data": {
      "text/plain": [
       "<AxesSubplot:>"
      ]
     },
     "execution_count": 1079,
     "metadata": {},
     "output_type": "execute_result"
    },
    {
     "data": {
      "image/png": "[encoded data removed]",
      "text/plain": [
       "<Figure size 432x288 with 1 Axes>"
      ]
     },
     "metadata": {
      "needs_background": "light"
     },
     "output_type": "display_data"
    }
   ],
   "source": [
    "imp_cat = pd.Series(mutual_info_classif(df[df['Train'] == 1][bin_cols + cat_cols], df[df['Train'] == 1]['default'],\n",
    "                                     discrete_features =True), index = bin_cols + cat_cols)\n",
    "imp_cat.sort_values(inplace = True)\n",
    "imp_cat.plot(kind = 'barh')"
   ]
  },
  {
   "cell_type": "markdown",
   "metadata": {},
   "source": [
    "### Корреляционный анализ"
   ]
  },
  {
   "cell_type": "code",
   "execution_count": 1080,
   "metadata": {
    "execution": {
     "iopub.execute_input": "2021-05-26T06:34:57.211597Z",
     "iopub.status.busy": "2021-05-26T06:34:57.211281Z",
     "iopub.status.idle": "2021-05-26T06:34:59.096673Z",
     "shell.execute_reply": "2021-05-26T06:34:59.095441Z",
     "shell.execute_reply.started": "2021-05-26T06:34:57.211567Z"
    }
   },
   "outputs": [
    {
     "data": {
      "text/plain": [
       "<AxesSubplot:>"
      ]
     },
     "execution_count": 1080,
     "metadata": {},
     "output_type": "execute_result"
    },
    {
     "data": {
      "image/png": "[encoded data removed]",
      "text/plain": [
       "<Figure size 864x576 with 2 Axes>"
      ]
     },
     "metadata": {
      "needs_background": "light"
     },
     "output_type": "display_data"
    }
   ],
   "source": [
    "plt.subplots(figsize = (12, 8))\n",
    "sns.heatmap(df[df['Train'] == 1].corr(), annot = True)"
   ]
  },
  {
   "cell_type": "markdown",
   "metadata": {},
   "source": [
    "Сильно скоррелированными оказались признаки 'car' и 'car_type', а также 'work_address' и 'home_address'.  \n",
    "Оставим признаки 'car_type' и 'home_address', т.к они имеют большую значимость для целевой переменной.  "
   ]
  },
  {
   "cell_type": "markdown",
   "metadata": {},
   "source": [
    "# 5. Подготовка модели к обучению"
   ]
  },
  {
   "cell_type": "code",
   "execution_count": 1081,
   "metadata": {
    "execution": {
     "iopub.execute_input": "2021-05-26T06:34:59.098348Z",
     "iopub.status.busy": "2021-05-26T06:34:59.098046Z",
     "iopub.status.idle": "2021-05-26T06:34:59.108784Z",
     "shell.execute_reply": "2021-05-26T06:34:59.107571Z",
     "shell.execute_reply.started": "2021-05-26T06:34:59.098320Z"
    }
   },
   "outputs": [],
   "source": [
    "df.drop(['car', 'work_address'], axis=1, inplace=True)"
   ]
  },
  {
   "cell_type": "code",
   "execution_count": 1082,
   "metadata": {
    "execution": {
     "iopub.execute_input": "2021-05-26T06:34:59.110533Z",
     "iopub.status.busy": "2021-05-26T06:34:59.110206Z",
     "iopub.status.idle": "2021-05-26T06:34:59.122909Z",
     "shell.execute_reply": "2021-05-26T06:34:59.122114Z",
     "shell.execute_reply.started": "2021-05-26T06:34:59.110502Z"
    }
   },
   "outputs": [],
   "source": [
    "# Показатель sex оказался малозначимым, также уберем его\n",
    "#df.drop(['sex'], axis=1, inplace=True)\n",
    "# Стало только хуже"
   ]
  },
  {
   "cell_type": "code",
   "execution_count": 1083,
   "metadata": {
    "execution": {
     "iopub.execute_input": "2021-05-26T06:34:59.124589Z",
     "iopub.status.busy": "2021-05-26T06:34:59.124109Z",
     "iopub.status.idle": "2021-05-26T06:34:59.140162Z",
     "shell.execute_reply": "2021-05-26T06:34:59.138923Z",
     "shell.execute_reply.started": "2021-05-26T06:34:59.124557Z"
    }
   },
   "outputs": [],
   "source": [
    "# Перезапишем переменные cat_cols и bin_cols\n",
    "cat_cols = ['education', 'region_rating', 'home_address', 'sna', 'first_time']\n",
    "bin_cols = ['sex', 'car_type', 'good_work', 'foreign_passport']"
   ]
  },
  {
   "cell_type": "code",
   "execution_count": 1084,
   "metadata": {
    "execution": {
     "iopub.execute_input": "2021-05-26T06:34:59.141748Z",
     "iopub.status.busy": "2021-05-26T06:34:59.141445Z",
     "iopub.status.idle": "2021-05-26T06:34:59.160171Z",
     "shell.execute_reply": "2021-05-26T06:34:59.159100Z",
     "shell.execute_reply.started": "2021-05-26T06:34:59.141719Z"
    }
   },
   "outputs": [],
   "source": [
    "# Удалим нечисловой признак app_date.\n",
    "df.drop(['app_date'], axis=1, inplace=True)"
   ]
  },
  {
   "cell_type": "code",
   "execution_count": 1085,
   "metadata": {
    "execution": {
     "iopub.execute_input": "2021-05-26T06:34:59.161845Z",
     "iopub.status.busy": "2021-05-26T06:34:59.161538Z",
     "iopub.status.idle": "2021-05-26T06:34:59.176833Z",
     "shell.execute_reply": "2021-05-26T06:34:59.175698Z",
     "shell.execute_reply.started": "2021-05-26T06:34:59.161815Z"
    }
   },
   "outputs": [],
   "source": [
    "# Заменим показатель region rating на группы\n",
    "def change_region_rating(row):\n",
    "    if row == 20 or row == 30:\n",
    "        return 0\n",
    "    elif row == 40:\n",
    "        return 1\n",
    "    elif row == 50 or row == 60:\n",
    "        return 2\n",
    "    else:\n",
    "        return 3\n",
    "\n",
    "#df['region_rating'] = df['region_rating'].apply(change_region_rating)\n",
    "# Стало хуже"
   ]
  },
  {
   "cell_type": "code",
   "execution_count": 1086,
   "metadata": {
    "execution": {
     "iopub.execute_input": "2021-05-26T06:34:59.178308Z",
     "iopub.status.busy": "2021-05-26T06:34:59.178027Z",
     "iopub.status.idle": "2021-05-26T06:34:59.309745Z",
     "shell.execute_reply": "2021-05-26T06:34:59.308462Z",
     "shell.execute_reply.started": "2021-05-26T06:34:59.178280Z"
    }
   },
   "outputs": [],
   "source": [
    "x, y, test = create_dataset(df)\n",
    "x_train, x_test, y_train, y_test = train_test_split(x, y, test_size=0.20, random_state=RANDOM_SEED)"
   ]
  },
  {
   "cell_type": "markdown",
   "metadata": {},
   "source": [
    "# 6. Создание модели"
   ]
  },
  {
   "cell_type": "code",
   "execution_count": 1087,
   "metadata": {
    "execution": {
     "iopub.execute_input": "2021-05-26T06:34:59.311219Z",
     "iopub.status.busy": "2021-05-26T06:34:59.310904Z",
     "iopub.status.idle": "2021-05-26T06:35:00.758447Z",
     "shell.execute_reply": "2021-05-26T06:35:00.757322Z",
     "shell.execute_reply.started": "2021-05-26T06:34:59.311187Z"
    }
   },
   "outputs": [],
   "source": [
    "model = LogisticRegression()\n",
    "model.fit(x, y)\n",
    "y_pred = model.predict(x_test)\n",
    "y_pred_proba = model.predict_proba(x_test)\n",
    "y_pred_proba = y_pred_proba[:,1]"
   ]
  },
  {
   "cell_type": "code",
   "execution_count": 1088,
   "metadata": {
    "execution": {
     "iopub.execute_input": "2021-05-26T06:35:00.760810Z",
     "iopub.status.busy": "2021-05-26T06:35:00.760103Z",
     "iopub.status.idle": "2021-05-26T06:35:01.069123Z",
     "shell.execute_reply": "2021-05-26T06:35:01.067832Z",
     "shell.execute_reply.started": "2021-05-26T06:35:00.760763Z"
    }
   },
   "outputs": [
    {
     "data": {
      "image/png": "[encoded data removed]",
      "text/plain": [
       "<Figure size 432x288 with 2 Axes>"
      ]
     },
     "metadata": {
      "needs_background": "light"
     },
     "output_type": "display_data"
    }
   ],
   "source": [
    "draw_cm()"
   ]
  },
  {
   "cell_type": "code",
   "execution_count": 1089,
   "metadata": {
    "execution": {
     "iopub.execute_input": "2021-05-26T06:35:01.070966Z",
     "iopub.status.busy": "2021-05-26T06:35:01.070644Z",
     "iopub.status.idle": "2021-05-26T06:35:01.107023Z",
     "shell.execute_reply": "2021-05-26T06:35:01.105690Z",
     "shell.execute_reply.started": "2021-05-26T06:35:01.070933Z"
    }
   },
   "outputs": [
    {
     "name": "stdout",
     "output_type": "stream",
     "text": [
      "Показатель метрики accuracy:\n",
      "0.8748644986449865 \n",
      "\n",
      "Показатель метрики precision:\n",
      "0.39361702127659576 \n",
      "\n",
      "Показатель метрики recall:\n",
      "0.020251778872468526 \n",
      "\n",
      "Показатель метрики f1 score:\n",
      "0.03852160333159812 \n",
      "\n"
     ]
    },
    {
     "data": {
      "text/plain": [
       "(<function sklearn.metrics._classification.accuracy_score(y_true, y_pred, *, normalize=True, sample_weight=None)>,\n",
       " <function sklearn.metrics._classification.precision_score(y_true, y_pred, *, labels=None, pos_label=1, average='binary', sample_weight=None, zero_division='warn')>,\n",
       " <function sklearn.metrics._classification.recall_score(y_true, y_pred, *, labels=None, pos_label=1, average='binary', sample_weight=None, zero_division='warn')>,\n",
       " <function sklearn.metrics._classification.f1_score(y_true, y_pred, *, labels=None, pos_label=1, average='binary', sample_weight=None, zero_division='warn')>)"
      ]
     },
     "execution_count": 1089,
     "metadata": {},
     "output_type": "execute_result"
    }
   ],
   "source": [
    "show_metrics()"
   ]
  },
  {
   "cell_type": "markdown",
   "metadata": {},
   "source": [
    "Модель со стандартными параметрами показывает очень низкий показатель recall.  \n",
    "Также, практически никогда не угадываем дефолтных клиентов.  "
   ]
  },
  {
   "cell_type": "code",
   "execution_count": 1090,
   "metadata": {
    "execution": {
     "iopub.execute_input": "2021-05-26T06:35:01.108726Z",
     "iopub.status.busy": "2021-05-26T06:35:01.108390Z",
     "iopub.status.idle": "2021-05-26T06:35:01.297978Z",
     "shell.execute_reply": "2021-05-26T06:35:01.296590Z",
     "shell.execute_reply.started": "2021-05-26T06:35:01.108693Z"
    }
   },
   "outputs": [
    {
     "data": {
      "image/png": "[encoded data removed]",
      "text/plain": [
       "<Figure size 432x288 with 1 Axes>"
      ]
     },
     "metadata": {
      "needs_background": "light"
     },
     "output_type": "display_data"
    }
   ],
   "source": [
    "draw_roc_auc()"
   ]
  },
  {
   "cell_type": "markdown",
   "metadata": {},
   "source": [
    "На данном этапе показатель ROC-AUC на тренировочных данных составляет 0,740.  "
   ]
  },
  {
   "cell_type": "markdown",
   "metadata": {},
   "source": [
    "Данные несбалансированы. Увеличим число записей с дефолтами.  \n",
    "Посмотрим что получилось."
   ]
  },
  {
   "cell_type": "code",
   "execution_count": 1091,
   "metadata": {
    "execution": {
     "iopub.execute_input": "2021-05-26T06:35:01.300110Z",
     "iopub.status.busy": "2021-05-26T06:35:01.299641Z",
     "iopub.status.idle": "2021-05-26T06:35:01.416537Z",
     "shell.execute_reply": "2021-05-26T06:35:01.415263Z",
     "shell.execute_reply.started": "2021-05-26T06:35:01.300055Z"
    }
   },
   "outputs": [],
   "source": [
    "x, y, test = create_dataset(df)"
   ]
  },
  {
   "cell_type": "code",
   "execution_count": 1092,
   "metadata": {
    "execution": {
     "iopub.execute_input": "2021-05-26T06:35:01.418567Z",
     "iopub.status.busy": "2021-05-26T06:35:01.418133Z",
     "iopub.status.idle": "2021-05-26T06:35:01.477728Z",
     "shell.execute_reply": "2021-05-26T06:35:01.476347Z",
     "shell.execute_reply.started": "2021-05-26T06:35:01.418521Z"
    }
   },
   "outputs": [],
   "source": [
    "# Используем инструмент RandomOverSampler\n",
    "oversample = RandomOverSampler(sampling_strategy=1)\n",
    "x, y = oversample.fit_resample(x, y)"
   ]
  },
  {
   "cell_type": "code",
   "execution_count": 1093,
   "metadata": {
    "execution": {
     "iopub.execute_input": "2021-05-26T06:35:01.479372Z",
     "iopub.status.busy": "2021-05-26T06:35:01.479049Z",
     "iopub.status.idle": "2021-05-26T06:35:01.506327Z",
     "shell.execute_reply": "2021-05-26T06:35:01.504751Z",
     "shell.execute_reply.started": "2021-05-26T06:35:01.479343Z"
    }
   },
   "outputs": [],
   "source": [
    "x_train, x_test, y_train, y_test = train_test_split(x, y, test_size=0.20, random_state=RANDOM_SEED)"
   ]
  },
  {
   "cell_type": "code",
   "execution_count": 1094,
   "metadata": {
    "execution": {
     "iopub.execute_input": "2021-05-26T06:35:01.508701Z",
     "iopub.status.busy": "2021-05-26T06:35:01.508342Z",
     "iopub.status.idle": "2021-05-26T06:35:03.845944Z",
     "shell.execute_reply": "2021-05-26T06:35:03.844677Z",
     "shell.execute_reply.started": "2021-05-26T06:35:01.508671Z"
    }
   },
   "outputs": [],
   "source": [
    "model = LogisticRegression()\n",
    "model.fit(x, y)\n",
    "y_pred = model.predict(x_test)\n",
    "y_pred_proba = model.predict_proba(x_test)\n",
    "y_pred_proba = y_pred_proba[:,1]"
   ]
  },
  {
   "cell_type": "code",
   "execution_count": 1095,
   "metadata": {
    "execution": {
     "iopub.execute_input": "2021-05-26T06:35:03.854843Z",
     "iopub.status.busy": "2021-05-26T06:35:03.851881Z",
     "iopub.status.idle": "2021-05-26T06:35:03.958570Z",
     "shell.execute_reply": "2021-05-26T06:35:03.957772Z",
     "shell.execute_reply.started": "2021-05-26T06:35:03.854770Z"
    }
   },
   "outputs": [
    {
     "name": "stdout",
     "output_type": "stream",
     "text": [
      "Показатель метрики accuracy:\n",
      "0.6677660936711808 \n",
      "\n",
      "Показатель метрики precision:\n",
      "0.6685603112840467 \n",
      "\n",
      "Показатель метрики recall:\n",
      "0.6662788894059253 \n",
      "\n",
      "Показатель метрики f1 score:\n",
      "0.6674176507147297 \n",
      "\n"
     ]
    },
    {
     "data": {
      "text/plain": [
       "(<function sklearn.metrics._classification.accuracy_score(y_true, y_pred, *, normalize=True, sample_weight=None)>,\n",
       " <function sklearn.metrics._classification.precision_score(y_true, y_pred, *, labels=None, pos_label=1, average='binary', sample_weight=None, zero_division='warn')>,\n",
       " <function sklearn.metrics._classification.recall_score(y_true, y_pred, *, labels=None, pos_label=1, average='binary', sample_weight=None, zero_division='warn')>,\n",
       " <function sklearn.metrics._classification.f1_score(y_true, y_pred, *, labels=None, pos_label=1, average='binary', sample_weight=None, zero_division='warn')>)"
      ]
     },
     "execution_count": 1095,
     "metadata": {},
     "output_type": "execute_result"
    }
   ],
   "source": [
    "show_metrics()"
   ]
  },
  {
   "cell_type": "code",
   "execution_count": 1096,
   "metadata": {
    "execution": {
     "iopub.execute_input": "2021-05-26T06:35:03.961117Z",
     "iopub.status.busy": "2021-05-26T06:35:03.960681Z",
     "iopub.status.idle": "2021-05-26T06:35:04.262401Z",
     "shell.execute_reply": "2021-05-26T06:35:04.261046Z",
     "shell.execute_reply.started": "2021-05-26T06:35:03.961070Z"
    }
   },
   "outputs": [
    {
     "data": {
      "image/png": "[encoded data removed]",
      "text/plain": [
       "<Figure size 432x288 with 2 Axes>"
      ]
     },
     "metadata": {
      "needs_background": "light"
     },
     "output_type": "display_data"
    }
   ],
   "source": [
    "draw_cm()"
   ]
  },
  {
   "cell_type": "code",
   "execution_count": 1097,
   "metadata": {
    "execution": {
     "iopub.execute_input": "2021-05-26T06:35:04.264324Z",
     "iopub.status.busy": "2021-05-26T06:35:04.264024Z",
     "iopub.status.idle": "2021-05-26T06:35:04.447680Z",
     "shell.execute_reply": "2021-05-26T06:35:04.446458Z",
     "shell.execute_reply.started": "2021-05-26T06:35:04.264295Z"
    }
   },
   "outputs": [
    {
     "data": {
      "image/png": "[encoded data removed]",
      "text/plain": [
       "<Figure size 432x288 with 1 Axes>"
      ]
     },
     "metadata": {
      "needs_background": "light"
     },
     "output_type": "display_data"
    }
   ],
   "source": [
    "draw_roc_auc()"
   ]
  },
  {
   "cell_type": "markdown",
   "metadata": {},
   "source": [
    "Метрика accuracy уменьшилась, как и roc-auc.  \n",
    "Все остальные подросли.  \n",
    "Итоговый результат стал лучше."
   ]
  },
  {
   "cell_type": "markdown",
   "metadata": {},
   "source": [
    "Подберем оптимальные гиперпараметры"
   ]
  },
  {
   "cell_type": "code",
   "execution_count": 1098,
   "metadata": {
    "execution": {
     "iopub.execute_input": "2021-05-26T06:35:04.449436Z",
     "iopub.status.busy": "2021-05-26T06:35:04.449042Z",
     "iopub.status.idle": "2021-05-26T06:36:25.453175Z",
     "shell.execute_reply": "2021-05-26T06:36:25.451665Z",
     "shell.execute_reply.started": "2021-05-26T06:35:04.449401Z"
    }
   },
   "outputs": [
    {
     "name": "stdout",
     "output_type": "stream",
     "text": [
      "Лучшее Penalty: l2\n",
      "Лучшее C: 1.0\n"
     ]
    }
   ],
   "source": [
    "# Добавим типы регуляризации\n",
    "penalty = ['l1', 'l2']\n",
    "\n",
    "# Зададим ограничения для параметра регуляризации\n",
    "C = np.logspace(0, 4, 10)\n",
    "\n",
    "# Выбор алгоритма\n",
    "#solver = ['newton-cg', 'lbfgs', 'liblinear', 'sag', 'saga']\n",
    "# Оптимальным оказался алгоритм по умолчанию 'lbfgs'\n",
    "\n",
    "# Создадим гиперпараметры\n",
    "hyperparameters = dict(C=C, penalty=penalty)\n",
    "\n",
    "model = LogisticRegression()\n",
    "model.fit(x_train, y_train)\n",
    "\n",
    "# Создаем сетку поиска с использованием 5-кратной перекрестной проверки\n",
    "clf = GridSearchCV(model, hyperparameters, cv=5, verbose=0)\n",
    "\n",
    "best_model = clf.fit(x_train, y_train)\n",
    "\n",
    "# View best hyperparameters\n",
    "print('Лучшее Penalty:', best_model.best_estimator_.get_params()['penalty'])\n",
    "print('Лучшее C:', best_model.best_estimator_.get_params()['C'])"
   ]
  },
  {
   "cell_type": "code",
   "execution_count": 1107,
   "metadata": {
    "execution": {
     "iopub.execute_input": "2021-05-26T06:43:38.775858Z",
     "iopub.status.busy": "2021-05-26T06:43:38.775445Z",
     "iopub.status.idle": "2021-05-26T06:43:41.080236Z",
     "shell.execute_reply": "2021-05-26T06:43:41.079418Z",
     "shell.execute_reply.started": "2021-05-26T06:43:38.775825Z"
    }
   },
   "outputs": [
    {
     "name": "stdout",
     "output_type": "stream",
     "text": [
      "Показатель метрики accuracy:\n",
      "0.6683481432618059 \n",
      "\n",
      "Показатель метрики precision:\n",
      "0.6692098092643052 \n",
      "\n",
      "Показатель метрики recall:\n",
      "0.6666666666666666 \n",
      "\n",
      "Показатель метрики f1 score:\n",
      "0.6679358172423171 \n",
      "\n"
     ]
    },
    {
     "data": {
      "image/png": "[encoded data removed]",
      "text/plain": [
       "<Figure size 432x288 with 2 Axes>"
      ]
     },
     "metadata": {
      "needs_background": "light"
     },
     "output_type": "display_data"
    },
    {
     "data": {
      "image/png": "[encoded data removed]",
      "text/plain": [
       "<Figure size 432x288 with 1 Axes>"
      ]
     },
     "metadata": {
      "needs_background": "light"
     },
     "output_type": "display_data"
    }
   ],
   "source": [
    "# Создадим новую модель, используя оптимальные параметры\n",
    "x_train, x_test, y_train, y_test = train_test_split(x, y, test_size=0.20, random_state=RANDOM_SEED)\n",
    "model = LogisticRegression(C=1, penalty='l2')\n",
    "model.fit(x_train, y_train)\n",
    "y_pred = model.predict(x_test)\n",
    "y_pred_proba = model.predict_proba(x_test)\n",
    "y_pred_proba = y_pred_proba[:,1]\n",
    "\n",
    "show_metrics()\n",
    "draw_cm()\n",
    "draw_roc_auc()"
   ]
  },
  {
   "cell_type": "code",
   "execution_count": 1105,
   "metadata": {
    "execution": {
     "iopub.execute_input": "2021-05-26T06:42:47.965883Z",
     "iopub.status.busy": "2021-05-26T06:42:47.965406Z",
     "iopub.status.idle": "2021-05-26T06:42:50.278203Z",
     "shell.execute_reply": "2021-05-26T06:42:50.276964Z",
     "shell.execute_reply.started": "2021-05-26T06:42:47.965844Z"
    }
   },
   "outputs": [],
   "source": [
    "# Предскажем результат на тестовых данных\n",
    "model = LogisticRegression(C=1, penalty='l2')\n",
    "model.fit(x, y)\n",
    "y_pred = model.predict_proba(test)\n",
    "y_pred = y_pred[:,1]"
   ]
  },
  {
   "cell_type": "markdown",
   "metadata": {},
   "source": [
    "# 7. Submission"
   ]
  },
  {
   "cell_type": "code",
   "execution_count": 1101,
   "metadata": {
    "execution": {
     "iopub.execute_input": "2021-05-26T06:36:30.256762Z",
     "iopub.status.busy": "2021-05-26T06:36:30.256001Z",
     "iopub.status.idle": "2021-05-26T06:36:30.284144Z",
     "shell.execute_reply": "2021-05-26T06:36:30.282938Z",
     "shell.execute_reply.started": "2021-05-26T06:36:30.256701Z"
    }
   },
   "outputs": [],
   "source": [
    "sample_submission = pd.read_csv(PATH_to_file + 'sample_submission.csv')"
   ]
  },
  {
   "cell_type": "code",
   "execution_count": 1102,
   "metadata": {
    "execution": {
     "iopub.execute_input": "2021-05-26T06:36:30.286843Z",
     "iopub.status.busy": "2021-05-26T06:36:30.285957Z",
     "iopub.status.idle": "2021-05-26T06:36:30.307058Z",
     "shell.execute_reply": "2021-05-26T06:36:30.305920Z",
     "shell.execute_reply.started": "2021-05-26T06:36:30.286780Z"
    }
   },
   "outputs": [
    {
     "data": {
      "text/html": [
       "<div>\n",
       "<style scoped>\n",
       "    .dataframe tbody tr th:only-of-type {\n",
       "        vertical-align: middle;\n",
       "    }\n",
       "\n",
       "    .dataframe tbody tr th {\n",
       "        vertical-align: top;\n",
       "    }\n",
       "\n",
       "    .dataframe thead th {\n",
       "        text-align: right;\n",
       "    }\n",
       "</style>\n",
       "<table border=\"1\" class=\"dataframe\">\n",
       "  <thead>\n",
       "    <tr style=\"text-align: right;\">\n",
       "      <th></th>\n",
       "      <th>client_id</th>\n",
       "      <th>default</th>\n",
       "    </tr>\n",
       "  </thead>\n",
       "  <tbody>\n",
       "    <tr>\n",
       "      <th>0</th>\n",
       "      <td>66799</td>\n",
       "      <td>0.441004</td>\n",
       "    </tr>\n",
       "    <tr>\n",
       "      <th>1</th>\n",
       "      <td>25379</td>\n",
       "      <td>0.138092</td>\n",
       "    </tr>\n",
       "    <tr>\n",
       "      <th>2</th>\n",
       "      <td>28825</td>\n",
       "      <td>0.373370</td>\n",
       "    </tr>\n",
       "    <tr>\n",
       "      <th>3</th>\n",
       "      <td>37530</td>\n",
       "      <td>0.476501</td>\n",
       "    </tr>\n",
       "    <tr>\n",
       "      <th>4</th>\n",
       "      <td>4264</td>\n",
       "      <td>0.304640</td>\n",
       "    </tr>\n",
       "    <tr>\n",
       "      <th>...</th>\n",
       "      <td>...</td>\n",
       "      <td>...</td>\n",
       "    </tr>\n",
       "    <tr>\n",
       "      <th>24349</th>\n",
       "      <td>96657</td>\n",
       "      <td>0.144776</td>\n",
       "    </tr>\n",
       "    <tr>\n",
       "      <th>24350</th>\n",
       "      <td>65908</td>\n",
       "      <td>0.878936</td>\n",
       "    </tr>\n",
       "    <tr>\n",
       "      <th>24351</th>\n",
       "      <td>74542</td>\n",
       "      <td>0.830871</td>\n",
       "    </tr>\n",
       "    <tr>\n",
       "      <th>24352</th>\n",
       "      <td>82350</td>\n",
       "      <td>0.371539</td>\n",
       "    </tr>\n",
       "    <tr>\n",
       "      <th>24353</th>\n",
       "      <td>27866</td>\n",
       "      <td>0.271120</td>\n",
       "    </tr>\n",
       "  </tbody>\n",
       "</table>\n",
       "<p>24354 rows × 2 columns</p>\n",
       "</div>"
      ],
      "text/plain": [
       "       client_id   default\n",
       "0          66799  0.441004\n",
       "1          25379  0.138092\n",
       "2          28825  0.373370\n",
       "3          37530  0.476501\n",
       "4           4264  0.304640\n",
       "...          ...       ...\n",
       "24349      96657  0.144776\n",
       "24350      65908  0.878936\n",
       "24351      74542  0.830871\n",
       "24352      82350  0.371539\n",
       "24353      27866  0.271120\n",
       "\n",
       "[24354 rows x 2 columns]"
      ]
     },
     "execution_count": 1102,
     "metadata": {},
     "output_type": "execute_result"
    }
   ],
   "source": [
    "sample_submission"
   ]
  },
  {
   "cell_type": "code",
   "execution_count": 1106,
   "metadata": {
    "execution": {
     "iopub.execute_input": "2021-05-26T06:42:53.453840Z",
     "iopub.status.busy": "2021-05-26T06:42:53.451802Z",
     "iopub.status.idle": "2021-05-26T06:42:53.599583Z",
     "shell.execute_reply": "2021-05-26T06:42:53.598533Z",
     "shell.execute_reply.started": "2021-05-26T06:42:53.453774Z"
    }
   },
   "outputs": [],
   "source": [
    "# Сохраним client_id из тестовых данных в отдельную переменную\n",
    "clients = pd.DataFrame(df[df['Train'] == 0]['client_id'])\n",
    "# Сохраним submission в файл\n",
    "submit = clients\n",
    "submit['default'] = y_pred\n",
    "submit.to_csv('submission.csv', index=False)"
   ]
  },
  {
   "cell_type": "code",
   "execution_count": 1104,
   "metadata": {
    "execution": {
     "iopub.execute_input": "2021-05-26T06:36:30.476025Z",
     "iopub.status.busy": "2021-05-26T06:36:30.475693Z",
     "iopub.status.idle": "2021-05-26T06:36:30.491975Z",
     "shell.execute_reply": "2021-05-26T06:36:30.490339Z",
     "shell.execute_reply.started": "2021-05-26T06:36:30.475994Z"
    }
   },
   "outputs": [
    {
     "data": {
      "text/html": [
       "<div>\n",
       "<style scoped>\n",
       "    .dataframe tbody tr th:only-of-type {\n",
       "        vertical-align: middle;\n",
       "    }\n",
       "\n",
       "    .dataframe tbody tr th {\n",
       "        vertical-align: top;\n",
       "    }\n",
       "\n",
       "    .dataframe thead th {\n",
       "        text-align: right;\n",
       "    }\n",
       "</style>\n",
       "<table border=\"1\" class=\"dataframe\">\n",
       "  <thead>\n",
       "    <tr style=\"text-align: right;\">\n",
       "      <th></th>\n",
       "      <th>client_id</th>\n",
       "      <th>default</th>\n",
       "    </tr>\n",
       "  </thead>\n",
       "  <tbody>\n",
       "    <tr>\n",
       "      <th>73799</th>\n",
       "      <td>74835</td>\n",
       "      <td>0.215674</td>\n",
       "    </tr>\n",
       "    <tr>\n",
       "      <th>73800</th>\n",
       "      <td>17527</td>\n",
       "      <td>0.794214</td>\n",
       "    </tr>\n",
       "    <tr>\n",
       "      <th>73801</th>\n",
       "      <td>75683</td>\n",
       "      <td>0.321681</td>\n",
       "    </tr>\n",
       "    <tr>\n",
       "      <th>73802</th>\n",
       "      <td>26883</td>\n",
       "      <td>0.375335</td>\n",
       "    </tr>\n",
       "    <tr>\n",
       "      <th>73803</th>\n",
       "      <td>28862</td>\n",
       "      <td>0.128068</td>\n",
       "    </tr>\n",
       "    <tr>\n",
       "      <th>...</th>\n",
       "      <td>...</td>\n",
       "      <td>...</td>\n",
       "    </tr>\n",
       "    <tr>\n",
       "      <th>110143</th>\n",
       "      <td>83775</td>\n",
       "      <td>0.774665</td>\n",
       "    </tr>\n",
       "    <tr>\n",
       "      <th>110144</th>\n",
       "      <td>106254</td>\n",
       "      <td>0.133535</td>\n",
       "    </tr>\n",
       "    <tr>\n",
       "      <th>110145</th>\n",
       "      <td>81852</td>\n",
       "      <td>0.791762</td>\n",
       "    </tr>\n",
       "    <tr>\n",
       "      <th>110146</th>\n",
       "      <td>1971</td>\n",
       "      <td>0.554308</td>\n",
       "    </tr>\n",
       "    <tr>\n",
       "      <th>110147</th>\n",
       "      <td>69044</td>\n",
       "      <td>0.716892</td>\n",
       "    </tr>\n",
       "  </tbody>\n",
       "</table>\n",
       "<p>36349 rows × 2 columns</p>\n",
       "</div>"
      ],
      "text/plain": [
       "        client_id   default\n",
       "73799       74835  0.215674\n",
       "73800       17527  0.794214\n",
       "73801       75683  0.321681\n",
       "73802       26883  0.375335\n",
       "73803       28862  0.128068\n",
       "...           ...       ...\n",
       "110143      83775  0.774665\n",
       "110144     106254  0.133535\n",
       "110145      81852  0.791762\n",
       "110146       1971  0.554308\n",
       "110147      69044  0.716892\n",
       "\n",
       "[36349 rows x 2 columns]"
      ]
     },
     "execution_count": 1104,
     "metadata": {},
     "output_type": "execute_result"
    }
   ],
   "source": [
    "submit"
   ]
  },
  {
   "cell_type": "code",
   "execution_count": null,
   "metadata": {},
   "outputs": [],
   "source": []
  }
 ],
 "metadata": {
  "kernelspec": {
   "display_name": "Python 3",
   "language": "python",
   "name": "python3"
  },
  "language_info": {
   "codemirror_mode": {
    "name": "ipython",
    "version": 3
   },
   "file_extension": ".py",
   "mimetype": "text/x-python",
   "name": "python",
   "nbconvert_exporter": "python",
   "pygments_lexer": "ipython3",
   "version": "3.8.5"
  }
 },
 "nbformat": 4,
 "nbformat_minor": 4
}
